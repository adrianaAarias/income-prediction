{
 "cells": [
  {
   "cell_type": "code",
   "execution_count": 8,
   "metadata": {},
   "outputs": [],
   "source": [
    "import pandas as pd\n",
    "import plotly.express as px\n",
    "import statsmodels.formula.api as smf\n",
    "import numpy as np"
   ]
  },
  {
   "cell_type": "markdown",
   "metadata": {},
   "source": [
    "Lectura de los datos desde un archivo csv"
   ]
  },
  {
   "cell_type": "code",
   "execution_count": 2,
   "metadata": {},
   "outputs": [
    {
     "data": {
      "text/html": [
       "<div>\n",
       "<style scoped>\n",
       "    .dataframe tbody tr th:only-of-type {\n",
       "        vertical-align: middle;\n",
       "    }\n",
       "\n",
       "    .dataframe tbody tr th {\n",
       "        vertical-align: top;\n",
       "    }\n",
       "\n",
       "    .dataframe thead th {\n",
       "        text-align: right;\n",
       "    }\n",
       "</style>\n",
       "<table border=\"1\" class=\"dataframe\">\n",
       "  <thead>\n",
       "    <tr style=\"text-align: right;\">\n",
       "      <th></th>\n",
       "      <th>jobtitle</th>\n",
       "      <th>gender</th>\n",
       "      <th>age</th>\n",
       "      <th>performance</th>\n",
       "      <th>education</th>\n",
       "      <th>department</th>\n",
       "      <th>seniority</th>\n",
       "      <th>income</th>\n",
       "      <th>bonus</th>\n",
       "    </tr>\n",
       "  </thead>\n",
       "  <tbody>\n",
       "    <tr>\n",
       "      <th>0</th>\n",
       "      <td>Graphic Designer</td>\n",
       "      <td>Female</td>\n",
       "      <td>18</td>\n",
       "      <td>5</td>\n",
       "      <td>College</td>\n",
       "      <td>Operations</td>\n",
       "      <td>2</td>\n",
       "      <td>42363</td>\n",
       "      <td>9938</td>\n",
       "    </tr>\n",
       "    <tr>\n",
       "      <th>1</th>\n",
       "      <td>Software Engineer</td>\n",
       "      <td>Male</td>\n",
       "      <td>21</td>\n",
       "      <td>5</td>\n",
       "      <td>College</td>\n",
       "      <td>Management</td>\n",
       "      <td>5</td>\n",
       "      <td>108476</td>\n",
       "      <td>11128</td>\n",
       "    </tr>\n",
       "    <tr>\n",
       "      <th>2</th>\n",
       "      <td>Warehouse Associate</td>\n",
       "      <td>Female</td>\n",
       "      <td>19</td>\n",
       "      <td>4</td>\n",
       "      <td>PhD</td>\n",
       "      <td>Administration</td>\n",
       "      <td>5</td>\n",
       "      <td>90208</td>\n",
       "      <td>9268</td>\n",
       "    </tr>\n",
       "    <tr>\n",
       "      <th>3</th>\n",
       "      <td>Software Engineer</td>\n",
       "      <td>Male</td>\n",
       "      <td>20</td>\n",
       "      <td>5</td>\n",
       "      <td>Masters</td>\n",
       "      <td>Sales</td>\n",
       "      <td>4</td>\n",
       "      <td>108080</td>\n",
       "      <td>10154</td>\n",
       "    </tr>\n",
       "    <tr>\n",
       "      <th>4</th>\n",
       "      <td>Graphic Designer</td>\n",
       "      <td>Male</td>\n",
       "      <td>26</td>\n",
       "      <td>5</td>\n",
       "      <td>Masters</td>\n",
       "      <td>Engineering</td>\n",
       "      <td>5</td>\n",
       "      <td>99464</td>\n",
       "      <td>9319</td>\n",
       "    </tr>\n",
       "  </tbody>\n",
       "</table>\n",
       "</div>"
      ],
      "text/plain": [
       "              jobtitle  gender  age  performance education      department  \\\n",
       "0     Graphic Designer  Female   18            5   College      Operations   \n",
       "1    Software Engineer    Male   21            5   College      Management   \n",
       "2  Warehouse Associate  Female   19            4       PhD  Administration   \n",
       "3    Software Engineer    Male   20            5   Masters           Sales   \n",
       "4     Graphic Designer    Male   26            5   Masters     Engineering   \n",
       "\n",
       "   seniority  income  bonus  \n",
       "0          2   42363   9938  \n",
       "1          5  108476  11128  \n",
       "2          5   90208   9268  \n",
       "3          4  108080  10154  \n",
       "4          5   99464   9319  "
      ]
     },
     "execution_count": 2,
     "metadata": {},
     "output_type": "execute_result"
    }
   ],
   "source": [
    "df = pd.read_csv(\"data/glassdoordata.csv\")\n",
    "df.head()"
   ]
  },
  {
   "cell_type": "markdown",
   "metadata": {},
   "source": [
    "# Análisis descriptivo: Distribuciones de probabilidad de los campos"
   ]
  },
  {
   "cell_type": "code",
   "execution_count": 3,
   "metadata": {},
   "outputs": [
    {
     "data": {
      "text/html": [
       "<div>\n",
       "<style scoped>\n",
       "    .dataframe tbody tr th:only-of-type {\n",
       "        vertical-align: middle;\n",
       "    }\n",
       "\n",
       "    .dataframe tbody tr th {\n",
       "        vertical-align: top;\n",
       "    }\n",
       "\n",
       "    .dataframe thead th {\n",
       "        text-align: right;\n",
       "    }\n",
       "</style>\n",
       "<table border=\"1\" class=\"dataframe\">\n",
       "  <thead>\n",
       "    <tr style=\"text-align: right;\">\n",
       "      <th></th>\n",
       "      <th>age</th>\n",
       "      <th>performance</th>\n",
       "      <th>seniority</th>\n",
       "      <th>income</th>\n",
       "      <th>bonus</th>\n",
       "    </tr>\n",
       "  </thead>\n",
       "  <tbody>\n",
       "    <tr>\n",
       "      <th>count</th>\n",
       "      <td>1000.000000</td>\n",
       "      <td>1000.000000</td>\n",
       "      <td>1000.000000</td>\n",
       "      <td>1000.000000</td>\n",
       "      <td>1000.000000</td>\n",
       "    </tr>\n",
       "    <tr>\n",
       "      <th>mean</th>\n",
       "      <td>41.393000</td>\n",
       "      <td>3.037000</td>\n",
       "      <td>2.971000</td>\n",
       "      <td>94472.653000</td>\n",
       "      <td>6467.161000</td>\n",
       "    </tr>\n",
       "    <tr>\n",
       "      <th>std</th>\n",
       "      <td>14.294856</td>\n",
       "      <td>1.423959</td>\n",
       "      <td>1.395029</td>\n",
       "      <td>25337.493272</td>\n",
       "      <td>2004.377365</td>\n",
       "    </tr>\n",
       "    <tr>\n",
       "      <th>min</th>\n",
       "      <td>18.000000</td>\n",
       "      <td>1.000000</td>\n",
       "      <td>1.000000</td>\n",
       "      <td>34208.000000</td>\n",
       "      <td>1703.000000</td>\n",
       "    </tr>\n",
       "    <tr>\n",
       "      <th>25%</th>\n",
       "      <td>29.000000</td>\n",
       "      <td>2.000000</td>\n",
       "      <td>2.000000</td>\n",
       "      <td>76850.250000</td>\n",
       "      <td>4849.500000</td>\n",
       "    </tr>\n",
       "    <tr>\n",
       "      <th>50%</th>\n",
       "      <td>41.000000</td>\n",
       "      <td>3.000000</td>\n",
       "      <td>3.000000</td>\n",
       "      <td>93327.500000</td>\n",
       "      <td>6507.000000</td>\n",
       "    </tr>\n",
       "    <tr>\n",
       "      <th>75%</th>\n",
       "      <td>54.250000</td>\n",
       "      <td>4.000000</td>\n",
       "      <td>4.000000</td>\n",
       "      <td>111558.000000</td>\n",
       "      <td>8026.000000</td>\n",
       "    </tr>\n",
       "    <tr>\n",
       "      <th>max</th>\n",
       "      <td>65.000000</td>\n",
       "      <td>5.000000</td>\n",
       "      <td>5.000000</td>\n",
       "      <td>179726.000000</td>\n",
       "      <td>11293.000000</td>\n",
       "    </tr>\n",
       "  </tbody>\n",
       "</table>\n",
       "</div>"
      ],
      "text/plain": [
       "               age  performance    seniority         income         bonus\n",
       "count  1000.000000  1000.000000  1000.000000    1000.000000   1000.000000\n",
       "mean     41.393000     3.037000     2.971000   94472.653000   6467.161000\n",
       "std      14.294856     1.423959     1.395029   25337.493272   2004.377365\n",
       "min      18.000000     1.000000     1.000000   34208.000000   1703.000000\n",
       "25%      29.000000     2.000000     2.000000   76850.250000   4849.500000\n",
       "50%      41.000000     3.000000     3.000000   93327.500000   6507.000000\n",
       "75%      54.250000     4.000000     4.000000  111558.000000   8026.000000\n",
       "max      65.000000     5.000000     5.000000  179726.000000  11293.000000"
      ]
     },
     "execution_count": 3,
     "metadata": {},
     "output_type": "execute_result"
    }
   ],
   "source": [
    "df.describe()"
   ]
  },
  {
   "cell_type": "code",
   "execution_count": 5,
   "metadata": {},
   "outputs": [
    {
     "data": {
      "application/vnd.plotly.v1+json": {
       "config": {
        "plotlyServerURL": "https://plot.ly"
       },
       "data": [
        {
         "alignmentgroup": "True",
         "bingroup": "x",
         "hovertemplate": "age=%{x}<br>count=%{y}<extra></extra>",
         "legendgroup": "",
         "marker": {
          "color": "#636efa",
          "pattern": {
           "shape": ""
          }
         },
         "name": "",
         "offsetgroup": "",
         "orientation": "v",
         "showlegend": false,
         "type": "histogram",
         "x": [
          18,
          21,
          19,
          20,
          26,
          20,
          20,
          18,
          33,
          35,
          24,
          18,
          19,
          30,
          35,
          27,
          23,
          24,
          21,
          30,
          36,
          24,
          24,
          35,
          21,
          26,
          19,
          35,
          34,
          38,
          20,
          35,
          26,
          22,
          45,
          27,
          21,
          31,
          33,
          19,
          29,
          32,
          31,
          22,
          25,
          22,
          21,
          26,
          21,
          22,
          18,
          18,
          35,
          33,
          22,
          24,
          31,
          40,
          49,
          20,
          18,
          34,
          41,
          19,
          31,
          33,
          53,
          24,
          18,
          18,
          25,
          31,
          31,
          42,
          22,
          23,
          36,
          39,
          39,
          23,
          29,
          25,
          21,
          28,
          29,
          32,
          48,
          38,
          31,
          19,
          26,
          36,
          34,
          49,
          18,
          21,
          47,
          22,
          29,
          55,
          34,
          48,
          43,
          30,
          25,
          21,
          28,
          18,
          46,
          29,
          32,
          26,
          51,
          40,
          52,
          29,
          37,
          23,
          18,
          40,
          18,
          26,
          51,
          54,
          49,
          26,
          58,
          49,
          27,
          38,
          53,
          49,
          26,
          44,
          33,
          22,
          41,
          26,
          29,
          24,
          32,
          36,
          41,
          44,
          43,
          48,
          28,
          40,
          21,
          19,
          61,
          57,
          28,
          52,
          48,
          57,
          30,
          53,
          47,
          18,
          35,
          51,
          51,
          38,
          24,
          49,
          22,
          33,
          36,
          27,
          39,
          19,
          59,
          20,
          29,
          54,
          30,
          42,
          42,
          50,
          43,
          64,
          23,
          33,
          39,
          58,
          24,
          37,
          53,
          33,
          56,
          52,
          40,
          43,
          19,
          53,
          44,
          23,
          51,
          20,
          47,
          49,
          26,
          44,
          18,
          32,
          18,
          63,
          37,
          22,
          64,
          39,
          20,
          39,
          37,
          39,
          29,
          58,
          38,
          64,
          51,
          53,
          46,
          28,
          52,
          48,
          34,
          27,
          18,
          31,
          27,
          29,
          41,
          62,
          23,
          29,
          38,
          34,
          62,
          40,
          27,
          35,
          19,
          36,
          23,
          43,
          48,
          20,
          27,
          25,
          21,
          24,
          61,
          52,
          26,
          30,
          29,
          46,
          49,
          37,
          51,
          28,
          45,
          48,
          53,
          29,
          19,
          18,
          28,
          31,
          58,
          41,
          36,
          34,
          56,
          30,
          37,
          28,
          47,
          44,
          24,
          47,
          33,
          22,
          57,
          20,
          65,
          49,
          19,
          39,
          33,
          40,
          21,
          46,
          39,
          58,
          33,
          27,
          65,
          34,
          56,
          34,
          35,
          49,
          24,
          39,
          45,
          32,
          65,
          52,
          52,
          38,
          19,
          20,
          29,
          29,
          18,
          64,
          55,
          22,
          59,
          30,
          50,
          27,
          27,
          57,
          48,
          62,
          64,
          29,
          40,
          58,
          22,
          59,
          36,
          55,
          54,
          63,
          18,
          31,
          48,
          58,
          41,
          22,
          63,
          23,
          63,
          28,
          22,
          62,
          65,
          51,
          57,
          59,
          45,
          24,
          61,
          60,
          28,
          41,
          35,
          35,
          38,
          57,
          19,
          55,
          62,
          31,
          49,
          37,
          24,
          32,
          28,
          38,
          65,
          53,
          46,
          57,
          45,
          34,
          25,
          33,
          64,
          23,
          26,
          24,
          49,
          19,
          47,
          36,
          42,
          50,
          21,
          49,
          49,
          48,
          22,
          20,
          47,
          60,
          27,
          20,
          59,
          20,
          45,
          34,
          59,
          53,
          20,
          28,
          38,
          43,
          36,
          45,
          19,
          18,
          59,
          34,
          32,
          29,
          46,
          49,
          48,
          34,
          45,
          58,
          21,
          26,
          20,
          60,
          57,
          47,
          31,
          56,
          57,
          63,
          63,
          23,
          45,
          46,
          63,
          20,
          45,
          65,
          63,
          26,
          60,
          36,
          63,
          33,
          41,
          55,
          21,
          31,
          41,
          27,
          55,
          41,
          33,
          46,
          45,
          47,
          58,
          64,
          40,
          18,
          42,
          30,
          39,
          31,
          34,
          32,
          24,
          46,
          49,
          30,
          46,
          53,
          62,
          63,
          18,
          30,
          61,
          58,
          55,
          36,
          65,
          49,
          38,
          22,
          22,
          51,
          61,
          62,
          21,
          28,
          32,
          57,
          52,
          64,
          58,
          36,
          44,
          39,
          23,
          40,
          18,
          63,
          43,
          50,
          23,
          22,
          60,
          50,
          33,
          25,
          48,
          35,
          37,
          43,
          53,
          40,
          56,
          45,
          57,
          33,
          49,
          23,
          60,
          41,
          20,
          56,
          38,
          55,
          20,
          34,
          32,
          49,
          29,
          49,
          33,
          30,
          61,
          25,
          37,
          24,
          42,
          55,
          35,
          35,
          40,
          36,
          30,
          58,
          61,
          37,
          42,
          41,
          59,
          53,
          22,
          44,
          57,
          30,
          33,
          22,
          52,
          23,
          23,
          19,
          20,
          62,
          40,
          26,
          56,
          57,
          23,
          27,
          53,
          37,
          46,
          40,
          42,
          43,
          28,
          39,
          55,
          62,
          32,
          18,
          41,
          29,
          44,
          53,
          25,
          27,
          40,
          54,
          64,
          63,
          42,
          62,
          36,
          50,
          28,
          18,
          19,
          55,
          42,
          65,
          54,
          39,
          45,
          30,
          53,
          63,
          45,
          30,
          48,
          27,
          31,
          20,
          60,
          25,
          65,
          24,
          23,
          28,
          30,
          23,
          50,
          18,
          47,
          56,
          20,
          62,
          36,
          24,
          44,
          24,
          19,
          44,
          49,
          36,
          22,
          59,
          39,
          50,
          58,
          42,
          58,
          44,
          41,
          58,
          33,
          22,
          35,
          42,
          62,
          50,
          51,
          22,
          32,
          33,
          35,
          47,
          53,
          23,
          49,
          45,
          26,
          33,
          26,
          50,
          35,
          31,
          50,
          38,
          59,
          42,
          55,
          38,
          55,
          54,
          48,
          48,
          63,
          20,
          53,
          40,
          46,
          26,
          62,
          43,
          32,
          44,
          62,
          57,
          50,
          40,
          64,
          28,
          24,
          59,
          62,
          63,
          34,
          62,
          44,
          31,
          27,
          32,
          55,
          36,
          53,
          33,
          56,
          62,
          36,
          21,
          33,
          28,
          27,
          36,
          43,
          46,
          25,
          40,
          47,
          51,
          60,
          56,
          40,
          60,
          36,
          48,
          37,
          64,
          51,
          20,
          61,
          65,
          34,
          58,
          45,
          18,
          43,
          62,
          45,
          19,
          26,
          47,
          59,
          63,
          57,
          51,
          58,
          24,
          41,
          21,
          58,
          33,
          34,
          54,
          31,
          55,
          47,
          55,
          45,
          48,
          62,
          22,
          54,
          47,
          63,
          38,
          62,
          63,
          60,
          65,
          37,
          57,
          26,
          27,
          20,
          26,
          44,
          47,
          21,
          23,
          45,
          65,
          52,
          30,
          50,
          18,
          36,
          25,
          53,
          55,
          24,
          56,
          59,
          55,
          64,
          63,
          55,
          43,
          51,
          31,
          61,
          56,
          41,
          49,
          23,
          29,
          53,
          61,
          56,
          25,
          64,
          55,
          42,
          61,
          26,
          59,
          36,
          54,
          24,
          58,
          32,
          47,
          53,
          61,
          56,
          45,
          45,
          55,
          42,
          60,
          53,
          60,
          34,
          25,
          41,
          49,
          64,
          52,
          43,
          31,
          48,
          20,
          35,
          44,
          49,
          49,
          51,
          21,
          41,
          27,
          37,
          18,
          58,
          50,
          56,
          45,
          40,
          57,
          63,
          59,
          45,
          48,
          56,
          41,
          59,
          49,
          64,
          58,
          36,
          31,
          44,
          61,
          59,
          57,
          39,
          56,
          61,
          53,
          29,
          62,
          41,
          58,
          38,
          29,
          57,
          28,
          48,
          33,
          42,
          60,
          52,
          60,
          63,
          37,
          64,
          59,
          55,
          57,
          55,
          47,
          33,
          45,
          44,
          22,
          41,
          61,
          65,
          57,
          36,
          31,
          56,
          51,
          47,
          55,
          50,
          58,
          57,
          58,
          64,
          65,
          43,
          36,
          60,
          50,
          37,
          56,
          47,
          59,
          53,
          59,
          62,
          32,
          38,
          54,
          65,
          61,
          51,
          62,
          36,
          30,
          60,
          49,
          51,
          62,
          62,
          46,
          65,
          64,
          65,
          45,
          39,
          54,
          47,
          55,
          58,
          34,
          53,
          57,
          62,
          52,
          57,
          60,
          65,
          64,
          44,
          56,
          54,
          58,
          59,
          52,
          64,
          56,
          62,
          59,
          53,
          55,
          54,
          59,
          62,
          65,
          61,
          65,
          63,
          65,
          64,
          61,
          57,
          48,
          65,
          60
         ],
         "xaxis": "x",
         "yaxis": "y"
        }
       ],
       "layout": {
        "barmode": "relative",
        "legend": {
         "tracegroupgap": 0
        },
        "margin": {
         "t": 60
        },
        "template": {
         "data": {
          "bar": [
           {
            "error_x": {
             "color": "#2a3f5f"
            },
            "error_y": {
             "color": "#2a3f5f"
            },
            "marker": {
             "line": {
              "color": "#E5ECF6",
              "width": 0.5
             },
             "pattern": {
              "fillmode": "overlay",
              "size": 10,
              "solidity": 0.2
             }
            },
            "type": "bar"
           }
          ],
          "barpolar": [
           {
            "marker": {
             "line": {
              "color": "#E5ECF6",
              "width": 0.5
             },
             "pattern": {
              "fillmode": "overlay",
              "size": 10,
              "solidity": 0.2
             }
            },
            "type": "barpolar"
           }
          ],
          "carpet": [
           {
            "aaxis": {
             "endlinecolor": "#2a3f5f",
             "gridcolor": "white",
             "linecolor": "white",
             "minorgridcolor": "white",
             "startlinecolor": "#2a3f5f"
            },
            "baxis": {
             "endlinecolor": "#2a3f5f",
             "gridcolor": "white",
             "linecolor": "white",
             "minorgridcolor": "white",
             "startlinecolor": "#2a3f5f"
            },
            "type": "carpet"
           }
          ],
          "choropleth": [
           {
            "colorbar": {
             "outlinewidth": 0,
             "ticks": ""
            },
            "type": "choropleth"
           }
          ],
          "contour": [
           {
            "colorbar": {
             "outlinewidth": 0,
             "ticks": ""
            },
            "colorscale": [
             [
              0,
              "#0d0887"
             ],
             [
              0.1111111111111111,
              "#46039f"
             ],
             [
              0.2222222222222222,
              "#7201a8"
             ],
             [
              0.3333333333333333,
              "#9c179e"
             ],
             [
              0.4444444444444444,
              "#bd3786"
             ],
             [
              0.5555555555555556,
              "#d8576b"
             ],
             [
              0.6666666666666666,
              "#ed7953"
             ],
             [
              0.7777777777777778,
              "#fb9f3a"
             ],
             [
              0.8888888888888888,
              "#fdca26"
             ],
             [
              1,
              "#f0f921"
             ]
            ],
            "type": "contour"
           }
          ],
          "contourcarpet": [
           {
            "colorbar": {
             "outlinewidth": 0,
             "ticks": ""
            },
            "type": "contourcarpet"
           }
          ],
          "heatmap": [
           {
            "colorbar": {
             "outlinewidth": 0,
             "ticks": ""
            },
            "colorscale": [
             [
              0,
              "#0d0887"
             ],
             [
              0.1111111111111111,
              "#46039f"
             ],
             [
              0.2222222222222222,
              "#7201a8"
             ],
             [
              0.3333333333333333,
              "#9c179e"
             ],
             [
              0.4444444444444444,
              "#bd3786"
             ],
             [
              0.5555555555555556,
              "#d8576b"
             ],
             [
              0.6666666666666666,
              "#ed7953"
             ],
             [
              0.7777777777777778,
              "#fb9f3a"
             ],
             [
              0.8888888888888888,
              "#fdca26"
             ],
             [
              1,
              "#f0f921"
             ]
            ],
            "type": "heatmap"
           }
          ],
          "heatmapgl": [
           {
            "colorbar": {
             "outlinewidth": 0,
             "ticks": ""
            },
            "colorscale": [
             [
              0,
              "#0d0887"
             ],
             [
              0.1111111111111111,
              "#46039f"
             ],
             [
              0.2222222222222222,
              "#7201a8"
             ],
             [
              0.3333333333333333,
              "#9c179e"
             ],
             [
              0.4444444444444444,
              "#bd3786"
             ],
             [
              0.5555555555555556,
              "#d8576b"
             ],
             [
              0.6666666666666666,
              "#ed7953"
             ],
             [
              0.7777777777777778,
              "#fb9f3a"
             ],
             [
              0.8888888888888888,
              "#fdca26"
             ],
             [
              1,
              "#f0f921"
             ]
            ],
            "type": "heatmapgl"
           }
          ],
          "histogram": [
           {
            "marker": {
             "pattern": {
              "fillmode": "overlay",
              "size": 10,
              "solidity": 0.2
             }
            },
            "type": "histogram"
           }
          ],
          "histogram2d": [
           {
            "colorbar": {
             "outlinewidth": 0,
             "ticks": ""
            },
            "colorscale": [
             [
              0,
              "#0d0887"
             ],
             [
              0.1111111111111111,
              "#46039f"
             ],
             [
              0.2222222222222222,
              "#7201a8"
             ],
             [
              0.3333333333333333,
              "#9c179e"
             ],
             [
              0.4444444444444444,
              "#bd3786"
             ],
             [
              0.5555555555555556,
              "#d8576b"
             ],
             [
              0.6666666666666666,
              "#ed7953"
             ],
             [
              0.7777777777777778,
              "#fb9f3a"
             ],
             [
              0.8888888888888888,
              "#fdca26"
             ],
             [
              1,
              "#f0f921"
             ]
            ],
            "type": "histogram2d"
           }
          ],
          "histogram2dcontour": [
           {
            "colorbar": {
             "outlinewidth": 0,
             "ticks": ""
            },
            "colorscale": [
             [
              0,
              "#0d0887"
             ],
             [
              0.1111111111111111,
              "#46039f"
             ],
             [
              0.2222222222222222,
              "#7201a8"
             ],
             [
              0.3333333333333333,
              "#9c179e"
             ],
             [
              0.4444444444444444,
              "#bd3786"
             ],
             [
              0.5555555555555556,
              "#d8576b"
             ],
             [
              0.6666666666666666,
              "#ed7953"
             ],
             [
              0.7777777777777778,
              "#fb9f3a"
             ],
             [
              0.8888888888888888,
              "#fdca26"
             ],
             [
              1,
              "#f0f921"
             ]
            ],
            "type": "histogram2dcontour"
           }
          ],
          "mesh3d": [
           {
            "colorbar": {
             "outlinewidth": 0,
             "ticks": ""
            },
            "type": "mesh3d"
           }
          ],
          "parcoords": [
           {
            "line": {
             "colorbar": {
              "outlinewidth": 0,
              "ticks": ""
             }
            },
            "type": "parcoords"
           }
          ],
          "pie": [
           {
            "automargin": true,
            "type": "pie"
           }
          ],
          "scatter": [
           {
            "fillpattern": {
             "fillmode": "overlay",
             "size": 10,
             "solidity": 0.2
            },
            "type": "scatter"
           }
          ],
          "scatter3d": [
           {
            "line": {
             "colorbar": {
              "outlinewidth": 0,
              "ticks": ""
             }
            },
            "marker": {
             "colorbar": {
              "outlinewidth": 0,
              "ticks": ""
             }
            },
            "type": "scatter3d"
           }
          ],
          "scattercarpet": [
           {
            "marker": {
             "colorbar": {
              "outlinewidth": 0,
              "ticks": ""
             }
            },
            "type": "scattercarpet"
           }
          ],
          "scattergeo": [
           {
            "marker": {
             "colorbar": {
              "outlinewidth": 0,
              "ticks": ""
             }
            },
            "type": "scattergeo"
           }
          ],
          "scattergl": [
           {
            "marker": {
             "colorbar": {
              "outlinewidth": 0,
              "ticks": ""
             }
            },
            "type": "scattergl"
           }
          ],
          "scattermapbox": [
           {
            "marker": {
             "colorbar": {
              "outlinewidth": 0,
              "ticks": ""
             }
            },
            "type": "scattermapbox"
           }
          ],
          "scatterpolar": [
           {
            "marker": {
             "colorbar": {
              "outlinewidth": 0,
              "ticks": ""
             }
            },
            "type": "scatterpolar"
           }
          ],
          "scatterpolargl": [
           {
            "marker": {
             "colorbar": {
              "outlinewidth": 0,
              "ticks": ""
             }
            },
            "type": "scatterpolargl"
           }
          ],
          "scatterternary": [
           {
            "marker": {
             "colorbar": {
              "outlinewidth": 0,
              "ticks": ""
             }
            },
            "type": "scatterternary"
           }
          ],
          "surface": [
           {
            "colorbar": {
             "outlinewidth": 0,
             "ticks": ""
            },
            "colorscale": [
             [
              0,
              "#0d0887"
             ],
             [
              0.1111111111111111,
              "#46039f"
             ],
             [
              0.2222222222222222,
              "#7201a8"
             ],
             [
              0.3333333333333333,
              "#9c179e"
             ],
             [
              0.4444444444444444,
              "#bd3786"
             ],
             [
              0.5555555555555556,
              "#d8576b"
             ],
             [
              0.6666666666666666,
              "#ed7953"
             ],
             [
              0.7777777777777778,
              "#fb9f3a"
             ],
             [
              0.8888888888888888,
              "#fdca26"
             ],
             [
              1,
              "#f0f921"
             ]
            ],
            "type": "surface"
           }
          ],
          "table": [
           {
            "cells": {
             "fill": {
              "color": "#EBF0F8"
             },
             "line": {
              "color": "white"
             }
            },
            "header": {
             "fill": {
              "color": "#C8D4E3"
             },
             "line": {
              "color": "white"
             }
            },
            "type": "table"
           }
          ]
         },
         "layout": {
          "annotationdefaults": {
           "arrowcolor": "#2a3f5f",
           "arrowhead": 0,
           "arrowwidth": 1
          },
          "autotypenumbers": "strict",
          "coloraxis": {
           "colorbar": {
            "outlinewidth": 0,
            "ticks": ""
           }
          },
          "colorscale": {
           "diverging": [
            [
             0,
             "#8e0152"
            ],
            [
             0.1,
             "#c51b7d"
            ],
            [
             0.2,
             "#de77ae"
            ],
            [
             0.3,
             "#f1b6da"
            ],
            [
             0.4,
             "#fde0ef"
            ],
            [
             0.5,
             "#f7f7f7"
            ],
            [
             0.6,
             "#e6f5d0"
            ],
            [
             0.7,
             "#b8e186"
            ],
            [
             0.8,
             "#7fbc41"
            ],
            [
             0.9,
             "#4d9221"
            ],
            [
             1,
             "#276419"
            ]
           ],
           "sequential": [
            [
             0,
             "#0d0887"
            ],
            [
             0.1111111111111111,
             "#46039f"
            ],
            [
             0.2222222222222222,
             "#7201a8"
            ],
            [
             0.3333333333333333,
             "#9c179e"
            ],
            [
             0.4444444444444444,
             "#bd3786"
            ],
            [
             0.5555555555555556,
             "#d8576b"
            ],
            [
             0.6666666666666666,
             "#ed7953"
            ],
            [
             0.7777777777777778,
             "#fb9f3a"
            ],
            [
             0.8888888888888888,
             "#fdca26"
            ],
            [
             1,
             "#f0f921"
            ]
           ],
           "sequentialminus": [
            [
             0,
             "#0d0887"
            ],
            [
             0.1111111111111111,
             "#46039f"
            ],
            [
             0.2222222222222222,
             "#7201a8"
            ],
            [
             0.3333333333333333,
             "#9c179e"
            ],
            [
             0.4444444444444444,
             "#bd3786"
            ],
            [
             0.5555555555555556,
             "#d8576b"
            ],
            [
             0.6666666666666666,
             "#ed7953"
            ],
            [
             0.7777777777777778,
             "#fb9f3a"
            ],
            [
             0.8888888888888888,
             "#fdca26"
            ],
            [
             1,
             "#f0f921"
            ]
           ]
          },
          "colorway": [
           "#636efa",
           "#EF553B",
           "#00cc96",
           "#ab63fa",
           "#FFA15A",
           "#19d3f3",
           "#FF6692",
           "#B6E880",
           "#FF97FF",
           "#FECB52"
          ],
          "font": {
           "color": "#2a3f5f"
          },
          "geo": {
           "bgcolor": "white",
           "lakecolor": "white",
           "landcolor": "#E5ECF6",
           "showlakes": true,
           "showland": true,
           "subunitcolor": "white"
          },
          "hoverlabel": {
           "align": "left"
          },
          "hovermode": "closest",
          "mapbox": {
           "style": "light"
          },
          "paper_bgcolor": "white",
          "plot_bgcolor": "#E5ECF6",
          "polar": {
           "angularaxis": {
            "gridcolor": "white",
            "linecolor": "white",
            "ticks": ""
           },
           "bgcolor": "#E5ECF6",
           "radialaxis": {
            "gridcolor": "white",
            "linecolor": "white",
            "ticks": ""
           }
          },
          "scene": {
           "xaxis": {
            "backgroundcolor": "#E5ECF6",
            "gridcolor": "white",
            "gridwidth": 2,
            "linecolor": "white",
            "showbackground": true,
            "ticks": "",
            "zerolinecolor": "white"
           },
           "yaxis": {
            "backgroundcolor": "#E5ECF6",
            "gridcolor": "white",
            "gridwidth": 2,
            "linecolor": "white",
            "showbackground": true,
            "ticks": "",
            "zerolinecolor": "white"
           },
           "zaxis": {
            "backgroundcolor": "#E5ECF6",
            "gridcolor": "white",
            "gridwidth": 2,
            "linecolor": "white",
            "showbackground": true,
            "ticks": "",
            "zerolinecolor": "white"
           }
          },
          "shapedefaults": {
           "line": {
            "color": "#2a3f5f"
           }
          },
          "ternary": {
           "aaxis": {
            "gridcolor": "white",
            "linecolor": "white",
            "ticks": ""
           },
           "baxis": {
            "gridcolor": "white",
            "linecolor": "white",
            "ticks": ""
           },
           "bgcolor": "#E5ECF6",
           "caxis": {
            "gridcolor": "white",
            "linecolor": "white",
            "ticks": ""
           }
          },
          "title": {
           "x": 0.05
          },
          "xaxis": {
           "automargin": true,
           "gridcolor": "white",
           "linecolor": "white",
           "ticks": "",
           "title": {
            "standoff": 15
           },
           "zerolinecolor": "white",
           "zerolinewidth": 2
          },
          "yaxis": {
           "automargin": true,
           "gridcolor": "white",
           "linecolor": "white",
           "ticks": "",
           "title": {
            "standoff": 15
           },
           "zerolinecolor": "white",
           "zerolinewidth": 2
          }
         }
        },
        "xaxis": {
         "anchor": "y",
         "domain": [
          0,
          1
         ],
         "title": {
          "text": "age"
         }
        },
        "yaxis": {
         "anchor": "x",
         "domain": [
          0,
          1
         ],
         "title": {
          "text": "count"
         }
        }
       }
      }
     },
     "metadata": {},
     "output_type": "display_data"
    },
    {
     "data": {
      "application/vnd.plotly.v1+json": {
       "config": {
        "plotlyServerURL": "https://plot.ly"
       },
       "data": [
        {
         "alignmentgroup": "True",
         "bingroup": "x",
         "hovertemplate": "performance=%{x}<br>count=%{y}<extra></extra>",
         "legendgroup": "",
         "marker": {
          "color": "#636efa",
          "pattern": {
           "shape": ""
          }
         },
         "name": "",
         "offsetgroup": "",
         "orientation": "v",
         "showlegend": false,
         "type": "histogram",
         "x": [
          5,
          5,
          4,
          5,
          5,
          5,
          5,
          4,
          5,
          5,
          5,
          5,
          5,
          5,
          5,
          5,
          5,
          5,
          5,
          5,
          5,
          5,
          5,
          5,
          4,
          5,
          5,
          5,
          5,
          5,
          5,
          5,
          5,
          5,
          5,
          5,
          5,
          5,
          5,
          5,
          5,
          5,
          5,
          5,
          5,
          5,
          5,
          5,
          5,
          5,
          4,
          4,
          5,
          5,
          4,
          4,
          5,
          5,
          5,
          5,
          5,
          5,
          5,
          5,
          5,
          5,
          5,
          5,
          5,
          5,
          5,
          5,
          4,
          5,
          4,
          5,
          4,
          5,
          5,
          5,
          5,
          3,
          5,
          5,
          4,
          5,
          5,
          5,
          5,
          4,
          5,
          5,
          5,
          5,
          5,
          4,
          5,
          4,
          5,
          5,
          5,
          5,
          5,
          5,
          4,
          4,
          5,
          5,
          5,
          4,
          4,
          5,
          5,
          5,
          5,
          4,
          5,
          4,
          4,
          5,
          4,
          4,
          5,
          5,
          5,
          5,
          5,
          5,
          4,
          5,
          5,
          5,
          4,
          5,
          5,
          5,
          5,
          4,
          5,
          4,
          5,
          4,
          4,
          5,
          5,
          5,
          3,
          5,
          4,
          4,
          5,
          5,
          4,
          5,
          5,
          5,
          4,
          5,
          5,
          4,
          4,
          5,
          5,
          4,
          4,
          5,
          5,
          5,
          5,
          5,
          5,
          4,
          5,
          3,
          4,
          5,
          4,
          5,
          4,
          4,
          5,
          5,
          4,
          5,
          4,
          5,
          3,
          4,
          5,
          5,
          5,
          5,
          5,
          4,
          5,
          4,
          5,
          4,
          5,
          4,
          5,
          5,
          4,
          4,
          3,
          4,
          4,
          5,
          4,
          4,
          5,
          4,
          4,
          5,
          4,
          4,
          4,
          5,
          5,
          5,
          4,
          5,
          5,
          4,
          5,
          4,
          5,
          4,
          4,
          4,
          4,
          3,
          5,
          5,
          4,
          4,
          5,
          4,
          5,
          4,
          4,
          4,
          4,
          4,
          3,
          5,
          4,
          4,
          4,
          3,
          3,
          4,
          5,
          5,
          4,
          4,
          4,
          5,
          4,
          3,
          5,
          4,
          5,
          5,
          5,
          4,
          4,
          3,
          4,
          4,
          4,
          5,
          4,
          3,
          5,
          4,
          4,
          4,
          4,
          4,
          4,
          5,
          5,
          4,
          4,
          4,
          5,
          4,
          3,
          4,
          3,
          4,
          2,
          4,
          4,
          5,
          4,
          4,
          5,
          3,
          5,
          4,
          4,
          4,
          3,
          4,
          4,
          3,
          5,
          4,
          4,
          3,
          4,
          2,
          3,
          4,
          2,
          5,
          5,
          2,
          4,
          5,
          5,
          4,
          3,
          5,
          4,
          4,
          5,
          3,
          5,
          4,
          3,
          4,
          4,
          4,
          4,
          4,
          2,
          3,
          4,
          4,
          4,
          3,
          5,
          3,
          5,
          3,
          4,
          4,
          4,
          4,
          5,
          4,
          3,
          3,
          5,
          4,
          3,
          4,
          4,
          4,
          3,
          4,
          2,
          5,
          5,
          3,
          4,
          4,
          3,
          3,
          3,
          2,
          5,
          5,
          3,
          4,
          3,
          2,
          3,
          3,
          5,
          3,
          3,
          3,
          4,
          2,
          3,
          4,
          3,
          5,
          2,
          4,
          4,
          3,
          2,
          3,
          5,
          5,
          4,
          3,
          5,
          3,
          4,
          3,
          4,
          4,
          3,
          3,
          4,
          3,
          3,
          3,
          2,
          4,
          5,
          3,
          3,
          3,
          4,
          5,
          3,
          4,
          3,
          4,
          2,
          2,
          2,
          4,
          4,
          3,
          4,
          4,
          4,
          5,
          5,
          3,
          2,
          4,
          5,
          2,
          4,
          4,
          4,
          3,
          3,
          3,
          5,
          3,
          3,
          3,
          2,
          3,
          3,
          3,
          3,
          4,
          3,
          3,
          4,
          3,
          4,
          4,
          2,
          3,
          3,
          2,
          4,
          3,
          3,
          3,
          3,
          4,
          3,
          2,
          4,
          4,
          5,
          4,
          1,
          3,
          3,
          4,
          4,
          3,
          4,
          4,
          3,
          1,
          3,
          3,
          4,
          4,
          1,
          3,
          4,
          4,
          4,
          5,
          5,
          3,
          3,
          3,
          4,
          2,
          2,
          3,
          3,
          3,
          2,
          2,
          4,
          3,
          2,
          3,
          3,
          2,
          2,
          3,
          3,
          3,
          3,
          4,
          4,
          3,
          3,
          3,
          4,
          3,
          2,
          4,
          3,
          4,
          1,
          2,
          2,
          3,
          3,
          3,
          1,
          2,
          3,
          3,
          2,
          2,
          3,
          4,
          2,
          2,
          3,
          3,
          4,
          4,
          3,
          3,
          3,
          2,
          4,
          3,
          2,
          3,
          3,
          2,
          3,
          2,
          3,
          2,
          1,
          1,
          2,
          4,
          3,
          3,
          3,
          3,
          2,
          2,
          4,
          3,
          3,
          2,
          2,
          3,
          3,
          3,
          3,
          3,
          2,
          2,
          3,
          3,
          2,
          3,
          2,
          3,
          2,
          3,
          4,
          3,
          3,
          4,
          3,
          3,
          3,
          2,
          1,
          2,
          2,
          4,
          2,
          2,
          2,
          1,
          4,
          4,
          3,
          3,
          1,
          2,
          3,
          1,
          4,
          1,
          3,
          2,
          1,
          1,
          2,
          1,
          3,
          2,
          2,
          3,
          2,
          3,
          2,
          2,
          2,
          2,
          2,
          4,
          3,
          3,
          2,
          3,
          3,
          3,
          3,
          2,
          4,
          3,
          2,
          3,
          2,
          1,
          2,
          1,
          4,
          2,
          2,
          1,
          2,
          2,
          1,
          2,
          2,
          1,
          3,
          1,
          1,
          2,
          2,
          3,
          2,
          2,
          3,
          3,
          2,
          2,
          3,
          2,
          2,
          3,
          2,
          2,
          3,
          1,
          3,
          3,
          2,
          2,
          2,
          1,
          2,
          3,
          3,
          2,
          3,
          2,
          3,
          1,
          1,
          4,
          3,
          3,
          1,
          4,
          2,
          2,
          1,
          1,
          2,
          1,
          2,
          1,
          3,
          4,
          1,
          1,
          2,
          1,
          1,
          2,
          2,
          2,
          1,
          2,
          2,
          3,
          2,
          2,
          1,
          3,
          2,
          3,
          2,
          2,
          2,
          2,
          2,
          3,
          1,
          2,
          2,
          1,
          1,
          3,
          2,
          1,
          1,
          2,
          3,
          3,
          2,
          1,
          1,
          1,
          1,
          1,
          2,
          2,
          1,
          3,
          1,
          2,
          1,
          3,
          2,
          2,
          3,
          1,
          2,
          1,
          2,
          1,
          2,
          3,
          3,
          3,
          2,
          1,
          2,
          2,
          2,
          2,
          1,
          1,
          1,
          1,
          1,
          4,
          2,
          1,
          2,
          1,
          1,
          1,
          3,
          1,
          1,
          2,
          2,
          3,
          2,
          2,
          2,
          2,
          2,
          1,
          2,
          2,
          2,
          3,
          1,
          1,
          2,
          2,
          2,
          1,
          2,
          2,
          1,
          2,
          1,
          2,
          2,
          2,
          1,
          2,
          1,
          2,
          2,
          1,
          2,
          1,
          2,
          2,
          2,
          3,
          1,
          2,
          1,
          1,
          1,
          1,
          1,
          2,
          1,
          2,
          1,
          1,
          1,
          1,
          2,
          2,
          2,
          1,
          1,
          1,
          1,
          1,
          1,
          2,
          1,
          1,
          1,
          1,
          2,
          1,
          2,
          1,
          1,
          2,
          1,
          2,
          3,
          1,
          1,
          1,
          1,
          2,
          3,
          3,
          2,
          2,
          1,
          1,
          1,
          3,
          1,
          2,
          1,
          1,
          2,
          1,
          1,
          1,
          1,
          2,
          1,
          1,
          1,
          1,
          2,
          1,
          2,
          2,
          2,
          2,
          1,
          2,
          1,
          1,
          1,
          1,
          1,
          1,
          1,
          1,
          2,
          1,
          1,
          1,
          1,
          1,
          1,
          1,
          1,
          2,
          1,
          1,
          1,
          1,
          1,
          1,
          1,
          2,
          1,
          1,
          1,
          2,
          1,
          1,
          2,
          2,
          1,
          1,
          1,
          1,
          1,
          1,
          1,
          1,
          1,
          1,
          1,
          2,
          1,
          1,
          1,
          1,
          1,
          2,
          2,
          1,
          1,
          1,
          1,
          1,
          1,
          1,
          1,
          1,
          1,
          1,
          1,
          1,
          1,
          1,
          1,
          1,
          1,
          1,
          1,
          1,
          1,
          1,
          1,
          1,
          1,
          1,
          1,
          1,
          1,
          1,
          1,
          1,
          2,
          1
         ],
         "xaxis": "x",
         "yaxis": "y"
        }
       ],
       "layout": {
        "barmode": "relative",
        "legend": {
         "tracegroupgap": 0
        },
        "margin": {
         "t": 60
        },
        "template": {
         "data": {
          "bar": [
           {
            "error_x": {
             "color": "#2a3f5f"
            },
            "error_y": {
             "color": "#2a3f5f"
            },
            "marker": {
             "line": {
              "color": "#E5ECF6",
              "width": 0.5
             },
             "pattern": {
              "fillmode": "overlay",
              "size": 10,
              "solidity": 0.2
             }
            },
            "type": "bar"
           }
          ],
          "barpolar": [
           {
            "marker": {
             "line": {
              "color": "#E5ECF6",
              "width": 0.5
             },
             "pattern": {
              "fillmode": "overlay",
              "size": 10,
              "solidity": 0.2
             }
            },
            "type": "barpolar"
           }
          ],
          "carpet": [
           {
            "aaxis": {
             "endlinecolor": "#2a3f5f",
             "gridcolor": "white",
             "linecolor": "white",
             "minorgridcolor": "white",
             "startlinecolor": "#2a3f5f"
            },
            "baxis": {
             "endlinecolor": "#2a3f5f",
             "gridcolor": "white",
             "linecolor": "white",
             "minorgridcolor": "white",
             "startlinecolor": "#2a3f5f"
            },
            "type": "carpet"
           }
          ],
          "choropleth": [
           {
            "colorbar": {
             "outlinewidth": 0,
             "ticks": ""
            },
            "type": "choropleth"
           }
          ],
          "contour": [
           {
            "colorbar": {
             "outlinewidth": 0,
             "ticks": ""
            },
            "colorscale": [
             [
              0,
              "#0d0887"
             ],
             [
              0.1111111111111111,
              "#46039f"
             ],
             [
              0.2222222222222222,
              "#7201a8"
             ],
             [
              0.3333333333333333,
              "#9c179e"
             ],
             [
              0.4444444444444444,
              "#bd3786"
             ],
             [
              0.5555555555555556,
              "#d8576b"
             ],
             [
              0.6666666666666666,
              "#ed7953"
             ],
             [
              0.7777777777777778,
              "#fb9f3a"
             ],
             [
              0.8888888888888888,
              "#fdca26"
             ],
             [
              1,
              "#f0f921"
             ]
            ],
            "type": "contour"
           }
          ],
          "contourcarpet": [
           {
            "colorbar": {
             "outlinewidth": 0,
             "ticks": ""
            },
            "type": "contourcarpet"
           }
          ],
          "heatmap": [
           {
            "colorbar": {
             "outlinewidth": 0,
             "ticks": ""
            },
            "colorscale": [
             [
              0,
              "#0d0887"
             ],
             [
              0.1111111111111111,
              "#46039f"
             ],
             [
              0.2222222222222222,
              "#7201a8"
             ],
             [
              0.3333333333333333,
              "#9c179e"
             ],
             [
              0.4444444444444444,
              "#bd3786"
             ],
             [
              0.5555555555555556,
              "#d8576b"
             ],
             [
              0.6666666666666666,
              "#ed7953"
             ],
             [
              0.7777777777777778,
              "#fb9f3a"
             ],
             [
              0.8888888888888888,
              "#fdca26"
             ],
             [
              1,
              "#f0f921"
             ]
            ],
            "type": "heatmap"
           }
          ],
          "heatmapgl": [
           {
            "colorbar": {
             "outlinewidth": 0,
             "ticks": ""
            },
            "colorscale": [
             [
              0,
              "#0d0887"
             ],
             [
              0.1111111111111111,
              "#46039f"
             ],
             [
              0.2222222222222222,
              "#7201a8"
             ],
             [
              0.3333333333333333,
              "#9c179e"
             ],
             [
              0.4444444444444444,
              "#bd3786"
             ],
             [
              0.5555555555555556,
              "#d8576b"
             ],
             [
              0.6666666666666666,
              "#ed7953"
             ],
             [
              0.7777777777777778,
              "#fb9f3a"
             ],
             [
              0.8888888888888888,
              "#fdca26"
             ],
             [
              1,
              "#f0f921"
             ]
            ],
            "type": "heatmapgl"
           }
          ],
          "histogram": [
           {
            "marker": {
             "pattern": {
              "fillmode": "overlay",
              "size": 10,
              "solidity": 0.2
             }
            },
            "type": "histogram"
           }
          ],
          "histogram2d": [
           {
            "colorbar": {
             "outlinewidth": 0,
             "ticks": ""
            },
            "colorscale": [
             [
              0,
              "#0d0887"
             ],
             [
              0.1111111111111111,
              "#46039f"
             ],
             [
              0.2222222222222222,
              "#7201a8"
             ],
             [
              0.3333333333333333,
              "#9c179e"
             ],
             [
              0.4444444444444444,
              "#bd3786"
             ],
             [
              0.5555555555555556,
              "#d8576b"
             ],
             [
              0.6666666666666666,
              "#ed7953"
             ],
             [
              0.7777777777777778,
              "#fb9f3a"
             ],
             [
              0.8888888888888888,
              "#fdca26"
             ],
             [
              1,
              "#f0f921"
             ]
            ],
            "type": "histogram2d"
           }
          ],
          "histogram2dcontour": [
           {
            "colorbar": {
             "outlinewidth": 0,
             "ticks": ""
            },
            "colorscale": [
             [
              0,
              "#0d0887"
             ],
             [
              0.1111111111111111,
              "#46039f"
             ],
             [
              0.2222222222222222,
              "#7201a8"
             ],
             [
              0.3333333333333333,
              "#9c179e"
             ],
             [
              0.4444444444444444,
              "#bd3786"
             ],
             [
              0.5555555555555556,
              "#d8576b"
             ],
             [
              0.6666666666666666,
              "#ed7953"
             ],
             [
              0.7777777777777778,
              "#fb9f3a"
             ],
             [
              0.8888888888888888,
              "#fdca26"
             ],
             [
              1,
              "#f0f921"
             ]
            ],
            "type": "histogram2dcontour"
           }
          ],
          "mesh3d": [
           {
            "colorbar": {
             "outlinewidth": 0,
             "ticks": ""
            },
            "type": "mesh3d"
           }
          ],
          "parcoords": [
           {
            "line": {
             "colorbar": {
              "outlinewidth": 0,
              "ticks": ""
             }
            },
            "type": "parcoords"
           }
          ],
          "pie": [
           {
            "automargin": true,
            "type": "pie"
           }
          ],
          "scatter": [
           {
            "fillpattern": {
             "fillmode": "overlay",
             "size": 10,
             "solidity": 0.2
            },
            "type": "scatter"
           }
          ],
          "scatter3d": [
           {
            "line": {
             "colorbar": {
              "outlinewidth": 0,
              "ticks": ""
             }
            },
            "marker": {
             "colorbar": {
              "outlinewidth": 0,
              "ticks": ""
             }
            },
            "type": "scatter3d"
           }
          ],
          "scattercarpet": [
           {
            "marker": {
             "colorbar": {
              "outlinewidth": 0,
              "ticks": ""
             }
            },
            "type": "scattercarpet"
           }
          ],
          "scattergeo": [
           {
            "marker": {
             "colorbar": {
              "outlinewidth": 0,
              "ticks": ""
             }
            },
            "type": "scattergeo"
           }
          ],
          "scattergl": [
           {
            "marker": {
             "colorbar": {
              "outlinewidth": 0,
              "ticks": ""
             }
            },
            "type": "scattergl"
           }
          ],
          "scattermapbox": [
           {
            "marker": {
             "colorbar": {
              "outlinewidth": 0,
              "ticks": ""
             }
            },
            "type": "scattermapbox"
           }
          ],
          "scatterpolar": [
           {
            "marker": {
             "colorbar": {
              "outlinewidth": 0,
              "ticks": ""
             }
            },
            "type": "scatterpolar"
           }
          ],
          "scatterpolargl": [
           {
            "marker": {
             "colorbar": {
              "outlinewidth": 0,
              "ticks": ""
             }
            },
            "type": "scatterpolargl"
           }
          ],
          "scatterternary": [
           {
            "marker": {
             "colorbar": {
              "outlinewidth": 0,
              "ticks": ""
             }
            },
            "type": "scatterternary"
           }
          ],
          "surface": [
           {
            "colorbar": {
             "outlinewidth": 0,
             "ticks": ""
            },
            "colorscale": [
             [
              0,
              "#0d0887"
             ],
             [
              0.1111111111111111,
              "#46039f"
             ],
             [
              0.2222222222222222,
              "#7201a8"
             ],
             [
              0.3333333333333333,
              "#9c179e"
             ],
             [
              0.4444444444444444,
              "#bd3786"
             ],
             [
              0.5555555555555556,
              "#d8576b"
             ],
             [
              0.6666666666666666,
              "#ed7953"
             ],
             [
              0.7777777777777778,
              "#fb9f3a"
             ],
             [
              0.8888888888888888,
              "#fdca26"
             ],
             [
              1,
              "#f0f921"
             ]
            ],
            "type": "surface"
           }
          ],
          "table": [
           {
            "cells": {
             "fill": {
              "color": "#EBF0F8"
             },
             "line": {
              "color": "white"
             }
            },
            "header": {
             "fill": {
              "color": "#C8D4E3"
             },
             "line": {
              "color": "white"
             }
            },
            "type": "table"
           }
          ]
         },
         "layout": {
          "annotationdefaults": {
           "arrowcolor": "#2a3f5f",
           "arrowhead": 0,
           "arrowwidth": 1
          },
          "autotypenumbers": "strict",
          "coloraxis": {
           "colorbar": {
            "outlinewidth": 0,
            "ticks": ""
           }
          },
          "colorscale": {
           "diverging": [
            [
             0,
             "#8e0152"
            ],
            [
             0.1,
             "#c51b7d"
            ],
            [
             0.2,
             "#de77ae"
            ],
            [
             0.3,
             "#f1b6da"
            ],
            [
             0.4,
             "#fde0ef"
            ],
            [
             0.5,
             "#f7f7f7"
            ],
            [
             0.6,
             "#e6f5d0"
            ],
            [
             0.7,
             "#b8e186"
            ],
            [
             0.8,
             "#7fbc41"
            ],
            [
             0.9,
             "#4d9221"
            ],
            [
             1,
             "#276419"
            ]
           ],
           "sequential": [
            [
             0,
             "#0d0887"
            ],
            [
             0.1111111111111111,
             "#46039f"
            ],
            [
             0.2222222222222222,
             "#7201a8"
            ],
            [
             0.3333333333333333,
             "#9c179e"
            ],
            [
             0.4444444444444444,
             "#bd3786"
            ],
            [
             0.5555555555555556,
             "#d8576b"
            ],
            [
             0.6666666666666666,
             "#ed7953"
            ],
            [
             0.7777777777777778,
             "#fb9f3a"
            ],
            [
             0.8888888888888888,
             "#fdca26"
            ],
            [
             1,
             "#f0f921"
            ]
           ],
           "sequentialminus": [
            [
             0,
             "#0d0887"
            ],
            [
             0.1111111111111111,
             "#46039f"
            ],
            [
             0.2222222222222222,
             "#7201a8"
            ],
            [
             0.3333333333333333,
             "#9c179e"
            ],
            [
             0.4444444444444444,
             "#bd3786"
            ],
            [
             0.5555555555555556,
             "#d8576b"
            ],
            [
             0.6666666666666666,
             "#ed7953"
            ],
            [
             0.7777777777777778,
             "#fb9f3a"
            ],
            [
             0.8888888888888888,
             "#fdca26"
            ],
            [
             1,
             "#f0f921"
            ]
           ]
          },
          "colorway": [
           "#636efa",
           "#EF553B",
           "#00cc96",
           "#ab63fa",
           "#FFA15A",
           "#19d3f3",
           "#FF6692",
           "#B6E880",
           "#FF97FF",
           "#FECB52"
          ],
          "font": {
           "color": "#2a3f5f"
          },
          "geo": {
           "bgcolor": "white",
           "lakecolor": "white",
           "landcolor": "#E5ECF6",
           "showlakes": true,
           "showland": true,
           "subunitcolor": "white"
          },
          "hoverlabel": {
           "align": "left"
          },
          "hovermode": "closest",
          "mapbox": {
           "style": "light"
          },
          "paper_bgcolor": "white",
          "plot_bgcolor": "#E5ECF6",
          "polar": {
           "angularaxis": {
            "gridcolor": "white",
            "linecolor": "white",
            "ticks": ""
           },
           "bgcolor": "#E5ECF6",
           "radialaxis": {
            "gridcolor": "white",
            "linecolor": "white",
            "ticks": ""
           }
          },
          "scene": {
           "xaxis": {
            "backgroundcolor": "#E5ECF6",
            "gridcolor": "white",
            "gridwidth": 2,
            "linecolor": "white",
            "showbackground": true,
            "ticks": "",
            "zerolinecolor": "white"
           },
           "yaxis": {
            "backgroundcolor": "#E5ECF6",
            "gridcolor": "white",
            "gridwidth": 2,
            "linecolor": "white",
            "showbackground": true,
            "ticks": "",
            "zerolinecolor": "white"
           },
           "zaxis": {
            "backgroundcolor": "#E5ECF6",
            "gridcolor": "white",
            "gridwidth": 2,
            "linecolor": "white",
            "showbackground": true,
            "ticks": "",
            "zerolinecolor": "white"
           }
          },
          "shapedefaults": {
           "line": {
            "color": "#2a3f5f"
           }
          },
          "ternary": {
           "aaxis": {
            "gridcolor": "white",
            "linecolor": "white",
            "ticks": ""
           },
           "baxis": {
            "gridcolor": "white",
            "linecolor": "white",
            "ticks": ""
           },
           "bgcolor": "#E5ECF6",
           "caxis": {
            "gridcolor": "white",
            "linecolor": "white",
            "ticks": ""
           }
          },
          "title": {
           "x": 0.05
          },
          "xaxis": {
           "automargin": true,
           "gridcolor": "white",
           "linecolor": "white",
           "ticks": "",
           "title": {
            "standoff": 15
           },
           "zerolinecolor": "white",
           "zerolinewidth": 2
          },
          "yaxis": {
           "automargin": true,
           "gridcolor": "white",
           "linecolor": "white",
           "ticks": "",
           "title": {
            "standoff": 15
           },
           "zerolinecolor": "white",
           "zerolinewidth": 2
          }
         }
        },
        "xaxis": {
         "anchor": "y",
         "domain": [
          0,
          1
         ],
         "title": {
          "text": "performance"
         }
        },
        "yaxis": {
         "anchor": "x",
         "domain": [
          0,
          1
         ],
         "title": {
          "text": "count"
         }
        }
       }
      }
     },
     "metadata": {},
     "output_type": "display_data"
    },
    {
     "data": {
      "application/vnd.plotly.v1+json": {
       "config": {
        "plotlyServerURL": "https://plot.ly"
       },
       "data": [
        {
         "alignmentgroup": "True",
         "bingroup": "x",
         "hovertemplate": "seniority=%{x}<br>count=%{y}<extra></extra>",
         "legendgroup": "",
         "marker": {
          "color": "#636efa",
          "pattern": {
           "shape": ""
          }
         },
         "name": "",
         "offsetgroup": "",
         "orientation": "v",
         "showlegend": false,
         "type": "histogram",
         "x": [
          2,
          5,
          5,
          4,
          5,
          4,
          4,
          5,
          5,
          5,
          5,
          3,
          3,
          5,
          4,
          3,
          5,
          5,
          5,
          5,
          5,
          3,
          3,
          1,
          5,
          2,
          4,
          3,
          4,
          5,
          2,
          5,
          4,
          3,
          5,
          4,
          4,
          3,
          4,
          4,
          5,
          3,
          2,
          2,
          5,
          3,
          3,
          3,
          5,
          4,
          5,
          4,
          5,
          2,
          3,
          4,
          2,
          4,
          3,
          4,
          4,
          3,
          2,
          3,
          4,
          3,
          5,
          1,
          4,
          2,
          5,
          1,
          5,
          5,
          2,
          3,
          3,
          5,
          2,
          3,
          5,
          4,
          1,
          2,
          5,
          1,
          3,
          5,
          1,
          5,
          2,
          3,
          1,
          4,
          3,
          4,
          5,
          4,
          1,
          5,
          5,
          5,
          3,
          5,
          4,
          4,
          1,
          1,
          1,
          5,
          4,
          4,
          3,
          3,
          2,
          4,
          2,
          4,
          3,
          2,
          2,
          3,
          4,
          4,
          2,
          2,
          5,
          3,
          4,
          5,
          5,
          4,
          5,
          1,
          3,
          1,
          3,
          4,
          1,
          5,
          1,
          5,
          3,
          4,
          5,
          2,
          4,
          1,
          3,
          2,
          4,
          3,
          5,
          1,
          1,
          2,
          5,
          5,
          3,
          4,
          1,
          3,
          3,
          5,
          1,
          5,
          1,
          2,
          1,
          1,
          4,
          1,
          1,
          5,
          3,
          4,
          2,
          2,
          4,
          5,
          5,
          4,
          1,
          1,
          4,
          2,
          5,
          3,
          2,
          2,
          5,
          2,
          4,
          5,
          2,
          5,
          2,
          3,
          1,
          2,
          2,
          4,
          2,
          4,
          2,
          4,
          4,
          2,
          4,
          2,
          2,
          5,
          2,
          1,
          2,
          3,
          4,
          3,
          4,
          5,
          5,
          3,
          4,
          1,
          1,
          5,
          1,
          5,
          4,
          2,
          1,
          2,
          1,
          5,
          1,
          3,
          2,
          5,
          2,
          5,
          1,
          5,
          3,
          5,
          3,
          4,
          4,
          4,
          5,
          5,
          4,
          1,
          2,
          2,
          3,
          2,
          1,
          3,
          5,
          5,
          1,
          1,
          3,
          1,
          2,
          3,
          1,
          3,
          3,
          2,
          3,
          3,
          3,
          4,
          5,
          5,
          3,
          5,
          2,
          4,
          2,
          1,
          1,
          1,
          4,
          2,
          4,
          2,
          4,
          2,
          5,
          5,
          5,
          4,
          3,
          4,
          1,
          4,
          4,
          2,
          3,
          1,
          2,
          4,
          3,
          3,
          2,
          2,
          5,
          5,
          2,
          5,
          2,
          5,
          2,
          1,
          4,
          2,
          3,
          5,
          4,
          1,
          1,
          1,
          5,
          3,
          1,
          4,
          2,
          4,
          2,
          4,
          4,
          4,
          5,
          1,
          2,
          5,
          5,
          3,
          4,
          5,
          1,
          2,
          5,
          1,
          4,
          5,
          1,
          1,
          5,
          4,
          1,
          5,
          5,
          2,
          1,
          3,
          3,
          3,
          2,
          4,
          2,
          1,
          2,
          1,
          3,
          2,
          4,
          3,
          4,
          4,
          5,
          5,
          1,
          1,
          4,
          3,
          4,
          5,
          4,
          3,
          3,
          3,
          2,
          1,
          5,
          5,
          4,
          3,
          1,
          1,
          5,
          5,
          1,
          5,
          4,
          3,
          3,
          4,
          1,
          1,
          1,
          1,
          2,
          5,
          4,
          1,
          3,
          3,
          2,
          2,
          3,
          5,
          2,
          1,
          1,
          4,
          5,
          2,
          4,
          2,
          5,
          1,
          3,
          5,
          3,
          5,
          4,
          5,
          4,
          2,
          2,
          3,
          4,
          1,
          2,
          3,
          5,
          2,
          1,
          4,
          2,
          1,
          3,
          3,
          5,
          3,
          1,
          2,
          3,
          5,
          5,
          1,
          4,
          1,
          4,
          1,
          1,
          3,
          2,
          5,
          5,
          3,
          2,
          2,
          5,
          5,
          1,
          2,
          1,
          4,
          3,
          3,
          4,
          5,
          1,
          3,
          1,
          1,
          5,
          4,
          4,
          3,
          2,
          2,
          4,
          3,
          3,
          5,
          2,
          4,
          2,
          1,
          4,
          3,
          3,
          3,
          1,
          2,
          1,
          3,
          3,
          4,
          1,
          5,
          5,
          5,
          5,
          2,
          4,
          2,
          2,
          2,
          4,
          1,
          1,
          3,
          3,
          4,
          5,
          3,
          4,
          2,
          1,
          3,
          5,
          3,
          3,
          1,
          4,
          3,
          2,
          2,
          3,
          3,
          2,
          4,
          2,
          4,
          5,
          4,
          4,
          1,
          5,
          3,
          4,
          3,
          5,
          4,
          3,
          2,
          1,
          4,
          3,
          2,
          2,
          2,
          2,
          3,
          4,
          1,
          5,
          4,
          1,
          3,
          3,
          5,
          5,
          4,
          3,
          2,
          1,
          2,
          3,
          3,
          3,
          1,
          2,
          1,
          3,
          2,
          3,
          1,
          2,
          4,
          2,
          5,
          2,
          1,
          2,
          3,
          5,
          3,
          1,
          3,
          2,
          5,
          5,
          2,
          4,
          3,
          3,
          2,
          2,
          2,
          3,
          5,
          1,
          5,
          4,
          5,
          2,
          4,
          1,
          2,
          3,
          1,
          5,
          2,
          1,
          4,
          1,
          5,
          5,
          3,
          2,
          5,
          3,
          4,
          1,
          1,
          2,
          2,
          1,
          3,
          4,
          3,
          3,
          3,
          2,
          4,
          4,
          1,
          3,
          3,
          3,
          5,
          5,
          5,
          3,
          1,
          4,
          1,
          4,
          2,
          5,
          5,
          3,
          5,
          3,
          4,
          1,
          2,
          4,
          4,
          5,
          4,
          3,
          5,
          5,
          5,
          3,
          1,
          5,
          3,
          1,
          1,
          2,
          5,
          1,
          3,
          3,
          3,
          3,
          4,
          3,
          2,
          1,
          2,
          2,
          3,
          2,
          1,
          3,
          1,
          4,
          5,
          1,
          3,
          2,
          4,
          3,
          1,
          3,
          4,
          5,
          3,
          2,
          4,
          5,
          5,
          5,
          5,
          2,
          5,
          2,
          1,
          3,
          2,
          1,
          5,
          2,
          2,
          3,
          2,
          4,
          1,
          2,
          2,
          3,
          4,
          5,
          2,
          3,
          1,
          1,
          5,
          2,
          2,
          4,
          2,
          4,
          2,
          2,
          3,
          4,
          4,
          5,
          4,
          3,
          3,
          3,
          1,
          4,
          5,
          4,
          2,
          5,
          2,
          4,
          1,
          3,
          2,
          4,
          3,
          4,
          1,
          4,
          4,
          2,
          1,
          2,
          4,
          4,
          4,
          3,
          2,
          3,
          3,
          1,
          3,
          2,
          4,
          2,
          1,
          5,
          5,
          2,
          2,
          3,
          1,
          5,
          5,
          3,
          1,
          1,
          1,
          2,
          5,
          2,
          4,
          2,
          1,
          4,
          3,
          3,
          2,
          1,
          3,
          4,
          4,
          1,
          1,
          2,
          3,
          4,
          2,
          5,
          1,
          3,
          3,
          5,
          2,
          1,
          4,
          1,
          3,
          4,
          4,
          4,
          3,
          2,
          3,
          3,
          5,
          1,
          3,
          3,
          2,
          5,
          5,
          2,
          4,
          5,
          4,
          5,
          2,
          4,
          1,
          5,
          2,
          2,
          2,
          3,
          2,
          1,
          2,
          5,
          3,
          3,
          1,
          5,
          3,
          5,
          3,
          4,
          3,
          5,
          5,
          2,
          5,
          4,
          3,
          4,
          1,
          3,
          5,
          2,
          2,
          5,
          1,
          2,
          3,
          1,
          3,
          5,
          4,
          1,
          2,
          2,
          1,
          1,
          2,
          1,
          1,
          4,
          1,
          2,
          1,
          3,
          4,
          4,
          2,
          2,
          3,
          2,
          1,
          2,
          1,
          1,
          1,
          3,
          1,
          5,
          4,
          5,
          3,
          1,
          1,
          3,
          2,
          3,
          3,
          3,
          4,
          2,
          4,
          5,
          5,
          4,
          4,
          4,
          3,
          1,
          2,
          3,
          1,
          4,
          3,
          3,
          1,
          2,
          5,
          2,
          1,
          3,
          3,
          1,
          2,
          3,
          1,
          2,
          3,
          2,
          1,
          2,
          1,
          3,
          2,
          4,
          3,
          2,
          1,
          1,
          1,
          1,
          5,
          3,
          1,
          3,
          3,
          2,
          1,
          3,
          1,
          2,
          3,
          3,
          3,
          1,
          1,
          3,
          1,
          2,
          1,
          2,
          3,
          2,
          2,
          1,
          1,
          2,
          1,
          2,
          1,
          2,
          1,
          1,
          2
         ],
         "xaxis": "x",
         "yaxis": "y"
        }
       ],
       "layout": {
        "barmode": "relative",
        "legend": {
         "tracegroupgap": 0
        },
        "margin": {
         "t": 60
        },
        "template": {
         "data": {
          "bar": [
           {
            "error_x": {
             "color": "#2a3f5f"
            },
            "error_y": {
             "color": "#2a3f5f"
            },
            "marker": {
             "line": {
              "color": "#E5ECF6",
              "width": 0.5
             },
             "pattern": {
              "fillmode": "overlay",
              "size": 10,
              "solidity": 0.2
             }
            },
            "type": "bar"
           }
          ],
          "barpolar": [
           {
            "marker": {
             "line": {
              "color": "#E5ECF6",
              "width": 0.5
             },
             "pattern": {
              "fillmode": "overlay",
              "size": 10,
              "solidity": 0.2
             }
            },
            "type": "barpolar"
           }
          ],
          "carpet": [
           {
            "aaxis": {
             "endlinecolor": "#2a3f5f",
             "gridcolor": "white",
             "linecolor": "white",
             "minorgridcolor": "white",
             "startlinecolor": "#2a3f5f"
            },
            "baxis": {
             "endlinecolor": "#2a3f5f",
             "gridcolor": "white",
             "linecolor": "white",
             "minorgridcolor": "white",
             "startlinecolor": "#2a3f5f"
            },
            "type": "carpet"
           }
          ],
          "choropleth": [
           {
            "colorbar": {
             "outlinewidth": 0,
             "ticks": ""
            },
            "type": "choropleth"
           }
          ],
          "contour": [
           {
            "colorbar": {
             "outlinewidth": 0,
             "ticks": ""
            },
            "colorscale": [
             [
              0,
              "#0d0887"
             ],
             [
              0.1111111111111111,
              "#46039f"
             ],
             [
              0.2222222222222222,
              "#7201a8"
             ],
             [
              0.3333333333333333,
              "#9c179e"
             ],
             [
              0.4444444444444444,
              "#bd3786"
             ],
             [
              0.5555555555555556,
              "#d8576b"
             ],
             [
              0.6666666666666666,
              "#ed7953"
             ],
             [
              0.7777777777777778,
              "#fb9f3a"
             ],
             [
              0.8888888888888888,
              "#fdca26"
             ],
             [
              1,
              "#f0f921"
             ]
            ],
            "type": "contour"
           }
          ],
          "contourcarpet": [
           {
            "colorbar": {
             "outlinewidth": 0,
             "ticks": ""
            },
            "type": "contourcarpet"
           }
          ],
          "heatmap": [
           {
            "colorbar": {
             "outlinewidth": 0,
             "ticks": ""
            },
            "colorscale": [
             [
              0,
              "#0d0887"
             ],
             [
              0.1111111111111111,
              "#46039f"
             ],
             [
              0.2222222222222222,
              "#7201a8"
             ],
             [
              0.3333333333333333,
              "#9c179e"
             ],
             [
              0.4444444444444444,
              "#bd3786"
             ],
             [
              0.5555555555555556,
              "#d8576b"
             ],
             [
              0.6666666666666666,
              "#ed7953"
             ],
             [
              0.7777777777777778,
              "#fb9f3a"
             ],
             [
              0.8888888888888888,
              "#fdca26"
             ],
             [
              1,
              "#f0f921"
             ]
            ],
            "type": "heatmap"
           }
          ],
          "heatmapgl": [
           {
            "colorbar": {
             "outlinewidth": 0,
             "ticks": ""
            },
            "colorscale": [
             [
              0,
              "#0d0887"
             ],
             [
              0.1111111111111111,
              "#46039f"
             ],
             [
              0.2222222222222222,
              "#7201a8"
             ],
             [
              0.3333333333333333,
              "#9c179e"
             ],
             [
              0.4444444444444444,
              "#bd3786"
             ],
             [
              0.5555555555555556,
              "#d8576b"
             ],
             [
              0.6666666666666666,
              "#ed7953"
             ],
             [
              0.7777777777777778,
              "#fb9f3a"
             ],
             [
              0.8888888888888888,
              "#fdca26"
             ],
             [
              1,
              "#f0f921"
             ]
            ],
            "type": "heatmapgl"
           }
          ],
          "histogram": [
           {
            "marker": {
             "pattern": {
              "fillmode": "overlay",
              "size": 10,
              "solidity": 0.2
             }
            },
            "type": "histogram"
           }
          ],
          "histogram2d": [
           {
            "colorbar": {
             "outlinewidth": 0,
             "ticks": ""
            },
            "colorscale": [
             [
              0,
              "#0d0887"
             ],
             [
              0.1111111111111111,
              "#46039f"
             ],
             [
              0.2222222222222222,
              "#7201a8"
             ],
             [
              0.3333333333333333,
              "#9c179e"
             ],
             [
              0.4444444444444444,
              "#bd3786"
             ],
             [
              0.5555555555555556,
              "#d8576b"
             ],
             [
              0.6666666666666666,
              "#ed7953"
             ],
             [
              0.7777777777777778,
              "#fb9f3a"
             ],
             [
              0.8888888888888888,
              "#fdca26"
             ],
             [
              1,
              "#f0f921"
             ]
            ],
            "type": "histogram2d"
           }
          ],
          "histogram2dcontour": [
           {
            "colorbar": {
             "outlinewidth": 0,
             "ticks": ""
            },
            "colorscale": [
             [
              0,
              "#0d0887"
             ],
             [
              0.1111111111111111,
              "#46039f"
             ],
             [
              0.2222222222222222,
              "#7201a8"
             ],
             [
              0.3333333333333333,
              "#9c179e"
             ],
             [
              0.4444444444444444,
              "#bd3786"
             ],
             [
              0.5555555555555556,
              "#d8576b"
             ],
             [
              0.6666666666666666,
              "#ed7953"
             ],
             [
              0.7777777777777778,
              "#fb9f3a"
             ],
             [
              0.8888888888888888,
              "#fdca26"
             ],
             [
              1,
              "#f0f921"
             ]
            ],
            "type": "histogram2dcontour"
           }
          ],
          "mesh3d": [
           {
            "colorbar": {
             "outlinewidth": 0,
             "ticks": ""
            },
            "type": "mesh3d"
           }
          ],
          "parcoords": [
           {
            "line": {
             "colorbar": {
              "outlinewidth": 0,
              "ticks": ""
             }
            },
            "type": "parcoords"
           }
          ],
          "pie": [
           {
            "automargin": true,
            "type": "pie"
           }
          ],
          "scatter": [
           {
            "fillpattern": {
             "fillmode": "overlay",
             "size": 10,
             "solidity": 0.2
            },
            "type": "scatter"
           }
          ],
          "scatter3d": [
           {
            "line": {
             "colorbar": {
              "outlinewidth": 0,
              "ticks": ""
             }
            },
            "marker": {
             "colorbar": {
              "outlinewidth": 0,
              "ticks": ""
             }
            },
            "type": "scatter3d"
           }
          ],
          "scattercarpet": [
           {
            "marker": {
             "colorbar": {
              "outlinewidth": 0,
              "ticks": ""
             }
            },
            "type": "scattercarpet"
           }
          ],
          "scattergeo": [
           {
            "marker": {
             "colorbar": {
              "outlinewidth": 0,
              "ticks": ""
             }
            },
            "type": "scattergeo"
           }
          ],
          "scattergl": [
           {
            "marker": {
             "colorbar": {
              "outlinewidth": 0,
              "ticks": ""
             }
            },
            "type": "scattergl"
           }
          ],
          "scattermapbox": [
           {
            "marker": {
             "colorbar": {
              "outlinewidth": 0,
              "ticks": ""
             }
            },
            "type": "scattermapbox"
           }
          ],
          "scatterpolar": [
           {
            "marker": {
             "colorbar": {
              "outlinewidth": 0,
              "ticks": ""
             }
            },
            "type": "scatterpolar"
           }
          ],
          "scatterpolargl": [
           {
            "marker": {
             "colorbar": {
              "outlinewidth": 0,
              "ticks": ""
             }
            },
            "type": "scatterpolargl"
           }
          ],
          "scatterternary": [
           {
            "marker": {
             "colorbar": {
              "outlinewidth": 0,
              "ticks": ""
             }
            },
            "type": "scatterternary"
           }
          ],
          "surface": [
           {
            "colorbar": {
             "outlinewidth": 0,
             "ticks": ""
            },
            "colorscale": [
             [
              0,
              "#0d0887"
             ],
             [
              0.1111111111111111,
              "#46039f"
             ],
             [
              0.2222222222222222,
              "#7201a8"
             ],
             [
              0.3333333333333333,
              "#9c179e"
             ],
             [
              0.4444444444444444,
              "#bd3786"
             ],
             [
              0.5555555555555556,
              "#d8576b"
             ],
             [
              0.6666666666666666,
              "#ed7953"
             ],
             [
              0.7777777777777778,
              "#fb9f3a"
             ],
             [
              0.8888888888888888,
              "#fdca26"
             ],
             [
              1,
              "#f0f921"
             ]
            ],
            "type": "surface"
           }
          ],
          "table": [
           {
            "cells": {
             "fill": {
              "color": "#EBF0F8"
             },
             "line": {
              "color": "white"
             }
            },
            "header": {
             "fill": {
              "color": "#C8D4E3"
             },
             "line": {
              "color": "white"
             }
            },
            "type": "table"
           }
          ]
         },
         "layout": {
          "annotationdefaults": {
           "arrowcolor": "#2a3f5f",
           "arrowhead": 0,
           "arrowwidth": 1
          },
          "autotypenumbers": "strict",
          "coloraxis": {
           "colorbar": {
            "outlinewidth": 0,
            "ticks": ""
           }
          },
          "colorscale": {
           "diverging": [
            [
             0,
             "#8e0152"
            ],
            [
             0.1,
             "#c51b7d"
            ],
            [
             0.2,
             "#de77ae"
            ],
            [
             0.3,
             "#f1b6da"
            ],
            [
             0.4,
             "#fde0ef"
            ],
            [
             0.5,
             "#f7f7f7"
            ],
            [
             0.6,
             "#e6f5d0"
            ],
            [
             0.7,
             "#b8e186"
            ],
            [
             0.8,
             "#7fbc41"
            ],
            [
             0.9,
             "#4d9221"
            ],
            [
             1,
             "#276419"
            ]
           ],
           "sequential": [
            [
             0,
             "#0d0887"
            ],
            [
             0.1111111111111111,
             "#46039f"
            ],
            [
             0.2222222222222222,
             "#7201a8"
            ],
            [
             0.3333333333333333,
             "#9c179e"
            ],
            [
             0.4444444444444444,
             "#bd3786"
            ],
            [
             0.5555555555555556,
             "#d8576b"
            ],
            [
             0.6666666666666666,
             "#ed7953"
            ],
            [
             0.7777777777777778,
             "#fb9f3a"
            ],
            [
             0.8888888888888888,
             "#fdca26"
            ],
            [
             1,
             "#f0f921"
            ]
           ],
           "sequentialminus": [
            [
             0,
             "#0d0887"
            ],
            [
             0.1111111111111111,
             "#46039f"
            ],
            [
             0.2222222222222222,
             "#7201a8"
            ],
            [
             0.3333333333333333,
             "#9c179e"
            ],
            [
             0.4444444444444444,
             "#bd3786"
            ],
            [
             0.5555555555555556,
             "#d8576b"
            ],
            [
             0.6666666666666666,
             "#ed7953"
            ],
            [
             0.7777777777777778,
             "#fb9f3a"
            ],
            [
             0.8888888888888888,
             "#fdca26"
            ],
            [
             1,
             "#f0f921"
            ]
           ]
          },
          "colorway": [
           "#636efa",
           "#EF553B",
           "#00cc96",
           "#ab63fa",
           "#FFA15A",
           "#19d3f3",
           "#FF6692",
           "#B6E880",
           "#FF97FF",
           "#FECB52"
          ],
          "font": {
           "color": "#2a3f5f"
          },
          "geo": {
           "bgcolor": "white",
           "lakecolor": "white",
           "landcolor": "#E5ECF6",
           "showlakes": true,
           "showland": true,
           "subunitcolor": "white"
          },
          "hoverlabel": {
           "align": "left"
          },
          "hovermode": "closest",
          "mapbox": {
           "style": "light"
          },
          "paper_bgcolor": "white",
          "plot_bgcolor": "#E5ECF6",
          "polar": {
           "angularaxis": {
            "gridcolor": "white",
            "linecolor": "white",
            "ticks": ""
           },
           "bgcolor": "#E5ECF6",
           "radialaxis": {
            "gridcolor": "white",
            "linecolor": "white",
            "ticks": ""
           }
          },
          "scene": {
           "xaxis": {
            "backgroundcolor": "#E5ECF6",
            "gridcolor": "white",
            "gridwidth": 2,
            "linecolor": "white",
            "showbackground": true,
            "ticks": "",
            "zerolinecolor": "white"
           },
           "yaxis": {
            "backgroundcolor": "#E5ECF6",
            "gridcolor": "white",
            "gridwidth": 2,
            "linecolor": "white",
            "showbackground": true,
            "ticks": "",
            "zerolinecolor": "white"
           },
           "zaxis": {
            "backgroundcolor": "#E5ECF6",
            "gridcolor": "white",
            "gridwidth": 2,
            "linecolor": "white",
            "showbackground": true,
            "ticks": "",
            "zerolinecolor": "white"
           }
          },
          "shapedefaults": {
           "line": {
            "color": "#2a3f5f"
           }
          },
          "ternary": {
           "aaxis": {
            "gridcolor": "white",
            "linecolor": "white",
            "ticks": ""
           },
           "baxis": {
            "gridcolor": "white",
            "linecolor": "white",
            "ticks": ""
           },
           "bgcolor": "#E5ECF6",
           "caxis": {
            "gridcolor": "white",
            "linecolor": "white",
            "ticks": ""
           }
          },
          "title": {
           "x": 0.05
          },
          "xaxis": {
           "automargin": true,
           "gridcolor": "white",
           "linecolor": "white",
           "ticks": "",
           "title": {
            "standoff": 15
           },
           "zerolinecolor": "white",
           "zerolinewidth": 2
          },
          "yaxis": {
           "automargin": true,
           "gridcolor": "white",
           "linecolor": "white",
           "ticks": "",
           "title": {
            "standoff": 15
           },
           "zerolinecolor": "white",
           "zerolinewidth": 2
          }
         }
        },
        "xaxis": {
         "anchor": "y",
         "domain": [
          0,
          1
         ],
         "title": {
          "text": "seniority"
         }
        },
        "yaxis": {
         "anchor": "x",
         "domain": [
          0,
          1
         ],
         "title": {
          "text": "count"
         }
        }
       }
      }
     },
     "metadata": {},
     "output_type": "display_data"
    },
    {
     "data": {
      "application/vnd.plotly.v1+json": {
       "config": {
        "plotlyServerURL": "https://plot.ly"
       },
       "data": [
        {
         "alignmentgroup": "True",
         "bingroup": "x",
         "hovertemplate": "income=%{x}<br>count=%{y}<extra></extra>",
         "legendgroup": "",
         "marker": {
          "color": "#636efa",
          "pattern": {
           "shape": ""
          }
         },
         "name": "",
         "offsetgroup": "",
         "orientation": "v",
         "showlegend": false,
         "type": "histogram",
         "x": [
          42363,
          108476,
          90208,
          108080,
          99464,
          70890,
          67585,
          97523,
          112976,
          106524,
          102261,
          62759,
          84007,
          86220,
          95584,
          73357,
          88422,
          99545,
          90386,
          92067,
          108446,
          83323,
          85205,
          72038,
          132823,
          71182,
          100305,
          88566,
          104271,
          112392,
          66359,
          103007,
          80306,
          74523,
          113252,
          96040,
          91674,
          92928,
          84638,
          78986,
          96355,
          87121,
          88724,
          58219,
          119024,
          81503,
          70643,
          74167,
          86886,
          102120,
          90780,
          89474,
          97376,
          89415,
          88037,
          71105,
          62692,
          112466,
          71193,
          76286,
          97328,
          86766,
          82453,
          88814,
          82832,
          83034,
          127085,
          66168,
          59212,
          55189,
          131311,
          52633,
          101154,
          113640,
          50401,
          46263,
          74938,
          103384,
          77584,
          83031,
          111019,
          80192,
          48755,
          59044,
          146615,
          46693,
          88152,
          127156,
          69462,
          119162,
          68466,
          92622,
          51331,
          109419,
          80355,
          77032,
          146190,
          96045,
          82534,
          127769,
          96061,
          111342,
          117554,
          109369,
          92358,
          91978,
          52290,
          47036,
          76517,
          89822,
          90368,
          106194,
          87684,
          62040,
          84132,
          88047,
          65012,
          59251,
          78462,
          97414,
          42722,
          63695,
          110731,
          125572,
          72754,
          53956,
          135013,
          108495,
          87608,
          101173,
          126828,
          102716,
          77793,
          57469,
          83758,
          40187,
          98531,
          104435,
          67617,
          91049,
          98519,
          91713,
          88994,
          119381,
          113180,
          68639,
          103763,
          68295,
          103107,
          64844,
          129132,
          93470,
          97625,
          66529,
          100115,
          86423,
          115165,
          133495,
          86516,
          69855,
          84844,
          108241,
          106478,
          114421,
          79208,
          142105,
          57783,
          46903,
          71858,
          44325,
          100183,
          61000,
          109623,
          60070,
          72542,
          110049,
          80981,
          83499,
          106788,
          108922,
          127062,
          120593,
          90685,
          49830,
          106896,
          129425,
          82338,
          86036,
          93073,
          87352,
          139760,
          100070,
          102815,
          101262,
          58054,
          129609,
          100091,
          103479,
          72827,
          74073,
          64852,
          106887,
          77309,
          100416,
          88482,
          78623,
          80135,
          106158,
          89411,
          57398,
          95687,
          120294,
          107140,
          76773,
          98010,
          91099,
          89559,
          120156,
          102966,
          128970,
          121376,
          112941,
          102736,
          64008,
          90024,
          129406,
          54245,
          67530,
          75506,
          81826,
          65711,
          61164,
          73801,
          157410,
          50601,
          65907,
          80937,
          90330,
          93268,
          109345,
          66084,
          98900,
          78113,
          130826,
          85928,
          98515,
          103133,
          69254,
          114680,
          92687,
          72301,
          67749,
          97000,
          104526,
          80494,
          40341,
          74316,
          102247,
          104657,
          92722,
          72120,
          62260,
          123422,
          62097,
          102910,
          84021,
          37026,
          56318,
          64958,
          55954,
          108820,
          100014,
          88213,
          108288,
          100859,
          114007,
          83025,
          95964,
          94973,
          102108,
          60736,
          82126,
          69878,
          37780,
          132873,
          65164,
          121210,
          95169,
          94492,
          75901,
          100463,
          92276,
          92458,
          88571,
          87409,
          133927,
          90482,
          87435,
          130251,
          106560,
          107366,
          56172,
          58807,
          126626,
          104202,
          77793,
          84930,
          69367,
          116751,
          139841,
          78750,
          93306,
          60892,
          99543,
          56745,
          59458,
          71824,
          111903,
          104361,
          91568,
          155834,
          83620,
          81995,
          66125,
          89678,
          98321,
          109346,
          155203,
          98100,
          73306,
          68797,
          120154,
          76865,
          125770,
          119931,
          71794,
          87998,
          140445,
          85306,
          77275,
          143887,
          130720,
          86675,
          56954,
          133472,
          62753,
          128173,
          112491,
          36548,
          88781,
          157852,
          113730,
          68403,
          176789,
          129226,
          59399,
          102473,
          160614,
          89570,
          73989,
          67762,
          90307,
          77751,
          87150,
          79291,
          79144,
          150467,
          57070,
          102201,
          70088,
          57782,
          117629,
          118653,
          71772,
          134758,
          66438,
          87134,
          79674,
          85161,
          114479,
          65547,
          71946,
          96777,
          62054,
          61527,
          64624,
          118629,
          80171,
          105410,
          112134,
          90005,
          70374,
          121682,
          104355,
          75811,
          113544,
          107025,
          78564,
          91905,
          121728,
          54817,
          37898,
          79544,
          40056,
          70846,
          79707,
          124817,
          123114,
          62377,
          82850,
          75932,
          121949,
          82755,
          122037,
          78021,
          56309,
          90002,
          91066,
          118088,
          92099,
          116758,
          96500,
          138851,
          49632,
          76700,
          131275,
          89648,
          100516,
          112854,
          155676,
          135781,
          84935,
          66407,
          101249,
          143189,
          105800,
          124871,
          83894,
          144146,
          69268,
          85948,
          92289,
          75397,
          102597,
          127561,
          72945,
          145632,
          77223,
          130093,
          53220,
          92080,
          118762,
          85398,
          75227,
          104314,
          83262,
          123172,
          67040,
          77655,
          107476,
          89811,
          106893,
          154039,
          116774,
          98281,
          34208,
          121821,
          113122,
          92154,
          110643,
          82345,
          103908,
          49303,
          98456,
          94927,
          76654,
          107859,
          129885,
          85702,
          97797,
          115567,
          91566,
          131608,
          118888,
          75833,
          65750,
          123371,
          76806,
          83774,
          114733,
          69320,
          110746,
          105632,
          117648,
          89170,
          85986,
          78132,
          135073,
          78751,
          118231,
          86651,
          75518,
          114693,
          116875,
          64468,
          116834,
          75294,
          127608,
          116069,
          86122,
          81988,
          68300,
          148178,
          94590,
          87418,
          68384,
          106056,
          110886,
          104082,
          94354,
          128669,
          88725,
          149771,
          98535,
          90713,
          88749,
          126100,
          110594,
          157644,
          113009,
          105601,
          100769,
          82244,
          72030,
          66203,
          67210,
          115383,
          120697,
          70311,
          125770,
          100465,
          83264,
          126375,
          43076,
          97846,
          76522,
          111726,
          112188,
          98959,
          87131,
          77881,
          65225,
          78472,
          126269,
          106233,
          56656,
          70157,
          98366,
          127013,
          106146,
          90736,
          66611,
          150914,
          70559,
          73798,
          69734,
          94763,
          101534,
          91504,
          90426,
          100183,
          99369,
          55845,
          48570,
          98165,
          113274,
          95754,
          57915,
          121506,
          121151,
          86241,
          87682,
          114029,
          67323,
          68049,
          93335,
          100433,
          123242,
          87585,
          45747,
          36972,
          64754,
          132267,
          111043,
          58130,
          90542,
          124891,
          112507,
          100316,
          134757,
          125339,
          111120,
          76523,
          91160,
          105795,
          66935,
          75238,
          138365,
          103978,
          165229,
          118322,
          106883,
          59006,
          125164,
          89225,
          101716,
          74305,
          38451,
          113465,
          66377,
          79142,
          55569,
          97240,
          119033,
          106315,
          81301,
          79462,
          105598,
          72497,
          78084,
          84803,
          41603,
          78002,
          79274,
          49622,
          129620,
          87848,
          51906,
          81866,
          71590,
          63928,
          83333,
          92797,
          93067,
          72422,
          120159,
          91711,
          93805,
          109931,
          88365,
          104744,
          79334,
          95795,
          98512,
          78910,
          103156,
          92760,
          125574,
          93742,
          124470,
          132323,
          70595,
          71278,
          53855,
          98423,
          126239,
          101133,
          92516,
          93320,
          106963,
          111770,
          106584,
          57672,
          90612,
          97768,
          82790,
          76103,
          84628,
          93441,
          110636,
          108366,
          135106,
          85453,
          100160,
          79765,
          157169,
          129683,
          76908,
          93696,
          88230,
          83095,
          81325,
          102106,
          80635,
          73404,
          83674,
          118314,
          133741,
          119522,
          84592,
          121589,
          104329,
          71371,
          96582,
          108778,
          128520,
          102745,
          146008,
          68364,
          62753,
          96584,
          128680,
          152710,
          109136,
          102265,
          81249,
          101791,
          77584,
          88175,
          65816,
          84878,
          73685,
          55560,
          94745,
          106452,
          95505,
          103181,
          120096,
          87575,
          98499,
          113140,
          152081,
          100505,
          104589,
          134450,
          61081,
          100819,
          157277,
          79237,
          68175,
          108475,
          122624,
          99942,
          108296,
          101273,
          59334,
          152625,
          126370,
          122142,
          75919,
          90526,
          103416,
          133910,
          104468,
          117202,
          139141,
          134109,
          66887,
          77839,
          61018,
          124847,
          50758,
          75316,
          118093,
          106503,
          111502,
          116642,
          84683,
          113283,
          86538,
          77742,
          67913,
          114171,
          155826,
          106204,
          111041,
          138184,
          95795,
          106798,
          98575,
          82343,
          117131,
          78625,
          99134,
          38613,
          62866,
          107818,
          108731,
          114621,
          47739,
          104290,
          111403,
          93802,
          138163,
          115613,
          64920,
          79177,
          64994,
          100941,
          163208,
          51837,
          114048,
          136215,
          63327,
          139068,
          136209,
          121910,
          82057,
          96023,
          52578,
          114436,
          99543,
          60983,
          82277,
          55885,
          73142,
          107065,
          107064,
          107370,
          39741,
          120579,
          103242,
          120112,
          83308,
          36585,
          115344,
          49553,
          96982,
          80030,
          110157,
          84047,
          93054,
          84764,
          120277,
          81661,
          149893,
          81515,
          95898,
          90000,
          111896,
          130082,
          130417,
          38855,
          81057,
          117215,
          96232,
          141186,
          114943,
          107640,
          80259,
          86563,
          61589,
          74829,
          72248,
          91342,
          101140,
          62600,
          65313,
          123153,
          57500,
          115604,
          55555,
          124166,
          101050,
          125828,
          75017,
          100415,
          145095,
          115641,
          160460,
          85947,
          119058,
          106722,
          91129,
          135512,
          92891,
          124151,
          141005,
          115742,
          93358,
          131411,
          96900,
          98995,
          109645,
          61609,
          88820,
          122352,
          112489,
          86650,
          101284,
          119794,
          96609,
          53839,
          84725,
          64807,
          41151,
          114031,
          59493,
          119893,
          131980,
          94154,
          114906,
          115981,
          78836,
          112719,
          93018,
          69928,
          104623,
          103328,
          68643,
          63914,
          67296,
          90474,
          60026,
          108587,
          139042,
          116803,
          101423,
          86375,
          49449,
          95995,
          118282,
          99472,
          135638,
          85648,
          121457,
          114141,
          179726,
          107572,
          142505,
          108719,
          109832,
          127250,
          106279,
          81547,
          95798,
          106916,
          124782,
          126256,
          92257,
          124660,
          59377,
          76726,
          112502,
          128730,
          136836,
          89272,
          101515,
          93855,
          36642,
          112604,
          67089,
          97789,
          123333,
          105771,
          54945,
          121239,
          87314,
          124530,
          67150,
          99643,
          92468,
          63300,
          91447,
          60271,
          45915,
          66028,
          113031,
          132815,
          110078,
          106918,
          106045,
          107479,
          109606,
          91300,
          88195,
          90999,
          86795,
          110627,
          97696,
          92950,
          82164,
          119069,
          62738,
          112169,
          120574,
          97311,
          98796,
          102593,
          96665,
          91030,
          106945,
          81545,
          80789,
          85253,
          62644,
          108977,
          92347,
          97376,
          123108
         ],
         "xaxis": "x",
         "yaxis": "y"
        }
       ],
       "layout": {
        "barmode": "relative",
        "legend": {
         "tracegroupgap": 0
        },
        "margin": {
         "t": 60
        },
        "template": {
         "data": {
          "bar": [
           {
            "error_x": {
             "color": "#2a3f5f"
            },
            "error_y": {
             "color": "#2a3f5f"
            },
            "marker": {
             "line": {
              "color": "#E5ECF6",
              "width": 0.5
             },
             "pattern": {
              "fillmode": "overlay",
              "size": 10,
              "solidity": 0.2
             }
            },
            "type": "bar"
           }
          ],
          "barpolar": [
           {
            "marker": {
             "line": {
              "color": "#E5ECF6",
              "width": 0.5
             },
             "pattern": {
              "fillmode": "overlay",
              "size": 10,
              "solidity": 0.2
             }
            },
            "type": "barpolar"
           }
          ],
          "carpet": [
           {
            "aaxis": {
             "endlinecolor": "#2a3f5f",
             "gridcolor": "white",
             "linecolor": "white",
             "minorgridcolor": "white",
             "startlinecolor": "#2a3f5f"
            },
            "baxis": {
             "endlinecolor": "#2a3f5f",
             "gridcolor": "white",
             "linecolor": "white",
             "minorgridcolor": "white",
             "startlinecolor": "#2a3f5f"
            },
            "type": "carpet"
           }
          ],
          "choropleth": [
           {
            "colorbar": {
             "outlinewidth": 0,
             "ticks": ""
            },
            "type": "choropleth"
           }
          ],
          "contour": [
           {
            "colorbar": {
             "outlinewidth": 0,
             "ticks": ""
            },
            "colorscale": [
             [
              0,
              "#0d0887"
             ],
             [
              0.1111111111111111,
              "#46039f"
             ],
             [
              0.2222222222222222,
              "#7201a8"
             ],
             [
              0.3333333333333333,
              "#9c179e"
             ],
             [
              0.4444444444444444,
              "#bd3786"
             ],
             [
              0.5555555555555556,
              "#d8576b"
             ],
             [
              0.6666666666666666,
              "#ed7953"
             ],
             [
              0.7777777777777778,
              "#fb9f3a"
             ],
             [
              0.8888888888888888,
              "#fdca26"
             ],
             [
              1,
              "#f0f921"
             ]
            ],
            "type": "contour"
           }
          ],
          "contourcarpet": [
           {
            "colorbar": {
             "outlinewidth": 0,
             "ticks": ""
            },
            "type": "contourcarpet"
           }
          ],
          "heatmap": [
           {
            "colorbar": {
             "outlinewidth": 0,
             "ticks": ""
            },
            "colorscale": [
             [
              0,
              "#0d0887"
             ],
             [
              0.1111111111111111,
              "#46039f"
             ],
             [
              0.2222222222222222,
              "#7201a8"
             ],
             [
              0.3333333333333333,
              "#9c179e"
             ],
             [
              0.4444444444444444,
              "#bd3786"
             ],
             [
              0.5555555555555556,
              "#d8576b"
             ],
             [
              0.6666666666666666,
              "#ed7953"
             ],
             [
              0.7777777777777778,
              "#fb9f3a"
             ],
             [
              0.8888888888888888,
              "#fdca26"
             ],
             [
              1,
              "#f0f921"
             ]
            ],
            "type": "heatmap"
           }
          ],
          "heatmapgl": [
           {
            "colorbar": {
             "outlinewidth": 0,
             "ticks": ""
            },
            "colorscale": [
             [
              0,
              "#0d0887"
             ],
             [
              0.1111111111111111,
              "#46039f"
             ],
             [
              0.2222222222222222,
              "#7201a8"
             ],
             [
              0.3333333333333333,
              "#9c179e"
             ],
             [
              0.4444444444444444,
              "#bd3786"
             ],
             [
              0.5555555555555556,
              "#d8576b"
             ],
             [
              0.6666666666666666,
              "#ed7953"
             ],
             [
              0.7777777777777778,
              "#fb9f3a"
             ],
             [
              0.8888888888888888,
              "#fdca26"
             ],
             [
              1,
              "#f0f921"
             ]
            ],
            "type": "heatmapgl"
           }
          ],
          "histogram": [
           {
            "marker": {
             "pattern": {
              "fillmode": "overlay",
              "size": 10,
              "solidity": 0.2
             }
            },
            "type": "histogram"
           }
          ],
          "histogram2d": [
           {
            "colorbar": {
             "outlinewidth": 0,
             "ticks": ""
            },
            "colorscale": [
             [
              0,
              "#0d0887"
             ],
             [
              0.1111111111111111,
              "#46039f"
             ],
             [
              0.2222222222222222,
              "#7201a8"
             ],
             [
              0.3333333333333333,
              "#9c179e"
             ],
             [
              0.4444444444444444,
              "#bd3786"
             ],
             [
              0.5555555555555556,
              "#d8576b"
             ],
             [
              0.6666666666666666,
              "#ed7953"
             ],
             [
              0.7777777777777778,
              "#fb9f3a"
             ],
             [
              0.8888888888888888,
              "#fdca26"
             ],
             [
              1,
              "#f0f921"
             ]
            ],
            "type": "histogram2d"
           }
          ],
          "histogram2dcontour": [
           {
            "colorbar": {
             "outlinewidth": 0,
             "ticks": ""
            },
            "colorscale": [
             [
              0,
              "#0d0887"
             ],
             [
              0.1111111111111111,
              "#46039f"
             ],
             [
              0.2222222222222222,
              "#7201a8"
             ],
             [
              0.3333333333333333,
              "#9c179e"
             ],
             [
              0.4444444444444444,
              "#bd3786"
             ],
             [
              0.5555555555555556,
              "#d8576b"
             ],
             [
              0.6666666666666666,
              "#ed7953"
             ],
             [
              0.7777777777777778,
              "#fb9f3a"
             ],
             [
              0.8888888888888888,
              "#fdca26"
             ],
             [
              1,
              "#f0f921"
             ]
            ],
            "type": "histogram2dcontour"
           }
          ],
          "mesh3d": [
           {
            "colorbar": {
             "outlinewidth": 0,
             "ticks": ""
            },
            "type": "mesh3d"
           }
          ],
          "parcoords": [
           {
            "line": {
             "colorbar": {
              "outlinewidth": 0,
              "ticks": ""
             }
            },
            "type": "parcoords"
           }
          ],
          "pie": [
           {
            "automargin": true,
            "type": "pie"
           }
          ],
          "scatter": [
           {
            "fillpattern": {
             "fillmode": "overlay",
             "size": 10,
             "solidity": 0.2
            },
            "type": "scatter"
           }
          ],
          "scatter3d": [
           {
            "line": {
             "colorbar": {
              "outlinewidth": 0,
              "ticks": ""
             }
            },
            "marker": {
             "colorbar": {
              "outlinewidth": 0,
              "ticks": ""
             }
            },
            "type": "scatter3d"
           }
          ],
          "scattercarpet": [
           {
            "marker": {
             "colorbar": {
              "outlinewidth": 0,
              "ticks": ""
             }
            },
            "type": "scattercarpet"
           }
          ],
          "scattergeo": [
           {
            "marker": {
             "colorbar": {
              "outlinewidth": 0,
              "ticks": ""
             }
            },
            "type": "scattergeo"
           }
          ],
          "scattergl": [
           {
            "marker": {
             "colorbar": {
              "outlinewidth": 0,
              "ticks": ""
             }
            },
            "type": "scattergl"
           }
          ],
          "scattermapbox": [
           {
            "marker": {
             "colorbar": {
              "outlinewidth": 0,
              "ticks": ""
             }
            },
            "type": "scattermapbox"
           }
          ],
          "scatterpolar": [
           {
            "marker": {
             "colorbar": {
              "outlinewidth": 0,
              "ticks": ""
             }
            },
            "type": "scatterpolar"
           }
          ],
          "scatterpolargl": [
           {
            "marker": {
             "colorbar": {
              "outlinewidth": 0,
              "ticks": ""
             }
            },
            "type": "scatterpolargl"
           }
          ],
          "scatterternary": [
           {
            "marker": {
             "colorbar": {
              "outlinewidth": 0,
              "ticks": ""
             }
            },
            "type": "scatterternary"
           }
          ],
          "surface": [
           {
            "colorbar": {
             "outlinewidth": 0,
             "ticks": ""
            },
            "colorscale": [
             [
              0,
              "#0d0887"
             ],
             [
              0.1111111111111111,
              "#46039f"
             ],
             [
              0.2222222222222222,
              "#7201a8"
             ],
             [
              0.3333333333333333,
              "#9c179e"
             ],
             [
              0.4444444444444444,
              "#bd3786"
             ],
             [
              0.5555555555555556,
              "#d8576b"
             ],
             [
              0.6666666666666666,
              "#ed7953"
             ],
             [
              0.7777777777777778,
              "#fb9f3a"
             ],
             [
              0.8888888888888888,
              "#fdca26"
             ],
             [
              1,
              "#f0f921"
             ]
            ],
            "type": "surface"
           }
          ],
          "table": [
           {
            "cells": {
             "fill": {
              "color": "#EBF0F8"
             },
             "line": {
              "color": "white"
             }
            },
            "header": {
             "fill": {
              "color": "#C8D4E3"
             },
             "line": {
              "color": "white"
             }
            },
            "type": "table"
           }
          ]
         },
         "layout": {
          "annotationdefaults": {
           "arrowcolor": "#2a3f5f",
           "arrowhead": 0,
           "arrowwidth": 1
          },
          "autotypenumbers": "strict",
          "coloraxis": {
           "colorbar": {
            "outlinewidth": 0,
            "ticks": ""
           }
          },
          "colorscale": {
           "diverging": [
            [
             0,
             "#8e0152"
            ],
            [
             0.1,
             "#c51b7d"
            ],
            [
             0.2,
             "#de77ae"
            ],
            [
             0.3,
             "#f1b6da"
            ],
            [
             0.4,
             "#fde0ef"
            ],
            [
             0.5,
             "#f7f7f7"
            ],
            [
             0.6,
             "#e6f5d0"
            ],
            [
             0.7,
             "#b8e186"
            ],
            [
             0.8,
             "#7fbc41"
            ],
            [
             0.9,
             "#4d9221"
            ],
            [
             1,
             "#276419"
            ]
           ],
           "sequential": [
            [
             0,
             "#0d0887"
            ],
            [
             0.1111111111111111,
             "#46039f"
            ],
            [
             0.2222222222222222,
             "#7201a8"
            ],
            [
             0.3333333333333333,
             "#9c179e"
            ],
            [
             0.4444444444444444,
             "#bd3786"
            ],
            [
             0.5555555555555556,
             "#d8576b"
            ],
            [
             0.6666666666666666,
             "#ed7953"
            ],
            [
             0.7777777777777778,
             "#fb9f3a"
            ],
            [
             0.8888888888888888,
             "#fdca26"
            ],
            [
             1,
             "#f0f921"
            ]
           ],
           "sequentialminus": [
            [
             0,
             "#0d0887"
            ],
            [
             0.1111111111111111,
             "#46039f"
            ],
            [
             0.2222222222222222,
             "#7201a8"
            ],
            [
             0.3333333333333333,
             "#9c179e"
            ],
            [
             0.4444444444444444,
             "#bd3786"
            ],
            [
             0.5555555555555556,
             "#d8576b"
            ],
            [
             0.6666666666666666,
             "#ed7953"
            ],
            [
             0.7777777777777778,
             "#fb9f3a"
            ],
            [
             0.8888888888888888,
             "#fdca26"
            ],
            [
             1,
             "#f0f921"
            ]
           ]
          },
          "colorway": [
           "#636efa",
           "#EF553B",
           "#00cc96",
           "#ab63fa",
           "#FFA15A",
           "#19d3f3",
           "#FF6692",
           "#B6E880",
           "#FF97FF",
           "#FECB52"
          ],
          "font": {
           "color": "#2a3f5f"
          },
          "geo": {
           "bgcolor": "white",
           "lakecolor": "white",
           "landcolor": "#E5ECF6",
           "showlakes": true,
           "showland": true,
           "subunitcolor": "white"
          },
          "hoverlabel": {
           "align": "left"
          },
          "hovermode": "closest",
          "mapbox": {
           "style": "light"
          },
          "paper_bgcolor": "white",
          "plot_bgcolor": "#E5ECF6",
          "polar": {
           "angularaxis": {
            "gridcolor": "white",
            "linecolor": "white",
            "ticks": ""
           },
           "bgcolor": "#E5ECF6",
           "radialaxis": {
            "gridcolor": "white",
            "linecolor": "white",
            "ticks": ""
           }
          },
          "scene": {
           "xaxis": {
            "backgroundcolor": "#E5ECF6",
            "gridcolor": "white",
            "gridwidth": 2,
            "linecolor": "white",
            "showbackground": true,
            "ticks": "",
            "zerolinecolor": "white"
           },
           "yaxis": {
            "backgroundcolor": "#E5ECF6",
            "gridcolor": "white",
            "gridwidth": 2,
            "linecolor": "white",
            "showbackground": true,
            "ticks": "",
            "zerolinecolor": "white"
           },
           "zaxis": {
            "backgroundcolor": "#E5ECF6",
            "gridcolor": "white",
            "gridwidth": 2,
            "linecolor": "white",
            "showbackground": true,
            "ticks": "",
            "zerolinecolor": "white"
           }
          },
          "shapedefaults": {
           "line": {
            "color": "#2a3f5f"
           }
          },
          "ternary": {
           "aaxis": {
            "gridcolor": "white",
            "linecolor": "white",
            "ticks": ""
           },
           "baxis": {
            "gridcolor": "white",
            "linecolor": "white",
            "ticks": ""
           },
           "bgcolor": "#E5ECF6",
           "caxis": {
            "gridcolor": "white",
            "linecolor": "white",
            "ticks": ""
           }
          },
          "title": {
           "x": 0.05
          },
          "xaxis": {
           "automargin": true,
           "gridcolor": "white",
           "linecolor": "white",
           "ticks": "",
           "title": {
            "standoff": 15
           },
           "zerolinecolor": "white",
           "zerolinewidth": 2
          },
          "yaxis": {
           "automargin": true,
           "gridcolor": "white",
           "linecolor": "white",
           "ticks": "",
           "title": {
            "standoff": 15
           },
           "zerolinecolor": "white",
           "zerolinewidth": 2
          }
         }
        },
        "xaxis": {
         "anchor": "y",
         "domain": [
          0,
          1
         ],
         "title": {
          "text": "income"
         }
        },
        "yaxis": {
         "anchor": "x",
         "domain": [
          0,
          1
         ],
         "title": {
          "text": "count"
         }
        }
       }
      }
     },
     "metadata": {},
     "output_type": "display_data"
    },
    {
     "data": {
      "application/vnd.plotly.v1+json": {
       "config": {
        "plotlyServerURL": "https://plot.ly"
       },
       "data": [
        {
         "alignmentgroup": "True",
         "bingroup": "x",
         "hovertemplate": "bonus=%{x}<br>count=%{y}<extra></extra>",
         "legendgroup": "",
         "marker": {
          "color": "#636efa",
          "pattern": {
           "shape": ""
          }
         },
         "name": "",
         "offsetgroup": "",
         "orientation": "v",
         "showlegend": false,
         "type": "histogram",
         "x": [
          9938,
          11128,
          9268,
          10154,
          9319,
          10126,
          10541,
          10240,
          9836,
          9941,
          10212,
          10124,
          8990,
          9583,
          9745,
          10334,
          10768,
          9949,
          9461,
          9838,
          9210,
          9329,
          9792,
          9031,
          9625,
          10015,
          9618,
          9469,
          10177,
          10504,
          10137,
          10512,
          9233,
          9972,
          10139,
          10050,
          9780,
          9094,
          9409,
          9023,
          9784,
          8703,
          8949,
          9868,
          11293,
          9729,
          10033,
          10346,
          9424,
          10215,
          9353,
          9104,
          9564,
          9654,
          8949,
          8623,
          8886,
          9493,
          8331,
          9479,
          9874,
          9841,
          9564,
          10153,
          9958,
          8841,
          9687,
          9242,
          10209,
          9405,
          11067,
          9516,
          10324,
          8762,
          8590,
          9432,
          8234,
          9168,
          9798,
          10240,
          10042,
          8747,
          9931,
          9368,
          10173,
          8457,
          8857,
          9979,
          8872,
          9395,
          8384,
          8509,
          9130,
          8375,
          9945,
          8725,
          8961,
          9129,
          8914,
          8802,
          9093,
          10122,
          8369,
          10052,
          9611,
          8647,
          9330,
          9130,
          8502,
          8818,
          8215,
          9421,
          8645,
          8056,
          7204,
          8459,
          8357,
          8596,
          8743,
          8833,
          8515,
          8897,
          8643,
          8245,
          8014,
          9454,
          8972,
          8668,
          7511,
          9255,
          9310,
          8290,
          8700,
          7539,
          8498,
          8549,
          6855,
          7802,
          9075,
          10375,
          8943,
          7627,
          8873,
          9345,
          9089,
          9553,
          8383,
          7902,
          9036,
          9042,
          8472,
          8578,
          7985,
          7067,
          7679,
          8058,
          8841,
          8552,
          8049,
          8347,
          7205,
          8602,
          8744,
          7444,
          8602,
          9653,
          9306,
          8130,
          7475,
          8867,
          8832,
          8872,
          6897,
          8273,
          8109,
          8928,
          8201,
          8950,
          8974,
          8477,
          9619,
          7573,
          8816,
          8543,
          7918,
          7524,
          7414,
          7567,
          8188,
          8435,
          9229,
          7169,
          9090,
          7794,
          9585,
          7392,
          9185,
          7850,
          7285,
          8509,
          8023,
          8347,
          7957,
          7513,
          7385,
          9012,
          9007,
          7654,
          9522,
          7827,
          7279,
          8090,
          8199,
          7278,
          8210,
          8306,
          8338,
          7200,
          8978,
          7346,
          7832,
          7404,
          9736,
          7185,
          7350,
          7280,
          8245,
          9311,
          9289,
          8375,
          7789,
          6346,
          8317,
          7840,
          7351,
          7668,
          8335,
          7022,
          7657,
          7791,
          7769,
          7960,
          9335,
          9694,
          7229,
          9090,
          7793,
          8609,
          8472,
          7634,
          8391,
          8517,
          7757,
          7253,
          8449,
          7320,
          8761,
          8307,
          6839,
          8010,
          9084,
          7740,
          8894,
          7075,
          8335,
          9111,
          8636,
          8407,
          7910,
          7999,
          7776,
          8621,
          8581,
          7491,
          8388,
          9248,
          8105,
          9147,
          7885,
          8339,
          7873,
          6971,
          8389,
          8443,
          7266,
          7827,
          7949,
          7415,
          8209,
          7402,
          6332,
          9551,
          6966,
          7464,
          7168,
          8278,
          7094,
          9230,
          7750,
          7257,
          7774,
          7739,
          7316,
          7144,
          8456,
          8093,
          6914,
          6378,
          8505,
          7641,
          6666,
          8265,
          8462,
          6111,
          6495,
          7939,
          6397,
          6824,
          7813,
          7139,
          7101,
          7864,
          7840,
          8465,
          7778,
          8980,
          7730,
          7808,
          7460,
          7765,
          7817,
          6751,
          8145,
          8013,
          8400,
          6685,
          7028,
          7905,
          7735,
          7089,
          7622,
          7246,
          7947,
          7550,
          8688,
          7242,
          8360,
          8727,
          8090,
          6413,
          6669,
          6578,
          6893,
          6773,
          6912,
          6692,
          8468,
          8354,
          7411,
          8780,
          7449,
          7663,
          6554,
          6814,
          5000,
          8328,
          8100,
          6615,
          7640,
          8244,
          7144,
          6291,
          7036,
          5764,
          7500,
          6935,
          6184,
          6993,
          6682,
          6700,
          6530,
          6386,
          7736,
          6955,
          6345,
          8253,
          6740,
          6454,
          6363,
          8587,
          6631,
          7466,
          7189,
          7555,
          5520,
          6839,
          6577,
          7875,
          7614,
          7932,
          6519,
          6448,
          6760,
          7632,
          7404,
          7196,
          7268,
          6946,
          6999,
          5794,
          7003,
          6739,
          7325,
          8147,
          6970,
          7559,
          8123,
          6257,
          7721,
          7246,
          7744,
          8092,
          6929,
          7169,
          7242,
          6997,
          6573,
          6737,
          6564,
          6586,
          6042,
          6122,
          7522,
          7329,
          6321,
          7822,
          7327,
          6922,
          6340,
          7106,
          7646,
          6643,
          6490,
          5937,
          7552,
          7279,
          6439,
          5272,
          6416,
          5153,
          6897,
          6545,
          7113,
          6027,
          6611,
          6884,
          5797,
          7412,
          6581,
          6182,
          6471,
          7958,
          7304,
          6160,
          5646,
          6620,
          6499,
          6060,
          7642,
          7291,
          7211,
          8109,
          6615,
          7177,
          6274,
          6696,
          6989,
          7314,
          6556,
          5239,
          4775,
          6996,
          6537,
          7438,
          6942,
          6177,
          6931,
          6662,
          7127,
          6290,
          6765,
          5947,
          6394,
          4765,
          6722,
          8160,
          8035,
          6898,
          6258,
          7440,
          7250,
          6711,
          6832,
          5479,
          8113,
          5516,
          6496,
          6558,
          6432,
          6295,
          7160,
          5953,
          6777,
          5327,
          6430,
          7443,
          4161,
          6228,
          5477,
          7052,
          6866,
          6243,
          5495,
          8001,
          6552,
          7433,
          6336,
          6753,
          7213,
          6812,
          5943,
          6453,
          6020,
          5569,
          5627,
          5662,
          5878,
          7205,
          6235,
          7301,
          5520,
          6251,
          6630,
          5829,
          7198,
          6900,
          5989,
          6689,
          6572,
          6356,
          5569,
          6462,
          8439,
          6490,
          5792,
          5914,
          6016,
          6398,
          6124,
          6618,
          6219,
          5924,
          5982,
          6497,
          6224,
          5383,
          5668,
          6861,
          5136,
          5020,
          6363,
          6746,
          6616,
          6604,
          5470,
          6186,
          6596,
          4584,
          6122,
          5934,
          5814,
          4152,
          6842,
          4680,
          6660,
          5243,
          5090,
          5453,
          6476,
          4890,
          7058,
          7377,
          5679,
          5838,
          6327,
          7554,
          5436,
          7460,
          6010,
          5944,
          6019,
          6536,
          7122,
          5863,
          6179,
          6508,
          5308,
          5359,
          5146,
          6506,
          5224,
          5831,
          5876,
          5888,
          5751,
          5881,
          7126,
          5562,
          3846,
          5803,
          5445,
          5236,
          5412,
          6381,
          5618,
          5713,
          4673,
          5380,
          6452,
          5598,
          5406,
          6092,
          5175,
          4618,
          5452,
          5608,
          5166,
          6274,
          5183,
          5845,
          4998,
          7113,
          5405,
          5103,
          5697,
          4265,
          6775,
          6044,
          5878,
          4668,
          6425,
          6505,
          4898,
          4548,
          5927,
          6277,
          4826,
          5688,
          6580,
          5454,
          4872,
          5234,
          4701,
          4980,
          3879,
          5396,
          4700,
          5866,
          7236,
          5084,
          5345,
          5426,
          6476,
          5913,
          7233,
          5826,
          5173,
          5680,
          5499,
          5239,
          5108,
          5066,
          5135,
          5562,
          5329,
          5798,
          5754,
          4756,
          5029,
          5512,
          5284,
          5647,
          5195,
          4322,
          5038,
          4854,
          4892,
          4925,
          4650,
          4635,
          5133,
          4962,
          5220,
          6350,
          4357,
          6151,
          6303,
          6235,
          4076,
          5735,
          5293,
          4677,
          6107,
          4572,
          4760,
          4845,
          6083,
          4524,
          5004,
          6817,
          5009,
          4439,
          4449,
          5930,
          5346,
          4549,
          4566,
          4690,
          4422,
          6274,
          4079,
          4621,
          4626,
          4536,
          5214,
          6337,
          5390,
          4844,
          4453,
          5698,
          4489,
          4165,
          5352,
          4708,
          3817,
          5729,
          4702,
          6032,
          5435,
          5613,
          4191,
          5536,
          5795,
          4466,
          5068,
          4969,
          4184,
          5014,
          4458,
          5513,
          3100,
          5386,
          5861,
          4115,
          5225,
          4413,
          4621,
          4476,
          5404,
          4212,
          5430,
          4045,
          3768,
          4964,
          4534,
          3727,
          4664,
          5723,
          5201,
          5410,
          5232,
          2324,
          4073,
          6255,
          6079,
          5114,
          5281,
          4793,
          3927,
          4829,
          3474,
          5078,
          5404,
          3415,
          3881,
          4967,
          3661,
          4310,
          5992,
          4095,
          4472,
          5097,
          3603,
          4066,
          4126,
          3910,
          4494,
          5268,
          4148,
          5538,
          4249,
          4442,
          5022,
          5460,
          3795,
          4712,
          3652,
          4202,
          4916,
          4981,
          4687,
          4495,
          5070,
          3653,
          4373,
          4827,
          5784,
          4750,
          5481,
          4275,
          4683,
          4243,
          4409,
          4617,
          4965,
          5120,
          5001,
          4309,
          4774,
          5597,
          4734,
          4694,
          4503,
          5259,
          4322,
          3697,
          3415,
          3438,
          3896,
          4791,
          4415,
          3990,
          4263,
          3634,
          4516,
          4851,
          4300,
          4685,
          4111,
          3665,
          4098,
          4390,
          3875,
          3879,
          3961,
          5576,
          3871,
          3889,
          4339,
          2930,
          3909,
          4037,
          4044,
          4825,
          3955,
          3578,
          3392,
          3384,
          3661,
          3223,
          3084,
          4157,
          4596,
          5472,
          3738,
          4289,
          3590,
          4237,
          3518,
          4993,
          3712,
          3044,
          3270,
          3274,
          3887,
          4296,
          4510,
          3955,
          3721,
          3841,
          3964,
          4766,
          2661,
          3588,
          3382,
          2730,
          4811,
          3791,
          4543,
          4674,
          3521,
          4780,
          3530,
          4605,
          4275,
          2982,
          3431,
          3641,
          3368,
          4149,
          4045,
          3599,
          3943,
          2824,
          2728,
          4723,
          3746,
          4284,
          3107,
          4214,
          4143,
          3528,
          4263,
          3892,
          3510,
          2530,
          3959,
          4618,
          3463,
          3908,
          2200,
          5236,
          4204,
          3988,
          3247,
          4070,
          2600,
          2251,
          4099,
          4388,
          3366,
          3078,
          3536,
          3353,
          2978,
          2991,
          3078,
          3688,
          3647,
          3255,
          3789,
          3242,
          3655,
          3196,
          3927,
          4765,
          3745,
          3409,
          3367,
          1703,
          3180,
          3079,
          2051,
          2193,
          3680,
          2375,
          2963,
          3453,
          2041,
          3888,
          2125,
          2611,
          2788,
          2656,
          2763,
          2683,
          3083,
          3042,
          1823,
          2645,
          3318,
          2041,
          3418,
          1884,
          2777,
          3270,
          3567,
          2724,
          2225,
          2244
         ],
         "xaxis": "x",
         "yaxis": "y"
        }
       ],
       "layout": {
        "barmode": "relative",
        "legend": {
         "tracegroupgap": 0
        },
        "margin": {
         "t": 60
        },
        "template": {
         "data": {
          "bar": [
           {
            "error_x": {
             "color": "#2a3f5f"
            },
            "error_y": {
             "color": "#2a3f5f"
            },
            "marker": {
             "line": {
              "color": "#E5ECF6",
              "width": 0.5
             },
             "pattern": {
              "fillmode": "overlay",
              "size": 10,
              "solidity": 0.2
             }
            },
            "type": "bar"
           }
          ],
          "barpolar": [
           {
            "marker": {
             "line": {
              "color": "#E5ECF6",
              "width": 0.5
             },
             "pattern": {
              "fillmode": "overlay",
              "size": 10,
              "solidity": 0.2
             }
            },
            "type": "barpolar"
           }
          ],
          "carpet": [
           {
            "aaxis": {
             "endlinecolor": "#2a3f5f",
             "gridcolor": "white",
             "linecolor": "white",
             "minorgridcolor": "white",
             "startlinecolor": "#2a3f5f"
            },
            "baxis": {
             "endlinecolor": "#2a3f5f",
             "gridcolor": "white",
             "linecolor": "white",
             "minorgridcolor": "white",
             "startlinecolor": "#2a3f5f"
            },
            "type": "carpet"
           }
          ],
          "choropleth": [
           {
            "colorbar": {
             "outlinewidth": 0,
             "ticks": ""
            },
            "type": "choropleth"
           }
          ],
          "contour": [
           {
            "colorbar": {
             "outlinewidth": 0,
             "ticks": ""
            },
            "colorscale": [
             [
              0,
              "#0d0887"
             ],
             [
              0.1111111111111111,
              "#46039f"
             ],
             [
              0.2222222222222222,
              "#7201a8"
             ],
             [
              0.3333333333333333,
              "#9c179e"
             ],
             [
              0.4444444444444444,
              "#bd3786"
             ],
             [
              0.5555555555555556,
              "#d8576b"
             ],
             [
              0.6666666666666666,
              "#ed7953"
             ],
             [
              0.7777777777777778,
              "#fb9f3a"
             ],
             [
              0.8888888888888888,
              "#fdca26"
             ],
             [
              1,
              "#f0f921"
             ]
            ],
            "type": "contour"
           }
          ],
          "contourcarpet": [
           {
            "colorbar": {
             "outlinewidth": 0,
             "ticks": ""
            },
            "type": "contourcarpet"
           }
          ],
          "heatmap": [
           {
            "colorbar": {
             "outlinewidth": 0,
             "ticks": ""
            },
            "colorscale": [
             [
              0,
              "#0d0887"
             ],
             [
              0.1111111111111111,
              "#46039f"
             ],
             [
              0.2222222222222222,
              "#7201a8"
             ],
             [
              0.3333333333333333,
              "#9c179e"
             ],
             [
              0.4444444444444444,
              "#bd3786"
             ],
             [
              0.5555555555555556,
              "#d8576b"
             ],
             [
              0.6666666666666666,
              "#ed7953"
             ],
             [
              0.7777777777777778,
              "#fb9f3a"
             ],
             [
              0.8888888888888888,
              "#fdca26"
             ],
             [
              1,
              "#f0f921"
             ]
            ],
            "type": "heatmap"
           }
          ],
          "heatmapgl": [
           {
            "colorbar": {
             "outlinewidth": 0,
             "ticks": ""
            },
            "colorscale": [
             [
              0,
              "#0d0887"
             ],
             [
              0.1111111111111111,
              "#46039f"
             ],
             [
              0.2222222222222222,
              "#7201a8"
             ],
             [
              0.3333333333333333,
              "#9c179e"
             ],
             [
              0.4444444444444444,
              "#bd3786"
             ],
             [
              0.5555555555555556,
              "#d8576b"
             ],
             [
              0.6666666666666666,
              "#ed7953"
             ],
             [
              0.7777777777777778,
              "#fb9f3a"
             ],
             [
              0.8888888888888888,
              "#fdca26"
             ],
             [
              1,
              "#f0f921"
             ]
            ],
            "type": "heatmapgl"
           }
          ],
          "histogram": [
           {
            "marker": {
             "pattern": {
              "fillmode": "overlay",
              "size": 10,
              "solidity": 0.2
             }
            },
            "type": "histogram"
           }
          ],
          "histogram2d": [
           {
            "colorbar": {
             "outlinewidth": 0,
             "ticks": ""
            },
            "colorscale": [
             [
              0,
              "#0d0887"
             ],
             [
              0.1111111111111111,
              "#46039f"
             ],
             [
              0.2222222222222222,
              "#7201a8"
             ],
             [
              0.3333333333333333,
              "#9c179e"
             ],
             [
              0.4444444444444444,
              "#bd3786"
             ],
             [
              0.5555555555555556,
              "#d8576b"
             ],
             [
              0.6666666666666666,
              "#ed7953"
             ],
             [
              0.7777777777777778,
              "#fb9f3a"
             ],
             [
              0.8888888888888888,
              "#fdca26"
             ],
             [
              1,
              "#f0f921"
             ]
            ],
            "type": "histogram2d"
           }
          ],
          "histogram2dcontour": [
           {
            "colorbar": {
             "outlinewidth": 0,
             "ticks": ""
            },
            "colorscale": [
             [
              0,
              "#0d0887"
             ],
             [
              0.1111111111111111,
              "#46039f"
             ],
             [
              0.2222222222222222,
              "#7201a8"
             ],
             [
              0.3333333333333333,
              "#9c179e"
             ],
             [
              0.4444444444444444,
              "#bd3786"
             ],
             [
              0.5555555555555556,
              "#d8576b"
             ],
             [
              0.6666666666666666,
              "#ed7953"
             ],
             [
              0.7777777777777778,
              "#fb9f3a"
             ],
             [
              0.8888888888888888,
              "#fdca26"
             ],
             [
              1,
              "#f0f921"
             ]
            ],
            "type": "histogram2dcontour"
           }
          ],
          "mesh3d": [
           {
            "colorbar": {
             "outlinewidth": 0,
             "ticks": ""
            },
            "type": "mesh3d"
           }
          ],
          "parcoords": [
           {
            "line": {
             "colorbar": {
              "outlinewidth": 0,
              "ticks": ""
             }
            },
            "type": "parcoords"
           }
          ],
          "pie": [
           {
            "automargin": true,
            "type": "pie"
           }
          ],
          "scatter": [
           {
            "fillpattern": {
             "fillmode": "overlay",
             "size": 10,
             "solidity": 0.2
            },
            "type": "scatter"
           }
          ],
          "scatter3d": [
           {
            "line": {
             "colorbar": {
              "outlinewidth": 0,
              "ticks": ""
             }
            },
            "marker": {
             "colorbar": {
              "outlinewidth": 0,
              "ticks": ""
             }
            },
            "type": "scatter3d"
           }
          ],
          "scattercarpet": [
           {
            "marker": {
             "colorbar": {
              "outlinewidth": 0,
              "ticks": ""
             }
            },
            "type": "scattercarpet"
           }
          ],
          "scattergeo": [
           {
            "marker": {
             "colorbar": {
              "outlinewidth": 0,
              "ticks": ""
             }
            },
            "type": "scattergeo"
           }
          ],
          "scattergl": [
           {
            "marker": {
             "colorbar": {
              "outlinewidth": 0,
              "ticks": ""
             }
            },
            "type": "scattergl"
           }
          ],
          "scattermapbox": [
           {
            "marker": {
             "colorbar": {
              "outlinewidth": 0,
              "ticks": ""
             }
            },
            "type": "scattermapbox"
           }
          ],
          "scatterpolar": [
           {
            "marker": {
             "colorbar": {
              "outlinewidth": 0,
              "ticks": ""
             }
            },
            "type": "scatterpolar"
           }
          ],
          "scatterpolargl": [
           {
            "marker": {
             "colorbar": {
              "outlinewidth": 0,
              "ticks": ""
             }
            },
            "type": "scatterpolargl"
           }
          ],
          "scatterternary": [
           {
            "marker": {
             "colorbar": {
              "outlinewidth": 0,
              "ticks": ""
             }
            },
            "type": "scatterternary"
           }
          ],
          "surface": [
           {
            "colorbar": {
             "outlinewidth": 0,
             "ticks": ""
            },
            "colorscale": [
             [
              0,
              "#0d0887"
             ],
             [
              0.1111111111111111,
              "#46039f"
             ],
             [
              0.2222222222222222,
              "#7201a8"
             ],
             [
              0.3333333333333333,
              "#9c179e"
             ],
             [
              0.4444444444444444,
              "#bd3786"
             ],
             [
              0.5555555555555556,
              "#d8576b"
             ],
             [
              0.6666666666666666,
              "#ed7953"
             ],
             [
              0.7777777777777778,
              "#fb9f3a"
             ],
             [
              0.8888888888888888,
              "#fdca26"
             ],
             [
              1,
              "#f0f921"
             ]
            ],
            "type": "surface"
           }
          ],
          "table": [
           {
            "cells": {
             "fill": {
              "color": "#EBF0F8"
             },
             "line": {
              "color": "white"
             }
            },
            "header": {
             "fill": {
              "color": "#C8D4E3"
             },
             "line": {
              "color": "white"
             }
            },
            "type": "table"
           }
          ]
         },
         "layout": {
          "annotationdefaults": {
           "arrowcolor": "#2a3f5f",
           "arrowhead": 0,
           "arrowwidth": 1
          },
          "autotypenumbers": "strict",
          "coloraxis": {
           "colorbar": {
            "outlinewidth": 0,
            "ticks": ""
           }
          },
          "colorscale": {
           "diverging": [
            [
             0,
             "#8e0152"
            ],
            [
             0.1,
             "#c51b7d"
            ],
            [
             0.2,
             "#de77ae"
            ],
            [
             0.3,
             "#f1b6da"
            ],
            [
             0.4,
             "#fde0ef"
            ],
            [
             0.5,
             "#f7f7f7"
            ],
            [
             0.6,
             "#e6f5d0"
            ],
            [
             0.7,
             "#b8e186"
            ],
            [
             0.8,
             "#7fbc41"
            ],
            [
             0.9,
             "#4d9221"
            ],
            [
             1,
             "#276419"
            ]
           ],
           "sequential": [
            [
             0,
             "#0d0887"
            ],
            [
             0.1111111111111111,
             "#46039f"
            ],
            [
             0.2222222222222222,
             "#7201a8"
            ],
            [
             0.3333333333333333,
             "#9c179e"
            ],
            [
             0.4444444444444444,
             "#bd3786"
            ],
            [
             0.5555555555555556,
             "#d8576b"
            ],
            [
             0.6666666666666666,
             "#ed7953"
            ],
            [
             0.7777777777777778,
             "#fb9f3a"
            ],
            [
             0.8888888888888888,
             "#fdca26"
            ],
            [
             1,
             "#f0f921"
            ]
           ],
           "sequentialminus": [
            [
             0,
             "#0d0887"
            ],
            [
             0.1111111111111111,
             "#46039f"
            ],
            [
             0.2222222222222222,
             "#7201a8"
            ],
            [
             0.3333333333333333,
             "#9c179e"
            ],
            [
             0.4444444444444444,
             "#bd3786"
            ],
            [
             0.5555555555555556,
             "#d8576b"
            ],
            [
             0.6666666666666666,
             "#ed7953"
            ],
            [
             0.7777777777777778,
             "#fb9f3a"
            ],
            [
             0.8888888888888888,
             "#fdca26"
            ],
            [
             1,
             "#f0f921"
            ]
           ]
          },
          "colorway": [
           "#636efa",
           "#EF553B",
           "#00cc96",
           "#ab63fa",
           "#FFA15A",
           "#19d3f3",
           "#FF6692",
           "#B6E880",
           "#FF97FF",
           "#FECB52"
          ],
          "font": {
           "color": "#2a3f5f"
          },
          "geo": {
           "bgcolor": "white",
           "lakecolor": "white",
           "landcolor": "#E5ECF6",
           "showlakes": true,
           "showland": true,
           "subunitcolor": "white"
          },
          "hoverlabel": {
           "align": "left"
          },
          "hovermode": "closest",
          "mapbox": {
           "style": "light"
          },
          "paper_bgcolor": "white",
          "plot_bgcolor": "#E5ECF6",
          "polar": {
           "angularaxis": {
            "gridcolor": "white",
            "linecolor": "white",
            "ticks": ""
           },
           "bgcolor": "#E5ECF6",
           "radialaxis": {
            "gridcolor": "white",
            "linecolor": "white",
            "ticks": ""
           }
          },
          "scene": {
           "xaxis": {
            "backgroundcolor": "#E5ECF6",
            "gridcolor": "white",
            "gridwidth": 2,
            "linecolor": "white",
            "showbackground": true,
            "ticks": "",
            "zerolinecolor": "white"
           },
           "yaxis": {
            "backgroundcolor": "#E5ECF6",
            "gridcolor": "white",
            "gridwidth": 2,
            "linecolor": "white",
            "showbackground": true,
            "ticks": "",
            "zerolinecolor": "white"
           },
           "zaxis": {
            "backgroundcolor": "#E5ECF6",
            "gridcolor": "white",
            "gridwidth": 2,
            "linecolor": "white",
            "showbackground": true,
            "ticks": "",
            "zerolinecolor": "white"
           }
          },
          "shapedefaults": {
           "line": {
            "color": "#2a3f5f"
           }
          },
          "ternary": {
           "aaxis": {
            "gridcolor": "white",
            "linecolor": "white",
            "ticks": ""
           },
           "baxis": {
            "gridcolor": "white",
            "linecolor": "white",
            "ticks": ""
           },
           "bgcolor": "#E5ECF6",
           "caxis": {
            "gridcolor": "white",
            "linecolor": "white",
            "ticks": ""
           }
          },
          "title": {
           "x": 0.05
          },
          "xaxis": {
           "automargin": true,
           "gridcolor": "white",
           "linecolor": "white",
           "ticks": "",
           "title": {
            "standoff": 15
           },
           "zerolinecolor": "white",
           "zerolinewidth": 2
          },
          "yaxis": {
           "automargin": true,
           "gridcolor": "white",
           "linecolor": "white",
           "ticks": "",
           "title": {
            "standoff": 15
           },
           "zerolinecolor": "white",
           "zerolinewidth": 2
          }
         }
        },
        "xaxis": {
         "anchor": "y",
         "domain": [
          0,
          1
         ],
         "title": {
          "text": "bonus"
         }
        },
        "yaxis": {
         "anchor": "x",
         "domain": [
          0,
          1
         ],
         "title": {
          "text": "count"
         }
        }
       }
      }
     },
     "metadata": {},
     "output_type": "display_data"
    }
   ],
   "source": [
    "numeric_columns = ['age', 'performance', 'seniority', 'income', 'bonus']\n",
    "for i_col in numeric_columns:\n",
    "    fig = px.histogram(df, x=i_col)\n",
    "    fig.show()"
   ]
  },
  {
   "cell_type": "markdown",
   "metadata": {},
   "source": [
    "Conclusiones:\n",
    " - La edad, el rendimiento y la seniority tienen una distribución de datos constante, lo cual se puede originar por el tipo de muestreo utilizado.\n",
    " - El income y el bonus tienen una distribución de probabilidad en forma de gausiana."
   ]
  },
  {
   "cell_type": "markdown",
   "metadata": {},
   "source": [
    "# Análisis descriptivo: Valores atípicos, nulos, o vacios"
   ]
  },
  {
   "cell_type": "code",
   "execution_count": 9,
   "metadata": {},
   "outputs": [
    {
     "name": "stdout",
     "output_type": "stream",
     "text": [
      "En la columna jobtitle se encuentran 0 filas vacias\n",
      "En la columna gender se encuentran 0 filas vacias\n",
      "En la columna age se encuentran 0 filas vacias\n",
      "En la columna performance se encuentran 0 filas vacias\n",
      "En la columna education se encuentran 0 filas vacias\n",
      "En la columna department se encuentran 0 filas vacias\n",
      "En la columna seniority se encuentran 0 filas vacias\n",
      "En la columna income se encuentran 0 filas vacias\n",
      "En la columna bonus se encuentran 0 filas vacias\n"
     ]
    }
   ],
   "source": [
    "df_columns = list(df.columns)\n",
    "null_values = [\"\",np.nan, None]\n",
    "for col_name in df_columns:\n",
    "    n_points = len(df[(df[col_name].isin(null_values)) | (df[col_name].isnull())])\n",
    "    print(f\"En la columna {col_name} se encuentran {n_points} filas vacias\")"
   ]
  },
  {
   "cell_type": "markdown",
   "metadata": {},
   "source": [
    "conclusiones:\n",
    "- Las columnas no presentan datos vacios\n",
    "- En las distribuciones de probabilidad no se observan outliers\n",
    "- No existen columnas relacionadas con leyes economicas o fisicas para revisar inliers y coherencia en los datos"
   ]
  },
  {
   "cell_type": "markdown",
   "metadata": {},
   "source": [
    "# Análisis descriptivo: Comportamiento de las variables en las diferentes dimensiones"
   ]
  },
  {
   "cell_type": "code",
   "execution_count": 11,
   "metadata": {},
   "outputs": [
    {
     "data": {
      "application/vnd.plotly.v1+json": {
       "config": {
        "plotlyServerURL": "https://plot.ly"
       },
       "data": [
        {
         "alignmentgroup": "True",
         "hovertemplate": "jobtitle=Graphic Designer<br>income=%{y}<extra></extra>",
         "legendgroup": "Graphic Designer",
         "marker": {
          "color": "#636efa"
         },
         "name": "Graphic Designer",
         "notched": false,
         "offsetgroup": "Graphic Designer",
         "orientation": "v",
         "showlegend": true,
         "type": "box",
         "x0": " ",
         "xaxis": "x",
         "y": [
          42363,
          99464,
          67585,
          112976,
          102261,
          71182,
          88566,
          74167,
          86766,
          83031,
          69462,
          96045,
          78462,
          83758,
          40187,
          66529,
          108241,
          61000,
          93073,
          106887,
          100416,
          89411,
          57398,
          120294,
          102736,
          75506,
          81826,
          50601,
          103133,
          114680,
          72301,
          108820,
          102108,
          132873,
          95169,
          88571,
          130251,
          116751,
          99543,
          66125,
          125770,
          56954,
          59399,
          79144,
          107025,
          100516,
          105800,
          118762,
          106893,
          85702,
          75833,
          123371,
          105632,
          127608,
          104082,
          126100,
          120697,
          70311,
          66611,
          70559,
          69734,
          91504,
          55845,
          106883,
          113465,
          55569,
          97240,
          84803,
          41603,
          72422,
          97768,
          76103,
          100160,
          80635,
          133741,
          99942,
          101273,
          75316,
          111502,
          106204,
          111041,
          107818,
          108731,
          114048,
          82057,
          73142,
          107065,
          115344,
          96232,
          72248,
          75017,
          135512,
          96609,
          63914,
          90474,
          36642,
          91030,
          81545
         ],
         "y0": " ",
         "yaxis": "y"
        },
        {
         "alignmentgroup": "True",
         "hovertemplate": "jobtitle=Software Engineer<br>income=%{y}<extra></extra>",
         "legendgroup": "Software Engineer",
         "marker": {
          "color": "#EF553B"
         },
         "name": "Software Engineer",
         "notched": false,
         "offsetgroup": "Software Engineer",
         "orientation": "v",
         "showlegend": true,
         "type": "box",
         "x0": " ",
         "xaxis": "x",
         "y": [
          108476,
          108080,
          97523,
          132823,
          100305,
          66359,
          96040,
          91674,
          92928,
          88724,
          119024,
          81503,
          89474,
          88037,
          112466,
          88814,
          68466,
          80355,
          82534,
          125572,
          103763,
          68295,
          79208,
          142105,
          109623,
          120593,
          106896,
          87352,
          139760,
          101262,
          77309,
          88482,
          120156,
          65711,
          66084,
          130826,
          74316,
          107366,
          139841,
          111903,
          155834,
          140445,
          86675,
          112491,
          157852,
          134758,
          61527,
          112134,
          124817,
          92099,
          155676,
          124871,
          92289,
          102597,
          145632,
          89811,
          154039,
          98281,
          121821,
          113122,
          92154,
          76654,
          118231,
          110886,
          83264,
          106146,
          95754,
          114029,
          134757,
          103978,
          89225,
          79462,
          87848,
          132323,
          71278,
          126239,
          119522,
          128680,
          109136,
          94745,
          103181,
          120096,
          157277,
          122624,
          106503,
          67913,
          138184,
          117131,
          79177,
          139068,
          121910,
          82277,
          81515,
          81057,
          65313,
          55555,
          160460,
          86650,
          104623,
          86375,
          118282,
          127250,
          81547,
          124660,
          93855,
          132815,
          106045,
          109606,
          119069
         ],
         "y0": " ",
         "yaxis": "y"
        },
        {
         "alignmentgroup": "True",
         "hovertemplate": "jobtitle=Warehouse Associate<br>income=%{y}<extra></extra>",
         "legendgroup": "Warehouse Associate",
         "marker": {
          "color": "#00cc96"
         },
         "name": "Warehouse Associate",
         "notched": false,
         "offsetgroup": "Warehouse Associate",
         "orientation": "v",
         "showlegend": true,
         "type": "box",
         "x0": " ",
         "xaxis": "x",
         "y": [
          90208,
          86220,
          95584,
          99545,
          108446,
          85205,
          104271,
          58219,
          82453,
          127085,
          101154,
          74938,
          77584,
          80192,
          48755,
          59044,
          109419,
          111342,
          92358,
          76517,
          87684,
          88994,
          68639,
          64844,
          93470,
          86423,
          106478,
          108922,
          102815,
          106158,
          121376,
          92722,
          62260,
          62097,
          37026,
          83025,
          94973,
          133927,
          56172,
          77793,
          84930,
          93306,
          91568,
          76865,
          85306,
          87134,
          114479,
          64624,
          90005,
          78021,
          66407,
          72945,
          92080,
          77655,
          116774,
          94927,
          83774,
          114733,
          81988,
          68300,
          68384,
          128669,
          82244,
          100465,
          126375,
          106233,
          58130,
          118322,
          79274,
          63928,
          79334,
          125574,
          92516,
          106963,
          90612,
          93441,
          85453,
          102106,
          71371,
          87575,
          134109,
          82343,
          64994,
          120277,
          90000,
          74829,
          106722,
          126256,
          45915,
          107479
         ],
         "y0": " ",
         "yaxis": "y"
        },
        {
         "alignmentgroup": "True",
         "hovertemplate": "jobtitle=IT<br>income=%{y}<extra></extra>",
         "legendgroup": "IT",
         "marker": {
          "color": "#ab63fa"
         },
         "name": "IT",
         "notched": false,
         "offsetgroup": "IT",
         "orientation": "v",
         "showlegend": true,
         "type": "box",
         "x0": " ",
         "xaxis": "x",
         "y": [
          70890,
          112392,
          84638,
          78986,
          102120,
          88152,
          127769,
          47036,
          53956,
          108495,
          126828,
          69855,
          72542,
          80981,
          83499,
          127062,
          74073,
          90024,
          54245,
          109345,
          78113,
          98515,
          102247,
          64958,
          100014,
          95964,
          82126,
          37780,
          121210,
          104361,
          98100,
          133472,
          75811,
          79544,
          70846,
          75932,
          56309,
          91066,
          131275,
          98456,
          75518,
          64468,
          94354,
          88749,
          77881,
          65225,
          56656,
          70157,
          99369,
          67323,
          93335,
          45747,
          132267,
          90542,
          111120,
          165229,
          105598,
          49622,
          98423,
          111770,
          106584,
          81325,
          118314,
          101791,
          84878,
          55560,
          104589,
          61081,
          126370,
          103416,
          124847,
          113283,
          93802,
          96982,
          57500,
          101050,
          93358,
          131411,
          98995,
          109645,
          64807,
          41151,
          49449,
          99472,
          85648,
          109832,
          92257,
          59377,
          112502,
          89272,
          105771,
          91447,
          110627,
          92950,
          112169,
          106945
         ],
         "y0": " ",
         "yaxis": "y"
        },
        {
         "alignmentgroup": "True",
         "hovertemplate": "jobtitle=Sales Associate<br>income=%{y}<extra></extra>",
         "legendgroup": "Sales Associate",
         "marker": {
          "color": "#FFA15A"
         },
         "name": "Sales Associate",
         "notched": false,
         "offsetgroup": "Sales Associate",
         "orientation": "v",
         "showlegend": true,
         "type": "box",
         "x0": " ",
         "xaxis": "x",
         "y": [
          106524,
          90386,
          103007,
          90780,
          83034,
          66168,
          52633,
          52290,
          84132,
          135013,
          115165,
          84844,
          57783,
          129425,
          129609,
          100091,
          80135,
          61164,
          93268,
          85928,
          72120,
          108288,
          94492,
          100463,
          92276,
          56745,
          98321,
          77275,
          128173,
          102473,
          89570,
          118653,
          105410,
          113544,
          37898,
          84935,
          85948,
          127561,
          85398,
          91566,
          131608,
          118888,
          110746,
          85986,
          87418,
          76522,
          112188,
          87131,
          90426,
          87585,
          64754,
          75238,
          66377,
          129620,
          81866,
          124470,
          70595,
          101133,
          83095,
          84592,
          121589,
          102745,
          95505,
          98499,
          59334,
          117202,
          66887,
          116642,
          106798,
          78625,
          64920,
          51837,
          136209,
          96023,
          60983,
          120579,
          83308,
          49553,
          130417,
          91342,
          101140,
          96900,
          94154,
          67296,
          101423,
          142505,
          106279,
          112604,
          92468,
          113031,
          88195,
          86795,
          82164,
          102593
         ],
         "y0": " ",
         "yaxis": "y"
        },
        {
         "alignmentgroup": "True",
         "hovertemplate": "jobtitle=Driver<br>income=%{y}<extra></extra>",
         "legendgroup": "Driver",
         "marker": {
          "color": "#19d3f3"
         },
         "name": "Driver",
         "notched": false,
         "offsetgroup": "Driver",
         "orientation": "v",
         "showlegend": true,
         "type": "box",
         "x0": " ",
         "xaxis": "x",
         "y": [
          62759,
          72038,
          62692,
          82832,
          77032,
          90368,
          65012,
          97414,
          42722,
          72754,
          91049,
          129132,
          100183,
          110049,
          106788,
          72827,
          102966,
          64008,
          73801,
          90330,
          92687,
          104657,
          56318,
          88213,
          100859,
          75901,
          92458,
          69367,
          78750,
          71824,
          89678,
          68797,
          87998,
          130720,
          88781,
          68403,
          77751,
          79291,
          57070,
          70088,
          118629,
          76700,
          135781,
          101249,
          89170,
          78751,
          86122,
          66203,
          67210,
          43076,
          111726,
          78472,
          100433,
          111043,
          91160,
          101716,
          81301,
          78002,
          51906,
          83333,
          120159,
          95795,
          92760,
          88230,
          128520,
          62753,
          88175,
          113140,
          68175,
          108475,
          75919,
          104468,
          61018,
          118093,
          100941,
          114436,
          107064,
          103242,
          120112,
          110157,
          95898,
          130082,
          59493,
          115981,
          112719,
          103328,
          60026,
          116803,
          97789,
          124530,
          67150
         ],
         "y0": " ",
         "yaxis": "y"
        },
        {
         "alignmentgroup": "True",
         "hovertemplate": "jobtitle=Financial Analyst<br>income=%{y}<extra></extra>",
         "legendgroup": "Financial Analyst",
         "marker": {
          "color": "#FF6692"
         },
         "name": "Financial Analyst",
         "notched": false,
         "offsetgroup": "Financial Analyst",
         "orientation": "v",
         "showlegend": true,
         "type": "box",
         "x0": " ",
         "xaxis": "x",
         "y": [
          84007,
          88422,
          83323,
          97328,
          113640,
          111019,
          92622,
          146190,
          117554,
          109369,
          91978,
          106194,
          88047,
          87608,
          102716,
          98531,
          104435,
          119381,
          113180,
          114421,
          71858,
          100070,
          64852,
          76773,
          89559,
          112941,
          129406,
          98900,
          67749,
          40341,
          114007,
          69878,
          65164,
          87409,
          126626,
          60892,
          83620,
          120154,
          119931,
          113730,
          67762,
          90307,
          96777,
          78564,
          91905,
          121728,
          62377,
          90002,
          116758,
          75397,
          97797,
          65750,
          69320,
          78132,
          116875,
          116069,
          94590,
          88725,
          98535,
          105601,
          100769,
          126269,
          101534,
          48570,
          66935,
          79142,
          78084,
          71590,
          93067,
          104744,
          98512,
          82790,
          84628,
          129683,
          76908,
          93696,
          122142,
          50758,
          84683,
          114171,
          95795,
          99134,
          111403,
          115613,
          80030,
          84047,
          141186,
          85947,
          119058,
          91129,
          92891,
          124151,
          61609,
          84725,
          114031,
          68643,
          139042,
          108719,
          101515,
          67089,
          99643,
          63300,
          90999,
          96665,
          92347,
          97376,
          123108
         ],
         "y0": " ",
         "yaxis": "y"
        },
        {
         "alignmentgroup": "True",
         "hovertemplate": "jobtitle=Marketing Associate<br>income=%{y}<extra></extra>",
         "legendgroup": "Marketing Associate",
         "marker": {
          "color": "#B6E880"
         },
         "name": "Marketing Associate",
         "notched": false,
         "offsetgroup": "Marketing Associate",
         "orientation": "v",
         "showlegend": true,
         "type": "box",
         "x0": " ",
         "xaxis": "x",
         "y": [
          73357,
          80306,
          86886,
          97376,
          76286,
          46263,
          103384,
          51331,
          96061,
          89822,
          62040,
          59251,
          63695,
          77793,
          57469,
          91713,
          86516,
          46903,
          44325,
          60070,
          49830,
          82338,
          86036,
          95687,
          128970,
          67530,
          69254,
          87435,
          58807,
          81995,
          71794,
          36548,
          73989,
          102201,
          57782,
          71772,
          66438,
          79674,
          85161,
          65547,
          62054,
          70374,
          104355,
          54817,
          79707,
          82755,
          96500,
          49632,
          69268,
          77223,
          53220,
          34208,
          49303,
          76806,
          116834,
          75294,
          72030,
          94763,
          86241,
          123242,
          36972,
          112507,
          100316,
          59006,
          74305,
          38451,
          106315,
          92797,
          93805,
          109931,
          88365,
          57672,
          110636,
          73404,
          68364,
          81249,
          77584,
          73685,
          79237,
          86538,
          77742,
          98575,
          38613,
          62866,
          47739,
          63327,
          52578,
          99543,
          55885,
          107370,
          39741,
          36585,
          93054,
          81661,
          38855,
          86563,
          62600,
          100415,
          88820,
          112489,
          53839,
          114906,
          93018,
          69928,
          108587,
          95995,
          107572,
          76726,
          54945,
          60271,
          66028,
          91300,
          97696,
          62738,
          98796,
          80789,
          85253,
          62644
         ],
         "y0": " ",
         "yaxis": "y"
        },
        {
         "alignmentgroup": "True",
         "hovertemplate": "jobtitle=Data Scientist<br>income=%{y}<extra></extra>",
         "legendgroup": "Data Scientist",
         "marker": {
          "color": "#FF97FF"
         },
         "name": "Data Scientist",
         "notched": false,
         "offsetgroup": "Data Scientist",
         "orientation": "v",
         "showlegend": true,
         "type": "box",
         "x0": " ",
         "xaxis": "x",
         "y": [
          92067,
          74523,
          113252,
          96355,
          87121,
          70643,
          89415,
          71105,
          71193,
          59212,
          55189,
          50401,
          46693,
          127156,
          110731,
          101173,
          67617,
          97625,
          100115,
          133495,
          58054,
          78623,
          98010,
          91099,
          65907,
          80937,
          97000,
          80494,
          102910,
          84021,
          55954,
          60736,
          59458,
          73306,
          62753,
          129226,
          87150,
          71946,
          80171,
          40056,
          82850,
          122037,
          83894,
          75227,
          104314,
          123172,
          67040,
          107476,
          82345,
          103908,
          86651,
          114693,
          90713,
          125770,
          97846,
          98959,
          98366,
          73798,
          98165,
          113274,
          57915,
          87682,
          68049,
          76523,
          138365,
          72497,
          91711,
          78910,
          93742,
          53855,
          93320,
          108366,
          79765,
          83674,
          96582,
          108778,
          96584,
          102265,
          65816,
          106452,
          100505,
          108296,
          90526,
          139141,
          77839,
          104290,
          84764,
          117215,
          107640,
          61589,
          124166,
          125828,
          115641,
          141005,
          122352,
          101284,
          78836,
          121457,
          114141,
          95798,
          128730,
          123333,
          121239,
          87314,
          106918,
          97311,
          108977
         ],
         "y0": " ",
         "yaxis": "y"
        },
        {
         "alignmentgroup": "True",
         "hovertemplate": "jobtitle=Manager<br>income=%{y}<extra></extra>",
         "legendgroup": "Manager",
         "marker": {
          "color": "#FECB52"
         },
         "name": "Manager",
         "notched": false,
         "offsetgroup": "Manager",
         "orientation": "v",
         "showlegend": true,
         "type": "box",
         "x0": " ",
         "xaxis": "x",
         "y": [
          131311,
          146615,
          119162,
          98519,
          103107,
          90685,
          103479,
          107140,
          157410,
          104526,
          123422,
          90482,
          106560,
          104202,
          109346,
          155203,
          143887,
          176789,
          160614,
          150467,
          117629,
          121682,
          123114,
          121949,
          118088,
          138851,
          89648,
          112854,
          143189,
          144146,
          130093,
          83262,
          110643,
          107859,
          129885,
          115567,
          117648,
          135073,
          148178,
          106056,
          149771,
          110594,
          157644,
          113009,
          115383,
          127013,
          90736,
          150914,
          100183,
          121506,
          121151,
          124891,
          125339,
          105795,
          125164,
          119033,
          103156,
          135106,
          157169,
          104329,
          146008,
          152710,
          152081,
          134450,
          100819,
          152625,
          133910,
          155826,
          114621,
          138163,
          163208,
          136215,
          149893,
          111896,
          114943,
          80259,
          123153,
          115604,
          145095,
          115742,
          119794,
          119893,
          131980,
          135638,
          179726,
          106916,
          124782,
          136836,
          110078,
          120574
         ],
         "y0": " ",
         "yaxis": "y"
        }
       ],
       "layout": {
        "boxmode": "group",
        "legend": {
         "title": {
          "text": "jobtitle"
         },
         "tracegroupgap": 0
        },
        "template": {
         "data": {
          "bar": [
           {
            "error_x": {
             "color": "#2a3f5f"
            },
            "error_y": {
             "color": "#2a3f5f"
            },
            "marker": {
             "line": {
              "color": "#E5ECF6",
              "width": 0.5
             },
             "pattern": {
              "fillmode": "overlay",
              "size": 10,
              "solidity": 0.2
             }
            },
            "type": "bar"
           }
          ],
          "barpolar": [
           {
            "marker": {
             "line": {
              "color": "#E5ECF6",
              "width": 0.5
             },
             "pattern": {
              "fillmode": "overlay",
              "size": 10,
              "solidity": 0.2
             }
            },
            "type": "barpolar"
           }
          ],
          "carpet": [
           {
            "aaxis": {
             "endlinecolor": "#2a3f5f",
             "gridcolor": "white",
             "linecolor": "white",
             "minorgridcolor": "white",
             "startlinecolor": "#2a3f5f"
            },
            "baxis": {
             "endlinecolor": "#2a3f5f",
             "gridcolor": "white",
             "linecolor": "white",
             "minorgridcolor": "white",
             "startlinecolor": "#2a3f5f"
            },
            "type": "carpet"
           }
          ],
          "choropleth": [
           {
            "colorbar": {
             "outlinewidth": 0,
             "ticks": ""
            },
            "type": "choropleth"
           }
          ],
          "contour": [
           {
            "colorbar": {
             "outlinewidth": 0,
             "ticks": ""
            },
            "colorscale": [
             [
              0,
              "#0d0887"
             ],
             [
              0.1111111111111111,
              "#46039f"
             ],
             [
              0.2222222222222222,
              "#7201a8"
             ],
             [
              0.3333333333333333,
              "#9c179e"
             ],
             [
              0.4444444444444444,
              "#bd3786"
             ],
             [
              0.5555555555555556,
              "#d8576b"
             ],
             [
              0.6666666666666666,
              "#ed7953"
             ],
             [
              0.7777777777777778,
              "#fb9f3a"
             ],
             [
              0.8888888888888888,
              "#fdca26"
             ],
             [
              1,
              "#f0f921"
             ]
            ],
            "type": "contour"
           }
          ],
          "contourcarpet": [
           {
            "colorbar": {
             "outlinewidth": 0,
             "ticks": ""
            },
            "type": "contourcarpet"
           }
          ],
          "heatmap": [
           {
            "colorbar": {
             "outlinewidth": 0,
             "ticks": ""
            },
            "colorscale": [
             [
              0,
              "#0d0887"
             ],
             [
              0.1111111111111111,
              "#46039f"
             ],
             [
              0.2222222222222222,
              "#7201a8"
             ],
             [
              0.3333333333333333,
              "#9c179e"
             ],
             [
              0.4444444444444444,
              "#bd3786"
             ],
             [
              0.5555555555555556,
              "#d8576b"
             ],
             [
              0.6666666666666666,
              "#ed7953"
             ],
             [
              0.7777777777777778,
              "#fb9f3a"
             ],
             [
              0.8888888888888888,
              "#fdca26"
             ],
             [
              1,
              "#f0f921"
             ]
            ],
            "type": "heatmap"
           }
          ],
          "heatmapgl": [
           {
            "colorbar": {
             "outlinewidth": 0,
             "ticks": ""
            },
            "colorscale": [
             [
              0,
              "#0d0887"
             ],
             [
              0.1111111111111111,
              "#46039f"
             ],
             [
              0.2222222222222222,
              "#7201a8"
             ],
             [
              0.3333333333333333,
              "#9c179e"
             ],
             [
              0.4444444444444444,
              "#bd3786"
             ],
             [
              0.5555555555555556,
              "#d8576b"
             ],
             [
              0.6666666666666666,
              "#ed7953"
             ],
             [
              0.7777777777777778,
              "#fb9f3a"
             ],
             [
              0.8888888888888888,
              "#fdca26"
             ],
             [
              1,
              "#f0f921"
             ]
            ],
            "type": "heatmapgl"
           }
          ],
          "histogram": [
           {
            "marker": {
             "pattern": {
              "fillmode": "overlay",
              "size": 10,
              "solidity": 0.2
             }
            },
            "type": "histogram"
           }
          ],
          "histogram2d": [
           {
            "colorbar": {
             "outlinewidth": 0,
             "ticks": ""
            },
            "colorscale": [
             [
              0,
              "#0d0887"
             ],
             [
              0.1111111111111111,
              "#46039f"
             ],
             [
              0.2222222222222222,
              "#7201a8"
             ],
             [
              0.3333333333333333,
              "#9c179e"
             ],
             [
              0.4444444444444444,
              "#bd3786"
             ],
             [
              0.5555555555555556,
              "#d8576b"
             ],
             [
              0.6666666666666666,
              "#ed7953"
             ],
             [
              0.7777777777777778,
              "#fb9f3a"
             ],
             [
              0.8888888888888888,
              "#fdca26"
             ],
             [
              1,
              "#f0f921"
             ]
            ],
            "type": "histogram2d"
           }
          ],
          "histogram2dcontour": [
           {
            "colorbar": {
             "outlinewidth": 0,
             "ticks": ""
            },
            "colorscale": [
             [
              0,
              "#0d0887"
             ],
             [
              0.1111111111111111,
              "#46039f"
             ],
             [
              0.2222222222222222,
              "#7201a8"
             ],
             [
              0.3333333333333333,
              "#9c179e"
             ],
             [
              0.4444444444444444,
              "#bd3786"
             ],
             [
              0.5555555555555556,
              "#d8576b"
             ],
             [
              0.6666666666666666,
              "#ed7953"
             ],
             [
              0.7777777777777778,
              "#fb9f3a"
             ],
             [
              0.8888888888888888,
              "#fdca26"
             ],
             [
              1,
              "#f0f921"
             ]
            ],
            "type": "histogram2dcontour"
           }
          ],
          "mesh3d": [
           {
            "colorbar": {
             "outlinewidth": 0,
             "ticks": ""
            },
            "type": "mesh3d"
           }
          ],
          "parcoords": [
           {
            "line": {
             "colorbar": {
              "outlinewidth": 0,
              "ticks": ""
             }
            },
            "type": "parcoords"
           }
          ],
          "pie": [
           {
            "automargin": true,
            "type": "pie"
           }
          ],
          "scatter": [
           {
            "fillpattern": {
             "fillmode": "overlay",
             "size": 10,
             "solidity": 0.2
            },
            "type": "scatter"
           }
          ],
          "scatter3d": [
           {
            "line": {
             "colorbar": {
              "outlinewidth": 0,
              "ticks": ""
             }
            },
            "marker": {
             "colorbar": {
              "outlinewidth": 0,
              "ticks": ""
             }
            },
            "type": "scatter3d"
           }
          ],
          "scattercarpet": [
           {
            "marker": {
             "colorbar": {
              "outlinewidth": 0,
              "ticks": ""
             }
            },
            "type": "scattercarpet"
           }
          ],
          "scattergeo": [
           {
            "marker": {
             "colorbar": {
              "outlinewidth": 0,
              "ticks": ""
             }
            },
            "type": "scattergeo"
           }
          ],
          "scattergl": [
           {
            "marker": {
             "colorbar": {
              "outlinewidth": 0,
              "ticks": ""
             }
            },
            "type": "scattergl"
           }
          ],
          "scattermapbox": [
           {
            "marker": {
             "colorbar": {
              "outlinewidth": 0,
              "ticks": ""
             }
            },
            "type": "scattermapbox"
           }
          ],
          "scatterpolar": [
           {
            "marker": {
             "colorbar": {
              "outlinewidth": 0,
              "ticks": ""
             }
            },
            "type": "scatterpolar"
           }
          ],
          "scatterpolargl": [
           {
            "marker": {
             "colorbar": {
              "outlinewidth": 0,
              "ticks": ""
             }
            },
            "type": "scatterpolargl"
           }
          ],
          "scatterternary": [
           {
            "marker": {
             "colorbar": {
              "outlinewidth": 0,
              "ticks": ""
             }
            },
            "type": "scatterternary"
           }
          ],
          "surface": [
           {
            "colorbar": {
             "outlinewidth": 0,
             "ticks": ""
            },
            "colorscale": [
             [
              0,
              "#0d0887"
             ],
             [
              0.1111111111111111,
              "#46039f"
             ],
             [
              0.2222222222222222,
              "#7201a8"
             ],
             [
              0.3333333333333333,
              "#9c179e"
             ],
             [
              0.4444444444444444,
              "#bd3786"
             ],
             [
              0.5555555555555556,
              "#d8576b"
             ],
             [
              0.6666666666666666,
              "#ed7953"
             ],
             [
              0.7777777777777778,
              "#fb9f3a"
             ],
             [
              0.8888888888888888,
              "#fdca26"
             ],
             [
              1,
              "#f0f921"
             ]
            ],
            "type": "surface"
           }
          ],
          "table": [
           {
            "cells": {
             "fill": {
              "color": "#EBF0F8"
             },
             "line": {
              "color": "white"
             }
            },
            "header": {
             "fill": {
              "color": "#C8D4E3"
             },
             "line": {
              "color": "white"
             }
            },
            "type": "table"
           }
          ]
         },
         "layout": {
          "annotationdefaults": {
           "arrowcolor": "#2a3f5f",
           "arrowhead": 0,
           "arrowwidth": 1
          },
          "autotypenumbers": "strict",
          "coloraxis": {
           "colorbar": {
            "outlinewidth": 0,
            "ticks": ""
           }
          },
          "colorscale": {
           "diverging": [
            [
             0,
             "#8e0152"
            ],
            [
             0.1,
             "#c51b7d"
            ],
            [
             0.2,
             "#de77ae"
            ],
            [
             0.3,
             "#f1b6da"
            ],
            [
             0.4,
             "#fde0ef"
            ],
            [
             0.5,
             "#f7f7f7"
            ],
            [
             0.6,
             "#e6f5d0"
            ],
            [
             0.7,
             "#b8e186"
            ],
            [
             0.8,
             "#7fbc41"
            ],
            [
             0.9,
             "#4d9221"
            ],
            [
             1,
             "#276419"
            ]
           ],
           "sequential": [
            [
             0,
             "#0d0887"
            ],
            [
             0.1111111111111111,
             "#46039f"
            ],
            [
             0.2222222222222222,
             "#7201a8"
            ],
            [
             0.3333333333333333,
             "#9c179e"
            ],
            [
             0.4444444444444444,
             "#bd3786"
            ],
            [
             0.5555555555555556,
             "#d8576b"
            ],
            [
             0.6666666666666666,
             "#ed7953"
            ],
            [
             0.7777777777777778,
             "#fb9f3a"
            ],
            [
             0.8888888888888888,
             "#fdca26"
            ],
            [
             1,
             "#f0f921"
            ]
           ],
           "sequentialminus": [
            [
             0,
             "#0d0887"
            ],
            [
             0.1111111111111111,
             "#46039f"
            ],
            [
             0.2222222222222222,
             "#7201a8"
            ],
            [
             0.3333333333333333,
             "#9c179e"
            ],
            [
             0.4444444444444444,
             "#bd3786"
            ],
            [
             0.5555555555555556,
             "#d8576b"
            ],
            [
             0.6666666666666666,
             "#ed7953"
            ],
            [
             0.7777777777777778,
             "#fb9f3a"
            ],
            [
             0.8888888888888888,
             "#fdca26"
            ],
            [
             1,
             "#f0f921"
            ]
           ]
          },
          "colorway": [
           "#636efa",
           "#EF553B",
           "#00cc96",
           "#ab63fa",
           "#FFA15A",
           "#19d3f3",
           "#FF6692",
           "#B6E880",
           "#FF97FF",
           "#FECB52"
          ],
          "font": {
           "color": "#2a3f5f"
          },
          "geo": {
           "bgcolor": "white",
           "lakecolor": "white",
           "landcolor": "#E5ECF6",
           "showlakes": true,
           "showland": true,
           "subunitcolor": "white"
          },
          "hoverlabel": {
           "align": "left"
          },
          "hovermode": "closest",
          "mapbox": {
           "style": "light"
          },
          "paper_bgcolor": "white",
          "plot_bgcolor": "#E5ECF6",
          "polar": {
           "angularaxis": {
            "gridcolor": "white",
            "linecolor": "white",
            "ticks": ""
           },
           "bgcolor": "#E5ECF6",
           "radialaxis": {
            "gridcolor": "white",
            "linecolor": "white",
            "ticks": ""
           }
          },
          "scene": {
           "xaxis": {
            "backgroundcolor": "#E5ECF6",
            "gridcolor": "white",
            "gridwidth": 2,
            "linecolor": "white",
            "showbackground": true,
            "ticks": "",
            "zerolinecolor": "white"
           },
           "yaxis": {
            "backgroundcolor": "#E5ECF6",
            "gridcolor": "white",
            "gridwidth": 2,
            "linecolor": "white",
            "showbackground": true,
            "ticks": "",
            "zerolinecolor": "white"
           },
           "zaxis": {
            "backgroundcolor": "#E5ECF6",
            "gridcolor": "white",
            "gridwidth": 2,
            "linecolor": "white",
            "showbackground": true,
            "ticks": "",
            "zerolinecolor": "white"
           }
          },
          "shapedefaults": {
           "line": {
            "color": "#2a3f5f"
           }
          },
          "ternary": {
           "aaxis": {
            "gridcolor": "white",
            "linecolor": "white",
            "ticks": ""
           },
           "baxis": {
            "gridcolor": "white",
            "linecolor": "white",
            "ticks": ""
           },
           "bgcolor": "#E5ECF6",
           "caxis": {
            "gridcolor": "white",
            "linecolor": "white",
            "ticks": ""
           }
          },
          "title": {
           "x": 0.05
          },
          "xaxis": {
           "automargin": true,
           "gridcolor": "white",
           "linecolor": "white",
           "ticks": "",
           "title": {
            "standoff": 15
           },
           "zerolinecolor": "white",
           "zerolinewidth": 2
          },
          "yaxis": {
           "automargin": true,
           "gridcolor": "white",
           "linecolor": "white",
           "ticks": "",
           "title": {
            "standoff": 15
           },
           "zerolinecolor": "white",
           "zerolinewidth": 2
          }
         }
        },
        "title": {
         "text": "Distribucion de ingresos por jobtitle"
        },
        "xaxis": {
         "anchor": "y",
         "domain": [
          0,
          1
         ]
        },
        "yaxis": {
         "anchor": "x",
         "domain": [
          0,
          1
         ],
         "title": {
          "text": "income"
         }
        }
       }
      }
     },
     "metadata": {},
     "output_type": "display_data"
    },
    {
     "data": {
      "application/vnd.plotly.v1+json": {
       "config": {
        "plotlyServerURL": "https://plot.ly"
       },
       "data": [
        {
         "alignmentgroup": "True",
         "hovertemplate": "gender=Female<br>income=%{y}<extra></extra>",
         "legendgroup": "Female",
         "marker": {
          "color": "#636efa"
         },
         "name": "Female",
         "notched": false,
         "offsetgroup": "Female",
         "orientation": "v",
         "showlegend": true,
         "type": "box",
         "x0": " ",
         "xaxis": "x",
         "y": [
          42363,
          90208,
          70890,
          67585,
          112976,
          106524,
          62759,
          84007,
          86220,
          95584,
          73357,
          88422,
          99545,
          92067,
          72038,
          71182,
          112392,
          80306,
          74523,
          113252,
          84638,
          70643,
          74167,
          102120,
          97376,
          89415,
          88037,
          71105,
          62692,
          71193,
          76286,
          82453,
          83034,
          127085,
          52633,
          101154,
          113640,
          46263,
          74938,
          103384,
          77584,
          80192,
          46693,
          88152,
          127156,
          92622,
          51331,
          77032,
          146190,
          96045,
          96061,
          111342,
          117554,
          109369,
          92358,
          91978,
          89822,
          87684,
          62040,
          84132,
          88047,
          65012,
          59251,
          78462,
          42722,
          63695,
          53956,
          108495,
          87608,
          57469,
          91049,
          98519,
          91713,
          88994,
          113180,
          103763,
          64844,
          129132,
          93470,
          66529,
          100115,
          86423,
          133495,
          84844,
          108241,
          106478,
          46903,
          44325,
          60070,
          72542,
          80981,
          83499,
          106788,
          108922,
          127062,
          49830,
          82338,
          86036,
          100070,
          129609,
          72827,
          100416,
          78623,
          106158,
          89411,
          95687,
          120294,
          76773,
          98010,
          91099,
          128970,
          121376,
          64008,
          129406,
          54245,
          67530,
          81826,
          65711,
          73801,
          93268,
          103133,
          69254,
          97000,
          40341,
          102247,
          92722,
          72120,
          62260,
          84021,
          37026,
          55954,
          108820,
          100014,
          108288,
          114007,
          94973,
          37780,
          121210,
          95169,
          75901,
          92276,
          92458,
          87435,
          130251,
          106560,
          56172,
          58807,
          126626,
          104202,
          78750,
          93306,
          56745,
          59458,
          71824,
          91568,
          81995,
          66125,
          98321,
          155203,
          73306,
          76865,
          125770,
          119931,
          71794,
          87998,
          77275,
          130720,
          86675,
          56954,
          112491,
          36548,
          88781,
          129226,
          160614,
          89570,
          73989,
          67762,
          77751,
          87150,
          79291,
          57070,
          102201,
          57782,
          71772,
          66438,
          79674,
          85161,
          114479,
          71946,
          62054,
          64624,
          105410,
          90005,
          70374,
          104355,
          75811,
          107025,
          40056,
          70846,
          79707,
          62377,
          75932,
          82755,
          78021,
          116758,
          96500,
          49632,
          76700,
          100516,
          84935,
          101249,
          144146,
          69268,
          127561,
          77223,
          92080,
          118762,
          85398,
          123172,
          107476,
          34208,
          82345,
          49303,
          98456,
          129885,
          97797,
          91566,
          131608,
          65750,
          76806,
          114733,
          89170,
          78751,
          75518,
          75294,
          127608,
          116069,
          86122,
          68300,
          94590,
          87418,
          104082,
          94354,
          90713,
          113009,
          72030,
          66203,
          67210,
          115383,
          120697,
          125770,
          97846,
          76522,
          87131,
          56656,
          70157,
          98366,
          73798,
          94763,
          101534,
          90426,
          99369,
          55845,
          48570,
          113274,
          86241,
          100433,
          123242,
          87585,
          45747,
          36972,
          64754,
          132267,
          112507,
          100316,
          111120,
          76523,
          91160,
          66935,
          138365,
          59006,
          74305,
          38451,
          113465,
          66377,
          55569,
          119033,
          106315,
          105598,
          78084,
          41603,
          78002,
          81866,
          91711,
          93805,
          109931,
          88365,
          79334,
          98512,
          78910,
          125574,
          106963,
          111770,
          57672,
          97768,
          76103,
          93441,
          108366,
          85453,
          79765,
          129683,
          76908,
          93696,
          83095,
          81325,
          102106,
          80635,
          73404,
          133741,
          104329,
          102745,
          146008,
          68364,
          96584,
          102265,
          81249,
          101791,
          77584,
          88175,
          65816,
          73685,
          55560,
          106452,
          87575,
          113140,
          100505,
          104589,
          61081,
          79237,
          108475,
          99942,
          108296,
          126370,
          122142,
          75919,
          103416,
          104468,
          117202,
          139141,
          134109,
          66887,
          124847,
          50758,
          75316,
          111502,
          116642,
          113283,
          86538,
          77742,
          114171,
          106204,
          111041,
          95795,
          98575,
          117131,
          38613,
          62866,
          108731,
          47739,
          64920,
          79177,
          136215,
          63327,
          52578,
          114436,
          99543,
          60983,
          55885,
          107064,
          107370,
          39741,
          103242,
          120112,
          83308,
          36585,
          115344,
          96982,
          80030,
          84047,
          84764,
          120277,
          81661,
          149893,
          130417,
          38855,
          96232,
          86563,
          72248,
          125828,
          75017,
          100415,
          145095,
          115641,
          119058,
          106722,
          91129,
          92891,
          141005,
          131411,
          96900,
          88820,
          112489,
          53839,
          64807,
          41151,
          114031,
          119893,
          94154,
          114906,
          115981,
          93018,
          69928,
          104623,
          63914,
          90474,
          60026,
          108587,
          139042,
          101423,
          95995,
          99472,
          135638,
          121457,
          114141,
          107572,
          142505,
          106279,
          106916,
          92257,
          59377,
          76726,
          112502,
          101515,
          67089,
          97789,
          54945,
          121239,
          87314,
          124530,
          67150,
          63300,
          60271,
          66028,
          91300,
          90999,
          86795,
          110627,
          97696,
          62738,
          112169,
          98796,
          96665,
          91030,
          106945,
          81545,
          80789,
          85253,
          62644
         ],
         "y0": " ",
         "yaxis": "y"
        },
        {
         "alignmentgroup": "True",
         "hovertemplate": "gender=Male<br>income=%{y}<extra></extra>",
         "legendgroup": "Male",
         "marker": {
          "color": "#EF553B"
         },
         "name": "Male",
         "notched": false,
         "offsetgroup": "Male",
         "orientation": "v",
         "showlegend": true,
         "type": "box",
         "x0": " ",
         "xaxis": "x",
         "y": [
          108476,
          108080,
          99464,
          97523,
          102261,
          90386,
          108446,
          83323,
          85205,
          132823,
          100305,
          88566,
          104271,
          66359,
          103007,
          96040,
          91674,
          92928,
          78986,
          96355,
          87121,
          88724,
          58219,
          119024,
          81503,
          86886,
          90780,
          89474,
          112466,
          97328,
          86766,
          88814,
          82832,
          66168,
          59212,
          55189,
          131311,
          50401,
          83031,
          111019,
          48755,
          59044,
          146615,
          69462,
          119162,
          68466,
          109419,
          80355,
          82534,
          127769,
          52290,
          47036,
          76517,
          90368,
          106194,
          97414,
          110731,
          125572,
          72754,
          135013,
          101173,
          126828,
          102716,
          77793,
          83758,
          40187,
          98531,
          104435,
          67617,
          119381,
          68639,
          68295,
          103107,
          97625,
          115165,
          86516,
          69855,
          114421,
          79208,
          142105,
          57783,
          71858,
          100183,
          61000,
          109623,
          110049,
          120593,
          90685,
          106896,
          129425,
          93073,
          87352,
          139760,
          102815,
          101262,
          58054,
          100091,
          103479,
          74073,
          64852,
          106887,
          77309,
          88482,
          80135,
          57398,
          107140,
          89559,
          120156,
          102966,
          112941,
          102736,
          90024,
          75506,
          61164,
          157410,
          50601,
          65907,
          80937,
          90330,
          109345,
          66084,
          98900,
          78113,
          130826,
          85928,
          98515,
          114680,
          92687,
          72301,
          67749,
          104526,
          80494,
          74316,
          104657,
          123422,
          62097,
          102910,
          56318,
          64958,
          88213,
          100859,
          83025,
          95964,
          102108,
          60736,
          82126,
          69878,
          132873,
          65164,
          94492,
          100463,
          88571,
          87409,
          133927,
          90482,
          107366,
          77793,
          84930,
          69367,
          116751,
          139841,
          60892,
          99543,
          111903,
          104361,
          155834,
          83620,
          89678,
          109346,
          98100,
          68797,
          120154,
          140445,
          85306,
          143887,
          133472,
          62753,
          128173,
          157852,
          113730,
          68403,
          176789,
          59399,
          102473,
          90307,
          79144,
          150467,
          70088,
          117629,
          118653,
          134758,
          87134,
          65547,
          96777,
          61527,
          118629,
          80171,
          112134,
          121682,
          113544,
          78564,
          91905,
          121728,
          54817,
          37898,
          79544,
          124817,
          123114,
          82850,
          121949,
          122037,
          56309,
          90002,
          91066,
          118088,
          92099,
          138851,
          131275,
          89648,
          112854,
          155676,
          135781,
          66407,
          143189,
          105800,
          124871,
          83894,
          85948,
          92289,
          75397,
          102597,
          72945,
          145632,
          130093,
          53220,
          75227,
          104314,
          83262,
          67040,
          77655,
          89811,
          106893,
          154039,
          116774,
          98281,
          121821,
          113122,
          92154,
          110643,
          103908,
          94927,
          76654,
          107859,
          85702,
          115567,
          118888,
          75833,
          123371,
          83774,
          69320,
          110746,
          105632,
          117648,
          85986,
          78132,
          135073,
          118231,
          86651,
          114693,
          116875,
          64468,
          116834,
          81988,
          148178,
          68384,
          106056,
          110886,
          128669,
          88725,
          149771,
          98535,
          88749,
          126100,
          110594,
          157644,
          105601,
          100769,
          82244,
          70311,
          100465,
          83264,
          126375,
          43076,
          111726,
          112188,
          98959,
          77881,
          65225,
          78472,
          126269,
          106233,
          127013,
          106146,
          90736,
          66611,
          150914,
          70559,
          69734,
          91504,
          100183,
          98165,
          95754,
          57915,
          121506,
          121151,
          87682,
          114029,
          67323,
          68049,
          93335,
          111043,
          58130,
          90542,
          124891,
          134757,
          125339,
          105795,
          75238,
          103978,
          165229,
          118322,
          106883,
          125164,
          89225,
          101716,
          79142,
          97240,
          81301,
          79462,
          72497,
          84803,
          79274,
          49622,
          129620,
          87848,
          51906,
          71590,
          63928,
          83333,
          92797,
          93067,
          72422,
          120159,
          104744,
          95795,
          103156,
          92760,
          93742,
          124470,
          132323,
          70595,
          71278,
          53855,
          98423,
          126239,
          101133,
          92516,
          93320,
          106584,
          90612,
          82790,
          84628,
          110636,
          135106,
          100160,
          157169,
          88230,
          83674,
          118314,
          119522,
          84592,
          121589,
          71371,
          96582,
          108778,
          128520,
          62753,
          128680,
          152710,
          109136,
          84878,
          94745,
          95505,
          103181,
          120096,
          98499,
          152081,
          134450,
          100819,
          157277,
          68175,
          122624,
          101273,
          59334,
          152625,
          90526,
          133910,
          77839,
          61018,
          118093,
          106503,
          84683,
          67913,
          155826,
          138184,
          106798,
          82343,
          78625,
          99134,
          107818,
          114621,
          104290,
          111403,
          93802,
          138163,
          115613,
          64994,
          100941,
          163208,
          51837,
          114048,
          139068,
          136209,
          121910,
          82057,
          96023,
          82277,
          73142,
          107065,
          120579,
          49553,
          110157,
          93054,
          81515,
          95898,
          90000,
          111896,
          130082,
          81057,
          117215,
          141186,
          114943,
          107640,
          80259,
          61589,
          74829,
          91342,
          101140,
          62600,
          65313,
          123153,
          57500,
          115604,
          55555,
          124166,
          101050,
          160460,
          85947,
          135512,
          124151,
          115742,
          93358,
          98995,
          109645,
          61609,
          122352,
          86650,
          101284,
          119794,
          96609,
          84725,
          59493,
          131980,
          78836,
          112719,
          103328,
          68643,
          67296,
          116803,
          86375,
          49449,
          118282,
          85648,
          179726,
          108719,
          109832,
          127250,
          81547,
          95798,
          124782,
          126256,
          124660,
          128730,
          136836,
          89272,
          93855,
          36642,
          112604,
          123333,
          105771,
          99643,
          92468,
          91447,
          45915,
          113031,
          132815,
          110078,
          106918,
          106045,
          107479,
          109606,
          88195,
          92950,
          82164,
          119069,
          120574,
          97311,
          102593,
          108977,
          92347,
          97376,
          123108
         ],
         "y0": " ",
         "yaxis": "y"
        }
       ],
       "layout": {
        "boxmode": "group",
        "legend": {
         "title": {
          "text": "gender"
         },
         "tracegroupgap": 0
        },
        "template": {
         "data": {
          "bar": [
           {
            "error_x": {
             "color": "#2a3f5f"
            },
            "error_y": {
             "color": "#2a3f5f"
            },
            "marker": {
             "line": {
              "color": "#E5ECF6",
              "width": 0.5
             },
             "pattern": {
              "fillmode": "overlay",
              "size": 10,
              "solidity": 0.2
             }
            },
            "type": "bar"
           }
          ],
          "barpolar": [
           {
            "marker": {
             "line": {
              "color": "#E5ECF6",
              "width": 0.5
             },
             "pattern": {
              "fillmode": "overlay",
              "size": 10,
              "solidity": 0.2
             }
            },
            "type": "barpolar"
           }
          ],
          "carpet": [
           {
            "aaxis": {
             "endlinecolor": "#2a3f5f",
             "gridcolor": "white",
             "linecolor": "white",
             "minorgridcolor": "white",
             "startlinecolor": "#2a3f5f"
            },
            "baxis": {
             "endlinecolor": "#2a3f5f",
             "gridcolor": "white",
             "linecolor": "white",
             "minorgridcolor": "white",
             "startlinecolor": "#2a3f5f"
            },
            "type": "carpet"
           }
          ],
          "choropleth": [
           {
            "colorbar": {
             "outlinewidth": 0,
             "ticks": ""
            },
            "type": "choropleth"
           }
          ],
          "contour": [
           {
            "colorbar": {
             "outlinewidth": 0,
             "ticks": ""
            },
            "colorscale": [
             [
              0,
              "#0d0887"
             ],
             [
              0.1111111111111111,
              "#46039f"
             ],
             [
              0.2222222222222222,
              "#7201a8"
             ],
             [
              0.3333333333333333,
              "#9c179e"
             ],
             [
              0.4444444444444444,
              "#bd3786"
             ],
             [
              0.5555555555555556,
              "#d8576b"
             ],
             [
              0.6666666666666666,
              "#ed7953"
             ],
             [
              0.7777777777777778,
              "#fb9f3a"
             ],
             [
              0.8888888888888888,
              "#fdca26"
             ],
             [
              1,
              "#f0f921"
             ]
            ],
            "type": "contour"
           }
          ],
          "contourcarpet": [
           {
            "colorbar": {
             "outlinewidth": 0,
             "ticks": ""
            },
            "type": "contourcarpet"
           }
          ],
          "heatmap": [
           {
            "colorbar": {
             "outlinewidth": 0,
             "ticks": ""
            },
            "colorscale": [
             [
              0,
              "#0d0887"
             ],
             [
              0.1111111111111111,
              "#46039f"
             ],
             [
              0.2222222222222222,
              "#7201a8"
             ],
             [
              0.3333333333333333,
              "#9c179e"
             ],
             [
              0.4444444444444444,
              "#bd3786"
             ],
             [
              0.5555555555555556,
              "#d8576b"
             ],
             [
              0.6666666666666666,
              "#ed7953"
             ],
             [
              0.7777777777777778,
              "#fb9f3a"
             ],
             [
              0.8888888888888888,
              "#fdca26"
             ],
             [
              1,
              "#f0f921"
             ]
            ],
            "type": "heatmap"
           }
          ],
          "heatmapgl": [
           {
            "colorbar": {
             "outlinewidth": 0,
             "ticks": ""
            },
            "colorscale": [
             [
              0,
              "#0d0887"
             ],
             [
              0.1111111111111111,
              "#46039f"
             ],
             [
              0.2222222222222222,
              "#7201a8"
             ],
             [
              0.3333333333333333,
              "#9c179e"
             ],
             [
              0.4444444444444444,
              "#bd3786"
             ],
             [
              0.5555555555555556,
              "#d8576b"
             ],
             [
              0.6666666666666666,
              "#ed7953"
             ],
             [
              0.7777777777777778,
              "#fb9f3a"
             ],
             [
              0.8888888888888888,
              "#fdca26"
             ],
             [
              1,
              "#f0f921"
             ]
            ],
            "type": "heatmapgl"
           }
          ],
          "histogram": [
           {
            "marker": {
             "pattern": {
              "fillmode": "overlay",
              "size": 10,
              "solidity": 0.2
             }
            },
            "type": "histogram"
           }
          ],
          "histogram2d": [
           {
            "colorbar": {
             "outlinewidth": 0,
             "ticks": ""
            },
            "colorscale": [
             [
              0,
              "#0d0887"
             ],
             [
              0.1111111111111111,
              "#46039f"
             ],
             [
              0.2222222222222222,
              "#7201a8"
             ],
             [
              0.3333333333333333,
              "#9c179e"
             ],
             [
              0.4444444444444444,
              "#bd3786"
             ],
             [
              0.5555555555555556,
              "#d8576b"
             ],
             [
              0.6666666666666666,
              "#ed7953"
             ],
             [
              0.7777777777777778,
              "#fb9f3a"
             ],
             [
              0.8888888888888888,
              "#fdca26"
             ],
             [
              1,
              "#f0f921"
             ]
            ],
            "type": "histogram2d"
           }
          ],
          "histogram2dcontour": [
           {
            "colorbar": {
             "outlinewidth": 0,
             "ticks": ""
            },
            "colorscale": [
             [
              0,
              "#0d0887"
             ],
             [
              0.1111111111111111,
              "#46039f"
             ],
             [
              0.2222222222222222,
              "#7201a8"
             ],
             [
              0.3333333333333333,
              "#9c179e"
             ],
             [
              0.4444444444444444,
              "#bd3786"
             ],
             [
              0.5555555555555556,
              "#d8576b"
             ],
             [
              0.6666666666666666,
              "#ed7953"
             ],
             [
              0.7777777777777778,
              "#fb9f3a"
             ],
             [
              0.8888888888888888,
              "#fdca26"
             ],
             [
              1,
              "#f0f921"
             ]
            ],
            "type": "histogram2dcontour"
           }
          ],
          "mesh3d": [
           {
            "colorbar": {
             "outlinewidth": 0,
             "ticks": ""
            },
            "type": "mesh3d"
           }
          ],
          "parcoords": [
           {
            "line": {
             "colorbar": {
              "outlinewidth": 0,
              "ticks": ""
             }
            },
            "type": "parcoords"
           }
          ],
          "pie": [
           {
            "automargin": true,
            "type": "pie"
           }
          ],
          "scatter": [
           {
            "fillpattern": {
             "fillmode": "overlay",
             "size": 10,
             "solidity": 0.2
            },
            "type": "scatter"
           }
          ],
          "scatter3d": [
           {
            "line": {
             "colorbar": {
              "outlinewidth": 0,
              "ticks": ""
             }
            },
            "marker": {
             "colorbar": {
              "outlinewidth": 0,
              "ticks": ""
             }
            },
            "type": "scatter3d"
           }
          ],
          "scattercarpet": [
           {
            "marker": {
             "colorbar": {
              "outlinewidth": 0,
              "ticks": ""
             }
            },
            "type": "scattercarpet"
           }
          ],
          "scattergeo": [
           {
            "marker": {
             "colorbar": {
              "outlinewidth": 0,
              "ticks": ""
             }
            },
            "type": "scattergeo"
           }
          ],
          "scattergl": [
           {
            "marker": {
             "colorbar": {
              "outlinewidth": 0,
              "ticks": ""
             }
            },
            "type": "scattergl"
           }
          ],
          "scattermapbox": [
           {
            "marker": {
             "colorbar": {
              "outlinewidth": 0,
              "ticks": ""
             }
            },
            "type": "scattermapbox"
           }
          ],
          "scatterpolar": [
           {
            "marker": {
             "colorbar": {
              "outlinewidth": 0,
              "ticks": ""
             }
            },
            "type": "scatterpolar"
           }
          ],
          "scatterpolargl": [
           {
            "marker": {
             "colorbar": {
              "outlinewidth": 0,
              "ticks": ""
             }
            },
            "type": "scatterpolargl"
           }
          ],
          "scatterternary": [
           {
            "marker": {
             "colorbar": {
              "outlinewidth": 0,
              "ticks": ""
             }
            },
            "type": "scatterternary"
           }
          ],
          "surface": [
           {
            "colorbar": {
             "outlinewidth": 0,
             "ticks": ""
            },
            "colorscale": [
             [
              0,
              "#0d0887"
             ],
             [
              0.1111111111111111,
              "#46039f"
             ],
             [
              0.2222222222222222,
              "#7201a8"
             ],
             [
              0.3333333333333333,
              "#9c179e"
             ],
             [
              0.4444444444444444,
              "#bd3786"
             ],
             [
              0.5555555555555556,
              "#d8576b"
             ],
             [
              0.6666666666666666,
              "#ed7953"
             ],
             [
              0.7777777777777778,
              "#fb9f3a"
             ],
             [
              0.8888888888888888,
              "#fdca26"
             ],
             [
              1,
              "#f0f921"
             ]
            ],
            "type": "surface"
           }
          ],
          "table": [
           {
            "cells": {
             "fill": {
              "color": "#EBF0F8"
             },
             "line": {
              "color": "white"
             }
            },
            "header": {
             "fill": {
              "color": "#C8D4E3"
             },
             "line": {
              "color": "white"
             }
            },
            "type": "table"
           }
          ]
         },
         "layout": {
          "annotationdefaults": {
           "arrowcolor": "#2a3f5f",
           "arrowhead": 0,
           "arrowwidth": 1
          },
          "autotypenumbers": "strict",
          "coloraxis": {
           "colorbar": {
            "outlinewidth": 0,
            "ticks": ""
           }
          },
          "colorscale": {
           "diverging": [
            [
             0,
             "#8e0152"
            ],
            [
             0.1,
             "#c51b7d"
            ],
            [
             0.2,
             "#de77ae"
            ],
            [
             0.3,
             "#f1b6da"
            ],
            [
             0.4,
             "#fde0ef"
            ],
            [
             0.5,
             "#f7f7f7"
            ],
            [
             0.6,
             "#e6f5d0"
            ],
            [
             0.7,
             "#b8e186"
            ],
            [
             0.8,
             "#7fbc41"
            ],
            [
             0.9,
             "#4d9221"
            ],
            [
             1,
             "#276419"
            ]
           ],
           "sequential": [
            [
             0,
             "#0d0887"
            ],
            [
             0.1111111111111111,
             "#46039f"
            ],
            [
             0.2222222222222222,
             "#7201a8"
            ],
            [
             0.3333333333333333,
             "#9c179e"
            ],
            [
             0.4444444444444444,
             "#bd3786"
            ],
            [
             0.5555555555555556,
             "#d8576b"
            ],
            [
             0.6666666666666666,
             "#ed7953"
            ],
            [
             0.7777777777777778,
             "#fb9f3a"
            ],
            [
             0.8888888888888888,
             "#fdca26"
            ],
            [
             1,
             "#f0f921"
            ]
           ],
           "sequentialminus": [
            [
             0,
             "#0d0887"
            ],
            [
             0.1111111111111111,
             "#46039f"
            ],
            [
             0.2222222222222222,
             "#7201a8"
            ],
            [
             0.3333333333333333,
             "#9c179e"
            ],
            [
             0.4444444444444444,
             "#bd3786"
            ],
            [
             0.5555555555555556,
             "#d8576b"
            ],
            [
             0.6666666666666666,
             "#ed7953"
            ],
            [
             0.7777777777777778,
             "#fb9f3a"
            ],
            [
             0.8888888888888888,
             "#fdca26"
            ],
            [
             1,
             "#f0f921"
            ]
           ]
          },
          "colorway": [
           "#636efa",
           "#EF553B",
           "#00cc96",
           "#ab63fa",
           "#FFA15A",
           "#19d3f3",
           "#FF6692",
           "#B6E880",
           "#FF97FF",
           "#FECB52"
          ],
          "font": {
           "color": "#2a3f5f"
          },
          "geo": {
           "bgcolor": "white",
           "lakecolor": "white",
           "landcolor": "#E5ECF6",
           "showlakes": true,
           "showland": true,
           "subunitcolor": "white"
          },
          "hoverlabel": {
           "align": "left"
          },
          "hovermode": "closest",
          "mapbox": {
           "style": "light"
          },
          "paper_bgcolor": "white",
          "plot_bgcolor": "#E5ECF6",
          "polar": {
           "angularaxis": {
            "gridcolor": "white",
            "linecolor": "white",
            "ticks": ""
           },
           "bgcolor": "#E5ECF6",
           "radialaxis": {
            "gridcolor": "white",
            "linecolor": "white",
            "ticks": ""
           }
          },
          "scene": {
           "xaxis": {
            "backgroundcolor": "#E5ECF6",
            "gridcolor": "white",
            "gridwidth": 2,
            "linecolor": "white",
            "showbackground": true,
            "ticks": "",
            "zerolinecolor": "white"
           },
           "yaxis": {
            "backgroundcolor": "#E5ECF6",
            "gridcolor": "white",
            "gridwidth": 2,
            "linecolor": "white",
            "showbackground": true,
            "ticks": "",
            "zerolinecolor": "white"
           },
           "zaxis": {
            "backgroundcolor": "#E5ECF6",
            "gridcolor": "white",
            "gridwidth": 2,
            "linecolor": "white",
            "showbackground": true,
            "ticks": "",
            "zerolinecolor": "white"
           }
          },
          "shapedefaults": {
           "line": {
            "color": "#2a3f5f"
           }
          },
          "ternary": {
           "aaxis": {
            "gridcolor": "white",
            "linecolor": "white",
            "ticks": ""
           },
           "baxis": {
            "gridcolor": "white",
            "linecolor": "white",
            "ticks": ""
           },
           "bgcolor": "#E5ECF6",
           "caxis": {
            "gridcolor": "white",
            "linecolor": "white",
            "ticks": ""
           }
          },
          "title": {
           "x": 0.05
          },
          "xaxis": {
           "automargin": true,
           "gridcolor": "white",
           "linecolor": "white",
           "ticks": "",
           "title": {
            "standoff": 15
           },
           "zerolinecolor": "white",
           "zerolinewidth": 2
          },
          "yaxis": {
           "automargin": true,
           "gridcolor": "white",
           "linecolor": "white",
           "ticks": "",
           "title": {
            "standoff": 15
           },
           "zerolinecolor": "white",
           "zerolinewidth": 2
          }
         }
        },
        "title": {
         "text": "Distribucion de ingresos por gender"
        },
        "xaxis": {
         "anchor": "y",
         "domain": [
          0,
          1
         ]
        },
        "yaxis": {
         "anchor": "x",
         "domain": [
          0,
          1
         ],
         "title": {
          "text": "income"
         }
        }
       }
      }
     },
     "metadata": {},
     "output_type": "display_data"
    },
    {
     "data": {
      "application/vnd.plotly.v1+json": {
       "config": {
        "plotlyServerURL": "https://plot.ly"
       },
       "data": [
        {
         "alignmentgroup": "True",
         "hovertemplate": "age=18<br>income=%{y}<extra></extra>",
         "legendgroup": "18",
         "marker": {
          "color": "#636efa"
         },
         "name": "18",
         "notched": false,
         "offsetgroup": "18",
         "orientation": "v",
         "showlegend": true,
         "type": "box",
         "x0": " ",
         "xaxis": "x",
         "y": [
          42363,
          97523,
          62759,
          90780,
          89474,
          97328,
          59212,
          55189,
          80355,
          47036,
          78462,
          42722,
          69855,
          88482,
          80135,
          75506,
          56318,
          71824,
          85306,
          56309,
          34208,
          115567,
          75294,
          45747,
          66935,
          41603,
          59334,
          64920,
          55555
         ],
         "y0": " ",
         "yaxis": "y"
        },
        {
         "alignmentgroup": "True",
         "hovertemplate": "age=21<br>income=%{y}<extra></extra>",
         "legendgroup": "21",
         "marker": {
          "color": "#EF553B"
         },
         "name": "21",
         "notched": false,
         "offsetgroup": "21",
         "orientation": "v",
         "showlegend": true,
         "type": "box",
         "x0": " ",
         "xaxis": "x",
         "y": [
          108476,
          90386,
          132823,
          91674,
          70643,
          86886,
          48755,
          77032,
          91978,
          103107,
          72301,
          92458,
          121682,
          89648,
          85398,
          89170,
          65816,
          61018,
          114621,
          65313
         ],
         "y0": " ",
         "yaxis": "y"
        },
        {
         "alignmentgroup": "True",
         "hovertemplate": "age=19<br>income=%{y}<extra></extra>",
         "legendgroup": "19",
         "marker": {
          "color": "#00cc96"
         },
         "name": "19",
         "notched": false,
         "offsetgroup": "19",
         "orientation": "v",
         "showlegend": true,
         "type": "box",
         "x0": " ",
         "xaxis": "x",
         "y": [
          90208,
          84007,
          100305,
          78986,
          88814,
          119162,
          64844,
          61000,
          58054,
          78113,
          37026,
          94492,
          60892,
          79291,
          80171,
          78021,
          90426,
          75238,
          63928,
          75919
         ],
         "y0": " ",
         "yaxis": "y"
        },
        {
         "alignmentgroup": "True",
         "hovertemplate": "age=20<br>income=%{y}<extra></extra>",
         "legendgroup": "20",
         "marker": {
          "color": "#ab63fa"
         },
         "name": "20",
         "notched": false,
         "offsetgroup": "20",
         "orientation": "v",
         "showlegend": true,
         "type": "box",
         "x0": " ",
         "xaxis": "x",
         "y": [
          108080,
          70890,
          67585,
          66359,
          76286,
          60070,
          74073,
          107140,
          69254,
          65164,
          99543,
          78564,
          37898,
          40056,
          62377,
          112854,
          92289,
          105601,
          66203,
          100183,
          55569,
          49622,
          76908,
          68175,
          38613,
          61589
         ],
         "y0": " ",
         "yaxis": "y"
        },
        {
         "alignmentgroup": "True",
         "hovertemplate": "age=26<br>income=%{y}<extra></extra>",
         "legendgroup": "26",
         "marker": {
          "color": "#FFA15A"
         },
         "name": "26",
         "notched": false,
         "offsetgroup": "26",
         "orientation": "v",
         "showlegend": true,
         "type": "box",
         "x0": " ",
         "xaxis": "x",
         "y": [
          99464,
          71182,
          80306,
          74167,
          68466,
          106194,
          63695,
          53956,
          77793,
          104435,
          77309,
          80494,
          61527,
          100516,
          72945,
          48570,
          111770,
          57672,
          81325,
          90526,
          78625,
          62866,
          36585
         ],
         "y0": " ",
         "yaxis": "y"
        },
        {
         "alignmentgroup": "True",
         "hovertemplate": "age=33<br>income=%{y}<extra></extra>",
         "legendgroup": "33",
         "marker": {
          "color": "#19d3f3"
         },
         "name": "33",
         "notched": false,
         "offsetgroup": "33",
         "orientation": "v",
         "showlegend": true,
         "type": "box",
         "x0": " ",
         "xaxis": "x",
         "y": [
          112976,
          84638,
          89415,
          83034,
          83758,
          46903,
          49830,
          87352,
          69878,
          100463,
          90482,
          71946,
          53220,
          77655,
          87418,
          88749,
          100465,
          73798,
          78910,
          53855,
          106584,
          81249,
          84878,
          50758,
          59493,
          63914
         ],
         "y0": " ",
         "yaxis": "y"
        },
        {
         "alignmentgroup": "True",
         "hovertemplate": "age=35<br>income=%{y}<extra></extra>",
         "legendgroup": "35",
         "marker": {
          "color": "#FF6692"
         },
         "name": "35",
         "notched": false,
         "offsetgroup": "35",
         "orientation": "v",
         "showlegend": true,
         "type": "box",
         "x0": " ",
         "xaxis": "x",
         "y": [
          106524,
          95584,
          72038,
          88566,
          103007,
          97376,
          84844,
          98900,
          58807,
          67762,
          90307,
          110886,
          98959,
          87131,
          92760,
          98423,
          97768,
          74829
         ],
         "y0": " ",
         "yaxis": "y"
        },
        {
         "alignmentgroup": "True",
         "hovertemplate": "age=24<br>income=%{y}<extra></extra>",
         "legendgroup": "24",
         "marker": {
          "color": "#B6E880"
         },
         "name": "24",
         "notched": false,
         "offsetgroup": "24",
         "orientation": "v",
         "showlegend": true,
         "type": "box",
         "x0": " ",
         "xaxis": "x",
         "y": [
          102261,
          99545,
          83323,
          85205,
          71105,
          66168,
          91049,
          79208,
          82338,
          67749,
          60736,
          104202,
          59399,
          57782,
          64624,
          49303,
          76522,
          81301,
          51906,
          71590,
          71371,
          66887,
          51837,
          80030
         ],
         "y0": " ",
         "yaxis": "y"
        },
        {
         "alignmentgroup": "True",
         "hovertemplate": "age=30<br>income=%{y}<extra></extra>",
         "legendgroup": "30",
         "marker": {
          "color": "#FF97FF"
         },
         "name": "30",
         "notched": false,
         "offsetgroup": "30",
         "orientation": "v",
         "showlegend": true,
         "type": "box",
         "x0": " ",
         "xaxis": "x",
         "y": [
          86220,
          92067,
          109369,
          115165,
          80981,
          40341,
          114007,
          83620,
          113122,
          76654,
          91566,
          83264,
          78472,
          70559,
          125164,
          38451,
          72497,
          138163,
          36642
         ],
         "y0": " ",
         "yaxis": "y"
        },
        {
         "alignmentgroup": "True",
         "hovertemplate": "age=27<br>income=%{y}<extra></extra>",
         "legendgroup": "27",
         "marker": {
          "color": "#FECB52"
         },
         "name": "27",
         "notched": false,
         "offsetgroup": "27",
         "orientation": "v",
         "showlegend": true,
         "type": "box",
         "x0": " ",
         "xaxis": "x",
         "y": [
          73357,
          96040,
          87608,
          44325,
          67530,
          65711,
          66084,
          114680,
          87435,
          66125,
          89678,
          54817,
          83262,
          57915,
          90542,
          66377,
          96584,
          55560,
          99134,
          57500
         ],
         "y0": " ",
         "yaxis": "y"
        },
        {
         "alignmentgroup": "True",
         "hovertemplate": "age=23<br>income=%{y}<extra></extra>",
         "legendgroup": "23",
         "marker": {
          "color": "#636efa"
         },
         "name": "23",
         "notched": false,
         "offsetgroup": "23",
         "orientation": "v",
         "showlegend": true,
         "type": "box",
         "x0": " ",
         "xaxis": "x",
         "y": [
          88422,
          46263,
          83031,
          59251,
          90685,
          103479,
          50601,
          85928,
          62753,
          62054,
          83894,
          64468,
          81988,
          110594,
          101534,
          91504,
          95754,
          79462,
          78084,
          92516,
          47739,
          55885
         ],
         "y0": " ",
         "yaxis": "y"
        },
        {
         "alignmentgroup": "True",
         "hovertemplate": "age=36<br>income=%{y}<extra></extra>",
         "legendgroup": "36",
         "marker": {
          "color": "#EF553B"
         },
         "name": "36",
         "notched": false,
         "offsetgroup": "36",
         "orientation": "v",
         "showlegend": true,
         "type": "box",
         "x0": " ",
         "xaxis": "x",
         "y": [
          108446,
          74938,
          92622,
          91713,
          71858,
          130826,
          88213,
          119931,
          112134,
          82755,
          77223,
          65750,
          75518,
          65225,
          76523,
          87848,
          93067,
          109136,
          88175,
          94745,
          134450,
          79177,
          49553,
          115742,
          86375,
          109832,
          93855
         ],
         "y0": " ",
         "yaxis": "y"
        },
        {
         "alignmentgroup": "True",
         "hovertemplate": "age=34<br>income=%{y}<extra></extra>",
         "legendgroup": "34",
         "marker": {
          "color": "#00cc96"
         },
         "name": "34",
         "notched": false,
         "offsetgroup": "34",
         "orientation": "v",
         "showlegend": true,
         "type": "box",
         "x0": " ",
         "xaxis": "x",
         "y": [
          104271,
          86766,
          51331,
          96061,
          54245,
          90330,
          108288,
          106560,
          56172,
          114479,
          79707,
          91066,
          49632,
          82345,
          67210,
          102745,
          99942,
          75316,
          38855,
          45915
         ],
         "y0": " ",
         "yaxis": "y"
        },
        {
         "alignmentgroup": "True",
         "hovertemplate": "age=38<br>income=%{y}<extra></extra>",
         "legendgroup": "38",
         "marker": {
          "color": "#ab63fa"
         },
         "name": "38",
         "notched": false,
         "offsetgroup": "38",
         "orientation": "v",
         "showlegend": true,
         "type": "box",
         "x0": " ",
         "xaxis": "x",
         "y": [
          112392,
          127156,
          101173,
          114421,
          102966,
          80937,
          93306,
          77751,
          71772,
          75932,
          83774,
          82244,
          84628,
          135106,
          111041,
          53839,
          76726
         ],
         "y0": " ",
         "yaxis": "y"
        },
        {
         "alignmentgroup": "True",
         "hovertemplate": "age=22<br>income=%{y}<extra></extra>",
         "legendgroup": "22",
         "marker": {
          "color": "#FFA15A"
         },
         "name": "22",
         "notched": false,
         "offsetgroup": "22",
         "orientation": "v",
         "showlegend": true,
         "type": "box",
         "x0": " ",
         "xaxis": "x",
         "y": [
          74523,
          58219,
          81503,
          102120,
          88037,
          50401,
          96045,
          40187,
          57783,
          57398,
          37780,
          91568,
          76865,
          56954,
          36548,
          107025,
          114733,
          69320,
          68300,
          90736,
          69734,
          72422,
          103156,
          70595,
          67913,
          60026
         ],
         "y0": " ",
         "yaxis": "y"
        },
        {
         "alignmentgroup": "True",
         "hovertemplate": "age=45<br>income=%{y}<extra></extra>",
         "legendgroup": "45",
         "marker": {
          "color": "#19d3f3"
         },
         "name": "45",
         "notched": false,
         "offsetgroup": "45",
         "orientation": "v",
         "showlegend": true,
         "type": "box",
         "x0": " ",
         "xaxis": "x",
         "y": [
          113252,
          123422,
          84930,
          129226,
          85161,
          70846,
          122037,
          76700,
          144146,
          75397,
          89811,
          98535,
          59006,
          74305,
          106963,
          101273,
          122142,
          113283,
          104290,
          149893,
          81515,
          75017,
          85947,
          67296,
          67150
         ],
         "y0": " ",
         "yaxis": "y"
        },
        {
         "alignmentgroup": "True",
         "hovertemplate": "age=31<br>income=%{y}<extra></extra>",
         "legendgroup": "31",
         "marker": {
          "color": "#FF6692"
         },
         "name": "31",
         "notched": false,
         "offsetgroup": "31",
         "orientation": "v",
         "showlegend": true,
         "type": "box",
         "x0": " ",
         "xaxis": "x",
         "y": [
          92928,
          88724,
          62692,
          82832,
          52633,
          101154,
          69462,
          81826,
          55954,
          77275,
          57070,
          66407,
          75227,
          110643,
          79142,
          82790,
          62753,
          106503,
          52578,
          80259,
          93358,
          49449
         ],
         "y0": " ",
         "yaxis": "y"
        },
        {
         "alignmentgroup": "True",
         "hovertemplate": "age=29<br>income=%{y}<extra></extra>",
         "legendgroup": "29",
         "marker": {
          "color": "#B6E880"
         },
         "name": "29",
         "notched": false,
         "offsetgroup": "29",
         "orientation": "v",
         "showlegend": true,
         "type": "box",
         "x0": " ",
         "xaxis": "x",
         "y": [
          96355,
          111019,
          146615,
          82534,
          89822,
          88047,
          67617,
          72542,
          89559,
          61164,
          65907,
          74316,
          84021,
          56745,
          59458,
          73306,
          92099,
          70311,
          64754,
          73142,
          86650,
          84725
         ],
         "y0": " ",
         "yaxis": "y"
        },
        {
         "alignmentgroup": "True",
         "hovertemplate": "age=32<br>income=%{y}<extra></extra>",
         "legendgroup": "32",
         "marker": {
          "color": "#FF97FF"
         },
         "name": "32",
         "notched": false,
         "offsetgroup": "32",
         "orientation": "v",
         "showlegend": true,
         "type": "box",
         "x0": " ",
         "xaxis": "x",
         "y": [
          87121,
          46693,
          90368,
          98519,
          78623,
          69367,
          117629,
          118088,
          103908,
          78132,
          115383,
          87585,
          71278,
          73404,
          128680,
          84047,
          59377
         ],
         "y0": " ",
         "yaxis": "y"
        },
        {
         "alignmentgroup": "True",
         "hovertemplate": "age=25<br>income=%{y}<extra></extra>",
         "legendgroup": "25",
         "marker": {
          "color": "#FECB52"
         },
         "name": "25",
         "notched": false,
         "offsetgroup": "25",
         "orientation": "v",
         "showlegend": true,
         "type": "box",
         "x0": " ",
         "xaxis": "x",
         "y": [
          119024,
          131311,
          80192,
          92358,
          92687,
          65547,
          68384,
          43076,
          58130,
          119033,
          103181,
          64994,
          39741,
          81057
         ],
         "y0": " ",
         "yaxis": "y"
        },
        {
         "alignmentgroup": "True",
         "hovertemplate": "age=40<br>income=%{y}<extra></extra>",
         "legendgroup": "40",
         "marker": {
          "color": "#636efa"
         },
         "name": "40",
         "notched": false,
         "offsetgroup": "40",
         "orientation": "v",
         "showlegend": true,
         "type": "box",
         "x0": " ",
         "xaxis": "x",
         "y": [
          112466,
          62040,
          97414,
          68295,
          102815,
          109345,
          92276,
          68797,
          98281,
          116834,
          88725,
          77881,
          55845,
          87682,
          124891,
          88230,
          84592,
          120096,
          100505,
          100415
         ],
         "y0": " ",
         "yaxis": "y"
        },
        {
         "alignmentgroup": "True",
         "hovertemplate": "age=49<br>income=%{y}<extra></extra>",
         "legendgroup": "49",
         "marker": {
          "color": "#EF553B"
         },
         "name": "49",
         "notched": false,
         "offsetgroup": "49",
         "orientation": "v",
         "showlegend": true,
         "type": "box",
         "x0": " ",
         "xaxis": "x",
         "y": [
          71193,
          109419,
          72754,
          108495,
          102716,
          142105,
          106887,
          104657,
          95169,
          126626,
          102201,
          118629,
          104355,
          75811,
          96500,
          94927,
          76806,
          126100,
          120697,
          125770,
          92797,
          93320,
          82277,
          96232,
          91342,
          101140,
          92891,
          67089
         ],
         "y0": " ",
         "yaxis": "y"
        },
        {
         "alignmentgroup": "True",
         "hovertemplate": "age=41<br>income=%{y}<extra></extra>",
         "legendgroup": "41",
         "marker": {
          "color": "#00cc96"
         },
         "name": "41",
         "notched": false,
         "offsetgroup": "41",
         "orientation": "v",
         "showlegend": true,
         "type": "box",
         "x0": " ",
         "xaxis": "x",
         "y": [
          82453,
          98531,
          88994,
          73801,
          100014,
          86675,
          73989,
          92080,
          104314,
          67040,
          113009,
          98366,
          36972,
          95795,
          77839,
          60983,
          117215,
          123153,
          91129,
          119794,
          108587
         ],
         "y0": " ",
         "yaxis": "y"
        },
        {
         "alignmentgroup": "True",
         "hovertemplate": "age=53<br>income=%{y}<extra></extra>",
         "legendgroup": "53",
         "marker": {
          "color": "#ab63fa"
         },
         "name": "53",
         "notched": false,
         "offsetgroup": "53",
         "orientation": "v",
         "showlegend": true,
         "type": "box",
         "x0": " ",
         "xaxis": "x",
         "y": [
          127085,
          126828,
          133495,
          93073,
          129609,
          112941,
          102910,
          66438,
          123114,
          129885,
          128669,
          106146,
          121506,
          111043,
          89225,
          101133,
          93696,
          102265,
          100941,
          107065,
          84764,
          130082,
          112489,
          126256,
          66028,
          112169
         ],
         "y0": " ",
         "yaxis": "y"
        },
        {
         "alignmentgroup": "True",
         "hovertemplate": "age=42<br>income=%{y}<extra></extra>",
         "legendgroup": "42",
         "marker": {
          "color": "#FFA15A"
         },
         "name": "42",
         "notched": false,
         "offsetgroup": "42",
         "orientation": "v",
         "showlegend": true,
         "type": "box",
         "x0": " ",
         "xaxis": "x",
         "y": [
          113640,
          83499,
          106788,
          90005,
          121821,
          111726,
          70157,
          114029,
          125339,
          103978,
          88365,
          125574,
          110636,
          120112,
          90000,
          119893
         ],
         "y0": " ",
         "yaxis": "y"
        },
        {
         "alignmentgroup": "True",
         "hovertemplate": "age=39<br>income=%{y}<extra></extra>",
         "legendgroup": "39",
         "marker": {
          "color": "#19d3f3"
         },
         "name": "39",
         "notched": false,
         "offsetgroup": "39",
         "orientation": "v",
         "showlegend": true,
         "type": "box",
         "x0": " ",
         "xaxis": "x",
         "y": [
          103384,
          77584,
          100183,
          106896,
          120294,
          76773,
          91099,
          75901,
          87409,
          77793,
          92154,
          116875,
          93335,
          106883,
          91711,
          61609,
          99643
         ],
         "y0": " ",
         "yaxis": "y"
        },
        {
         "alignmentgroup": "True",
         "hovertemplate": "age=28<br>income=%{y}<extra></extra>",
         "legendgroup": "28",
         "marker": {
          "color": "#FF6692"
         },
         "name": "28",
         "notched": false,
         "offsetgroup": "28",
         "orientation": "v",
         "showlegend": true,
         "type": "box",
         "x0": " ",
         "xaxis": "x",
         "y": [
          59044,
          52290,
          103763,
          97625,
          64008,
          62260,
          64958,
          95964,
          112491,
          89570,
          118653,
          82850,
          85986,
          68049,
          105795,
          105598,
          104329,
          73685,
          41151
         ],
         "y0": " ",
         "yaxis": "y"
        },
        {
         "alignmentgroup": "True",
         "hovertemplate": "age=48<br>income=%{y}<extra></extra>",
         "legendgroup": "48",
         "marker": {
          "color": "#B6E880"
         },
         "name": "48",
         "notched": false,
         "offsetgroup": "48",
         "orientation": "v",
         "showlegend": true,
         "type": "box",
         "x0": " ",
         "xaxis": "x",
         "y": [
          88152,
          111342,
          68639,
          100115,
          129406,
          103133,
          62097,
          109346,
          143887,
          113544,
          138851,
          106056,
          113465,
          79765,
          157169,
          61081,
          86538,
          86563,
          119058,
          114031,
          92347
         ],
         "y0": " ",
         "yaxis": "y"
        },
        {
         "alignmentgroup": "True",
         "hovertemplate": "age=47<br>income=%{y}<extra></extra>",
         "legendgroup": "47",
         "marker": {
          "color": "#FF97FF"
         },
         "name": "47",
         "notched": false,
         "offsetgroup": "47",
         "orientation": "v",
         "showlegend": true,
         "type": "box",
         "x0": " ",
         "xaxis": "x",
         "y": [
          146190,
          86516,
          64852,
          94973,
          82126,
          105410,
          91905,
          84935,
          106893,
          78002,
          126239,
          87575,
          103416,
          116642,
          155826,
          108731,
          93054,
          68643,
          99472,
          106916,
          63300
         ],
         "y0": " ",
         "yaxis": "y"
        },
        {
         "alignmentgroup": "True",
         "hovertemplate": "age=55<br>income=%{y}<extra></extra>",
         "legendgroup": "55",
         "marker": {
          "color": "#FECB52"
         },
         "name": "55",
         "notched": false,
         "offsetgroup": "55",
         "orientation": "v",
         "showlegend": true,
         "type": "box",
         "x0": " ",
         "xaxis": "x",
         "y": [
          127769,
          104361,
          71794,
          79144,
          118762,
          123172,
          75833,
          72030,
          112188,
          100433,
          138365,
          108366,
          85453,
          152710,
          111502,
          84683,
          163208,
          63327,
          121910,
          103242,
          95898,
          69928,
          103328,
          135638,
          91447,
          120574
         ],
         "y0": " ",
         "yaxis": "y"
        },
        {
         "alignmentgroup": "True",
         "hovertemplate": "age=43<br>income=%{y}<extra></extra>",
         "legendgroup": "43",
         "marker": {
          "color": "#636efa"
         },
         "name": "43",
         "notched": false,
         "offsetgroup": "43",
         "orientation": "v",
         "showlegend": true,
         "type": "box",
         "x0": " ",
         "xaxis": "x",
         "y": [
          117554,
          113180,
          127062,
          101262,
          98515,
          121949,
          116069,
          94354,
          67323,
          80635,
          106452,
          152625,
          82057,
          107640,
          108719
         ],
         "y0": " ",
         "yaxis": "y"
        },
        {
         "alignmentgroup": "True",
         "hovertemplate": "age=46<br>income=%{y}<extra></extra>",
         "legendgroup": "46",
         "marker": {
          "color": "#EF553B"
         },
         "name": "46",
         "notched": false,
         "offsetgroup": "46",
         "orientation": "v",
         "showlegend": true,
         "type": "box",
         "x0": " ",
         "xaxis": "x",
         "y": [
          76517,
          102736,
          102247,
          88571,
          87134,
          116758,
          69268,
          107476,
          98456,
          107859,
          86241,
          83095,
          95505,
          54945
         ],
         "y0": " ",
         "yaxis": "y"
        },
        {
         "alignmentgroup": "True",
         "hovertemplate": "age=51<br>income=%{y}<extra></extra>",
         "legendgroup": "51",
         "marker": {
          "color": "#00cc96"
         },
         "name": "51",
         "notched": false,
         "offsetgroup": "51",
         "orientation": "v",
         "showlegend": true,
         "type": "box",
         "x0": " ",
         "xaxis": "x",
         "y": [
          87684,
          110731,
          108241,
          106478,
          72827,
          121376,
          72120,
          113730,
          110746,
          132323,
          98499,
          79237,
          139141,
          96023,
          62600,
          118282,
          89272,
          97789
         ],
         "y0": " ",
         "yaxis": "y"
        },
        {
         "alignmentgroup": "True",
         "hovertemplate": "age=52<br>income=%{y}<extra></extra>",
         "legendgroup": "52",
         "marker": {
          "color": "#ab63fa"
         },
         "name": "52",
         "notched": false,
         "offsetgroup": "52",
         "orientation": "v",
         "showlegend": true,
         "type": "box",
         "x0": " ",
         "xaxis": "x",
         "y": [
          84132,
          66529,
          100070,
          90024,
          104526,
          139841,
          78750,
          78751,
          94763,
          93802,
          114943,
          94154,
          110078,
          97696
         ],
         "y0": " ",
         "yaxis": "y"
        },
        {
         "alignmentgroup": "True",
         "hovertemplate": "age=37<br>income=%{y}<extra></extra>",
         "legendgroup": "37",
         "marker": {
          "color": "#FFA15A"
         },
         "name": "37",
         "notched": false,
         "offsetgroup": "37",
         "orientation": "v",
         "showlegend": true,
         "type": "box",
         "x0": " ",
         "xaxis": "x",
         "y": [
          65012,
          86036,
          89411,
          98010,
          92722,
          83025,
          70088,
          104082,
          97846,
          56656,
          121151,
          100819,
          82343,
          115604,
          78836,
          81547
         ],
         "y0": " ",
         "yaxis": "y"
        },
        {
         "alignmentgroup": "True",
         "hovertemplate": "age=54<br>income=%{y}<extra></extra>",
         "legendgroup": "54",
         "marker": {
          "color": "#19d3f3"
         },
         "name": "54",
         "notched": false,
         "offsetgroup": "54",
         "orientation": "v",
         "showlegend": true,
         "type": "box",
         "x0": " ",
         "xaxis": "x",
         "y": [
          125572,
          110049,
          87998,
          112507,
          118322,
          100160,
          118093,
          114171,
          96982,
          112502,
          92468,
          90999,
          97311
         ],
         "y0": " ",
         "yaxis": "y"
        },
        {
         "alignmentgroup": "True",
         "hovertemplate": "age=58<br>income=%{y}<extra></extra>",
         "legendgroup": "58",
         "marker": {
          "color": "#FF6692"
         },
         "name": "58",
         "notched": false,
         "offsetgroup": "58",
         "orientation": "v",
         "showlegend": true,
         "type": "box",
         "x0": " ",
         "xaxis": "x",
         "y": [
          135013,
          129425,
          120156,
          108820,
          133927,
          120154,
          130720,
          131275,
          154039,
          118888,
          86651,
          126269,
          109931,
          104744,
          98512,
          108296,
          134109,
          124847,
          110157,
          124166,
          141005,
          96609,
          121457,
          179726,
          60271,
          86795
         ],
         "y0": " ",
         "yaxis": "y"
        },
        {
         "alignmentgroup": "True",
         "hovertemplate": "age=44<br>income=%{y}<extra></extra>",
         "legendgroup": "44",
         "marker": {
          "color": "#B6E880"
         },
         "name": "44",
         "notched": false,
         "offsetgroup": "44",
         "orientation": "v",
         "showlegend": true,
         "type": "box",
         "x0": " ",
         "xaxis": "x",
         "y": [
          57469,
          119381,
          100091,
          100416,
          102108,
          114693,
          66611,
          132267,
          81866,
          83333,
          79334,
          83674,
          68364,
          107818,
          72248,
          131411,
          90474,
          91300
         ],
         "y0": " ",
         "yaxis": "y"
        },
        {
         "alignmentgroup": "True",
         "hovertemplate": "age=61<br>income=%{y}<extra></extra>",
         "legendgroup": "61",
         "marker": {
          "color": "#FF97FF"
         },
         "name": "61",
         "notched": false,
         "offsetgroup": "61",
         "orientation": "v",
         "showlegend": true,
         "type": "box",
         "x0": " ",
         "xaxis": "x",
         "y": [
          129132,
          97000,
          102473,
          131608,
          105632,
          126375,
          106233,
          108475,
          114436,
          107064,
          83308,
          120277,
          96900,
          122352,
          139042,
          136836,
          91030,
          62644
         ],
         "y0": " ",
         "yaxis": "y"
        },
        {
         "alignmentgroup": "True",
         "hovertemplate": "age=57<br>income=%{y}<extra></extra>",
         "legendgroup": "57",
         "marker": {
          "color": "#FECB52"
         },
         "name": "57",
         "notched": false,
         "offsetgroup": "57",
         "orientation": "v",
         "showlegend": true,
         "type": "box",
         "x0": " ",
         "xaxis": "x",
         "y": [
          93470,
          86423,
          132873,
          98321,
          68403,
          87150,
          79674,
          135781,
          143189,
          135073,
          90713,
          150914,
          113274,
          133741,
          117202,
          117131,
          145095,
          109645,
          64807,
          104623,
          101423,
          114141,
          113031,
          106918,
          108977
         ],
         "y0": " ",
         "yaxis": "y"
        },
        {
         "alignmentgroup": "True",
         "hovertemplate": "age=59<br>income=%{y}<extra></extra>",
         "legendgroup": "59",
         "marker": {
          "color": "#636efa"
         },
         "name": "59",
         "notched": false,
         "offsetgroup": "59",
         "orientation": "v",
         "showlegend": true,
         "type": "box",
         "x0": " ",
         "xaxis": "x",
         "y": [
          109623,
          155834,
          125770,
          176789,
          79544,
          124817,
          90002,
          127013,
          120159,
          93441,
          96582,
          133910,
          136215,
          115344,
          160460,
          135512,
          98995,
          93018,
          124782,
          92257,
          110627,
          62738,
          98796
         ],
         "y0": " ",
         "yaxis": "y"
        },
        {
         "alignmentgroup": "True",
         "hovertemplate": "age=50<br>income=%{y}<extra></extra>",
         "legendgroup": "50",
         "marker": {
          "color": "#EF553B"
         },
         "name": "50",
         "notched": false,
         "offsetgroup": "50",
         "orientation": "v",
         "showlegend": true,
         "type": "box",
         "x0": " ",
         "xaxis": "x",
         "y": [
          108922,
          81995,
          70374,
          86122,
          94590,
          91160,
          84803,
          93805,
          124470,
          90612,
          76103,
          119522,
          115613,
          101050,
          85648,
          106279
         ],
         "y0": " ",
         "yaxis": "y"
        },
        {
         "alignmentgroup": "True",
         "hovertemplate": "age=64<br>income=%{y}<extra></extra>",
         "legendgroup": "64",
         "marker": {
          "color": "#00cc96"
         },
         "name": "64",
         "notched": false,
         "offsetgroup": "64",
         "orientation": "v",
         "showlegend": true,
         "type": "box",
         "x0": " ",
         "xaxis": "x",
         "y": [
          120593,
          95687,
          128970,
          111903,
          98100,
          96777,
          116774,
          118231,
          100316,
          121589,
          157277,
          139068,
          120579,
          141186,
          124151,
          112719,
          107572,
          87314,
          109606,
          92950,
          85253
         ],
         "y0": " ",
         "yaxis": "y"
        },
        {
         "alignmentgroup": "True",
         "hovertemplate": "age=56<br>income=%{y}<extra></extra>",
         "legendgroup": "56",
         "marker": {
          "color": "#ab63fa"
         },
         "name": "56",
         "notched": false,
         "offsetgroup": "56",
         "orientation": "v",
         "showlegend": true,
         "type": "box",
         "x0": " ",
         "xaxis": "x",
         "y": [
          139760,
          100859,
          107366,
          101249,
          149771,
          100769,
          98165,
          79274,
          101791,
          152081,
          114048,
          99543,
          107370,
          81661,
          125828,
          106722,
          88820,
          95995,
          95798,
          88195,
          82164
         ],
         "y0": " ",
         "yaxis": "y"
        },
        {
         "alignmentgroup": "True",
         "hovertemplate": "age=63<br>income=%{y}<extra></extra>",
         "legendgroup": "63",
         "marker": {
          "color": "#FFA15A"
         },
         "name": "63",
         "notched": false,
         "offsetgroup": "63",
         "orientation": "v",
         "showlegend": true,
         "type": "box",
         "x0": " ",
         "xaxis": "x",
         "y": [
          106158,
          140445,
          133472,
          128173,
          105800,
          124871,
          85948,
          127561,
          130093,
          97797,
          127608,
          134757,
          101716,
          129683,
          128520,
          104468,
          106204,
          95795,
          136209,
          115641,
          115981,
          81545
         ],
         "y0": " ",
         "yaxis": "y"
        },
        {
         "alignmentgroup": "True",
         "hovertemplate": "age=62<br>income=%{y}<extra></extra>",
         "legendgroup": "62",
         "marker": {
          "color": "#19d3f3"
         },
         "name": "62",
         "notched": false,
         "offsetgroup": "62",
         "orientation": "v",
         "showlegend": true,
         "type": "box",
         "x0": " ",
         "xaxis": "x",
         "y": [
          157410,
          93268,
          155203,
          88781,
          150467,
          85702,
          117648,
          99369,
          123242,
          111120,
          129620,
          93742,
          102106,
          118314,
          108778,
          146008,
          77584,
          126370,
          77742,
          138184,
          101284,
          124660,
          101515,
          123333,
          105771,
          132815,
          119069,
          102593
         ],
         "y0": " ",
         "yaxis": "y"
        },
        {
         "alignmentgroup": "True",
         "hovertemplate": "age=65<br>income=%{y}<extra></extra>",
         "legendgroup": "65",
         "marker": {
          "color": "#FF6692"
         },
         "name": "65",
         "notched": false,
         "offsetgroup": "65",
         "orientation": "v",
         "showlegend": true,
         "type": "box",
         "x0": " ",
         "xaxis": "x",
         "y": [
          121210,
          130251,
          116751,
          157852,
          134758,
          102597,
          123371,
          165229,
          106315,
          122624,
          98575,
          111403,
          116803,
          142505,
          128730,
          121239,
          124530,
          107479,
          96665,
          106945,
          80789,
          97376
         ],
         "y0": " ",
         "yaxis": "y"
        },
        {
         "alignmentgroup": "True",
         "hovertemplate": "age=60<br>income=%{y}<extra></extra>",
         "legendgroup": "60",
         "marker": {
          "color": "#B6E880"
         },
         "name": "60",
         "notched": false,
         "offsetgroup": "60",
         "orientation": "v",
         "showlegend": true,
         "type": "box",
         "x0": " ",
         "xaxis": "x",
         "y": [
          160614,
          121728,
          155676,
          145632,
          148178,
          157644,
          97240,
          113140,
          104589,
          106798,
          111896,
          130417,
          131980,
          114906,
          127250,
          112604,
          106045,
          123108
         ],
         "y0": " ",
         "yaxis": "y"
        }
       ],
       "layout": {
        "boxmode": "group",
        "legend": {
         "title": {
          "text": "age"
         },
         "tracegroupgap": 0
        },
        "template": {
         "data": {
          "bar": [
           {
            "error_x": {
             "color": "#2a3f5f"
            },
            "error_y": {
             "color": "#2a3f5f"
            },
            "marker": {
             "line": {
              "color": "#E5ECF6",
              "width": 0.5
             },
             "pattern": {
              "fillmode": "overlay",
              "size": 10,
              "solidity": 0.2
             }
            },
            "type": "bar"
           }
          ],
          "barpolar": [
           {
            "marker": {
             "line": {
              "color": "#E5ECF6",
              "width": 0.5
             },
             "pattern": {
              "fillmode": "overlay",
              "size": 10,
              "solidity": 0.2
             }
            },
            "type": "barpolar"
           }
          ],
          "carpet": [
           {
            "aaxis": {
             "endlinecolor": "#2a3f5f",
             "gridcolor": "white",
             "linecolor": "white",
             "minorgridcolor": "white",
             "startlinecolor": "#2a3f5f"
            },
            "baxis": {
             "endlinecolor": "#2a3f5f",
             "gridcolor": "white",
             "linecolor": "white",
             "minorgridcolor": "white",
             "startlinecolor": "#2a3f5f"
            },
            "type": "carpet"
           }
          ],
          "choropleth": [
           {
            "colorbar": {
             "outlinewidth": 0,
             "ticks": ""
            },
            "type": "choropleth"
           }
          ],
          "contour": [
           {
            "colorbar": {
             "outlinewidth": 0,
             "ticks": ""
            },
            "colorscale": [
             [
              0,
              "#0d0887"
             ],
             [
              0.1111111111111111,
              "#46039f"
             ],
             [
              0.2222222222222222,
              "#7201a8"
             ],
             [
              0.3333333333333333,
              "#9c179e"
             ],
             [
              0.4444444444444444,
              "#bd3786"
             ],
             [
              0.5555555555555556,
              "#d8576b"
             ],
             [
              0.6666666666666666,
              "#ed7953"
             ],
             [
              0.7777777777777778,
              "#fb9f3a"
             ],
             [
              0.8888888888888888,
              "#fdca26"
             ],
             [
              1,
              "#f0f921"
             ]
            ],
            "type": "contour"
           }
          ],
          "contourcarpet": [
           {
            "colorbar": {
             "outlinewidth": 0,
             "ticks": ""
            },
            "type": "contourcarpet"
           }
          ],
          "heatmap": [
           {
            "colorbar": {
             "outlinewidth": 0,
             "ticks": ""
            },
            "colorscale": [
             [
              0,
              "#0d0887"
             ],
             [
              0.1111111111111111,
              "#46039f"
             ],
             [
              0.2222222222222222,
              "#7201a8"
             ],
             [
              0.3333333333333333,
              "#9c179e"
             ],
             [
              0.4444444444444444,
              "#bd3786"
             ],
             [
              0.5555555555555556,
              "#d8576b"
             ],
             [
              0.6666666666666666,
              "#ed7953"
             ],
             [
              0.7777777777777778,
              "#fb9f3a"
             ],
             [
              0.8888888888888888,
              "#fdca26"
             ],
             [
              1,
              "#f0f921"
             ]
            ],
            "type": "heatmap"
           }
          ],
          "heatmapgl": [
           {
            "colorbar": {
             "outlinewidth": 0,
             "ticks": ""
            },
            "colorscale": [
             [
              0,
              "#0d0887"
             ],
             [
              0.1111111111111111,
              "#46039f"
             ],
             [
              0.2222222222222222,
              "#7201a8"
             ],
             [
              0.3333333333333333,
              "#9c179e"
             ],
             [
              0.4444444444444444,
              "#bd3786"
             ],
             [
              0.5555555555555556,
              "#d8576b"
             ],
             [
              0.6666666666666666,
              "#ed7953"
             ],
             [
              0.7777777777777778,
              "#fb9f3a"
             ],
             [
              0.8888888888888888,
              "#fdca26"
             ],
             [
              1,
              "#f0f921"
             ]
            ],
            "type": "heatmapgl"
           }
          ],
          "histogram": [
           {
            "marker": {
             "pattern": {
              "fillmode": "overlay",
              "size": 10,
              "solidity": 0.2
             }
            },
            "type": "histogram"
           }
          ],
          "histogram2d": [
           {
            "colorbar": {
             "outlinewidth": 0,
             "ticks": ""
            },
            "colorscale": [
             [
              0,
              "#0d0887"
             ],
             [
              0.1111111111111111,
              "#46039f"
             ],
             [
              0.2222222222222222,
              "#7201a8"
             ],
             [
              0.3333333333333333,
              "#9c179e"
             ],
             [
              0.4444444444444444,
              "#bd3786"
             ],
             [
              0.5555555555555556,
              "#d8576b"
             ],
             [
              0.6666666666666666,
              "#ed7953"
             ],
             [
              0.7777777777777778,
              "#fb9f3a"
             ],
             [
              0.8888888888888888,
              "#fdca26"
             ],
             [
              1,
              "#f0f921"
             ]
            ],
            "type": "histogram2d"
           }
          ],
          "histogram2dcontour": [
           {
            "colorbar": {
             "outlinewidth": 0,
             "ticks": ""
            },
            "colorscale": [
             [
              0,
              "#0d0887"
             ],
             [
              0.1111111111111111,
              "#46039f"
             ],
             [
              0.2222222222222222,
              "#7201a8"
             ],
             [
              0.3333333333333333,
              "#9c179e"
             ],
             [
              0.4444444444444444,
              "#bd3786"
             ],
             [
              0.5555555555555556,
              "#d8576b"
             ],
             [
              0.6666666666666666,
              "#ed7953"
             ],
             [
              0.7777777777777778,
              "#fb9f3a"
             ],
             [
              0.8888888888888888,
              "#fdca26"
             ],
             [
              1,
              "#f0f921"
             ]
            ],
            "type": "histogram2dcontour"
           }
          ],
          "mesh3d": [
           {
            "colorbar": {
             "outlinewidth": 0,
             "ticks": ""
            },
            "type": "mesh3d"
           }
          ],
          "parcoords": [
           {
            "line": {
             "colorbar": {
              "outlinewidth": 0,
              "ticks": ""
             }
            },
            "type": "parcoords"
           }
          ],
          "pie": [
           {
            "automargin": true,
            "type": "pie"
           }
          ],
          "scatter": [
           {
            "fillpattern": {
             "fillmode": "overlay",
             "size": 10,
             "solidity": 0.2
            },
            "type": "scatter"
           }
          ],
          "scatter3d": [
           {
            "line": {
             "colorbar": {
              "outlinewidth": 0,
              "ticks": ""
             }
            },
            "marker": {
             "colorbar": {
              "outlinewidth": 0,
              "ticks": ""
             }
            },
            "type": "scatter3d"
           }
          ],
          "scattercarpet": [
           {
            "marker": {
             "colorbar": {
              "outlinewidth": 0,
              "ticks": ""
             }
            },
            "type": "scattercarpet"
           }
          ],
          "scattergeo": [
           {
            "marker": {
             "colorbar": {
              "outlinewidth": 0,
              "ticks": ""
             }
            },
            "type": "scattergeo"
           }
          ],
          "scattergl": [
           {
            "marker": {
             "colorbar": {
              "outlinewidth": 0,
              "ticks": ""
             }
            },
            "type": "scattergl"
           }
          ],
          "scattermapbox": [
           {
            "marker": {
             "colorbar": {
              "outlinewidth": 0,
              "ticks": ""
             }
            },
            "type": "scattermapbox"
           }
          ],
          "scatterpolar": [
           {
            "marker": {
             "colorbar": {
              "outlinewidth": 0,
              "ticks": ""
             }
            },
            "type": "scatterpolar"
           }
          ],
          "scatterpolargl": [
           {
            "marker": {
             "colorbar": {
              "outlinewidth": 0,
              "ticks": ""
             }
            },
            "type": "scatterpolargl"
           }
          ],
          "scatterternary": [
           {
            "marker": {
             "colorbar": {
              "outlinewidth": 0,
              "ticks": ""
             }
            },
            "type": "scatterternary"
           }
          ],
          "surface": [
           {
            "colorbar": {
             "outlinewidth": 0,
             "ticks": ""
            },
            "colorscale": [
             [
              0,
              "#0d0887"
             ],
             [
              0.1111111111111111,
              "#46039f"
             ],
             [
              0.2222222222222222,
              "#7201a8"
             ],
             [
              0.3333333333333333,
              "#9c179e"
             ],
             [
              0.4444444444444444,
              "#bd3786"
             ],
             [
              0.5555555555555556,
              "#d8576b"
             ],
             [
              0.6666666666666666,
              "#ed7953"
             ],
             [
              0.7777777777777778,
              "#fb9f3a"
             ],
             [
              0.8888888888888888,
              "#fdca26"
             ],
             [
              1,
              "#f0f921"
             ]
            ],
            "type": "surface"
           }
          ],
          "table": [
           {
            "cells": {
             "fill": {
              "color": "#EBF0F8"
             },
             "line": {
              "color": "white"
             }
            },
            "header": {
             "fill": {
              "color": "#C8D4E3"
             },
             "line": {
              "color": "white"
             }
            },
            "type": "table"
           }
          ]
         },
         "layout": {
          "annotationdefaults": {
           "arrowcolor": "#2a3f5f",
           "arrowhead": 0,
           "arrowwidth": 1
          },
          "autotypenumbers": "strict",
          "coloraxis": {
           "colorbar": {
            "outlinewidth": 0,
            "ticks": ""
           }
          },
          "colorscale": {
           "diverging": [
            [
             0,
             "#8e0152"
            ],
            [
             0.1,
             "#c51b7d"
            ],
            [
             0.2,
             "#de77ae"
            ],
            [
             0.3,
             "#f1b6da"
            ],
            [
             0.4,
             "#fde0ef"
            ],
            [
             0.5,
             "#f7f7f7"
            ],
            [
             0.6,
             "#e6f5d0"
            ],
            [
             0.7,
             "#b8e186"
            ],
            [
             0.8,
             "#7fbc41"
            ],
            [
             0.9,
             "#4d9221"
            ],
            [
             1,
             "#276419"
            ]
           ],
           "sequential": [
            [
             0,
             "#0d0887"
            ],
            [
             0.1111111111111111,
             "#46039f"
            ],
            [
             0.2222222222222222,
             "#7201a8"
            ],
            [
             0.3333333333333333,
             "#9c179e"
            ],
            [
             0.4444444444444444,
             "#bd3786"
            ],
            [
             0.5555555555555556,
             "#d8576b"
            ],
            [
             0.6666666666666666,
             "#ed7953"
            ],
            [
             0.7777777777777778,
             "#fb9f3a"
            ],
            [
             0.8888888888888888,
             "#fdca26"
            ],
            [
             1,
             "#f0f921"
            ]
           ],
           "sequentialminus": [
            [
             0,
             "#0d0887"
            ],
            [
             0.1111111111111111,
             "#46039f"
            ],
            [
             0.2222222222222222,
             "#7201a8"
            ],
            [
             0.3333333333333333,
             "#9c179e"
            ],
            [
             0.4444444444444444,
             "#bd3786"
            ],
            [
             0.5555555555555556,
             "#d8576b"
            ],
            [
             0.6666666666666666,
             "#ed7953"
            ],
            [
             0.7777777777777778,
             "#fb9f3a"
            ],
            [
             0.8888888888888888,
             "#fdca26"
            ],
            [
             1,
             "#f0f921"
            ]
           ]
          },
          "colorway": [
           "#636efa",
           "#EF553B",
           "#00cc96",
           "#ab63fa",
           "#FFA15A",
           "#19d3f3",
           "#FF6692",
           "#B6E880",
           "#FF97FF",
           "#FECB52"
          ],
          "font": {
           "color": "#2a3f5f"
          },
          "geo": {
           "bgcolor": "white",
           "lakecolor": "white",
           "landcolor": "#E5ECF6",
           "showlakes": true,
           "showland": true,
           "subunitcolor": "white"
          },
          "hoverlabel": {
           "align": "left"
          },
          "hovermode": "closest",
          "mapbox": {
           "style": "light"
          },
          "paper_bgcolor": "white",
          "plot_bgcolor": "#E5ECF6",
          "polar": {
           "angularaxis": {
            "gridcolor": "white",
            "linecolor": "white",
            "ticks": ""
           },
           "bgcolor": "#E5ECF6",
           "radialaxis": {
            "gridcolor": "white",
            "linecolor": "white",
            "ticks": ""
           }
          },
          "scene": {
           "xaxis": {
            "backgroundcolor": "#E5ECF6",
            "gridcolor": "white",
            "gridwidth": 2,
            "linecolor": "white",
            "showbackground": true,
            "ticks": "",
            "zerolinecolor": "white"
           },
           "yaxis": {
            "backgroundcolor": "#E5ECF6",
            "gridcolor": "white",
            "gridwidth": 2,
            "linecolor": "white",
            "showbackground": true,
            "ticks": "",
            "zerolinecolor": "white"
           },
           "zaxis": {
            "backgroundcolor": "#E5ECF6",
            "gridcolor": "white",
            "gridwidth": 2,
            "linecolor": "white",
            "showbackground": true,
            "ticks": "",
            "zerolinecolor": "white"
           }
          },
          "shapedefaults": {
           "line": {
            "color": "#2a3f5f"
           }
          },
          "ternary": {
           "aaxis": {
            "gridcolor": "white",
            "linecolor": "white",
            "ticks": ""
           },
           "baxis": {
            "gridcolor": "white",
            "linecolor": "white",
            "ticks": ""
           },
           "bgcolor": "#E5ECF6",
           "caxis": {
            "gridcolor": "white",
            "linecolor": "white",
            "ticks": ""
           }
          },
          "title": {
           "x": 0.05
          },
          "xaxis": {
           "automargin": true,
           "gridcolor": "white",
           "linecolor": "white",
           "ticks": "",
           "title": {
            "standoff": 15
           },
           "zerolinecolor": "white",
           "zerolinewidth": 2
          },
          "yaxis": {
           "automargin": true,
           "gridcolor": "white",
           "linecolor": "white",
           "ticks": "",
           "title": {
            "standoff": 15
           },
           "zerolinecolor": "white",
           "zerolinewidth": 2
          }
         }
        },
        "title": {
         "text": "Distribucion de ingresos por age"
        },
        "xaxis": {
         "anchor": "y",
         "domain": [
          0,
          1
         ]
        },
        "yaxis": {
         "anchor": "x",
         "domain": [
          0,
          1
         ],
         "title": {
          "text": "income"
         }
        }
       }
      }
     },
     "metadata": {},
     "output_type": "display_data"
    },
    {
     "data": {
      "application/vnd.plotly.v1+json": {
       "config": {
        "plotlyServerURL": "https://plot.ly"
       },
       "data": [
        {
         "alignmentgroup": "True",
         "hovertemplate": "performance=5<br>income=%{y}<extra></extra>",
         "legendgroup": "5",
         "marker": {
          "color": "#636efa"
         },
         "name": "5",
         "notched": false,
         "offsetgroup": "5",
         "orientation": "v",
         "showlegend": true,
         "type": "box",
         "x0": " ",
         "xaxis": "x",
         "y": [
          42363,
          108476,
          108080,
          99464,
          70890,
          67585,
          112976,
          106524,
          102261,
          62759,
          84007,
          86220,
          95584,
          73357,
          88422,
          99545,
          90386,
          92067,
          108446,
          83323,
          85205,
          72038,
          71182,
          100305,
          88566,
          104271,
          112392,
          66359,
          103007,
          80306,
          74523,
          113252,
          96040,
          91674,
          92928,
          84638,
          78986,
          96355,
          87121,
          88724,
          58219,
          119024,
          81503,
          70643,
          74167,
          86886,
          102120,
          97376,
          89415,
          62692,
          112466,
          71193,
          76286,
          97328,
          86766,
          82453,
          88814,
          82832,
          83034,
          127085,
          66168,
          59212,
          55189,
          131311,
          52633,
          113640,
          46263,
          103384,
          77584,
          83031,
          111019,
          48755,
          59044,
          46693,
          88152,
          127156,
          69462,
          68466,
          92622,
          51331,
          109419,
          80355,
          146190,
          82534,
          127769,
          96061,
          111342,
          117554,
          109369,
          52290,
          47036,
          76517,
          106194,
          87684,
          62040,
          84132,
          65012,
          97414,
          110731,
          125572,
          72754,
          53956,
          135013,
          108495,
          101173,
          126828,
          102716,
          57469,
          83758,
          40187,
          98531,
          67617,
          98519,
          119381,
          113180,
          68639,
          68295,
          129132,
          93470,
          66529,
          100115,
          86423,
          133495,
          86516,
          108241,
          106478,
          142105,
          57783,
          46903,
          71858,
          44325,
          100183,
          109623,
          110049,
          83499,
          127062,
          120593,
          49830,
          129425,
          93073,
          87352,
          139760,
          100070,
          102815,
          58054,
          100091,
          72827,
          64852,
          106887,
          106158,
          95687,
          76773,
          120156,
          102966,
          128970,
          112941,
          102736,
          90024,
          54245,
          73801,
          157410,
          80937,
          93268,
          98515,
          97000,
          104526,
          102247,
          72120,
          123422,
          62097,
          102910,
          100014,
          100859,
          82126,
          69878,
          121210,
          133927,
          130251,
          107366,
          116751,
          111903,
          104361,
          83620,
          81995,
          98321,
          98100,
          68797,
          133472,
          128173,
          68403,
          102473,
          79144,
          150467,
          134758,
          66438,
          96777,
          70374,
          91905,
          121728,
          79544,
          90002,
          96500,
          105800,
          124871,
          85948,
          130093,
          85702,
          118231,
          86651
         ],
         "y0": " ",
         "yaxis": "y"
        },
        {
         "alignmentgroup": "True",
         "hovertemplate": "performance=4<br>income=%{y}<extra></extra>",
         "legendgroup": "4",
         "marker": {
          "color": "#EF553B"
         },
         "name": "4",
         "notched": false,
         "offsetgroup": "4",
         "orientation": "v",
         "showlegend": true,
         "type": "box",
         "x0": " ",
         "xaxis": "x",
         "y": [
          90208,
          97523,
          132823,
          90780,
          89474,
          88037,
          71105,
          101154,
          50401,
          74938,
          146615,
          119162,
          77032,
          96045,
          92358,
          91978,
          89822,
          90368,
          88047,
          59251,
          78462,
          42722,
          63695,
          87608,
          77793,
          104435,
          91049,
          91713,
          88994,
          103107,
          64844,
          97625,
          115165,
          69855,
          84844,
          114421,
          79208,
          61000,
          72542,
          80981,
          106788,
          108922,
          90685,
          106896,
          86036,
          101262,
          129609,
          103479,
          74073,
          77309,
          100416,
          78623,
          80135,
          89411,
          57398,
          120294,
          107140,
          98010,
          91099,
          89559,
          121376,
          64008,
          129406,
          67530,
          75506,
          81826,
          65711,
          50601,
          65907,
          90330,
          109345,
          66084,
          98900,
          78113,
          130826,
          103133,
          69254,
          114680,
          67749,
          80494,
          40341,
          74316,
          104657,
          62260,
          84021,
          37026,
          64958,
          55954,
          108820,
          88213,
          114007,
          83025,
          95964,
          94973,
          102108,
          60736,
          37780,
          132873,
          65164,
          95169,
          75901,
          92276,
          88571,
          87409,
          90482,
          87435,
          56172,
          58807,
          126626,
          77793,
          84930,
          139841,
          78750,
          60892,
          59458,
          155834,
          66125,
          109346,
          155203,
          120154,
          125770,
          119931,
          71794,
          87998,
          140445,
          143887,
          130720,
          86675,
          36548,
          88781,
          157852,
          113730,
          176789,
          160614,
          73989,
          67762,
          90307,
          87150,
          102201,
          70088,
          79674,
          118629,
          112134,
          104355,
          75811,
          54817,
          70846,
          124817,
          123114,
          75932,
          56309,
          116758,
          49632,
          131275,
          155676,
          135781,
          66407,
          101249,
          143189,
          69268,
          75397,
          102597,
          127561,
          67040,
          89811,
          154039,
          116774,
          92154,
          98456,
          107859,
          129885,
          97797,
          118888,
          75833,
          123371,
          76806,
          105632,
          117648,
          78132,
          135073,
          78751,
          64468,
          148178,
          98535,
          90713,
          157644,
          100769,
          72030,
          112188,
          78472,
          126269,
          127013,
          99369,
          121506,
          100316,
          111120,
          165229,
          89225,
          101716,
          97240,
          83333,
          104744,
          93742,
          96582,
          146008,
          77584,
          111403
         ],
         "y0": " ",
         "yaxis": "y"
        },
        {
         "alignmentgroup": "True",
         "hovertemplate": "performance=3<br>income=%{y}<extra></extra>",
         "legendgroup": "3",
         "marker": {
          "color": "#00cc96"
         },
         "name": "3",
         "notched": false,
         "offsetgroup": "3",
         "orientation": "v",
         "showlegend": true,
         "type": "box",
         "x0": " ",
         "xaxis": "x",
         "y": [
          80192,
          103763,
          60070,
          82338,
          88482,
          61164,
          85928,
          92687,
          72301,
          92722,
          56318,
          108288,
          94492,
          100463,
          106560,
          104202,
          69367,
          93306,
          56745,
          89678,
          73306,
          76865,
          77275,
          56954,
          62753,
          112491,
          129226,
          59399,
          89570,
          77751,
          57070,
          57782,
          117629,
          118653,
          87134,
          85161,
          65547,
          71946,
          62054,
          61527,
          64624,
          105410,
          90005,
          113544,
          78564,
          37898,
          40056,
          79707,
          62377,
          82850,
          121949,
          82755,
          122037,
          91066,
          118088,
          92099,
          138851,
          76700,
          84935,
          83894,
          72945,
          145632,
          77223,
          53220,
          92080,
          118762,
          75227,
          104314,
          83262,
          123172,
          77655,
          107476,
          106893,
          34208,
          121821,
          110643,
          82345,
          103908,
          49303,
          94927,
          91566,
          131608,
          65750,
          83774,
          69320,
          110746,
          85986,
          75518,
          114693,
          116875,
          127608,
          116069,
          86122,
          94590,
          68384,
          106056,
          94354,
          128669,
          88725,
          149771,
          88749,
          126100,
          110594,
          113009,
          82244,
          120697,
          70311,
          125770,
          126375,
          43076,
          111726,
          77881,
          65225,
          106233,
          56656,
          70157,
          106146,
          66611,
          150914,
          73798,
          94763,
          55845,
          48570,
          98165,
          113274,
          121151,
          86241,
          67323,
          68049,
          93335,
          100433,
          123242,
          36972,
          64754,
          111043,
          90542,
          112507,
          134757,
          125339,
          76523,
          91160,
          105795,
          74305,
          38451,
          79142,
          106315,
          84803,
          79274,
          129620,
          92797,
          93067,
          120159,
          91711,
          93805,
          109931,
          79334,
          98512,
          93320,
          90612,
          76103,
          84628,
          108366,
          100160,
          129683,
          93696,
          88230,
          83674,
          118314,
          119522,
          121589,
          108778,
          128520,
          101791,
          98499,
          104589,
          61081,
          122624,
          126370,
          133910,
          104468,
          118093,
          84683,
          77742,
          95795,
          106798,
          98575,
          100941,
          63327,
          82277,
          111896,
          124151,
          98995,
          109645,
          101284
         ],
         "y0": " ",
         "yaxis": "y"
        },
        {
         "alignmentgroup": "True",
         "hovertemplate": "performance=2<br>income=%{y}<extra></extra>",
         "legendgroup": "2",
         "marker": {
          "color": "#ab63fa"
         },
         "name": "2",
         "notched": false,
         "offsetgroup": "2",
         "orientation": "v",
         "showlegend": true,
         "type": "box",
         "x0": " ",
         "xaxis": "x",
         "y": [
          92458,
          99543,
          71824,
          91568,
          85306,
          79291,
          71772,
          114479,
          80171,
          121682,
          107025,
          78021,
          89648,
          100516,
          112854,
          144146,
          92289,
          85398,
          98281,
          113122,
          76654,
          116834,
          75294,
          81988,
          68300,
          87418,
          110886,
          104082,
          105601,
          67210,
          115383,
          83264,
          97846,
          76522,
          98959,
          87131,
          98366,
          90736,
          70559,
          69734,
          101534,
          100183,
          95754,
          57915,
          87682,
          114029,
          87585,
          45747,
          132267,
          58130,
          124891,
          66935,
          138365,
          103978,
          118322,
          106883,
          59006,
          66377,
          81301,
          72497,
          41603,
          78002,
          49622,
          87848,
          51906,
          81866,
          71590,
          63928,
          72422,
          88365,
          95795,
          78910,
          92760,
          124470,
          132323,
          71278,
          53855,
          126239,
          101133,
          106584,
          57672,
          97768,
          82790,
          93441,
          110636,
          135106,
          85453,
          79765,
          157169,
          83095,
          81325,
          102106,
          73404,
          133741,
          84592,
          68364,
          62753,
          152710,
          102265,
          84878,
          94745,
          106452,
          95505,
          120096,
          87575,
          113140,
          152081,
          134450,
          100819,
          157277,
          79237,
          68175,
          108475,
          108296,
          101273,
          122142,
          103416,
          117202,
          124847,
          50758,
          111502,
          113283,
          86538,
          114171,
          106204,
          138184,
          82343,
          78625,
          99134,
          38613,
          62866,
          93802,
          115613,
          114048,
          136215,
          139068,
          136209,
          121910,
          82057,
          96023,
          114436,
          99543,
          60983,
          107065,
          107064,
          107370,
          120579,
          103242,
          83308,
          115344,
          49553,
          96982,
          110157,
          93054,
          84764,
          81661,
          81515,
          95898,
          90000,
          130417,
          114943,
          80259,
          91342,
          101140,
          62600,
          101050,
          115641,
          85947,
          91129,
          92891,
          96900,
          61609,
          88820,
          96609,
          64807,
          131980,
          112719,
          69928,
          104623,
          103328,
          68643,
          67296,
          95995,
          142505,
          124782,
          59377,
          128730,
          136836,
          87314,
          91447,
          60271,
          97376
         ],
         "y0": " ",
         "yaxis": "y"
        },
        {
         "alignmentgroup": "True",
         "hovertemplate": "performance=1<br>income=%{y}<extra></extra>",
         "legendgroup": "1",
         "marker": {
          "color": "#FFA15A"
         },
         "name": "1",
         "notched": false,
         "offsetgroup": "1",
         "orientation": "v",
         "showlegend": true,
         "type": "box",
         "x0": " ",
         "xaxis": "x",
         "y": [
          115567,
          114733,
          89170,
          66203,
          100465,
          91504,
          90426,
          75238,
          125164,
          113465,
          55569,
          119033,
          79462,
          105598,
          78084,
          103156,
          125574,
          70595,
          98423,
          92516,
          106963,
          111770,
          76908,
          80635,
          104329,
          71371,
          102745,
          96584,
          128680,
          109136,
          81249,
          88175,
          65816,
          73685,
          55560,
          103181,
          100505,
          99942,
          59334,
          152625,
          75919,
          90526,
          139141,
          134109,
          66887,
          77839,
          61018,
          75316,
          106503,
          116642,
          67913,
          155826,
          111041,
          117131,
          107818,
          108731,
          114621,
          47739,
          104290,
          138163,
          64920,
          79177,
          64994,
          163208,
          51837,
          52578,
          55885,
          73142,
          39741,
          120112,
          36585,
          80030,
          84047,
          120277,
          149893,
          130082,
          38855,
          81057,
          117215,
          96232,
          141186,
          107640,
          86563,
          61589,
          74829,
          72248,
          65313,
          123153,
          57500,
          115604,
          55555,
          124166,
          125828,
          75017,
          100415,
          145095,
          160460,
          119058,
          106722,
          135512,
          141005,
          115742,
          93358,
          131411,
          122352,
          112489,
          86650,
          119794,
          53839,
          84725,
          41151,
          114031,
          59493,
          119893,
          94154,
          114906,
          115981,
          78836,
          93018,
          63914,
          90474,
          60026,
          108587,
          139042,
          116803,
          101423,
          86375,
          49449,
          118282,
          99472,
          135638,
          85648,
          121457,
          114141,
          179726,
          107572,
          108719,
          109832,
          127250,
          106279,
          81547,
          95798,
          106916,
          126256,
          92257,
          124660,
          76726,
          112502,
          89272,
          101515,
          93855,
          36642,
          112604,
          67089,
          97789,
          123333,
          105771,
          54945,
          121239,
          124530,
          67150,
          99643,
          92468,
          63300,
          45915,
          66028,
          113031,
          132815,
          110078,
          106918,
          106045,
          107479,
          109606,
          91300,
          88195,
          90999,
          86795,
          110627,
          97696,
          92950,
          82164,
          119069,
          62738,
          112169,
          120574,
          97311,
          98796,
          102593,
          96665,
          91030,
          106945,
          81545,
          80789,
          85253,
          62644,
          108977,
          92347,
          123108
         ],
         "y0": " ",
         "yaxis": "y"
        }
       ],
       "layout": {
        "boxmode": "group",
        "legend": {
         "title": {
          "text": "performance"
         },
         "tracegroupgap": 0
        },
        "template": {
         "data": {
          "bar": [
           {
            "error_x": {
             "color": "#2a3f5f"
            },
            "error_y": {
             "color": "#2a3f5f"
            },
            "marker": {
             "line": {
              "color": "#E5ECF6",
              "width": 0.5
             },
             "pattern": {
              "fillmode": "overlay",
              "size": 10,
              "solidity": 0.2
             }
            },
            "type": "bar"
           }
          ],
          "barpolar": [
           {
            "marker": {
             "line": {
              "color": "#E5ECF6",
              "width": 0.5
             },
             "pattern": {
              "fillmode": "overlay",
              "size": 10,
              "solidity": 0.2
             }
            },
            "type": "barpolar"
           }
          ],
          "carpet": [
           {
            "aaxis": {
             "endlinecolor": "#2a3f5f",
             "gridcolor": "white",
             "linecolor": "white",
             "minorgridcolor": "white",
             "startlinecolor": "#2a3f5f"
            },
            "baxis": {
             "endlinecolor": "#2a3f5f",
             "gridcolor": "white",
             "linecolor": "white",
             "minorgridcolor": "white",
             "startlinecolor": "#2a3f5f"
            },
            "type": "carpet"
           }
          ],
          "choropleth": [
           {
            "colorbar": {
             "outlinewidth": 0,
             "ticks": ""
            },
            "type": "choropleth"
           }
          ],
          "contour": [
           {
            "colorbar": {
             "outlinewidth": 0,
             "ticks": ""
            },
            "colorscale": [
             [
              0,
              "#0d0887"
             ],
             [
              0.1111111111111111,
              "#46039f"
             ],
             [
              0.2222222222222222,
              "#7201a8"
             ],
             [
              0.3333333333333333,
              "#9c179e"
             ],
             [
              0.4444444444444444,
              "#bd3786"
             ],
             [
              0.5555555555555556,
              "#d8576b"
             ],
             [
              0.6666666666666666,
              "#ed7953"
             ],
             [
              0.7777777777777778,
              "#fb9f3a"
             ],
             [
              0.8888888888888888,
              "#fdca26"
             ],
             [
              1,
              "#f0f921"
             ]
            ],
            "type": "contour"
           }
          ],
          "contourcarpet": [
           {
            "colorbar": {
             "outlinewidth": 0,
             "ticks": ""
            },
            "type": "contourcarpet"
           }
          ],
          "heatmap": [
           {
            "colorbar": {
             "outlinewidth": 0,
             "ticks": ""
            },
            "colorscale": [
             [
              0,
              "#0d0887"
             ],
             [
              0.1111111111111111,
              "#46039f"
             ],
             [
              0.2222222222222222,
              "#7201a8"
             ],
             [
              0.3333333333333333,
              "#9c179e"
             ],
             [
              0.4444444444444444,
              "#bd3786"
             ],
             [
              0.5555555555555556,
              "#d8576b"
             ],
             [
              0.6666666666666666,
              "#ed7953"
             ],
             [
              0.7777777777777778,
              "#fb9f3a"
             ],
             [
              0.8888888888888888,
              "#fdca26"
             ],
             [
              1,
              "#f0f921"
             ]
            ],
            "type": "heatmap"
           }
          ],
          "heatmapgl": [
           {
            "colorbar": {
             "outlinewidth": 0,
             "ticks": ""
            },
            "colorscale": [
             [
              0,
              "#0d0887"
             ],
             [
              0.1111111111111111,
              "#46039f"
             ],
             [
              0.2222222222222222,
              "#7201a8"
             ],
             [
              0.3333333333333333,
              "#9c179e"
             ],
             [
              0.4444444444444444,
              "#bd3786"
             ],
             [
              0.5555555555555556,
              "#d8576b"
             ],
             [
              0.6666666666666666,
              "#ed7953"
             ],
             [
              0.7777777777777778,
              "#fb9f3a"
             ],
             [
              0.8888888888888888,
              "#fdca26"
             ],
             [
              1,
              "#f0f921"
             ]
            ],
            "type": "heatmapgl"
           }
          ],
          "histogram": [
           {
            "marker": {
             "pattern": {
              "fillmode": "overlay",
              "size": 10,
              "solidity": 0.2
             }
            },
            "type": "histogram"
           }
          ],
          "histogram2d": [
           {
            "colorbar": {
             "outlinewidth": 0,
             "ticks": ""
            },
            "colorscale": [
             [
              0,
              "#0d0887"
             ],
             [
              0.1111111111111111,
              "#46039f"
             ],
             [
              0.2222222222222222,
              "#7201a8"
             ],
             [
              0.3333333333333333,
              "#9c179e"
             ],
             [
              0.4444444444444444,
              "#bd3786"
             ],
             [
              0.5555555555555556,
              "#d8576b"
             ],
             [
              0.6666666666666666,
              "#ed7953"
             ],
             [
              0.7777777777777778,
              "#fb9f3a"
             ],
             [
              0.8888888888888888,
              "#fdca26"
             ],
             [
              1,
              "#f0f921"
             ]
            ],
            "type": "histogram2d"
           }
          ],
          "histogram2dcontour": [
           {
            "colorbar": {
             "outlinewidth": 0,
             "ticks": ""
            },
            "colorscale": [
             [
              0,
              "#0d0887"
             ],
             [
              0.1111111111111111,
              "#46039f"
             ],
             [
              0.2222222222222222,
              "#7201a8"
             ],
             [
              0.3333333333333333,
              "#9c179e"
             ],
             [
              0.4444444444444444,
              "#bd3786"
             ],
             [
              0.5555555555555556,
              "#d8576b"
             ],
             [
              0.6666666666666666,
              "#ed7953"
             ],
             [
              0.7777777777777778,
              "#fb9f3a"
             ],
             [
              0.8888888888888888,
              "#fdca26"
             ],
             [
              1,
              "#f0f921"
             ]
            ],
            "type": "histogram2dcontour"
           }
          ],
          "mesh3d": [
           {
            "colorbar": {
             "outlinewidth": 0,
             "ticks": ""
            },
            "type": "mesh3d"
           }
          ],
          "parcoords": [
           {
            "line": {
             "colorbar": {
              "outlinewidth": 0,
              "ticks": ""
             }
            },
            "type": "parcoords"
           }
          ],
          "pie": [
           {
            "automargin": true,
            "type": "pie"
           }
          ],
          "scatter": [
           {
            "fillpattern": {
             "fillmode": "overlay",
             "size": 10,
             "solidity": 0.2
            },
            "type": "scatter"
           }
          ],
          "scatter3d": [
           {
            "line": {
             "colorbar": {
              "outlinewidth": 0,
              "ticks": ""
             }
            },
            "marker": {
             "colorbar": {
              "outlinewidth": 0,
              "ticks": ""
             }
            },
            "type": "scatter3d"
           }
          ],
          "scattercarpet": [
           {
            "marker": {
             "colorbar": {
              "outlinewidth": 0,
              "ticks": ""
             }
            },
            "type": "scattercarpet"
           }
          ],
          "scattergeo": [
           {
            "marker": {
             "colorbar": {
              "outlinewidth": 0,
              "ticks": ""
             }
            },
            "type": "scattergeo"
           }
          ],
          "scattergl": [
           {
            "marker": {
             "colorbar": {
              "outlinewidth": 0,
              "ticks": ""
             }
            },
            "type": "scattergl"
           }
          ],
          "scattermapbox": [
           {
            "marker": {
             "colorbar": {
              "outlinewidth": 0,
              "ticks": ""
             }
            },
            "type": "scattermapbox"
           }
          ],
          "scatterpolar": [
           {
            "marker": {
             "colorbar": {
              "outlinewidth": 0,
              "ticks": ""
             }
            },
            "type": "scatterpolar"
           }
          ],
          "scatterpolargl": [
           {
            "marker": {
             "colorbar": {
              "outlinewidth": 0,
              "ticks": ""
             }
            },
            "type": "scatterpolargl"
           }
          ],
          "scatterternary": [
           {
            "marker": {
             "colorbar": {
              "outlinewidth": 0,
              "ticks": ""
             }
            },
            "type": "scatterternary"
           }
          ],
          "surface": [
           {
            "colorbar": {
             "outlinewidth": 0,
             "ticks": ""
            },
            "colorscale": [
             [
              0,
              "#0d0887"
             ],
             [
              0.1111111111111111,
              "#46039f"
             ],
             [
              0.2222222222222222,
              "#7201a8"
             ],
             [
              0.3333333333333333,
              "#9c179e"
             ],
             [
              0.4444444444444444,
              "#bd3786"
             ],
             [
              0.5555555555555556,
              "#d8576b"
             ],
             [
              0.6666666666666666,
              "#ed7953"
             ],
             [
              0.7777777777777778,
              "#fb9f3a"
             ],
             [
              0.8888888888888888,
              "#fdca26"
             ],
             [
              1,
              "#f0f921"
             ]
            ],
            "type": "surface"
           }
          ],
          "table": [
           {
            "cells": {
             "fill": {
              "color": "#EBF0F8"
             },
             "line": {
              "color": "white"
             }
            },
            "header": {
             "fill": {
              "color": "#C8D4E3"
             },
             "line": {
              "color": "white"
             }
            },
            "type": "table"
           }
          ]
         },
         "layout": {
          "annotationdefaults": {
           "arrowcolor": "#2a3f5f",
           "arrowhead": 0,
           "arrowwidth": 1
          },
          "autotypenumbers": "strict",
          "coloraxis": {
           "colorbar": {
            "outlinewidth": 0,
            "ticks": ""
           }
          },
          "colorscale": {
           "diverging": [
            [
             0,
             "#8e0152"
            ],
            [
             0.1,
             "#c51b7d"
            ],
            [
             0.2,
             "#de77ae"
            ],
            [
             0.3,
             "#f1b6da"
            ],
            [
             0.4,
             "#fde0ef"
            ],
            [
             0.5,
             "#f7f7f7"
            ],
            [
             0.6,
             "#e6f5d0"
            ],
            [
             0.7,
             "#b8e186"
            ],
            [
             0.8,
             "#7fbc41"
            ],
            [
             0.9,
             "#4d9221"
            ],
            [
             1,
             "#276419"
            ]
           ],
           "sequential": [
            [
             0,
             "#0d0887"
            ],
            [
             0.1111111111111111,
             "#46039f"
            ],
            [
             0.2222222222222222,
             "#7201a8"
            ],
            [
             0.3333333333333333,
             "#9c179e"
            ],
            [
             0.4444444444444444,
             "#bd3786"
            ],
            [
             0.5555555555555556,
             "#d8576b"
            ],
            [
             0.6666666666666666,
             "#ed7953"
            ],
            [
             0.7777777777777778,
             "#fb9f3a"
            ],
            [
             0.8888888888888888,
             "#fdca26"
            ],
            [
             1,
             "#f0f921"
            ]
           ],
           "sequentialminus": [
            [
             0,
             "#0d0887"
            ],
            [
             0.1111111111111111,
             "#46039f"
            ],
            [
             0.2222222222222222,
             "#7201a8"
            ],
            [
             0.3333333333333333,
             "#9c179e"
            ],
            [
             0.4444444444444444,
             "#bd3786"
            ],
            [
             0.5555555555555556,
             "#d8576b"
            ],
            [
             0.6666666666666666,
             "#ed7953"
            ],
            [
             0.7777777777777778,
             "#fb9f3a"
            ],
            [
             0.8888888888888888,
             "#fdca26"
            ],
            [
             1,
             "#f0f921"
            ]
           ]
          },
          "colorway": [
           "#636efa",
           "#EF553B",
           "#00cc96",
           "#ab63fa",
           "#FFA15A",
           "#19d3f3",
           "#FF6692",
           "#B6E880",
           "#FF97FF",
           "#FECB52"
          ],
          "font": {
           "color": "#2a3f5f"
          },
          "geo": {
           "bgcolor": "white",
           "lakecolor": "white",
           "landcolor": "#E5ECF6",
           "showlakes": true,
           "showland": true,
           "subunitcolor": "white"
          },
          "hoverlabel": {
           "align": "left"
          },
          "hovermode": "closest",
          "mapbox": {
           "style": "light"
          },
          "paper_bgcolor": "white",
          "plot_bgcolor": "#E5ECF6",
          "polar": {
           "angularaxis": {
            "gridcolor": "white",
            "linecolor": "white",
            "ticks": ""
           },
           "bgcolor": "#E5ECF6",
           "radialaxis": {
            "gridcolor": "white",
            "linecolor": "white",
            "ticks": ""
           }
          },
          "scene": {
           "xaxis": {
            "backgroundcolor": "#E5ECF6",
            "gridcolor": "white",
            "gridwidth": 2,
            "linecolor": "white",
            "showbackground": true,
            "ticks": "",
            "zerolinecolor": "white"
           },
           "yaxis": {
            "backgroundcolor": "#E5ECF6",
            "gridcolor": "white",
            "gridwidth": 2,
            "linecolor": "white",
            "showbackground": true,
            "ticks": "",
            "zerolinecolor": "white"
           },
           "zaxis": {
            "backgroundcolor": "#E5ECF6",
            "gridcolor": "white",
            "gridwidth": 2,
            "linecolor": "white",
            "showbackground": true,
            "ticks": "",
            "zerolinecolor": "white"
           }
          },
          "shapedefaults": {
           "line": {
            "color": "#2a3f5f"
           }
          },
          "ternary": {
           "aaxis": {
            "gridcolor": "white",
            "linecolor": "white",
            "ticks": ""
           },
           "baxis": {
            "gridcolor": "white",
            "linecolor": "white",
            "ticks": ""
           },
           "bgcolor": "#E5ECF6",
           "caxis": {
            "gridcolor": "white",
            "linecolor": "white",
            "ticks": ""
           }
          },
          "title": {
           "x": 0.05
          },
          "xaxis": {
           "automargin": true,
           "gridcolor": "white",
           "linecolor": "white",
           "ticks": "",
           "title": {
            "standoff": 15
           },
           "zerolinecolor": "white",
           "zerolinewidth": 2
          },
          "yaxis": {
           "automargin": true,
           "gridcolor": "white",
           "linecolor": "white",
           "ticks": "",
           "title": {
            "standoff": 15
           },
           "zerolinecolor": "white",
           "zerolinewidth": 2
          }
         }
        },
        "title": {
         "text": "Distribucion de ingresos por performance"
        },
        "xaxis": {
         "anchor": "y",
         "domain": [
          0,
          1
         ]
        },
        "yaxis": {
         "anchor": "x",
         "domain": [
          0,
          1
         ],
         "title": {
          "text": "income"
         }
        }
       }
      }
     },
     "metadata": {},
     "output_type": "display_data"
    },
    {
     "data": {
      "application/vnd.plotly.v1+json": {
       "config": {
        "plotlyServerURL": "https://plot.ly"
       },
       "data": [
        {
         "alignmentgroup": "True",
         "hovertemplate": "education=College<br>income=%{y}<extra></extra>",
         "legendgroup": "College",
         "marker": {
          "color": "#636efa"
         },
         "name": "College",
         "notched": false,
         "offsetgroup": "College",
         "orientation": "v",
         "showlegend": true,
         "type": "box",
         "x0": " ",
         "xaxis": "x",
         "y": [
          42363,
          108476,
          67585,
          106524,
          62759,
          84007,
          99545,
          92067,
          72038,
          71182,
          112392,
          84638,
          78986,
          86886,
          71105,
          71193,
          82453,
          82832,
          127085,
          131311,
          52633,
          113640,
          74938,
          103384,
          77584,
          80355,
          127769,
          111342,
          106194,
          97414,
          63695,
          53956,
          108495,
          101173,
          104435,
          68295,
          64844,
          66529,
          108241,
          114421,
          83499,
          120593,
          72827,
          64852,
          106887,
          77309,
          78623,
          89411,
          107140,
          76773,
          54245,
          81826,
          157410,
          90330,
          93268,
          109345,
          78113,
          98515,
          103133,
          69254,
          114680,
          104657,
          62097,
          94973,
          92458,
          133927,
          107366,
          78750,
          93306,
          59458,
          104361,
          89678,
          109346,
          68797,
          120154,
          76865,
          87998,
          85306,
          56954,
          112491,
          68403,
          59399,
          73989,
          90307,
          79291,
          102201,
          70088,
          66438,
          79674,
          85161,
          65547,
          105410,
          121682,
          75811,
          91905,
          54817,
          37898,
          70846,
          123114,
          91066,
          116758,
          138851,
          49632,
          131275,
          135781,
          84935,
          124871,
          92080,
          118762,
          85398,
          75227,
          77655,
          107476,
          106893,
          76654,
          75833,
          65750,
          123371,
          83774,
          85986,
          127608,
          116069,
          81988,
          148178,
          87418,
          68384,
          88749,
          110594,
          157644,
          66203,
          125770,
          100465,
          83264,
          43076,
          97846,
          112188,
          98959,
          87131,
          77881,
          126269,
          127013,
          73798,
          101534,
          90426,
          99369,
          55845,
          48570,
          57915,
          121506,
          86241,
          114029,
          67323,
          124891,
          100316,
          125339,
          111120,
          91160,
          105795,
          103978,
          66377,
          81301,
          72497,
          41603,
          129620,
          51906,
          120159,
          88365,
          103156,
          93742,
          71278,
          98423,
          93320,
          93441,
          79765,
          76908,
          81325,
          73404,
          71371,
          128680,
          152710,
          77584,
          95505,
          87575,
          108475,
          99942,
          126370,
          133910,
          77839,
          106503,
          111502,
          84683,
          67913,
          114171,
          106204,
          95795,
          117131,
          38613,
          62866,
          114621,
          93802,
          64994,
          114436,
          60983,
          55885,
          115344,
          110157,
          38855,
          80259,
          86563,
          123153,
          125828,
          160460,
          119058,
          106722,
          92891,
          96900,
          61609,
          114031,
          131980,
          114906,
          69928,
          103328,
          90474,
          49449,
          118282,
          85648,
          107572,
          126256,
          136836,
          36642,
          112604,
          54945,
          67150,
          99643,
          92468,
          63300,
          86795,
          110627,
          62738,
          97311,
          81545
         ],
         "y0": " ",
         "yaxis": "y"
        },
        {
         "alignmentgroup": "True",
         "hovertemplate": "education=PhD<br>income=%{y}<extra></extra>",
         "legendgroup": "PhD",
         "marker": {
          "color": "#EF553B"
         },
         "name": "PhD",
         "notched": false,
         "offsetgroup": "PhD",
         "orientation": "v",
         "showlegend": true,
         "type": "box",
         "x0": " ",
         "xaxis": "x",
         "y": [
          90208,
          70890,
          97523,
          102261,
          95584,
          73357,
          88422,
          108446,
          83323,
          85205,
          132823,
          88566,
          104271,
          80306,
          113252,
          96040,
          96355,
          87121,
          88724,
          70643,
          74167,
          97376,
          112466,
          97328,
          88814,
          59212,
          101154,
          46263,
          48755,
          146615,
          46693,
          88152,
          69462,
          119162,
          68466,
          117554,
          52290,
          76517,
          90368,
          78462,
          110731,
          125572,
          126828,
          40187,
          98519,
          68639,
          103763,
          129132,
          86423,
          84844,
          60070,
          110049,
          127062,
          90685,
          129425,
          86036,
          87352,
          139760,
          101262,
          74073,
          95687,
          120294,
          91099,
          102966,
          128970,
          98900,
          92687,
          102247,
          56318,
          108820,
          88213,
          82126,
          95169,
          94492,
          75901,
          87409,
          104202,
          77793,
          56745,
          81995,
          66125,
          98100,
          125770,
          143887,
          86675,
          128173,
          36548,
          88781,
          113730,
          176789,
          102473,
          160614,
          89570,
          150467,
          57782,
          114479,
          62054,
          80171,
          112134,
          104355,
          78564,
          79544,
          121949,
          82755,
          122037,
          56309,
          90002,
          76700,
          89648,
          112854,
          101249,
          105800,
          69268,
          92289,
          127561,
          145632,
          53220,
          67040,
          92154,
          110643,
          82345,
          103908,
          94927,
          131608,
          118888,
          114733,
          69320,
          110746,
          117648,
          89170,
          75518,
          64468,
          116834,
          94590,
          106056,
          128669,
          88725,
          90713,
          113009,
          105601,
          115383,
          120697,
          70311,
          126375,
          111726,
          98366,
          66611,
          150914,
          91504,
          100433,
          123242,
          87585,
          132267,
          111043,
          90542,
          112507,
          134757,
          75238,
          125164,
          79142,
          79462,
          105598,
          49622,
          71590,
          93067,
          98512,
          125574,
          111770,
          82790,
          108366,
          85453,
          157169,
          129683,
          102106,
          80635,
          119522,
          121589,
          108778,
          128520,
          68364,
          102265,
          65816,
          106452,
          113140,
          152081,
          100819,
          157277,
          108296,
          152625,
          103416,
          139141,
          50758,
          75316,
          118093,
          116642,
          113283,
          138184,
          99134,
          79177,
          100941,
          51837,
          139068,
          121910,
          82057,
          107064,
          93054,
          90000,
          130417,
          141186,
          107640,
          62600,
          115604,
          124166,
          91129,
          135512,
          53839,
          78836,
          108587,
          99472,
          121457,
          114141,
          179726,
          142505,
          108719,
          127250,
          124782,
          92257,
          76726,
          67089,
          97789,
          123333,
          105771,
          121239,
          124530,
          113031,
          97696,
          85253,
          123108
         ],
         "y0": " ",
         "yaxis": "y"
        },
        {
         "alignmentgroup": "True",
         "hovertemplate": "education=Masters<br>income=%{y}<extra></extra>",
         "legendgroup": "Masters",
         "marker": {
          "color": "#00cc96"
         },
         "name": "Masters",
         "notched": false,
         "offsetgroup": "Masters",
         "orientation": "v",
         "showlegend": true,
         "type": "box",
         "x0": " ",
         "xaxis": "x",
         "y": [
          108080,
          99464,
          86220,
          100305,
          66359,
          103007,
          58219,
          119024,
          81503,
          90780,
          89474,
          89415,
          88037,
          76286,
          86766,
          83031,
          111019,
          80192,
          127156,
          92622,
          51331,
          77032,
          96045,
          92358,
          91978,
          89822,
          62040,
          84132,
          88047,
          65012,
          59251,
          42722,
          72754,
          83758,
          98531,
          88994,
          119381,
          97625,
          100115,
          115165,
          133495,
          86516,
          69855,
          79208,
          142105,
          71858,
          61000,
          109623,
          72542,
          80981,
          106788,
          108922,
          82338,
          102815,
          129609,
          100091,
          103479,
          88482,
          57398,
          98010,
          112941,
          90024,
          129406,
          61164,
          73801,
          66084,
          130826,
          72301,
          67749,
          97000,
          72120,
          62260,
          100859,
          114007,
          60736,
          69878,
          37780,
          132873,
          121210,
          100463,
          92276,
          90482,
          106560,
          58807,
          126626,
          69367,
          116751,
          139841,
          60892,
          99543,
          71824,
          155834,
          83620,
          98321,
          155203,
          71794,
          133472,
          62753,
          129226,
          67762,
          77751,
          79144,
          57070,
          118653,
          134758,
          118629,
          90005,
          113544,
          107025,
          82850,
          78021,
          118088,
          92099,
          100516,
          155676,
          143189,
          77223,
          130093,
          104314,
          123172,
          89811,
          154039,
          121821,
          113122,
          107859,
          85702,
          97797,
          115567,
          76806,
          105632,
          78132,
          135073,
          114693,
          116875,
          75294,
          68300,
          110886,
          104082,
          94354,
          149771,
          98535,
          126100,
          76522,
          65225,
          78472,
          90736,
          70559,
          100183,
          98165,
          113274,
          95754,
          121151,
          87682,
          45747,
          58130,
          138365,
          165229,
          118322,
          106883,
          74305,
          38451,
          55569,
          97240,
          119033,
          106315,
          84803,
          78002,
          79274,
          91711,
          93805,
          109931,
          104744,
          95795,
          124470,
          132323,
          126239,
          101133,
          106584,
          90612,
          76103,
          84628,
          110636,
          135106,
          83095,
          118314,
          133741,
          96582,
          146008,
          101791,
          88175,
          84878,
          73685,
          55560,
          94745,
          120096,
          100505,
          104589,
          134450,
          101273,
          59334,
          122142,
          90526,
          134109,
          77742,
          155826,
          82343,
          107818,
          104290,
          111403,
          115613,
          64920,
          114048,
          136209,
          99543,
          82277,
          73142,
          120112,
          96982,
          84764,
          120277,
          95898,
          130082,
          72248,
          101140,
          101050,
          100415,
          145095,
          93358,
          98995,
          122352,
          112489,
          119794,
          96609,
          84725,
          115981,
          112719,
          93018,
          139042,
          101423,
          86375,
          106279,
          95798,
          128730,
          93855,
          91447,
          45915,
          66028,
          106918,
          109606,
          90999,
          92950,
          102593,
          91030,
          106945,
          80789,
          108977
         ],
         "y0": " ",
         "yaxis": "y"
        },
        {
         "alignmentgroup": "True",
         "hovertemplate": "education=High School<br>income=%{y}<extra></extra>",
         "legendgroup": "High School",
         "marker": {
          "color": "#ab63fa"
         },
         "name": "High School",
         "notched": false,
         "offsetgroup": "High School",
         "orientation": "v",
         "showlegend": true,
         "type": "box",
         "x0": " ",
         "xaxis": "x",
         "y": [
          112976,
          90386,
          74523,
          91674,
          92928,
          102120,
          62692,
          83034,
          66168,
          55189,
          50401,
          59044,
          109419,
          146190,
          82534,
          96061,
          109369,
          47036,
          87684,
          135013,
          87608,
          102716,
          77793,
          57469,
          67617,
          91049,
          91713,
          113180,
          103107,
          93470,
          106478,
          57783,
          46903,
          44325,
          100183,
          49830,
          106896,
          93073,
          100070,
          58054,
          100416,
          80135,
          106158,
          89559,
          120156,
          121376,
          102736,
          64008,
          67530,
          75506,
          65711,
          50601,
          65907,
          80937,
          85928,
          104526,
          80494,
          40341,
          74316,
          92722,
          123422,
          102910,
          84021,
          37026,
          64958,
          55954,
          100014,
          108288,
          83025,
          95964,
          102108,
          65164,
          88571,
          87435,
          130251,
          56172,
          84930,
          111903,
          91568,
          73306,
          119931,
          140445,
          77275,
          130720,
          157852,
          87150,
          117629,
          71772,
          87134,
          71946,
          96777,
          61527,
          64624,
          70374,
          121728,
          40056,
          79707,
          124817,
          62377,
          75932,
          96500,
          66407,
          83894,
          144146,
          85948,
          75397,
          102597,
          72945,
          83262,
          116774,
          98281,
          34208,
          49303,
          98456,
          129885,
          91566,
          78751,
          118231,
          86651,
          86122,
          100769,
          82244,
          72030,
          67210,
          106233,
          56656,
          70157,
          106146,
          69734,
          94763,
          68049,
          93335,
          36972,
          64754,
          76523,
          66935,
          59006,
          89225,
          101716,
          113465,
          78084,
          87848,
          81866,
          63928,
          83333,
          92797,
          72422,
          79334,
          78910,
          92760,
          70595,
          53855,
          92516,
          106963,
          57672,
          97768,
          100160,
          93696,
          88230,
          83674,
          84592,
          104329,
          102745,
          62753,
          96584,
          109136,
          81249,
          103181,
          98499,
          61081,
          79237,
          68175,
          122624,
          75919,
          104468,
          117202,
          66887,
          61018,
          124847,
          86538,
          111041,
          106798,
          98575,
          78625,
          108731,
          47739,
          138163,
          163208,
          136215,
          63327,
          96023,
          52578,
          107065,
          107370,
          39741,
          120579,
          103242,
          83308,
          36585,
          49553,
          80030,
          84047,
          81661,
          149893,
          81515,
          111896,
          81057,
          117215,
          96232,
          114943,
          61589,
          74829,
          91342,
          65313,
          57500,
          55555,
          75017,
          115641,
          85947,
          124151,
          141005,
          115742,
          131411,
          109645,
          88820,
          86650,
          101284,
          64807,
          41151,
          59493,
          119893,
          94154,
          104623,
          68643,
          63914,
          67296,
          60026,
          116803,
          95995,
          135638,
          109832,
          81547,
          106916,
          124660,
          59377,
          112502,
          89272,
          101515,
          87314,
          60271,
          132815,
          110078,
          106045,
          107479,
          91300,
          88195,
          82164,
          119069,
          112169,
          120574,
          98796,
          96665,
          62644,
          92347,
          97376
         ],
         "y0": " ",
         "yaxis": "y"
        }
       ],
       "layout": {
        "boxmode": "group",
        "legend": {
         "title": {
          "text": "education"
         },
         "tracegroupgap": 0
        },
        "template": {
         "data": {
          "bar": [
           {
            "error_x": {
             "color": "#2a3f5f"
            },
            "error_y": {
             "color": "#2a3f5f"
            },
            "marker": {
             "line": {
              "color": "#E5ECF6",
              "width": 0.5
             },
             "pattern": {
              "fillmode": "overlay",
              "size": 10,
              "solidity": 0.2
             }
            },
            "type": "bar"
           }
          ],
          "barpolar": [
           {
            "marker": {
             "line": {
              "color": "#E5ECF6",
              "width": 0.5
             },
             "pattern": {
              "fillmode": "overlay",
              "size": 10,
              "solidity": 0.2
             }
            },
            "type": "barpolar"
           }
          ],
          "carpet": [
           {
            "aaxis": {
             "endlinecolor": "#2a3f5f",
             "gridcolor": "white",
             "linecolor": "white",
             "minorgridcolor": "white",
             "startlinecolor": "#2a3f5f"
            },
            "baxis": {
             "endlinecolor": "#2a3f5f",
             "gridcolor": "white",
             "linecolor": "white",
             "minorgridcolor": "white",
             "startlinecolor": "#2a3f5f"
            },
            "type": "carpet"
           }
          ],
          "choropleth": [
           {
            "colorbar": {
             "outlinewidth": 0,
             "ticks": ""
            },
            "type": "choropleth"
           }
          ],
          "contour": [
           {
            "colorbar": {
             "outlinewidth": 0,
             "ticks": ""
            },
            "colorscale": [
             [
              0,
              "#0d0887"
             ],
             [
              0.1111111111111111,
              "#46039f"
             ],
             [
              0.2222222222222222,
              "#7201a8"
             ],
             [
              0.3333333333333333,
              "#9c179e"
             ],
             [
              0.4444444444444444,
              "#bd3786"
             ],
             [
              0.5555555555555556,
              "#d8576b"
             ],
             [
              0.6666666666666666,
              "#ed7953"
             ],
             [
              0.7777777777777778,
              "#fb9f3a"
             ],
             [
              0.8888888888888888,
              "#fdca26"
             ],
             [
              1,
              "#f0f921"
             ]
            ],
            "type": "contour"
           }
          ],
          "contourcarpet": [
           {
            "colorbar": {
             "outlinewidth": 0,
             "ticks": ""
            },
            "type": "contourcarpet"
           }
          ],
          "heatmap": [
           {
            "colorbar": {
             "outlinewidth": 0,
             "ticks": ""
            },
            "colorscale": [
             [
              0,
              "#0d0887"
             ],
             [
              0.1111111111111111,
              "#46039f"
             ],
             [
              0.2222222222222222,
              "#7201a8"
             ],
             [
              0.3333333333333333,
              "#9c179e"
             ],
             [
              0.4444444444444444,
              "#bd3786"
             ],
             [
              0.5555555555555556,
              "#d8576b"
             ],
             [
              0.6666666666666666,
              "#ed7953"
             ],
             [
              0.7777777777777778,
              "#fb9f3a"
             ],
             [
              0.8888888888888888,
              "#fdca26"
             ],
             [
              1,
              "#f0f921"
             ]
            ],
            "type": "heatmap"
           }
          ],
          "heatmapgl": [
           {
            "colorbar": {
             "outlinewidth": 0,
             "ticks": ""
            },
            "colorscale": [
             [
              0,
              "#0d0887"
             ],
             [
              0.1111111111111111,
              "#46039f"
             ],
             [
              0.2222222222222222,
              "#7201a8"
             ],
             [
              0.3333333333333333,
              "#9c179e"
             ],
             [
              0.4444444444444444,
              "#bd3786"
             ],
             [
              0.5555555555555556,
              "#d8576b"
             ],
             [
              0.6666666666666666,
              "#ed7953"
             ],
             [
              0.7777777777777778,
              "#fb9f3a"
             ],
             [
              0.8888888888888888,
              "#fdca26"
             ],
             [
              1,
              "#f0f921"
             ]
            ],
            "type": "heatmapgl"
           }
          ],
          "histogram": [
           {
            "marker": {
             "pattern": {
              "fillmode": "overlay",
              "size": 10,
              "solidity": 0.2
             }
            },
            "type": "histogram"
           }
          ],
          "histogram2d": [
           {
            "colorbar": {
             "outlinewidth": 0,
             "ticks": ""
            },
            "colorscale": [
             [
              0,
              "#0d0887"
             ],
             [
              0.1111111111111111,
              "#46039f"
             ],
             [
              0.2222222222222222,
              "#7201a8"
             ],
             [
              0.3333333333333333,
              "#9c179e"
             ],
             [
              0.4444444444444444,
              "#bd3786"
             ],
             [
              0.5555555555555556,
              "#d8576b"
             ],
             [
              0.6666666666666666,
              "#ed7953"
             ],
             [
              0.7777777777777778,
              "#fb9f3a"
             ],
             [
              0.8888888888888888,
              "#fdca26"
             ],
             [
              1,
              "#f0f921"
             ]
            ],
            "type": "histogram2d"
           }
          ],
          "histogram2dcontour": [
           {
            "colorbar": {
             "outlinewidth": 0,
             "ticks": ""
            },
            "colorscale": [
             [
              0,
              "#0d0887"
             ],
             [
              0.1111111111111111,
              "#46039f"
             ],
             [
              0.2222222222222222,
              "#7201a8"
             ],
             [
              0.3333333333333333,
              "#9c179e"
             ],
             [
              0.4444444444444444,
              "#bd3786"
             ],
             [
              0.5555555555555556,
              "#d8576b"
             ],
             [
              0.6666666666666666,
              "#ed7953"
             ],
             [
              0.7777777777777778,
              "#fb9f3a"
             ],
             [
              0.8888888888888888,
              "#fdca26"
             ],
             [
              1,
              "#f0f921"
             ]
            ],
            "type": "histogram2dcontour"
           }
          ],
          "mesh3d": [
           {
            "colorbar": {
             "outlinewidth": 0,
             "ticks": ""
            },
            "type": "mesh3d"
           }
          ],
          "parcoords": [
           {
            "line": {
             "colorbar": {
              "outlinewidth": 0,
              "ticks": ""
             }
            },
            "type": "parcoords"
           }
          ],
          "pie": [
           {
            "automargin": true,
            "type": "pie"
           }
          ],
          "scatter": [
           {
            "fillpattern": {
             "fillmode": "overlay",
             "size": 10,
             "solidity": 0.2
            },
            "type": "scatter"
           }
          ],
          "scatter3d": [
           {
            "line": {
             "colorbar": {
              "outlinewidth": 0,
              "ticks": ""
             }
            },
            "marker": {
             "colorbar": {
              "outlinewidth": 0,
              "ticks": ""
             }
            },
            "type": "scatter3d"
           }
          ],
          "scattercarpet": [
           {
            "marker": {
             "colorbar": {
              "outlinewidth": 0,
              "ticks": ""
             }
            },
            "type": "scattercarpet"
           }
          ],
          "scattergeo": [
           {
            "marker": {
             "colorbar": {
              "outlinewidth": 0,
              "ticks": ""
             }
            },
            "type": "scattergeo"
           }
          ],
          "scattergl": [
           {
            "marker": {
             "colorbar": {
              "outlinewidth": 0,
              "ticks": ""
             }
            },
            "type": "scattergl"
           }
          ],
          "scattermapbox": [
           {
            "marker": {
             "colorbar": {
              "outlinewidth": 0,
              "ticks": ""
             }
            },
            "type": "scattermapbox"
           }
          ],
          "scatterpolar": [
           {
            "marker": {
             "colorbar": {
              "outlinewidth": 0,
              "ticks": ""
             }
            },
            "type": "scatterpolar"
           }
          ],
          "scatterpolargl": [
           {
            "marker": {
             "colorbar": {
              "outlinewidth": 0,
              "ticks": ""
             }
            },
            "type": "scatterpolargl"
           }
          ],
          "scatterternary": [
           {
            "marker": {
             "colorbar": {
              "outlinewidth": 0,
              "ticks": ""
             }
            },
            "type": "scatterternary"
           }
          ],
          "surface": [
           {
            "colorbar": {
             "outlinewidth": 0,
             "ticks": ""
            },
            "colorscale": [
             [
              0,
              "#0d0887"
             ],
             [
              0.1111111111111111,
              "#46039f"
             ],
             [
              0.2222222222222222,
              "#7201a8"
             ],
             [
              0.3333333333333333,
              "#9c179e"
             ],
             [
              0.4444444444444444,
              "#bd3786"
             ],
             [
              0.5555555555555556,
              "#d8576b"
             ],
             [
              0.6666666666666666,
              "#ed7953"
             ],
             [
              0.7777777777777778,
              "#fb9f3a"
             ],
             [
              0.8888888888888888,
              "#fdca26"
             ],
             [
              1,
              "#f0f921"
             ]
            ],
            "type": "surface"
           }
          ],
          "table": [
           {
            "cells": {
             "fill": {
              "color": "#EBF0F8"
             },
             "line": {
              "color": "white"
             }
            },
            "header": {
             "fill": {
              "color": "#C8D4E3"
             },
             "line": {
              "color": "white"
             }
            },
            "type": "table"
           }
          ]
         },
         "layout": {
          "annotationdefaults": {
           "arrowcolor": "#2a3f5f",
           "arrowhead": 0,
           "arrowwidth": 1
          },
          "autotypenumbers": "strict",
          "coloraxis": {
           "colorbar": {
            "outlinewidth": 0,
            "ticks": ""
           }
          },
          "colorscale": {
           "diverging": [
            [
             0,
             "#8e0152"
            ],
            [
             0.1,
             "#c51b7d"
            ],
            [
             0.2,
             "#de77ae"
            ],
            [
             0.3,
             "#f1b6da"
            ],
            [
             0.4,
             "#fde0ef"
            ],
            [
             0.5,
             "#f7f7f7"
            ],
            [
             0.6,
             "#e6f5d0"
            ],
            [
             0.7,
             "#b8e186"
            ],
            [
             0.8,
             "#7fbc41"
            ],
            [
             0.9,
             "#4d9221"
            ],
            [
             1,
             "#276419"
            ]
           ],
           "sequential": [
            [
             0,
             "#0d0887"
            ],
            [
             0.1111111111111111,
             "#46039f"
            ],
            [
             0.2222222222222222,
             "#7201a8"
            ],
            [
             0.3333333333333333,
             "#9c179e"
            ],
            [
             0.4444444444444444,
             "#bd3786"
            ],
            [
             0.5555555555555556,
             "#d8576b"
            ],
            [
             0.6666666666666666,
             "#ed7953"
            ],
            [
             0.7777777777777778,
             "#fb9f3a"
            ],
            [
             0.8888888888888888,
             "#fdca26"
            ],
            [
             1,
             "#f0f921"
            ]
           ],
           "sequentialminus": [
            [
             0,
             "#0d0887"
            ],
            [
             0.1111111111111111,
             "#46039f"
            ],
            [
             0.2222222222222222,
             "#7201a8"
            ],
            [
             0.3333333333333333,
             "#9c179e"
            ],
            [
             0.4444444444444444,
             "#bd3786"
            ],
            [
             0.5555555555555556,
             "#d8576b"
            ],
            [
             0.6666666666666666,
             "#ed7953"
            ],
            [
             0.7777777777777778,
             "#fb9f3a"
            ],
            [
             0.8888888888888888,
             "#fdca26"
            ],
            [
             1,
             "#f0f921"
            ]
           ]
          },
          "colorway": [
           "#636efa",
           "#EF553B",
           "#00cc96",
           "#ab63fa",
           "#FFA15A",
           "#19d3f3",
           "#FF6692",
           "#B6E880",
           "#FF97FF",
           "#FECB52"
          ],
          "font": {
           "color": "#2a3f5f"
          },
          "geo": {
           "bgcolor": "white",
           "lakecolor": "white",
           "landcolor": "#E5ECF6",
           "showlakes": true,
           "showland": true,
           "subunitcolor": "white"
          },
          "hoverlabel": {
           "align": "left"
          },
          "hovermode": "closest",
          "mapbox": {
           "style": "light"
          },
          "paper_bgcolor": "white",
          "plot_bgcolor": "#E5ECF6",
          "polar": {
           "angularaxis": {
            "gridcolor": "white",
            "linecolor": "white",
            "ticks": ""
           },
           "bgcolor": "#E5ECF6",
           "radialaxis": {
            "gridcolor": "white",
            "linecolor": "white",
            "ticks": ""
           }
          },
          "scene": {
           "xaxis": {
            "backgroundcolor": "#E5ECF6",
            "gridcolor": "white",
            "gridwidth": 2,
            "linecolor": "white",
            "showbackground": true,
            "ticks": "",
            "zerolinecolor": "white"
           },
           "yaxis": {
            "backgroundcolor": "#E5ECF6",
            "gridcolor": "white",
            "gridwidth": 2,
            "linecolor": "white",
            "showbackground": true,
            "ticks": "",
            "zerolinecolor": "white"
           },
           "zaxis": {
            "backgroundcolor": "#E5ECF6",
            "gridcolor": "white",
            "gridwidth": 2,
            "linecolor": "white",
            "showbackground": true,
            "ticks": "",
            "zerolinecolor": "white"
           }
          },
          "shapedefaults": {
           "line": {
            "color": "#2a3f5f"
           }
          },
          "ternary": {
           "aaxis": {
            "gridcolor": "white",
            "linecolor": "white",
            "ticks": ""
           },
           "baxis": {
            "gridcolor": "white",
            "linecolor": "white",
            "ticks": ""
           },
           "bgcolor": "#E5ECF6",
           "caxis": {
            "gridcolor": "white",
            "linecolor": "white",
            "ticks": ""
           }
          },
          "title": {
           "x": 0.05
          },
          "xaxis": {
           "automargin": true,
           "gridcolor": "white",
           "linecolor": "white",
           "ticks": "",
           "title": {
            "standoff": 15
           },
           "zerolinecolor": "white",
           "zerolinewidth": 2
          },
          "yaxis": {
           "automargin": true,
           "gridcolor": "white",
           "linecolor": "white",
           "ticks": "",
           "title": {
            "standoff": 15
           },
           "zerolinecolor": "white",
           "zerolinewidth": 2
          }
         }
        },
        "title": {
         "text": "Distribucion de ingresos por education"
        },
        "xaxis": {
         "anchor": "y",
         "domain": [
          0,
          1
         ]
        },
        "yaxis": {
         "anchor": "x",
         "domain": [
          0,
          1
         ],
         "title": {
          "text": "income"
         }
        }
       }
      }
     },
     "metadata": {},
     "output_type": "display_data"
    },
    {
     "data": {
      "application/vnd.plotly.v1+json": {
       "config": {
        "plotlyServerURL": "https://plot.ly"
       },
       "data": [
        {
         "alignmentgroup": "True",
         "hovertemplate": "department=Operations<br>income=%{y}<extra></extra>",
         "legendgroup": "Operations",
         "marker": {
          "color": "#636efa"
         },
         "name": "Operations",
         "notched": false,
         "offsetgroup": "Operations",
         "orientation": "v",
         "showlegend": true,
         "type": "box",
         "x0": " ",
         "xaxis": "x",
         "y": [
          42363,
          70890,
          95584,
          80306,
          92928,
          70643,
          90780,
          89474,
          88037,
          71193,
          82453,
          55189,
          101154,
          88152,
          68466,
          80355,
          92358,
          91978,
          78462,
          110731,
          72754,
          104435,
          98519,
          91713,
          86516,
          108241,
          46903,
          71858,
          83499,
          82338,
          93073,
          58054,
          129609,
          72827,
          120294,
          76773,
          54245,
          65711,
          50601,
          93268,
          98900,
          98515,
          104526,
          40341,
          62260,
          37026,
          56318,
          64958,
          55954,
          100014,
          88213,
          82126,
          69878,
          65164,
          75901,
          100463,
          92276,
          130251,
          107366,
          77793,
          84930,
          116751,
          60892,
          56745,
          59458,
          111903,
          98321,
          71794,
          77275,
          56954,
          133472,
          128173,
          36548,
          113730,
          57782,
          117629,
          87134,
          79674,
          65547,
          96777,
          70374,
          104355,
          107025,
          78564,
          91905,
          37898,
          79544,
          70846,
          124817,
          62377,
          92099,
          89648,
          112854,
          124871,
          75397,
          130093,
          85398,
          75227,
          83262,
          89811,
          116774,
          98456,
          94927,
          129885,
          97797,
          114733,
          110746,
          135073,
          78751,
          86651,
          94590,
          106056,
          126100,
          70311,
          111726,
          98959,
          78472,
          126269,
          90736,
          150914,
          100183,
          99369,
          55845,
          113274,
          100433,
          123242,
          132267,
          90542,
          76523,
          91160,
          66935,
          106883,
          89225,
          113465,
          66377,
          55569,
          72497,
          78002,
          93067,
          120159,
          91711,
          109931,
          104744,
          78910,
          125574,
          93742,
          71278,
          126239,
          57672,
          109136,
          102265,
          100819,
          75919,
          90526,
          77839,
          75316,
          106503,
          84683,
          106204,
          62866,
          108731,
          104290,
          115613,
          64994,
          51837,
          73142,
          107065,
          107370,
          95898,
          90000,
          141186,
          114943,
          80259,
          86563,
          61589,
          91342,
          101140,
          145095,
          91129,
          92891,
          115742,
          101284,
          96609,
          84725,
          112719,
          116803,
          101423,
          86375,
          49449,
          99472,
          85648,
          114141,
          126256,
          101515,
          93855,
          36642,
          112604,
          121239,
          124530,
          63300,
          91447,
          60271,
          45915,
          66028,
          107479,
          90999,
          86795,
          82164,
          98796,
          92347
         ],
         "y0": " ",
         "yaxis": "y"
        },
        {
         "alignmentgroup": "True",
         "hovertemplate": "department=Management<br>income=%{y}<extra></extra>",
         "legendgroup": "Management",
         "marker": {
          "color": "#EF553B"
         },
         "name": "Management",
         "notched": false,
         "offsetgroup": "Management",
         "orientation": "v",
         "showlegend": true,
         "type": "box",
         "x0": " ",
         "xaxis": "x",
         "y": [
          108476,
          62759,
          73357,
          72038,
          88566,
          66359,
          103007,
          113252,
          96040,
          91674,
          84638,
          87121,
          81503,
          86886,
          112466,
          86766,
          82832,
          52633,
          50401,
          74938,
          83031,
          48755,
          82534,
          127769,
          111342,
          117554,
          87684,
          97414,
          63695,
          108495,
          126828,
          83758,
          68639,
          68295,
          100115,
          114421,
          79208,
          44325,
          72542,
          106788,
          101262,
          106887,
          78623,
          80135,
          91099,
          89559,
          120156,
          121376,
          64008,
          129406,
          61164,
          97000,
          80494,
          72120,
          102910,
          83025,
          132873,
          94492,
          87409,
          106560,
          109346,
          98100,
          73306,
          120154,
          125770,
          87998,
          157852,
          68403,
          102473,
          160614,
          67762,
          77751,
          87150,
          71772,
          114479,
          64624,
          80171,
          112134,
          54817,
          123114,
          121949,
          90002,
          118088,
          138851,
          76700,
          131275,
          144146,
          145632,
          98281,
          92154,
          115567,
          131608,
          123371,
          83774,
          89170,
          85986,
          75518,
          114693,
          75294,
          127608,
          81988,
          110886,
          104082,
          94354,
          98535,
          88749,
          157644,
          113009,
          66203,
          67210,
          115383,
          76522,
          87131,
          106233,
          106146,
          70559,
          91504,
          90426,
          121151,
          86241,
          87682,
          67323,
          68049,
          64754,
          111120,
          75238,
          103978,
          59006,
          119033,
          79462,
          78084,
          84803,
          49622,
          129620,
          51906,
          103156,
          98423,
          101133,
          93441,
          110636,
          135106,
          100160,
          76908,
          93696,
          83095,
          128520,
          102745,
          68364,
          152710,
          81249,
          101791,
          95505,
          98499,
          100505,
          104589,
          61081,
          79237,
          108475,
          99942,
          101273,
          152625,
          117202,
          134109,
          114621,
          79177,
          163208,
          114048,
          136215,
          121910,
          82057,
          120579,
          36585,
          49553,
          80030,
          120277,
          81515,
          111896,
          117215,
          57500,
          101050,
          75017,
          112489,
          41151,
          59493,
          119893,
          114906,
          115981,
          68643,
          108587,
          118282,
          121457,
          179726,
          106916,
          97789,
          105771,
          110078,
          88195,
          119069
         ],
         "y0": " ",
         "yaxis": "y"
        },
        {
         "alignmentgroup": "True",
         "hovertemplate": "department=Administration<br>income=%{y}<extra></extra>",
         "legendgroup": "Administration",
         "marker": {
          "color": "#00cc96"
         },
         "name": "Administration",
         "notched": false,
         "offsetgroup": "Administration",
         "orientation": "v",
         "showlegend": true,
         "type": "box",
         "x0": " ",
         "xaxis": "x",
         "y": [
          90208,
          86220,
          88422,
          99545,
          100305,
          112392,
          78986,
          96355,
          71105,
          76286,
          88814,
          66168,
          59212,
          46263,
          127156,
          92622,
          96045,
          52290,
          89822,
          62040,
          88047,
          65012,
          42722,
          125572,
          53956,
          87608,
          101173,
          40187,
          67617,
          91049,
          119381,
          97625,
          66529,
          86423,
          69855,
          142105,
          57783,
          110049,
          127062,
          90685,
          86036,
          87352,
          139760,
          100091,
          64852,
          77309,
          100416,
          112941,
          67530,
          73801,
          157410,
          90330,
          109345,
          103133,
          67749,
          114007,
          95964,
          94973,
          121210,
          88571,
          139841,
          78750,
          93306,
          81995,
          119931,
          140445,
          85306,
          62753,
          90307,
          118653,
          66438,
          71946,
          62054,
          118629,
          105410,
          121682,
          122037,
          78021,
          116758,
          49632,
          100516,
          143189,
          53220,
          104314,
          123172,
          67040,
          77655,
          107476,
          106893,
          82345,
          76654,
          91566,
          118888,
          69320,
          64468,
          68384,
          82244,
          72030,
          83264,
          112188,
          77881,
          101534,
          48570,
          114029,
          87585,
          36972,
          111043,
          124891,
          38451,
          106315,
          41603,
          79274,
          87848,
          83333,
          92797,
          88365,
          79334,
          95795,
          92760,
          92516,
          93320,
          106963,
          90612,
          82790,
          76103,
          84628,
          108366,
          85453,
          79765,
          84592,
          146008,
          62753,
          96584,
          88175,
          55560,
          94745,
          87575,
          152081,
          59334,
          122142,
          103416,
          66887,
          50758,
          111502,
          86538,
          111041,
          106798,
          82343,
          99134,
          38613,
          93802,
          63327,
          114436,
          82277,
          96982,
          84047,
          81057,
          96232,
          107640,
          74829,
          72248,
          123153,
          115604,
          115641,
          85947,
          106722,
          124151,
          122352,
          64807,
          114031,
          78836,
          103328,
          60026,
          135638,
          107572,
          127250,
          95798,
          124782,
          123333,
          54945,
          92468,
          113031,
          106045,
          112169,
          120574,
          102593,
          96665,
          106945,
          81545,
          80789,
          85253,
          62644,
          97376
         ],
         "y0": " ",
         "yaxis": "y"
        },
        {
         "alignmentgroup": "True",
         "hovertemplate": "department=Sales<br>income=%{y}<extra></extra>",
         "legendgroup": "Sales",
         "marker": {
          "color": "#ab63fa"
         },
         "name": "Sales",
         "notched": false,
         "offsetgroup": "Sales",
         "orientation": "v",
         "showlegend": true,
         "type": "box",
         "x0": " ",
         "xaxis": "x",
         "y": [
          108080,
          67585,
          84007,
          83323,
          85205,
          88724,
          119024,
          74167,
          102120,
          89415,
          103384,
          119162,
          109419,
          77032,
          146190,
          96061,
          76517,
          57469,
          113180,
          64844,
          129132,
          115165,
          84844,
          106478,
          61000,
          60070,
          120593,
          106896,
          129425,
          102815,
          103479,
          106158,
          57398,
          95687,
          107140,
          128970,
          75506,
          80937,
          69254,
          114680,
          102247,
          104657,
          62097,
          108820,
          108288,
          100859,
          102108,
          60736,
          37780,
          133927,
          90482,
          87435,
          56172,
          58807,
          126626,
          104202,
          71824,
          104361,
          91568,
          83620,
          66125,
          155203,
          76865,
          143887,
          130720,
          86675,
          176789,
          129226,
          89570,
          73989,
          79291,
          102201,
          134758,
          61527,
          79707,
          82850,
          75932,
          82755,
          56309,
          91066,
          96500,
          155676,
          135781,
          101249,
          83894,
          69268,
          85948,
          72945,
          77223,
          118762,
          103908,
          107859,
          85702,
          75833,
          76806,
          78132,
          118231,
          116834,
          116069,
          68300,
          148178,
          88725,
          90713,
          110594,
          97846,
          56656,
          66611,
          73798,
          69734,
          94763,
          121506,
          45747,
          100316,
          125339,
          105795,
          138365,
          165229,
          101716,
          74305,
          105598,
          63928,
          72422,
          93805,
          70595,
          111770,
          88230,
          81325,
          73404,
          83674,
          133741,
          119522,
          121589,
          96582,
          108778,
          77584,
          84878,
          106452,
          120096,
          113140,
          134450,
          157277,
          68175,
          122624,
          126370,
          104468,
          139141,
          61018,
          124847,
          118093,
          113283,
          67913,
          114171,
          95795,
          78625,
          47739,
          111403,
          138163,
          100941,
          52578,
          99543,
          60983,
          55885,
          39741,
          120112,
          83308,
          110157,
          93054,
          81661,
          62600,
          55555,
          160460,
          135512,
          141005,
          93358,
          131411,
          96900,
          98995,
          109645,
          61609,
          86650,
          119794,
          131980,
          94154,
          93018,
          69928,
          63914,
          90474,
          95995,
          142505,
          108719,
          109832,
          106279,
          81547,
          124660,
          128730,
          136836,
          87314,
          67150,
          132815,
          106918,
          109606,
          110627,
          97696,
          92950,
          97311,
          108977,
          123108
         ],
         "y0": " ",
         "yaxis": "y"
        },
        {
         "alignmentgroup": "True",
         "hovertemplate": "department=Engineering<br>income=%{y}<extra></extra>",
         "legendgroup": "Engineering",
         "marker": {
          "color": "#FFA15A"
         },
         "name": "Engineering",
         "notched": false,
         "offsetgroup": "Engineering",
         "orientation": "v",
         "showlegend": true,
         "type": "box",
         "x0": " ",
         "xaxis": "x",
         "y": [
          99464,
          97523,
          112976,
          106524,
          102261,
          90386,
          92067,
          108446,
          132823,
          71182,
          104271,
          74523,
          58219,
          97376,
          62692,
          97328,
          83034,
          127085,
          131311,
          113640,
          77584,
          111019,
          80192,
          59044,
          146615,
          46693,
          69462,
          51331,
          109369,
          47036,
          90368,
          106194,
          84132,
          59251,
          135013,
          102716,
          77793,
          98531,
          88994,
          103763,
          103107,
          93470,
          133495,
          100183,
          109623,
          80981,
          108922,
          49830,
          100070,
          74073,
          88482,
          89411,
          98010,
          102966,
          102736,
          90024,
          81826,
          65907,
          66084,
          78113,
          130826,
          85928,
          92687,
          72301,
          74316,
          92722,
          123422,
          84021,
          95169,
          92458,
          69367,
          99543,
          155834,
          89678,
          68797,
          112491,
          88781,
          59399,
          79144,
          150467,
          57070,
          70088,
          85161,
          90005,
          75811,
          113544,
          121728,
          40056,
          84935,
          66407,
          105800,
          92289,
          102597,
          127561,
          92080,
          154039,
          34208,
          121821,
          113122,
          110643,
          49303,
          65750,
          105632,
          117648,
          116875,
          86122,
          87418,
          128669,
          149771,
          105601,
          100769,
          120697,
          125770,
          100465,
          126375,
          43076,
          65225,
          70157,
          98366,
          127013,
          98165,
          95754,
          57915,
          93335,
          58130,
          112507,
          134757,
          118322,
          125164,
          79142,
          97240,
          81301,
          81866,
          71590,
          98512,
          124470,
          132323,
          53855,
          106584,
          97768,
          157169,
          129683,
          102106,
          80635,
          118314,
          104329,
          71371,
          128680,
          65816,
          73685,
          103181,
          108296,
          133910,
          116642,
          77742,
          155826,
          138184,
          98575,
          117131,
          107818,
          64920,
          139068,
          136209,
          96023,
          107064,
          103242,
          115344,
          84764,
          149893,
          130082,
          130417,
          38855,
          65313,
          124166,
          125828,
          100415,
          119058,
          88820,
          53839,
          104623,
          67296,
          139042,
          92257,
          59377,
          76726,
          112502,
          89272,
          67089,
          99643,
          91300,
          62738,
          91030
         ],
         "y0": " ",
         "yaxis": "y"
        }
       ],
       "layout": {
        "boxmode": "group",
        "legend": {
         "title": {
          "text": "department"
         },
         "tracegroupgap": 0
        },
        "template": {
         "data": {
          "bar": [
           {
            "error_x": {
             "color": "#2a3f5f"
            },
            "error_y": {
             "color": "#2a3f5f"
            },
            "marker": {
             "line": {
              "color": "#E5ECF6",
              "width": 0.5
             },
             "pattern": {
              "fillmode": "overlay",
              "size": 10,
              "solidity": 0.2
             }
            },
            "type": "bar"
           }
          ],
          "barpolar": [
           {
            "marker": {
             "line": {
              "color": "#E5ECF6",
              "width": 0.5
             },
             "pattern": {
              "fillmode": "overlay",
              "size": 10,
              "solidity": 0.2
             }
            },
            "type": "barpolar"
           }
          ],
          "carpet": [
           {
            "aaxis": {
             "endlinecolor": "#2a3f5f",
             "gridcolor": "white",
             "linecolor": "white",
             "minorgridcolor": "white",
             "startlinecolor": "#2a3f5f"
            },
            "baxis": {
             "endlinecolor": "#2a3f5f",
             "gridcolor": "white",
             "linecolor": "white",
             "minorgridcolor": "white",
             "startlinecolor": "#2a3f5f"
            },
            "type": "carpet"
           }
          ],
          "choropleth": [
           {
            "colorbar": {
             "outlinewidth": 0,
             "ticks": ""
            },
            "type": "choropleth"
           }
          ],
          "contour": [
           {
            "colorbar": {
             "outlinewidth": 0,
             "ticks": ""
            },
            "colorscale": [
             [
              0,
              "#0d0887"
             ],
             [
              0.1111111111111111,
              "#46039f"
             ],
             [
              0.2222222222222222,
              "#7201a8"
             ],
             [
              0.3333333333333333,
              "#9c179e"
             ],
             [
              0.4444444444444444,
              "#bd3786"
             ],
             [
              0.5555555555555556,
              "#d8576b"
             ],
             [
              0.6666666666666666,
              "#ed7953"
             ],
             [
              0.7777777777777778,
              "#fb9f3a"
             ],
             [
              0.8888888888888888,
              "#fdca26"
             ],
             [
              1,
              "#f0f921"
             ]
            ],
            "type": "contour"
           }
          ],
          "contourcarpet": [
           {
            "colorbar": {
             "outlinewidth": 0,
             "ticks": ""
            },
            "type": "contourcarpet"
           }
          ],
          "heatmap": [
           {
            "colorbar": {
             "outlinewidth": 0,
             "ticks": ""
            },
            "colorscale": [
             [
              0,
              "#0d0887"
             ],
             [
              0.1111111111111111,
              "#46039f"
             ],
             [
              0.2222222222222222,
              "#7201a8"
             ],
             [
              0.3333333333333333,
              "#9c179e"
             ],
             [
              0.4444444444444444,
              "#bd3786"
             ],
             [
              0.5555555555555556,
              "#d8576b"
             ],
             [
              0.6666666666666666,
              "#ed7953"
             ],
             [
              0.7777777777777778,
              "#fb9f3a"
             ],
             [
              0.8888888888888888,
              "#fdca26"
             ],
             [
              1,
              "#f0f921"
             ]
            ],
            "type": "heatmap"
           }
          ],
          "heatmapgl": [
           {
            "colorbar": {
             "outlinewidth": 0,
             "ticks": ""
            },
            "colorscale": [
             [
              0,
              "#0d0887"
             ],
             [
              0.1111111111111111,
              "#46039f"
             ],
             [
              0.2222222222222222,
              "#7201a8"
             ],
             [
              0.3333333333333333,
              "#9c179e"
             ],
             [
              0.4444444444444444,
              "#bd3786"
             ],
             [
              0.5555555555555556,
              "#d8576b"
             ],
             [
              0.6666666666666666,
              "#ed7953"
             ],
             [
              0.7777777777777778,
              "#fb9f3a"
             ],
             [
              0.8888888888888888,
              "#fdca26"
             ],
             [
              1,
              "#f0f921"
             ]
            ],
            "type": "heatmapgl"
           }
          ],
          "histogram": [
           {
            "marker": {
             "pattern": {
              "fillmode": "overlay",
              "size": 10,
              "solidity": 0.2
             }
            },
            "type": "histogram"
           }
          ],
          "histogram2d": [
           {
            "colorbar": {
             "outlinewidth": 0,
             "ticks": ""
            },
            "colorscale": [
             [
              0,
              "#0d0887"
             ],
             [
              0.1111111111111111,
              "#46039f"
             ],
             [
              0.2222222222222222,
              "#7201a8"
             ],
             [
              0.3333333333333333,
              "#9c179e"
             ],
             [
              0.4444444444444444,
              "#bd3786"
             ],
             [
              0.5555555555555556,
              "#d8576b"
             ],
             [
              0.6666666666666666,
              "#ed7953"
             ],
             [
              0.7777777777777778,
              "#fb9f3a"
             ],
             [
              0.8888888888888888,
              "#fdca26"
             ],
             [
              1,
              "#f0f921"
             ]
            ],
            "type": "histogram2d"
           }
          ],
          "histogram2dcontour": [
           {
            "colorbar": {
             "outlinewidth": 0,
             "ticks": ""
            },
            "colorscale": [
             [
              0,
              "#0d0887"
             ],
             [
              0.1111111111111111,
              "#46039f"
             ],
             [
              0.2222222222222222,
              "#7201a8"
             ],
             [
              0.3333333333333333,
              "#9c179e"
             ],
             [
              0.4444444444444444,
              "#bd3786"
             ],
             [
              0.5555555555555556,
              "#d8576b"
             ],
             [
              0.6666666666666666,
              "#ed7953"
             ],
             [
              0.7777777777777778,
              "#fb9f3a"
             ],
             [
              0.8888888888888888,
              "#fdca26"
             ],
             [
              1,
              "#f0f921"
             ]
            ],
            "type": "histogram2dcontour"
           }
          ],
          "mesh3d": [
           {
            "colorbar": {
             "outlinewidth": 0,
             "ticks": ""
            },
            "type": "mesh3d"
           }
          ],
          "parcoords": [
           {
            "line": {
             "colorbar": {
              "outlinewidth": 0,
              "ticks": ""
             }
            },
            "type": "parcoords"
           }
          ],
          "pie": [
           {
            "automargin": true,
            "type": "pie"
           }
          ],
          "scatter": [
           {
            "fillpattern": {
             "fillmode": "overlay",
             "size": 10,
             "solidity": 0.2
            },
            "type": "scatter"
           }
          ],
          "scatter3d": [
           {
            "line": {
             "colorbar": {
              "outlinewidth": 0,
              "ticks": ""
             }
            },
            "marker": {
             "colorbar": {
              "outlinewidth": 0,
              "ticks": ""
             }
            },
            "type": "scatter3d"
           }
          ],
          "scattercarpet": [
           {
            "marker": {
             "colorbar": {
              "outlinewidth": 0,
              "ticks": ""
             }
            },
            "type": "scattercarpet"
           }
          ],
          "scattergeo": [
           {
            "marker": {
             "colorbar": {
              "outlinewidth": 0,
              "ticks": ""
             }
            },
            "type": "scattergeo"
           }
          ],
          "scattergl": [
           {
            "marker": {
             "colorbar": {
              "outlinewidth": 0,
              "ticks": ""
             }
            },
            "type": "scattergl"
           }
          ],
          "scattermapbox": [
           {
            "marker": {
             "colorbar": {
              "outlinewidth": 0,
              "ticks": ""
             }
            },
            "type": "scattermapbox"
           }
          ],
          "scatterpolar": [
           {
            "marker": {
             "colorbar": {
              "outlinewidth": 0,
              "ticks": ""
             }
            },
            "type": "scatterpolar"
           }
          ],
          "scatterpolargl": [
           {
            "marker": {
             "colorbar": {
              "outlinewidth": 0,
              "ticks": ""
             }
            },
            "type": "scatterpolargl"
           }
          ],
          "scatterternary": [
           {
            "marker": {
             "colorbar": {
              "outlinewidth": 0,
              "ticks": ""
             }
            },
            "type": "scatterternary"
           }
          ],
          "surface": [
           {
            "colorbar": {
             "outlinewidth": 0,
             "ticks": ""
            },
            "colorscale": [
             [
              0,
              "#0d0887"
             ],
             [
              0.1111111111111111,
              "#46039f"
             ],
             [
              0.2222222222222222,
              "#7201a8"
             ],
             [
              0.3333333333333333,
              "#9c179e"
             ],
             [
              0.4444444444444444,
              "#bd3786"
             ],
             [
              0.5555555555555556,
              "#d8576b"
             ],
             [
              0.6666666666666666,
              "#ed7953"
             ],
             [
              0.7777777777777778,
              "#fb9f3a"
             ],
             [
              0.8888888888888888,
              "#fdca26"
             ],
             [
              1,
              "#f0f921"
             ]
            ],
            "type": "surface"
           }
          ],
          "table": [
           {
            "cells": {
             "fill": {
              "color": "#EBF0F8"
             },
             "line": {
              "color": "white"
             }
            },
            "header": {
             "fill": {
              "color": "#C8D4E3"
             },
             "line": {
              "color": "white"
             }
            },
            "type": "table"
           }
          ]
         },
         "layout": {
          "annotationdefaults": {
           "arrowcolor": "#2a3f5f",
           "arrowhead": 0,
           "arrowwidth": 1
          },
          "autotypenumbers": "strict",
          "coloraxis": {
           "colorbar": {
            "outlinewidth": 0,
            "ticks": ""
           }
          },
          "colorscale": {
           "diverging": [
            [
             0,
             "#8e0152"
            ],
            [
             0.1,
             "#c51b7d"
            ],
            [
             0.2,
             "#de77ae"
            ],
            [
             0.3,
             "#f1b6da"
            ],
            [
             0.4,
             "#fde0ef"
            ],
            [
             0.5,
             "#f7f7f7"
            ],
            [
             0.6,
             "#e6f5d0"
            ],
            [
             0.7,
             "#b8e186"
            ],
            [
             0.8,
             "#7fbc41"
            ],
            [
             0.9,
             "#4d9221"
            ],
            [
             1,
             "#276419"
            ]
           ],
           "sequential": [
            [
             0,
             "#0d0887"
            ],
            [
             0.1111111111111111,
             "#46039f"
            ],
            [
             0.2222222222222222,
             "#7201a8"
            ],
            [
             0.3333333333333333,
             "#9c179e"
            ],
            [
             0.4444444444444444,
             "#bd3786"
            ],
            [
             0.5555555555555556,
             "#d8576b"
            ],
            [
             0.6666666666666666,
             "#ed7953"
            ],
            [
             0.7777777777777778,
             "#fb9f3a"
            ],
            [
             0.8888888888888888,
             "#fdca26"
            ],
            [
             1,
             "#f0f921"
            ]
           ],
           "sequentialminus": [
            [
             0,
             "#0d0887"
            ],
            [
             0.1111111111111111,
             "#46039f"
            ],
            [
             0.2222222222222222,
             "#7201a8"
            ],
            [
             0.3333333333333333,
             "#9c179e"
            ],
            [
             0.4444444444444444,
             "#bd3786"
            ],
            [
             0.5555555555555556,
             "#d8576b"
            ],
            [
             0.6666666666666666,
             "#ed7953"
            ],
            [
             0.7777777777777778,
             "#fb9f3a"
            ],
            [
             0.8888888888888888,
             "#fdca26"
            ],
            [
             1,
             "#f0f921"
            ]
           ]
          },
          "colorway": [
           "#636efa",
           "#EF553B",
           "#00cc96",
           "#ab63fa",
           "#FFA15A",
           "#19d3f3",
           "#FF6692",
           "#B6E880",
           "#FF97FF",
           "#FECB52"
          ],
          "font": {
           "color": "#2a3f5f"
          },
          "geo": {
           "bgcolor": "white",
           "lakecolor": "white",
           "landcolor": "#E5ECF6",
           "showlakes": true,
           "showland": true,
           "subunitcolor": "white"
          },
          "hoverlabel": {
           "align": "left"
          },
          "hovermode": "closest",
          "mapbox": {
           "style": "light"
          },
          "paper_bgcolor": "white",
          "plot_bgcolor": "#E5ECF6",
          "polar": {
           "angularaxis": {
            "gridcolor": "white",
            "linecolor": "white",
            "ticks": ""
           },
           "bgcolor": "#E5ECF6",
           "radialaxis": {
            "gridcolor": "white",
            "linecolor": "white",
            "ticks": ""
           }
          },
          "scene": {
           "xaxis": {
            "backgroundcolor": "#E5ECF6",
            "gridcolor": "white",
            "gridwidth": 2,
            "linecolor": "white",
            "showbackground": true,
            "ticks": "",
            "zerolinecolor": "white"
           },
           "yaxis": {
            "backgroundcolor": "#E5ECF6",
            "gridcolor": "white",
            "gridwidth": 2,
            "linecolor": "white",
            "showbackground": true,
            "ticks": "",
            "zerolinecolor": "white"
           },
           "zaxis": {
            "backgroundcolor": "#E5ECF6",
            "gridcolor": "white",
            "gridwidth": 2,
            "linecolor": "white",
            "showbackground": true,
            "ticks": "",
            "zerolinecolor": "white"
           }
          },
          "shapedefaults": {
           "line": {
            "color": "#2a3f5f"
           }
          },
          "ternary": {
           "aaxis": {
            "gridcolor": "white",
            "linecolor": "white",
            "ticks": ""
           },
           "baxis": {
            "gridcolor": "white",
            "linecolor": "white",
            "ticks": ""
           },
           "bgcolor": "#E5ECF6",
           "caxis": {
            "gridcolor": "white",
            "linecolor": "white",
            "ticks": ""
           }
          },
          "title": {
           "x": 0.05
          },
          "xaxis": {
           "automargin": true,
           "gridcolor": "white",
           "linecolor": "white",
           "ticks": "",
           "title": {
            "standoff": 15
           },
           "zerolinecolor": "white",
           "zerolinewidth": 2
          },
          "yaxis": {
           "automargin": true,
           "gridcolor": "white",
           "linecolor": "white",
           "ticks": "",
           "title": {
            "standoff": 15
           },
           "zerolinecolor": "white",
           "zerolinewidth": 2
          }
         }
        },
        "title": {
         "text": "Distribucion de ingresos por department"
        },
        "xaxis": {
         "anchor": "y",
         "domain": [
          0,
          1
         ]
        },
        "yaxis": {
         "anchor": "x",
         "domain": [
          0,
          1
         ],
         "title": {
          "text": "income"
         }
        }
       }
      }
     },
     "metadata": {},
     "output_type": "display_data"
    },
    {
     "data": {
      "application/vnd.plotly.v1+json": {
       "config": {
        "plotlyServerURL": "https://plot.ly"
       },
       "data": [
        {
         "alignmentgroup": "True",
         "hovertemplate": "seniority=2<br>income=%{y}<extra></extra>",
         "legendgroup": "2",
         "marker": {
          "color": "#636efa"
         },
         "name": "2",
         "notched": false,
         "offsetgroup": "2",
         "orientation": "v",
         "showlegend": true,
         "type": "box",
         "x0": " ",
         "xaxis": "x",
         "y": [
          42363,
          71182,
          66359,
          88724,
          58219,
          89415,
          62692,
          82453,
          55189,
          50401,
          77584,
          59044,
          68466,
          84132,
          65012,
          97414,
          42722,
          72754,
          53956,
          68639,
          64844,
          86423,
          46903,
          80981,
          83499,
          129425,
          93073,
          87352,
          100070,
          58054,
          100091,
          74073,
          64852,
          77309,
          88482,
          106158,
          57398,
          95687,
          107140,
          98010,
          81826,
          61164,
          80937,
          93268,
          97000,
          104526,
          40341,
          102910,
          55954,
          94973,
          60736,
          65164,
          95169,
          75901,
          106560,
          58807,
          84930,
          69367,
          78750,
          60892,
          56745,
          111903,
          98100,
          68797,
          87998,
          56954,
          59399,
          67762,
          77751,
          79291,
          57070,
          61527,
          70846,
          75932,
          121949,
          78021,
          92099,
          96500,
          84935,
          66407,
          124871,
          69268,
          75397,
          53220,
          89811,
          98281,
          34208,
          110643,
          75833,
          65750,
          69320,
          105632,
          118231,
          86122,
          68300,
          148178,
          94590,
          98535,
          82244,
          72030,
          115383,
          70311,
          65225,
          56656,
          70157,
          98366,
          127013,
          99369,
          48570,
          121506,
          87682,
          68049,
          100433,
          87585,
          36972,
          124891,
          134757,
          91160,
          105795,
          66935,
          59006,
          101716,
          66377,
          79462,
          78002,
          79274,
          63928,
          103156,
          53855,
          93441,
          76908,
          88230,
          83095,
          102106,
          121589,
          68364,
          102265,
          101791,
          65816,
          55560,
          94745,
          95505,
          87575,
          98499,
          104589,
          79237,
          68175,
          122624,
          108296,
          101273,
          66887,
          61018,
          118093,
          77742,
          114171,
          95795,
          78625,
          38613,
          114621,
          47739,
          100941,
          51837,
          136215,
          82057,
          55885,
          107064,
          83308,
          84764,
          111896,
          38855,
          114943,
          61589,
          74829,
          72248,
          101140,
          65313,
          85947,
          115742,
          93358,
          98995,
          101284,
          119794,
          84725,
          119893,
          78836,
          112719,
          69928,
          103328,
          118282,
          114141,
          95798,
          76726,
          128730,
          36642,
          97789,
          105771,
          121239,
          67150,
          63300,
          107479,
          90999,
          112169,
          97311,
          102593,
          96665,
          81545,
          85253,
          108977,
          123108
         ],
         "y0": " ",
         "yaxis": "y"
        },
        {
         "alignmentgroup": "True",
         "hovertemplate": "seniority=5<br>income=%{y}<extra></extra>",
         "legendgroup": "5",
         "marker": {
          "color": "#EF553B"
         },
         "name": "5",
         "notched": false,
         "offsetgroup": "5",
         "orientation": "v",
         "showlegend": true,
         "type": "box",
         "x0": " ",
         "xaxis": "x",
         "y": [
          108476,
          90208,
          99464,
          97523,
          112976,
          106524,
          102261,
          86220,
          88422,
          99545,
          90386,
          92067,
          108446,
          132823,
          112392,
          103007,
          113252,
          96355,
          119024,
          86886,
          90780,
          97376,
          127085,
          131311,
          101154,
          113640,
          103384,
          111019,
          146615,
          127156,
          119162,
          146190,
          127769,
          96061,
          111342,
          109369,
          89822,
          135013,
          101173,
          126828,
          77793,
          91049,
          91713,
          113180,
          97625,
          115165,
          133495,
          114421,
          142105,
          60070,
          108922,
          127062,
          82338,
          139760,
          101262,
          129609,
          120294,
          128970,
          121376,
          129406,
          67530,
          157410,
          90330,
          109345,
          98900,
          130826,
          114680,
          92687,
          104657,
          92722,
          100859,
          114007,
          95964,
          100463,
          92276,
          92458,
          116751,
          139841,
          93306,
          99543,
          91568,
          89678,
          119931,
          140445,
          85306,
          130720,
          133472,
          112491,
          157852,
          176789,
          129226,
          118653,
          71772,
          114479,
          118629,
          80171,
          121682,
          104355,
          113544,
          79707,
          122037,
          118088,
          138851,
          131275,
          100516,
          155676,
          144146,
          145632,
          118762,
          85398,
          106893,
          154039,
          121821,
          113122,
          76654,
          115567,
          114733,
          116834,
          75294,
          127608,
          116069,
          128669,
          126100,
          100465,
          97846,
          98959,
          150914,
          101534,
          91504,
          123242,
          132267,
          112507,
          100316,
          138365,
          165229,
          106883,
          113465,
          119033,
          106315,
          105598,
          93805,
          109931,
          88365,
          92760,
          125574,
          124470,
          101133,
          106963,
          111770,
          106584,
          97768,
          110636,
          133741,
          102745,
          96584,
          128680,
          152710,
          109136,
          81249,
          73685,
          100505,
          157277,
          122142,
          139141,
          77839,
          107818,
          108731,
          93802,
          138163,
          163208,
          107370,
          120112,
          149893,
          130082,
          130417,
          117215,
          141186,
          86563,
          123153,
          124166,
          125828,
          115641,
          160460,
          119058,
          141005,
          131411,
          122352,
          108587,
          116803,
          107572,
          142505,
          112502,
          113031
         ],
         "y0": " ",
         "yaxis": "y"
        },
        {
         "alignmentgroup": "True",
         "hovertemplate": "seniority=4<br>income=%{y}<extra></extra>",
         "legendgroup": "4",
         "marker": {
          "color": "#00cc96"
         },
         "name": "4",
         "notched": false,
         "offsetgroup": "4",
         "orientation": "v",
         "showlegend": true,
         "type": "box",
         "x0": " ",
         "xaxis": "x",
         "y": [
          108080,
          70890,
          67585,
          95584,
          100305,
          104271,
          80306,
          96040,
          91674,
          84638,
          78986,
          102120,
          89474,
          71105,
          112466,
          76286,
          97328,
          82832,
          59212,
          80192,
          109419,
          77032,
          96045,
          92358,
          91978,
          90368,
          106194,
          88047,
          59251,
          110731,
          125572,
          87608,
          102716,
          104435,
          119381,
          103763,
          129132,
          69855,
          100183,
          110049,
          106788,
          120593,
          106896,
          102815,
          106887,
          100416,
          78623,
          80135,
          89411,
          89559,
          102966,
          102736,
          75506,
          98515,
          103133,
          69254,
          72301,
          108288,
          102108,
          132873,
          121210,
          94492,
          88571,
          133927,
          87435,
          130251,
          126626,
          71824,
          155834,
          155203,
          73306,
          120154,
          76865,
          125770,
          143887,
          128173,
          113730,
          90307,
          102201,
          57782,
          117629,
          87134,
          85161,
          65547,
          105410,
          107025,
          121728,
          124817,
          91066,
          116758,
          112854,
          135781,
          143189,
          92289,
          104314,
          123172,
          103908,
          94927,
          91566,
          131608,
          123371,
          110746,
          89170,
          116875,
          81988,
          87418,
          94354,
          149771,
          105601,
          120697,
          125770,
          83264,
          126375,
          111726,
          87131,
          126269,
          90736,
          70559,
          90426,
          93335,
          125339,
          118322,
          125164,
          55569,
          78084,
          87848,
          83333,
          92797,
          95795,
          78910,
          70595,
          98423,
          126239,
          92516,
          157169,
          118314,
          104329,
          128520,
          62753,
          103181,
          152081,
          108475,
          99942,
          152625,
          126370,
          75919,
          117202,
          134109,
          124847,
          106503,
          116642,
          113283,
          86538,
          155826,
          106204,
          111041,
          99134,
          114048,
          139068,
          114436,
          99543,
          107065,
          115344,
          80030,
          110157,
          84047,
          81057,
          96232,
          107640,
          100415,
          106722,
          135512,
          112489,
          114031,
          114906,
          115981,
          139042,
          121457,
          179726,
          108719,
          109832,
          127250,
          126256,
          99643
         ],
         "y0": " ",
         "yaxis": "y"
        },
        {
         "alignmentgroup": "True",
         "hovertemplate": "seniority=3<br>income=%{y}<extra></extra>",
         "legendgroup": "3",
         "marker": {
          "color": "#ab63fa"
         },
         "name": "3",
         "notched": false,
         "offsetgroup": "3",
         "orientation": "v",
         "showlegend": true,
         "type": "box",
         "x0": " ",
         "xaxis": "x",
         "y": [
          62759,
          84007,
          73357,
          83323,
          85205,
          88566,
          74523,
          92928,
          87121,
          81503,
          70643,
          74167,
          88037,
          71193,
          86766,
          88814,
          83034,
          46263,
          74938,
          83031,
          88152,
          92622,
          80355,
          117554,
          87684,
          62040,
          78462,
          63695,
          108495,
          83758,
          98531,
          88994,
          103107,
          93470,
          86516,
          108241,
          106478,
          72542,
          86036,
          103479,
          91099,
          120156,
          112941,
          65907,
          78113,
          85928,
          80494,
          102247,
          123422,
          84021,
          56318,
          64958,
          108820,
          100014,
          88213,
          83025,
          87409,
          107366,
          104202,
          77793,
          104361,
          98321,
          77275,
          160614,
          89570,
          73989,
          150467,
          70088,
          79674,
          71946,
          96777,
          62054,
          112134,
          78564,
          91905,
          62377,
          82850,
          82755,
          76700,
          89648,
          101249,
          83894,
          127561,
          72945,
          77223,
          92080,
          107476,
          116774,
          49303,
          98456,
          129885,
          118888,
          76806,
          83774,
          85986,
          78132,
          135073,
          75518,
          114693,
          110886,
          104082,
          88725,
          88749,
          110594,
          157644,
          100769,
          66203,
          67210,
          76522,
          112188,
          77881,
          106233,
          106146,
          69734,
          94763,
          100183,
          98165,
          113274,
          95754,
          86241,
          114029,
          64754,
          111043,
          90542,
          111120,
          76523,
          75238,
          74305,
          81301,
          72497,
          129620,
          51906,
          81866,
          71590,
          72422,
          120159,
          91711,
          104744,
          93742,
          132323,
          93320,
          57672,
          82790,
          135106,
          85453,
          100160,
          79765,
          129683,
          81325,
          73404,
          84592,
          71371,
          108778,
          146008,
          88175,
          106452,
          113140,
          134450,
          59334,
          90526,
          103416,
          133910,
          75316,
          111502,
          138184,
          106798,
          98575,
          117131,
          104290,
          115613,
          136209,
          121910,
          52578,
          73142,
          120579,
          103242,
          96982,
          93054,
          120277,
          81661,
          95898,
          90000,
          91342,
          57500,
          115604,
          101050,
          75017,
          145095,
          91129,
          124151,
          109645,
          88820,
          94154,
          93018,
          90474,
          101423,
          95995,
          99472,
          135638,
          85648,
          106279,
          106916,
          92257,
          124660,
          89272,
          101515,
          112604,
          123333,
          124530,
          92468,
          132815,
          106918,
          106045,
          91300,
          86795,
          110627,
          97696,
          119069,
          98796
         ],
         "y0": " ",
         "yaxis": "y"
        },
        {
         "alignmentgroup": "True",
         "hovertemplate": "seniority=1<br>income=%{y}<extra></extra>",
         "legendgroup": "1",
         "marker": {
          "color": "#FFA15A"
         },
         "name": "1",
         "notched": false,
         "offsetgroup": "1",
         "orientation": "v",
         "showlegend": true,
         "type": "box",
         "x0": " ",
         "xaxis": "x",
         "y": [
          72038,
          66168,
          52633,
          48755,
          46693,
          69462,
          51331,
          82534,
          52290,
          47036,
          76517,
          57469,
          40187,
          67617,
          98519,
          68295,
          66529,
          100115,
          84844,
          79208,
          57783,
          71858,
          44325,
          61000,
          109623,
          90685,
          49830,
          72827,
          76773,
          64008,
          90024,
          54245,
          65711,
          73801,
          50601,
          66084,
          67749,
          74316,
          72120,
          62260,
          62097,
          37026,
          82126,
          69878,
          37780,
          90482,
          56172,
          59458,
          83620,
          81995,
          66125,
          109346,
          71794,
          86675,
          62753,
          36548,
          88781,
          68403,
          102473,
          87150,
          79144,
          134758,
          66438,
          64624,
          90005,
          70374,
          75811,
          54817,
          37898,
          79544,
          40056,
          123114,
          56309,
          90002,
          49632,
          105800,
          85948,
          102597,
          130093,
          75227,
          83262,
          67040,
          77655,
          92154,
          82345,
          107859,
          85702,
          97797,
          117648,
          78751,
          86651,
          64468,
          68384,
          106056,
          90713,
          113009,
          43076,
          78472,
          66611,
          73798,
          55845,
          57915,
          121151,
          67323,
          45747,
          58130,
          103978,
          89225,
          38451,
          79142,
          97240,
          84803,
          41603,
          49622,
          93067,
          79334,
          98512,
          71278,
          90612,
          76103,
          84628,
          108366,
          93696,
          80635,
          83674,
          119522,
          96582,
          77584,
          84878,
          120096,
          61081,
          100819,
          104468,
          50758,
          84683,
          67913,
          82343,
          62866,
          111403,
          64920,
          79177,
          64994,
          63327,
          96023,
          60983,
          82277,
          39741,
          36585,
          49553,
          81515,
          80259,
          62600,
          55555,
          92891,
          96900,
          61609,
          86650,
          96609,
          53839,
          64807,
          41151,
          59493,
          131980,
          104623,
          68643,
          63914,
          67296,
          60026,
          86375,
          49449,
          81547,
          124782,
          59377,
          136836,
          93855,
          67089,
          54945,
          87314,
          91447,
          60271,
          45915,
          66028,
          110078,
          109606,
          88195,
          92950,
          82164,
          62738,
          120574,
          91030,
          106945,
          80789,
          62644,
          92347,
          97376
         ],
         "y0": " ",
         "yaxis": "y"
        }
       ],
       "layout": {
        "boxmode": "group",
        "legend": {
         "title": {
          "text": "seniority"
         },
         "tracegroupgap": 0
        },
        "template": {
         "data": {
          "bar": [
           {
            "error_x": {
             "color": "#2a3f5f"
            },
            "error_y": {
             "color": "#2a3f5f"
            },
            "marker": {
             "line": {
              "color": "#E5ECF6",
              "width": 0.5
             },
             "pattern": {
              "fillmode": "overlay",
              "size": 10,
              "solidity": 0.2
             }
            },
            "type": "bar"
           }
          ],
          "barpolar": [
           {
            "marker": {
             "line": {
              "color": "#E5ECF6",
              "width": 0.5
             },
             "pattern": {
              "fillmode": "overlay",
              "size": 10,
              "solidity": 0.2
             }
            },
            "type": "barpolar"
           }
          ],
          "carpet": [
           {
            "aaxis": {
             "endlinecolor": "#2a3f5f",
             "gridcolor": "white",
             "linecolor": "white",
             "minorgridcolor": "white",
             "startlinecolor": "#2a3f5f"
            },
            "baxis": {
             "endlinecolor": "#2a3f5f",
             "gridcolor": "white",
             "linecolor": "white",
             "minorgridcolor": "white",
             "startlinecolor": "#2a3f5f"
            },
            "type": "carpet"
           }
          ],
          "choropleth": [
           {
            "colorbar": {
             "outlinewidth": 0,
             "ticks": ""
            },
            "type": "choropleth"
           }
          ],
          "contour": [
           {
            "colorbar": {
             "outlinewidth": 0,
             "ticks": ""
            },
            "colorscale": [
             [
              0,
              "#0d0887"
             ],
             [
              0.1111111111111111,
              "#46039f"
             ],
             [
              0.2222222222222222,
              "#7201a8"
             ],
             [
              0.3333333333333333,
              "#9c179e"
             ],
             [
              0.4444444444444444,
              "#bd3786"
             ],
             [
              0.5555555555555556,
              "#d8576b"
             ],
             [
              0.6666666666666666,
              "#ed7953"
             ],
             [
              0.7777777777777778,
              "#fb9f3a"
             ],
             [
              0.8888888888888888,
              "#fdca26"
             ],
             [
              1,
              "#f0f921"
             ]
            ],
            "type": "contour"
           }
          ],
          "contourcarpet": [
           {
            "colorbar": {
             "outlinewidth": 0,
             "ticks": ""
            },
            "type": "contourcarpet"
           }
          ],
          "heatmap": [
           {
            "colorbar": {
             "outlinewidth": 0,
             "ticks": ""
            },
            "colorscale": [
             [
              0,
              "#0d0887"
             ],
             [
              0.1111111111111111,
              "#46039f"
             ],
             [
              0.2222222222222222,
              "#7201a8"
             ],
             [
              0.3333333333333333,
              "#9c179e"
             ],
             [
              0.4444444444444444,
              "#bd3786"
             ],
             [
              0.5555555555555556,
              "#d8576b"
             ],
             [
              0.6666666666666666,
              "#ed7953"
             ],
             [
              0.7777777777777778,
              "#fb9f3a"
             ],
             [
              0.8888888888888888,
              "#fdca26"
             ],
             [
              1,
              "#f0f921"
             ]
            ],
            "type": "heatmap"
           }
          ],
          "heatmapgl": [
           {
            "colorbar": {
             "outlinewidth": 0,
             "ticks": ""
            },
            "colorscale": [
             [
              0,
              "#0d0887"
             ],
             [
              0.1111111111111111,
              "#46039f"
             ],
             [
              0.2222222222222222,
              "#7201a8"
             ],
             [
              0.3333333333333333,
              "#9c179e"
             ],
             [
              0.4444444444444444,
              "#bd3786"
             ],
             [
              0.5555555555555556,
              "#d8576b"
             ],
             [
              0.6666666666666666,
              "#ed7953"
             ],
             [
              0.7777777777777778,
              "#fb9f3a"
             ],
             [
              0.8888888888888888,
              "#fdca26"
             ],
             [
              1,
              "#f0f921"
             ]
            ],
            "type": "heatmapgl"
           }
          ],
          "histogram": [
           {
            "marker": {
             "pattern": {
              "fillmode": "overlay",
              "size": 10,
              "solidity": 0.2
             }
            },
            "type": "histogram"
           }
          ],
          "histogram2d": [
           {
            "colorbar": {
             "outlinewidth": 0,
             "ticks": ""
            },
            "colorscale": [
             [
              0,
              "#0d0887"
             ],
             [
              0.1111111111111111,
              "#46039f"
             ],
             [
              0.2222222222222222,
              "#7201a8"
             ],
             [
              0.3333333333333333,
              "#9c179e"
             ],
             [
              0.4444444444444444,
              "#bd3786"
             ],
             [
              0.5555555555555556,
              "#d8576b"
             ],
             [
              0.6666666666666666,
              "#ed7953"
             ],
             [
              0.7777777777777778,
              "#fb9f3a"
             ],
             [
              0.8888888888888888,
              "#fdca26"
             ],
             [
              1,
              "#f0f921"
             ]
            ],
            "type": "histogram2d"
           }
          ],
          "histogram2dcontour": [
           {
            "colorbar": {
             "outlinewidth": 0,
             "ticks": ""
            },
            "colorscale": [
             [
              0,
              "#0d0887"
             ],
             [
              0.1111111111111111,
              "#46039f"
             ],
             [
              0.2222222222222222,
              "#7201a8"
             ],
             [
              0.3333333333333333,
              "#9c179e"
             ],
             [
              0.4444444444444444,
              "#bd3786"
             ],
             [
              0.5555555555555556,
              "#d8576b"
             ],
             [
              0.6666666666666666,
              "#ed7953"
             ],
             [
              0.7777777777777778,
              "#fb9f3a"
             ],
             [
              0.8888888888888888,
              "#fdca26"
             ],
             [
              1,
              "#f0f921"
             ]
            ],
            "type": "histogram2dcontour"
           }
          ],
          "mesh3d": [
           {
            "colorbar": {
             "outlinewidth": 0,
             "ticks": ""
            },
            "type": "mesh3d"
           }
          ],
          "parcoords": [
           {
            "line": {
             "colorbar": {
              "outlinewidth": 0,
              "ticks": ""
             }
            },
            "type": "parcoords"
           }
          ],
          "pie": [
           {
            "automargin": true,
            "type": "pie"
           }
          ],
          "scatter": [
           {
            "fillpattern": {
             "fillmode": "overlay",
             "size": 10,
             "solidity": 0.2
            },
            "type": "scatter"
           }
          ],
          "scatter3d": [
           {
            "line": {
             "colorbar": {
              "outlinewidth": 0,
              "ticks": ""
             }
            },
            "marker": {
             "colorbar": {
              "outlinewidth": 0,
              "ticks": ""
             }
            },
            "type": "scatter3d"
           }
          ],
          "scattercarpet": [
           {
            "marker": {
             "colorbar": {
              "outlinewidth": 0,
              "ticks": ""
             }
            },
            "type": "scattercarpet"
           }
          ],
          "scattergeo": [
           {
            "marker": {
             "colorbar": {
              "outlinewidth": 0,
              "ticks": ""
             }
            },
            "type": "scattergeo"
           }
          ],
          "scattergl": [
           {
            "marker": {
             "colorbar": {
              "outlinewidth": 0,
              "ticks": ""
             }
            },
            "type": "scattergl"
           }
          ],
          "scattermapbox": [
           {
            "marker": {
             "colorbar": {
              "outlinewidth": 0,
              "ticks": ""
             }
            },
            "type": "scattermapbox"
           }
          ],
          "scatterpolar": [
           {
            "marker": {
             "colorbar": {
              "outlinewidth": 0,
              "ticks": ""
             }
            },
            "type": "scatterpolar"
           }
          ],
          "scatterpolargl": [
           {
            "marker": {
             "colorbar": {
              "outlinewidth": 0,
              "ticks": ""
             }
            },
            "type": "scatterpolargl"
           }
          ],
          "scatterternary": [
           {
            "marker": {
             "colorbar": {
              "outlinewidth": 0,
              "ticks": ""
             }
            },
            "type": "scatterternary"
           }
          ],
          "surface": [
           {
            "colorbar": {
             "outlinewidth": 0,
             "ticks": ""
            },
            "colorscale": [
             [
              0,
              "#0d0887"
             ],
             [
              0.1111111111111111,
              "#46039f"
             ],
             [
              0.2222222222222222,
              "#7201a8"
             ],
             [
              0.3333333333333333,
              "#9c179e"
             ],
             [
              0.4444444444444444,
              "#bd3786"
             ],
             [
              0.5555555555555556,
              "#d8576b"
             ],
             [
              0.6666666666666666,
              "#ed7953"
             ],
             [
              0.7777777777777778,
              "#fb9f3a"
             ],
             [
              0.8888888888888888,
              "#fdca26"
             ],
             [
              1,
              "#f0f921"
             ]
            ],
            "type": "surface"
           }
          ],
          "table": [
           {
            "cells": {
             "fill": {
              "color": "#EBF0F8"
             },
             "line": {
              "color": "white"
             }
            },
            "header": {
             "fill": {
              "color": "#C8D4E3"
             },
             "line": {
              "color": "white"
             }
            },
            "type": "table"
           }
          ]
         },
         "layout": {
          "annotationdefaults": {
           "arrowcolor": "#2a3f5f",
           "arrowhead": 0,
           "arrowwidth": 1
          },
          "autotypenumbers": "strict",
          "coloraxis": {
           "colorbar": {
            "outlinewidth": 0,
            "ticks": ""
           }
          },
          "colorscale": {
           "diverging": [
            [
             0,
             "#8e0152"
            ],
            [
             0.1,
             "#c51b7d"
            ],
            [
             0.2,
             "#de77ae"
            ],
            [
             0.3,
             "#f1b6da"
            ],
            [
             0.4,
             "#fde0ef"
            ],
            [
             0.5,
             "#f7f7f7"
            ],
            [
             0.6,
             "#e6f5d0"
            ],
            [
             0.7,
             "#b8e186"
            ],
            [
             0.8,
             "#7fbc41"
            ],
            [
             0.9,
             "#4d9221"
            ],
            [
             1,
             "#276419"
            ]
           ],
           "sequential": [
            [
             0,
             "#0d0887"
            ],
            [
             0.1111111111111111,
             "#46039f"
            ],
            [
             0.2222222222222222,
             "#7201a8"
            ],
            [
             0.3333333333333333,
             "#9c179e"
            ],
            [
             0.4444444444444444,
             "#bd3786"
            ],
            [
             0.5555555555555556,
             "#d8576b"
            ],
            [
             0.6666666666666666,
             "#ed7953"
            ],
            [
             0.7777777777777778,
             "#fb9f3a"
            ],
            [
             0.8888888888888888,
             "#fdca26"
            ],
            [
             1,
             "#f0f921"
            ]
           ],
           "sequentialminus": [
            [
             0,
             "#0d0887"
            ],
            [
             0.1111111111111111,
             "#46039f"
            ],
            [
             0.2222222222222222,
             "#7201a8"
            ],
            [
             0.3333333333333333,
             "#9c179e"
            ],
            [
             0.4444444444444444,
             "#bd3786"
            ],
            [
             0.5555555555555556,
             "#d8576b"
            ],
            [
             0.6666666666666666,
             "#ed7953"
            ],
            [
             0.7777777777777778,
             "#fb9f3a"
            ],
            [
             0.8888888888888888,
             "#fdca26"
            ],
            [
             1,
             "#f0f921"
            ]
           ]
          },
          "colorway": [
           "#636efa",
           "#EF553B",
           "#00cc96",
           "#ab63fa",
           "#FFA15A",
           "#19d3f3",
           "#FF6692",
           "#B6E880",
           "#FF97FF",
           "#FECB52"
          ],
          "font": {
           "color": "#2a3f5f"
          },
          "geo": {
           "bgcolor": "white",
           "lakecolor": "white",
           "landcolor": "#E5ECF6",
           "showlakes": true,
           "showland": true,
           "subunitcolor": "white"
          },
          "hoverlabel": {
           "align": "left"
          },
          "hovermode": "closest",
          "mapbox": {
           "style": "light"
          },
          "paper_bgcolor": "white",
          "plot_bgcolor": "#E5ECF6",
          "polar": {
           "angularaxis": {
            "gridcolor": "white",
            "linecolor": "white",
            "ticks": ""
           },
           "bgcolor": "#E5ECF6",
           "radialaxis": {
            "gridcolor": "white",
            "linecolor": "white",
            "ticks": ""
           }
          },
          "scene": {
           "xaxis": {
            "backgroundcolor": "#E5ECF6",
            "gridcolor": "white",
            "gridwidth": 2,
            "linecolor": "white",
            "showbackground": true,
            "ticks": "",
            "zerolinecolor": "white"
           },
           "yaxis": {
            "backgroundcolor": "#E5ECF6",
            "gridcolor": "white",
            "gridwidth": 2,
            "linecolor": "white",
            "showbackground": true,
            "ticks": "",
            "zerolinecolor": "white"
           },
           "zaxis": {
            "backgroundcolor": "#E5ECF6",
            "gridcolor": "white",
            "gridwidth": 2,
            "linecolor": "white",
            "showbackground": true,
            "ticks": "",
            "zerolinecolor": "white"
           }
          },
          "shapedefaults": {
           "line": {
            "color": "#2a3f5f"
           }
          },
          "ternary": {
           "aaxis": {
            "gridcolor": "white",
            "linecolor": "white",
            "ticks": ""
           },
           "baxis": {
            "gridcolor": "white",
            "linecolor": "white",
            "ticks": ""
           },
           "bgcolor": "#E5ECF6",
           "caxis": {
            "gridcolor": "white",
            "linecolor": "white",
            "ticks": ""
           }
          },
          "title": {
           "x": 0.05
          },
          "xaxis": {
           "automargin": true,
           "gridcolor": "white",
           "linecolor": "white",
           "ticks": "",
           "title": {
            "standoff": 15
           },
           "zerolinecolor": "white",
           "zerolinewidth": 2
          },
          "yaxis": {
           "automargin": true,
           "gridcolor": "white",
           "linecolor": "white",
           "ticks": "",
           "title": {
            "standoff": 15
           },
           "zerolinecolor": "white",
           "zerolinewidth": 2
          }
         }
        },
        "title": {
         "text": "Distribucion de ingresos por seniority"
        },
        "xaxis": {
         "anchor": "y",
         "domain": [
          0,
          1
         ]
        },
        "yaxis": {
         "anchor": "x",
         "domain": [
          0,
          1
         ],
         "title": {
          "text": "income"
         }
        }
       }
      }
     },
     "metadata": {},
     "output_type": "display_data"
    }
   ],
   "source": [
    "categorical_columns = ['jobtitle','gender','age','performance','education','department','seniority']\n",
    "for col_name in categorical_columns:\n",
    "    fig=px.box(df, y=\"income\", title= f\"Distribucion de ingresos por {col_name}\", color=col_name)\n",
    "    fig.show()"
   ]
  },
  {
   "cell_type": "code",
   "execution_count": 13,
   "metadata": {},
   "outputs": [
    {
     "data": {
      "application/vnd.plotly.v1+json": {
       "config": {
        "plotlyServerURL": "https://plot.ly"
       },
       "data": [
        {
         "alignmentgroup": "True",
         "hovertemplate": "jobtitle=Graphic Designer<br>bonus=%{y}<extra></extra>",
         "legendgroup": "Graphic Designer",
         "marker": {
          "color": "#636efa"
         },
         "name": "Graphic Designer",
         "notched": false,
         "offsetgroup": "Graphic Designer",
         "orientation": "v",
         "showlegend": true,
         "type": "box",
         "x0": " ",
         "xaxis": "x",
         "y": [
          9938,
          9319,
          10541,
          9836,
          10212,
          10015,
          9469,
          10346,
          9841,
          10240,
          8872,
          9129,
          8743,
          8498,
          8549,
          7067,
          8602,
          8872,
          8188,
          8347,
          7513,
          9522,
          7827,
          8090,
          9736,
          9289,
          8375,
          7351,
          7793,
          8472,
          8391,
          7776,
          8339,
          7266,
          7415,
          7464,
          7750,
          8505,
          6111,
          8465,
          8013,
          7550,
          6692,
          8328,
          6577,
          6737,
          7822,
          6545,
          7958,
          6556,
          6942,
          6931,
          6394,
          6558,
          5477,
          6336,
          7205,
          6235,
          5924,
          6497,
          5383,
          5136,
          6616,
          5831,
          3846,
          5236,
          5412,
          5406,
          6092,
          5697,
          7233,
          5173,
          5562,
          4322,
          4925,
          5352,
          3817,
          5861,
          4413,
          4534,
          3727,
          5281,
          4793,
          5097,
          5268,
          4712,
          3652,
          4827,
          3697,
          3634,
          5576,
          3955,
          3044,
          3521,
          3530,
          4388,
          3318,
          3418
         ],
         "y0": " ",
         "yaxis": "y"
        },
        {
         "alignmentgroup": "True",
         "hovertemplate": "jobtitle=Software Engineer<br>bonus=%{y}<extra></extra>",
         "legendgroup": "Software Engineer",
         "marker": {
          "color": "#EF553B"
         },
         "name": "Software Engineer",
         "notched": false,
         "offsetgroup": "Software Engineer",
         "orientation": "v",
         "showlegend": true,
         "type": "box",
         "x0": " ",
         "xaxis": "x",
         "y": [
          11128,
          10154,
          10240,
          9625,
          9618,
          10137,
          10050,
          9780,
          9094,
          8949,
          11293,
          9729,
          9104,
          8949,
          9493,
          10153,
          8384,
          9945,
          8914,
          8245,
          8383,
          7902,
          8602,
          9653,
          6897,
          7573,
          7918,
          8435,
          9229,
          7794,
          7957,
          7385,
          7200,
          7789,
          7769,
          9694,
          8761,
          7774,
          7641,
          6824,
          7101,
          7905,
          7947,
          8727,
          6669,
          7500,
          6345,
          8587,
          7268,
          7246,
          6586,
          7327,
          6643,
          5937,
          6439,
          6471,
          7304,
          5646,
          6499,
          6060,
          7642,
          6696,
          7440,
          6228,
          6251,
          6618,
          6596,
          6842,
          5944,
          5146,
          5751,
          4673,
          5166,
          4872,
          4701,
          5396,
          4650,
          4677,
          4572,
          5930,
          4566,
          4690,
          4844,
          4165,
          5225,
          4045,
          4664,
          2324,
          3661,
          4126,
          4494,
          5460,
          5001,
          5259,
          4685,
          4390,
          2930,
          3518,
          3791,
          3368,
          3599,
          4263,
          3510,
          2200,
          4099,
          3367,
          3079,
          2193,
          2788
         ],
         "y0": " ",
         "yaxis": "y"
        },
        {
         "alignmentgroup": "True",
         "hovertemplate": "jobtitle=Warehouse Associate<br>bonus=%{y}<extra></extra>",
         "legendgroup": "Warehouse Associate",
         "marker": {
          "color": "#00cc96"
         },
         "name": "Warehouse Associate",
         "notched": false,
         "offsetgroup": "Warehouse Associate",
         "orientation": "v",
         "showlegend": true,
         "type": "box",
         "x0": " ",
         "xaxis": "x",
         "y": [
          9268,
          9583,
          9745,
          9949,
          9210,
          9792,
          10177,
          9868,
          9564,
          9687,
          10324,
          8234,
          9798,
          8747,
          9931,
          9368,
          8375,
          10122,
          9611,
          8502,
          8645,
          8873,
          9553,
          9042,
          8578,
          8058,
          8744,
          8477,
          9090,
          7654,
          7832,
          8010,
          7740,
          7075,
          8636,
          8105,
          7885,
          8278,
          7739,
          8093,
          6914,
          8265,
          7139,
          8145,
          7735,
          6184,
          6700,
          8253,
          6631,
          6970,
          7522,
          7279,
          6897,
          6581,
          6160,
          6274,
          7127,
          6290,
          7160,
          5953,
          7443,
          6866,
          6020,
          5520,
          6630,
          5792,
          6327,
          5224,
          4618,
          4998,
          6505,
          5688,
          5866,
          5084,
          5913,
          5499,
          5135,
          5195,
          5220,
          4422,
          4184,
          5232,
          4310,
          4617,
          4774,
          4263,
          4044,
          3463,
          4765,
          2051
         ],
         "y0": " ",
         "yaxis": "y"
        },
        {
         "alignmentgroup": "True",
         "hovertemplate": "jobtitle=IT<br>bonus=%{y}<extra></extra>",
         "legendgroup": "IT",
         "marker": {
          "color": "#ab63fa"
         },
         "name": "IT",
         "notched": false,
         "offsetgroup": "IT",
         "orientation": "v",
         "showlegend": true,
         "type": "box",
         "x0": " ",
         "xaxis": "x",
         "y": [
          10126,
          10504,
          9409,
          9023,
          10215,
          8857,
          8802,
          9130,
          9454,
          8668,
          9310,
          8347,
          8109,
          8201,
          8950,
          9619,
          8509,
          7350,
          8245,
          7791,
          9335,
          9090,
          8307,
          7910,
          8621,
          9147,
          6971,
          8443,
          7949,
          7813,
          7460,
          8688,
          5520,
          6760,
          7404,
          7003,
          7559,
          6257,
          6997,
          7177,
          6711,
          8113,
          7052,
          7433,
          5569,
          6462,
          5914,
          6016,
          6746,
          4680,
          5243,
          4890,
          5679,
          7554,
          6536,
          6506,
          5380,
          5452,
          3879,
          5345,
          5426,
          5647,
          4892,
          6083,
          5009,
          4449,
          4536,
          6337,
          6032,
          5536,
          3100,
          5404,
          5404,
          4750,
          3665,
          3879,
          3223,
          3084,
          4596,
          5472,
          3887,
          4296,
          4149,
          3943,
          2728,
          3528,
          3908,
          5236,
          3988,
          2600,
          2978,
          3196,
          2041,
          2125,
          2763,
          2041
         ],
         "y0": " ",
         "yaxis": "y"
        },
        {
         "alignmentgroup": "True",
         "hovertemplate": "jobtitle=Sales Associate<br>bonus=%{y}<extra></extra>",
         "legendgroup": "Sales Associate",
         "marker": {
          "color": "#FFA15A"
         },
         "name": "Sales Associate",
         "notched": false,
         "offsetgroup": "Sales Associate",
         "orientation": "v",
         "showlegend": true,
         "type": "box",
         "x0": " ",
         "xaxis": "x",
         "y": [
          9941,
          9461,
          10512,
          9353,
          8841,
          9242,
          9516,
          9330,
          7204,
          8972,
          8841,
          7205,
          9306,
          7524,
          7392,
          9185,
          9007,
          6346,
          7657,
          7229,
          9084,
          7491,
          8209,
          6332,
          9551,
          6495,
          8980,
          7089,
          8360,
          8468,
          7411,
          7036,
          6363,
          6839,
          6448,
          6122,
          7646,
          7552,
          7113,
          6996,
          6537,
          7438,
          5947,
          8160,
          6430,
          6900,
          6689,
          6356,
          5020,
          6476,
          7377,
          5308,
          5803,
          5608,
          5183,
          5454,
          5234,
          4700,
          5284,
          4635,
          5133,
          6303,
          4549,
          6274,
          5729,
          5068,
          5014,
          4621,
          5201,
          4073,
          4967,
          4472,
          3910,
          4148,
          5022,
          4687,
          3653,
          5784,
          4694,
          4516,
          4851,
          4157,
          3964,
          4780,
          3641,
          4214,
          3892,
          3366,
          3242,
          3409,
          2375,
          3453,
          2611,
          1823
         ],
         "y0": " ",
         "yaxis": "y"
        },
        {
         "alignmentgroup": "True",
         "hovertemplate": "jobtitle=Driver<br>bonus=%{y}<extra></extra>",
         "legendgroup": "Driver",
         "marker": {
          "color": "#19d3f3"
         },
         "name": "Driver",
         "notched": false,
         "offsetgroup": "Driver",
         "orientation": "v",
         "showlegend": true,
         "type": "box",
         "x0": " ",
         "xaxis": "x",
         "y": [
          10124,
          9031,
          8886,
          9958,
          8725,
          8215,
          8357,
          8833,
          8515,
          8014,
          10375,
          8472,
          8832,
          8928,
          8974,
          7285,
          8978,
          7185,
          8317,
          7022,
          7634,
          6839,
          8407,
          8581,
          8388,
          7402,
          6966,
          6378,
          6666,
          6397,
          7778,
          7817,
          7028,
          7246,
          6413,
          6893,
          6554,
          5000,
          6615,
          8244,
          6740,
          7242,
          6042,
          7329,
          6722,
          6258,
          6295,
          5627,
          5662,
          5829,
          5989,
          8439,
          5090,
          5838,
          5863,
          5881,
          5713,
          5175,
          6274,
          7113,
          4265,
          4898,
          4826,
          5512,
          6151,
          5735,
          5004,
          4079,
          5698,
          4489,
          5613,
          4466,
          5513,
          4115,
          5992,
          4249,
          4202,
          4495,
          5070,
          4275,
          4309,
          4734,
          3955,
          2661,
          3382,
          4543,
          4605,
          3431,
          3536,
          3647,
          3255
         ],
         "y0": " ",
         "yaxis": "y"
        },
        {
         "alignmentgroup": "True",
         "hovertemplate": "jobtitle=Financial Analyst<br>bonus=%{y}<extra></extra>",
         "legendgroup": "Financial Analyst",
         "marker": {
          "color": "#FF6692"
         },
         "name": "Financial Analyst",
         "notched": false,
         "offsetgroup": "Financial Analyst",
         "orientation": "v",
         "showlegend": true,
         "type": "box",
         "x0": " ",
         "xaxis": "x",
         "y": [
          8990,
          10768,
          9329,
          9874,
          8762,
          10042,
          8509,
          8961,
          8369,
          10052,
          8647,
          9421,
          8459,
          7511,
          8290,
          6855,
          7802,
          9345,
          9089,
          7444,
          7475,
          7169,
          8023,
          7278,
          8338,
          7404,
          7280,
          7960,
          8517,
          7320,
          9248,
          8389,
          7827,
          7168,
          7144,
          8462,
          7864,
          6751,
          8400,
          6578,
          7449,
          7663,
          7736,
          7875,
          7614,
          7932,
          6999,
          8123,
          7744,
          6490,
          5239,
          6177,
          6765,
          8035,
          5479,
          6432,
          5327,
          6243,
          8001,
          5943,
          6453,
          6490,
          6861,
          6604,
          6508,
          5445,
          5598,
          5845,
          5103,
          6425,
          4548,
          5826,
          5680,
          5754,
          4756,
          5029,
          5435,
          5386,
          4476,
          3768,
          5723,
          6255,
          5078,
          3881,
          5481,
          4683,
          3415,
          3909,
          4037,
          4825,
          3578,
          3392,
          3738,
          3274,
          4510,
          4674,
          2982,
          4143,
          2251,
          3078,
          3789,
          3655,
          2963,
          2645,
          2724,
          2225,
          2244
         ],
         "y0": " ",
         "yaxis": "y"
        },
        {
         "alignmentgroup": "True",
         "hovertemplate": "jobtitle=Marketing Associate<br>bonus=%{y}<extra></extra>",
         "legendgroup": "Marketing Associate",
         "marker": {
          "color": "#B6E880"
         },
         "name": "Marketing Associate",
         "notched": false,
         "offsetgroup": "Marketing Associate",
         "orientation": "v",
         "showlegend": true,
         "type": "box",
         "x0": " ",
         "xaxis": "x",
         "y": [
          10334,
          9233,
          9424,
          9564,
          9479,
          9432,
          9168,
          9130,
          9093,
          8818,
          8056,
          8596,
          8897,
          8700,
          7539,
          7627,
          8049,
          8130,
          8867,
          8273,
          8543,
          7414,
          7567,
          7279,
          7346,
          9311,
          8609,
          9230,
          7316,
          7840,
          6685,
          8090,
          8780,
          7640,
          7144,
          5764,
          6935,
          6993,
          6682,
          6530,
          6955,
          7466,
          7555,
          6519,
          7196,
          7325,
          8092,
          7169,
          7106,
          5272,
          5153,
          6620,
          6615,
          6662,
          5516,
          6496,
          5569,
          5668,
          5814,
          5453,
          7058,
          7460,
          6010,
          5876,
          7126,
          5562,
          5618,
          5405,
          6044,
          5878,
          4668,
          6476,
          5239,
          5038,
          4076,
          4845,
          4524,
          4439,
          4453,
          4212,
          5430,
          5410,
          6079,
          5114,
          4829,
          4066,
          5538,
          4442,
          3795,
          4916,
          4981,
          4373,
          4243,
          4965,
          4503,
          4415,
          4300,
          3871,
          4289,
          4237,
          3270,
          4766,
          2730,
          4811,
          4275,
          4045,
          3107,
          4204,
          2991,
          3927,
          3745,
          3680,
          3888,
          2656,
          3042,
          1884,
          2777,
          3270
         ],
         "y0": " ",
         "yaxis": "y"
        },
        {
         "alignmentgroup": "True",
         "hovertemplate": "jobtitle=Data Scientist<br>bonus=%{y}<extra></extra>",
         "legendgroup": "Data Scientist",
         "marker": {
          "color": "#FF97FF"
         },
         "name": "Data Scientist",
         "notched": false,
         "offsetgroup": "Data Scientist",
         "orientation": "v",
         "showlegend": true,
         "type": "box",
         "x0": " ",
         "xaxis": "x",
         "y": [
          9838,
          9972,
          10139,
          9784,
          8703,
          10033,
          9654,
          8623,
          8331,
          10209,
          9405,
          8590,
          8457,
          9979,
          8643,
          9255,
          9075,
          7985,
          7679,
          8552,
          9585,
          9012,
          8210,
          8306,
          7668,
          8335,
          7757,
          8449,
          8335,
          9111,
          7999,
          7873,
          7939,
          7765,
          7242,
          6912,
          6814,
          6386,
          6454,
          7632,
          5794,
          8147,
          6922,
          6027,
          6611,
          5797,
          7412,
          6182,
          7211,
          8109,
          7250,
          6832,
          6552,
          7301,
          7198,
          6572,
          6398,
          6224,
          5470,
          6186,
          4584,
          4152,
          6660,
          7122,
          5359,
          6452,
          6775,
          5927,
          6580,
          4980,
          7236,
          5108,
          5329,
          4854,
          6350,
          4357,
          5293,
          4760,
          6817,
          5346,
          4626,
          4708,
          4191,
          4969,
          4458,
          3474,
          4409,
          4322,
          3896,
          3990,
          3875,
          3961,
          4339,
          3384,
          3590,
          4993,
          3588,
          4723,
          3746,
          2530,
          3247,
          3353,
          3078,
          3688,
          3180,
          3083,
          3567
         ],
         "y0": " ",
         "yaxis": "y"
        },
        {
         "alignmentgroup": "True",
         "hovertemplate": "jobtitle=Manager<br>bonus=%{y}<extra></extra>",
         "legendgroup": "Manager",
         "marker": {
          "color": "#FECB52"
         },
         "name": "Manager",
         "notched": false,
         "offsetgroup": "Manager",
         "orientation": "v",
         "showlegend": true,
         "type": "box",
         "x0": " ",
         "xaxis": "x",
         "y": [
          11067,
          10173,
          9395,
          8943,
          9036,
          8816,
          7850,
          8199,
          7840,
          7253,
          8894,
          7094,
          7257,
          8456,
          7730,
          7808,
          7622,
          6773,
          8354,
          8100,
          6291,
          7189,
          6946,
          6739,
          7721,
          6929,
          6573,
          6564,
          6321,
          6340,
          6416,
          6884,
          7291,
          6989,
          7314,
          4775,
          4765,
          6898,
          6777,
          4161,
          5495,
          6753,
          7213,
          6812,
          5878,
          6124,
          6219,
          5982,
          6363,
          6122,
          5934,
          5436,
          6019,
          6179,
          5888,
          6381,
          6277,
          5066,
          5798,
          4962,
          6235,
          6107,
          4621,
          5214,
          5390,
          4702,
          5795,
          4964,
          3927,
          3415,
          4095,
          3603,
          5120,
          5597,
          3438,
          4791,
          4111,
          4098,
          3889,
          3661,
          3712,
          3721,
          3841,
          2824,
          4284,
          3959,
          4618,
          4070,
          1703,
          2683
         ],
         "y0": " ",
         "yaxis": "y"
        }
       ],
       "layout": {
        "boxmode": "group",
        "legend": {
         "title": {
          "text": "jobtitle"
         },
         "tracegroupgap": 0
        },
        "template": {
         "data": {
          "bar": [
           {
            "error_x": {
             "color": "#2a3f5f"
            },
            "error_y": {
             "color": "#2a3f5f"
            },
            "marker": {
             "line": {
              "color": "#E5ECF6",
              "width": 0.5
             },
             "pattern": {
              "fillmode": "overlay",
              "size": 10,
              "solidity": 0.2
             }
            },
            "type": "bar"
           }
          ],
          "barpolar": [
           {
            "marker": {
             "line": {
              "color": "#E5ECF6",
              "width": 0.5
             },
             "pattern": {
              "fillmode": "overlay",
              "size": 10,
              "solidity": 0.2
             }
            },
            "type": "barpolar"
           }
          ],
          "carpet": [
           {
            "aaxis": {
             "endlinecolor": "#2a3f5f",
             "gridcolor": "white",
             "linecolor": "white",
             "minorgridcolor": "white",
             "startlinecolor": "#2a3f5f"
            },
            "baxis": {
             "endlinecolor": "#2a3f5f",
             "gridcolor": "white",
             "linecolor": "white",
             "minorgridcolor": "white",
             "startlinecolor": "#2a3f5f"
            },
            "type": "carpet"
           }
          ],
          "choropleth": [
           {
            "colorbar": {
             "outlinewidth": 0,
             "ticks": ""
            },
            "type": "choropleth"
           }
          ],
          "contour": [
           {
            "colorbar": {
             "outlinewidth": 0,
             "ticks": ""
            },
            "colorscale": [
             [
              0,
              "#0d0887"
             ],
             [
              0.1111111111111111,
              "#46039f"
             ],
             [
              0.2222222222222222,
              "#7201a8"
             ],
             [
              0.3333333333333333,
              "#9c179e"
             ],
             [
              0.4444444444444444,
              "#bd3786"
             ],
             [
              0.5555555555555556,
              "#d8576b"
             ],
             [
              0.6666666666666666,
              "#ed7953"
             ],
             [
              0.7777777777777778,
              "#fb9f3a"
             ],
             [
              0.8888888888888888,
              "#fdca26"
             ],
             [
              1,
              "#f0f921"
             ]
            ],
            "type": "contour"
           }
          ],
          "contourcarpet": [
           {
            "colorbar": {
             "outlinewidth": 0,
             "ticks": ""
            },
            "type": "contourcarpet"
           }
          ],
          "heatmap": [
           {
            "colorbar": {
             "outlinewidth": 0,
             "ticks": ""
            },
            "colorscale": [
             [
              0,
              "#0d0887"
             ],
             [
              0.1111111111111111,
              "#46039f"
             ],
             [
              0.2222222222222222,
              "#7201a8"
             ],
             [
              0.3333333333333333,
              "#9c179e"
             ],
             [
              0.4444444444444444,
              "#bd3786"
             ],
             [
              0.5555555555555556,
              "#d8576b"
             ],
             [
              0.6666666666666666,
              "#ed7953"
             ],
             [
              0.7777777777777778,
              "#fb9f3a"
             ],
             [
              0.8888888888888888,
              "#fdca26"
             ],
             [
              1,
              "#f0f921"
             ]
            ],
            "type": "heatmap"
           }
          ],
          "heatmapgl": [
           {
            "colorbar": {
             "outlinewidth": 0,
             "ticks": ""
            },
            "colorscale": [
             [
              0,
              "#0d0887"
             ],
             [
              0.1111111111111111,
              "#46039f"
             ],
             [
              0.2222222222222222,
              "#7201a8"
             ],
             [
              0.3333333333333333,
              "#9c179e"
             ],
             [
              0.4444444444444444,
              "#bd3786"
             ],
             [
              0.5555555555555556,
              "#d8576b"
             ],
             [
              0.6666666666666666,
              "#ed7953"
             ],
             [
              0.7777777777777778,
              "#fb9f3a"
             ],
             [
              0.8888888888888888,
              "#fdca26"
             ],
             [
              1,
              "#f0f921"
             ]
            ],
            "type": "heatmapgl"
           }
          ],
          "histogram": [
           {
            "marker": {
             "pattern": {
              "fillmode": "overlay",
              "size": 10,
              "solidity": 0.2
             }
            },
            "type": "histogram"
           }
          ],
          "histogram2d": [
           {
            "colorbar": {
             "outlinewidth": 0,
             "ticks": ""
            },
            "colorscale": [
             [
              0,
              "#0d0887"
             ],
             [
              0.1111111111111111,
              "#46039f"
             ],
             [
              0.2222222222222222,
              "#7201a8"
             ],
             [
              0.3333333333333333,
              "#9c179e"
             ],
             [
              0.4444444444444444,
              "#bd3786"
             ],
             [
              0.5555555555555556,
              "#d8576b"
             ],
             [
              0.6666666666666666,
              "#ed7953"
             ],
             [
              0.7777777777777778,
              "#fb9f3a"
             ],
             [
              0.8888888888888888,
              "#fdca26"
             ],
             [
              1,
              "#f0f921"
             ]
            ],
            "type": "histogram2d"
           }
          ],
          "histogram2dcontour": [
           {
            "colorbar": {
             "outlinewidth": 0,
             "ticks": ""
            },
            "colorscale": [
             [
              0,
              "#0d0887"
             ],
             [
              0.1111111111111111,
              "#46039f"
             ],
             [
              0.2222222222222222,
              "#7201a8"
             ],
             [
              0.3333333333333333,
              "#9c179e"
             ],
             [
              0.4444444444444444,
              "#bd3786"
             ],
             [
              0.5555555555555556,
              "#d8576b"
             ],
             [
              0.6666666666666666,
              "#ed7953"
             ],
             [
              0.7777777777777778,
              "#fb9f3a"
             ],
             [
              0.8888888888888888,
              "#fdca26"
             ],
             [
              1,
              "#f0f921"
             ]
            ],
            "type": "histogram2dcontour"
           }
          ],
          "mesh3d": [
           {
            "colorbar": {
             "outlinewidth": 0,
             "ticks": ""
            },
            "type": "mesh3d"
           }
          ],
          "parcoords": [
           {
            "line": {
             "colorbar": {
              "outlinewidth": 0,
              "ticks": ""
             }
            },
            "type": "parcoords"
           }
          ],
          "pie": [
           {
            "automargin": true,
            "type": "pie"
           }
          ],
          "scatter": [
           {
            "fillpattern": {
             "fillmode": "overlay",
             "size": 10,
             "solidity": 0.2
            },
            "type": "scatter"
           }
          ],
          "scatter3d": [
           {
            "line": {
             "colorbar": {
              "outlinewidth": 0,
              "ticks": ""
             }
            },
            "marker": {
             "colorbar": {
              "outlinewidth": 0,
              "ticks": ""
             }
            },
            "type": "scatter3d"
           }
          ],
          "scattercarpet": [
           {
            "marker": {
             "colorbar": {
              "outlinewidth": 0,
              "ticks": ""
             }
            },
            "type": "scattercarpet"
           }
          ],
          "scattergeo": [
           {
            "marker": {
             "colorbar": {
              "outlinewidth": 0,
              "ticks": ""
             }
            },
            "type": "scattergeo"
           }
          ],
          "scattergl": [
           {
            "marker": {
             "colorbar": {
              "outlinewidth": 0,
              "ticks": ""
             }
            },
            "type": "scattergl"
           }
          ],
          "scattermapbox": [
           {
            "marker": {
             "colorbar": {
              "outlinewidth": 0,
              "ticks": ""
             }
            },
            "type": "scattermapbox"
           }
          ],
          "scatterpolar": [
           {
            "marker": {
             "colorbar": {
              "outlinewidth": 0,
              "ticks": ""
             }
            },
            "type": "scatterpolar"
           }
          ],
          "scatterpolargl": [
           {
            "marker": {
             "colorbar": {
              "outlinewidth": 0,
              "ticks": ""
             }
            },
            "type": "scatterpolargl"
           }
          ],
          "scatterternary": [
           {
            "marker": {
             "colorbar": {
              "outlinewidth": 0,
              "ticks": ""
             }
            },
            "type": "scatterternary"
           }
          ],
          "surface": [
           {
            "colorbar": {
             "outlinewidth": 0,
             "ticks": ""
            },
            "colorscale": [
             [
              0,
              "#0d0887"
             ],
             [
              0.1111111111111111,
              "#46039f"
             ],
             [
              0.2222222222222222,
              "#7201a8"
             ],
             [
              0.3333333333333333,
              "#9c179e"
             ],
             [
              0.4444444444444444,
              "#bd3786"
             ],
             [
              0.5555555555555556,
              "#d8576b"
             ],
             [
              0.6666666666666666,
              "#ed7953"
             ],
             [
              0.7777777777777778,
              "#fb9f3a"
             ],
             [
              0.8888888888888888,
              "#fdca26"
             ],
             [
              1,
              "#f0f921"
             ]
            ],
            "type": "surface"
           }
          ],
          "table": [
           {
            "cells": {
             "fill": {
              "color": "#EBF0F8"
             },
             "line": {
              "color": "white"
             }
            },
            "header": {
             "fill": {
              "color": "#C8D4E3"
             },
             "line": {
              "color": "white"
             }
            },
            "type": "table"
           }
          ]
         },
         "layout": {
          "annotationdefaults": {
           "arrowcolor": "#2a3f5f",
           "arrowhead": 0,
           "arrowwidth": 1
          },
          "autotypenumbers": "strict",
          "coloraxis": {
           "colorbar": {
            "outlinewidth": 0,
            "ticks": ""
           }
          },
          "colorscale": {
           "diverging": [
            [
             0,
             "#8e0152"
            ],
            [
             0.1,
             "#c51b7d"
            ],
            [
             0.2,
             "#de77ae"
            ],
            [
             0.3,
             "#f1b6da"
            ],
            [
             0.4,
             "#fde0ef"
            ],
            [
             0.5,
             "#f7f7f7"
            ],
            [
             0.6,
             "#e6f5d0"
            ],
            [
             0.7,
             "#b8e186"
            ],
            [
             0.8,
             "#7fbc41"
            ],
            [
             0.9,
             "#4d9221"
            ],
            [
             1,
             "#276419"
            ]
           ],
           "sequential": [
            [
             0,
             "#0d0887"
            ],
            [
             0.1111111111111111,
             "#46039f"
            ],
            [
             0.2222222222222222,
             "#7201a8"
            ],
            [
             0.3333333333333333,
             "#9c179e"
            ],
            [
             0.4444444444444444,
             "#bd3786"
            ],
            [
             0.5555555555555556,
             "#d8576b"
            ],
            [
             0.6666666666666666,
             "#ed7953"
            ],
            [
             0.7777777777777778,
             "#fb9f3a"
            ],
            [
             0.8888888888888888,
             "#fdca26"
            ],
            [
             1,
             "#f0f921"
            ]
           ],
           "sequentialminus": [
            [
             0,
             "#0d0887"
            ],
            [
             0.1111111111111111,
             "#46039f"
            ],
            [
             0.2222222222222222,
             "#7201a8"
            ],
            [
             0.3333333333333333,
             "#9c179e"
            ],
            [
             0.4444444444444444,
             "#bd3786"
            ],
            [
             0.5555555555555556,
             "#d8576b"
            ],
            [
             0.6666666666666666,
             "#ed7953"
            ],
            [
             0.7777777777777778,
             "#fb9f3a"
            ],
            [
             0.8888888888888888,
             "#fdca26"
            ],
            [
             1,
             "#f0f921"
            ]
           ]
          },
          "colorway": [
           "#636efa",
           "#EF553B",
           "#00cc96",
           "#ab63fa",
           "#FFA15A",
           "#19d3f3",
           "#FF6692",
           "#B6E880",
           "#FF97FF",
           "#FECB52"
          ],
          "font": {
           "color": "#2a3f5f"
          },
          "geo": {
           "bgcolor": "white",
           "lakecolor": "white",
           "landcolor": "#E5ECF6",
           "showlakes": true,
           "showland": true,
           "subunitcolor": "white"
          },
          "hoverlabel": {
           "align": "left"
          },
          "hovermode": "closest",
          "mapbox": {
           "style": "light"
          },
          "paper_bgcolor": "white",
          "plot_bgcolor": "#E5ECF6",
          "polar": {
           "angularaxis": {
            "gridcolor": "white",
            "linecolor": "white",
            "ticks": ""
           },
           "bgcolor": "#E5ECF6",
           "radialaxis": {
            "gridcolor": "white",
            "linecolor": "white",
            "ticks": ""
           }
          },
          "scene": {
           "xaxis": {
            "backgroundcolor": "#E5ECF6",
            "gridcolor": "white",
            "gridwidth": 2,
            "linecolor": "white",
            "showbackground": true,
            "ticks": "",
            "zerolinecolor": "white"
           },
           "yaxis": {
            "backgroundcolor": "#E5ECF6",
            "gridcolor": "white",
            "gridwidth": 2,
            "linecolor": "white",
            "showbackground": true,
            "ticks": "",
            "zerolinecolor": "white"
           },
           "zaxis": {
            "backgroundcolor": "#E5ECF6",
            "gridcolor": "white",
            "gridwidth": 2,
            "linecolor": "white",
            "showbackground": true,
            "ticks": "",
            "zerolinecolor": "white"
           }
          },
          "shapedefaults": {
           "line": {
            "color": "#2a3f5f"
           }
          },
          "ternary": {
           "aaxis": {
            "gridcolor": "white",
            "linecolor": "white",
            "ticks": ""
           },
           "baxis": {
            "gridcolor": "white",
            "linecolor": "white",
            "ticks": ""
           },
           "bgcolor": "#E5ECF6",
           "caxis": {
            "gridcolor": "white",
            "linecolor": "white",
            "ticks": ""
           }
          },
          "title": {
           "x": 0.05
          },
          "xaxis": {
           "automargin": true,
           "gridcolor": "white",
           "linecolor": "white",
           "ticks": "",
           "title": {
            "standoff": 15
           },
           "zerolinecolor": "white",
           "zerolinewidth": 2
          },
          "yaxis": {
           "automargin": true,
           "gridcolor": "white",
           "linecolor": "white",
           "ticks": "",
           "title": {
            "standoff": 15
           },
           "zerolinecolor": "white",
           "zerolinewidth": 2
          }
         }
        },
        "title": {
         "text": "Distribucion de bonos por jobtitle"
        },
        "xaxis": {
         "anchor": "y",
         "domain": [
          0,
          1
         ]
        },
        "yaxis": {
         "anchor": "x",
         "domain": [
          0,
          1
         ],
         "title": {
          "text": "bonus"
         }
        }
       }
      }
     },
     "metadata": {},
     "output_type": "display_data"
    },
    {
     "data": {
      "application/vnd.plotly.v1+json": {
       "config": {
        "plotlyServerURL": "https://plot.ly"
       },
       "data": [
        {
         "alignmentgroup": "True",
         "hovertemplate": "gender=Female<br>bonus=%{y}<extra></extra>",
         "legendgroup": "Female",
         "marker": {
          "color": "#636efa"
         },
         "name": "Female",
         "notched": false,
         "offsetgroup": "Female",
         "orientation": "v",
         "showlegend": true,
         "type": "box",
         "x0": " ",
         "xaxis": "x",
         "y": [
          9938,
          9268,
          10126,
          10541,
          9836,
          9941,
          10124,
          8990,
          9583,
          9745,
          10334,
          10768,
          9949,
          9838,
          9031,
          10015,
          10504,
          9233,
          9972,
          10139,
          9409,
          10033,
          10346,
          10215,
          9564,
          9654,
          8949,
          8623,
          8886,
          8331,
          9479,
          9564,
          8841,
          9687,
          9516,
          10324,
          8762,
          9432,
          8234,
          9168,
          9798,
          8747,
          8457,
          8857,
          9979,
          8509,
          9130,
          8725,
          8961,
          9129,
          9093,
          10122,
          8369,
          10052,
          9611,
          8647,
          8818,
          8645,
          8056,
          7204,
          8459,
          8357,
          8596,
          8743,
          8515,
          8897,
          9454,
          8668,
          7511,
          7539,
          10375,
          8943,
          7627,
          8873,
          9089,
          8383,
          9042,
          8472,
          8578,
          7067,
          7679,
          8058,
          8552,
          7205,
          8602,
          8744,
          8130,
          8867,
          8273,
          8109,
          8201,
          8950,
          8974,
          8477,
          9619,
          8543,
          7414,
          7567,
          7169,
          7392,
          7285,
          7513,
          9012,
          7654,
          9522,
          7279,
          8090,
          7278,
          8210,
          8306,
          7346,
          7832,
          7185,
          7280,
          8245,
          9311,
          8375,
          7789,
          8317,
          7657,
          7793,
          8609,
          7757,
          7320,
          8307,
          8010,
          9084,
          7740,
          9111,
          8636,
          7999,
          7776,
          8621,
          7491,
          9248,
          7885,
          8443,
          7949,
          7415,
          7402,
          9551,
          6966,
          9230,
          7750,
          7257,
          7739,
          7316,
          7144,
          8456,
          6666,
          8265,
          6495,
          7939,
          6397,
          7139,
          7840,
          8465,
          8980,
          7808,
          7765,
          8145,
          8013,
          8400,
          6685,
          7028,
          7089,
          7246,
          7947,
          7550,
          8727,
          8090,
          6413,
          6912,
          8354,
          7411,
          8780,
          7449,
          6554,
          6814,
          5000,
          6615,
          7640,
          7144,
          5764,
          6935,
          6993,
          6682,
          6700,
          6386,
          6955,
          8253,
          6363,
          6631,
          7466,
          7555,
          5520,
          6577,
          7632,
          7404,
          7196,
          6999,
          7003,
          7325,
          6970,
          7744,
          8092,
          7169,
          7242,
          6737,
          6122,
          7329,
          6340,
          7106,
          7552,
          5272,
          6897,
          6545,
          7113,
          5797,
          6182,
          6620,
          7211,
          6615,
          7177,
          7314,
          5239,
          6996,
          6537,
          6177,
          6662,
          6290,
          6722,
          6258,
          6711,
          6496,
          6558,
          6432,
          6295,
          5953,
          5327,
          6430,
          5477,
          7052,
          6552,
          6812,
          5569,
          5627,
          5662,
          5878,
          7205,
          7301,
          7198,
          6900,
          6356,
          5914,
          6016,
          6398,
          6224,
          5668,
          6861,
          5020,
          6746,
          6616,
          6604,
          6186,
          5814,
          5090,
          5453,
          6476,
          4890,
          7058,
          7377,
          5679,
          7460,
          6010,
          6536,
          7122,
          5863,
          6508,
          5359,
          5876,
          7126,
          5562,
          3846,
          5803,
          5236,
          6381,
          5618,
          5380,
          5598,
          6092,
          5175,
          5183,
          6775,
          6044,
          5878,
          4668,
          6505,
          4548,
          5927,
          5688,
          5084,
          5345,
          6476,
          7233,
          5173,
          5499,
          5108,
          5135,
          5329,
          5754,
          4756,
          5029,
          5284,
          5647,
          5195,
          4322,
          5038,
          4925,
          4962,
          6303,
          6235,
          4076,
          5293,
          4760,
          4845,
          6083,
          4524,
          5004,
          6817,
          4439,
          4449,
          5346,
          4422,
          4079,
          4626,
          4536,
          6337,
          4453,
          4489,
          5352,
          4708,
          6032,
          5435,
          5613,
          5536,
          4466,
          5068,
          4969,
          4184,
          5014,
          3100,
          5386,
          5861,
          4413,
          4621,
          5404,
          4212,
          5430,
          3768,
          4534,
          3727,
          5723,
          5410,
          2324,
          6079,
          5114,
          4793,
          4829,
          4967,
          3661,
          3603,
          4066,
          5538,
          4249,
          4442,
          5022,
          3795,
          4202,
          4916,
          4981,
          4495,
          5070,
          3653,
          4373,
          4827,
          4750,
          5481,
          4683,
          4409,
          4617,
          4965,
          5120,
          4694,
          4503,
          3697,
          4415,
          3634,
          3961,
          5576,
          3871,
          3889,
          4339,
          4037,
          4044,
          4825,
          3578,
          3384,
          3084,
          4157,
          4289,
          4237,
          3270,
          3887,
          4296,
          4510,
          3721,
          3964,
          4766,
          2661,
          2730,
          4811,
          3791,
          3521,
          3530,
          4605,
          4275,
          2982,
          3641,
          4045,
          3943,
          2824,
          4723,
          3746,
          3107,
          4214,
          3892,
          3959,
          3908,
          5236,
          4204,
          3988,
          2251,
          3078,
          3536,
          2991,
          3078,
          3688,
          3647,
          3255,
          3655,
          3927,
          3745,
          3680,
          2963,
          3453,
          2041,
          3888,
          2656,
          2763,
          3042,
          2645,
          3318,
          2041,
          3418,
          1884,
          2777,
          3270
         ],
         "y0": " ",
         "yaxis": "y"
        },
        {
         "alignmentgroup": "True",
         "hovertemplate": "gender=Male<br>bonus=%{y}<extra></extra>",
         "legendgroup": "Male",
         "marker": {
          "color": "#EF553B"
         },
         "name": "Male",
         "notched": false,
         "offsetgroup": "Male",
         "orientation": "v",
         "showlegend": true,
         "type": "box",
         "x0": " ",
         "xaxis": "x",
         "y": [
          11128,
          10154,
          9319,
          10240,
          10212,
          9461,
          9210,
          9329,
          9792,
          9625,
          9618,
          9469,
          10177,
          10137,
          10512,
          10050,
          9780,
          9094,
          9023,
          9784,
          8703,
          8949,
          9868,
          11293,
          9729,
          9424,
          9353,
          9104,
          9493,
          9874,
          9841,
          10153,
          9958,
          9242,
          10209,
          9405,
          11067,
          8590,
          10240,
          10042,
          9931,
          9368,
          10173,
          8872,
          9395,
          8384,
          8375,
          9945,
          8914,
          8802,
          9330,
          9130,
          8502,
          8215,
          9421,
          8833,
          8643,
          8245,
          8014,
          8972,
          9255,
          9310,
          8290,
          8700,
          8498,
          8549,
          6855,
          7802,
          9075,
          9345,
          9553,
          7902,
          9036,
          7985,
          8841,
          8049,
          8347,
          7444,
          8602,
          9653,
          9306,
          7475,
          8832,
          8872,
          6897,
          8928,
          7573,
          8816,
          7918,
          7524,
          8188,
          8435,
          9229,
          9090,
          7794,
          9585,
          9185,
          7850,
          8509,
          8023,
          8347,
          7957,
          7385,
          9007,
          7827,
          8199,
          8338,
          7200,
          8978,
          7404,
          9736,
          7350,
          9289,
          6346,
          7840,
          7351,
          7668,
          8335,
          7022,
          7791,
          7769,
          7960,
          9335,
          9694,
          7229,
          9090,
          8472,
          7634,
          8391,
          8517,
          7253,
          8449,
          8761,
          6839,
          8894,
          7075,
          8335,
          8407,
          7910,
          8581,
          8388,
          8105,
          9147,
          8339,
          7873,
          6971,
          8389,
          7266,
          7827,
          8209,
          6332,
          7464,
          7168,
          8278,
          7094,
          7774,
          8093,
          6914,
          6378,
          8505,
          7641,
          8462,
          6111,
          6824,
          7813,
          7101,
          7864,
          7778,
          7730,
          7460,
          7817,
          6751,
          7905,
          7735,
          7622,
          8688,
          7242,
          8360,
          6669,
          6578,
          6893,
          6773,
          6692,
          8468,
          7663,
          8328,
          8100,
          8244,
          6291,
          7036,
          7500,
          6184,
          6530,
          7736,
          6345,
          6740,
          6454,
          8587,
          7189,
          6839,
          7875,
          7614,
          7932,
          6519,
          6448,
          6760,
          7268,
          6946,
          5794,
          6739,
          8147,
          7559,
          8123,
          6257,
          7721,
          7246,
          6929,
          6997,
          6573,
          6564,
          6586,
          6042,
          7522,
          6321,
          7822,
          7327,
          6922,
          7646,
          6643,
          6490,
          5937,
          7279,
          6439,
          6416,
          5153,
          6027,
          6611,
          6884,
          7412,
          6581,
          6471,
          7958,
          7304,
          6160,
          5646,
          6499,
          6060,
          7642,
          7291,
          8109,
          6274,
          6696,
          6989,
          6556,
          4775,
          7438,
          6942,
          6931,
          7127,
          6765,
          5947,
          6394,
          4765,
          8160,
          8035,
          6898,
          7440,
          7250,
          6832,
          5479,
          8113,
          5516,
          7160,
          6777,
          7443,
          4161,
          6228,
          6866,
          6243,
          5495,
          8001,
          7433,
          6336,
          6753,
          7213,
          5943,
          6453,
          6020,
          6235,
          5520,
          6251,
          6630,
          5829,
          5989,
          6689,
          6572,
          5569,
          6462,
          8439,
          6490,
          5792,
          6124,
          6618,
          6219,
          5924,
          5982,
          6497,
          5383,
          5136,
          6363,
          5470,
          6596,
          4584,
          6122,
          5934,
          4152,
          6842,
          4680,
          6660,
          5243,
          5838,
          6327,
          7554,
          5436,
          5944,
          6019,
          6179,
          5308,
          5146,
          6506,
          5224,
          5831,
          5888,
          5751,
          5881,
          5445,
          5412,
          5713,
          4673,
          6452,
          5406,
          4618,
          5452,
          5608,
          5166,
          6274,
          5845,
          4998,
          7113,
          5405,
          5103,
          5697,
          4265,
          6425,
          4898,
          6277,
          4826,
          6580,
          5454,
          4872,
          5234,
          4701,
          4980,
          3879,
          5396,
          4700,
          5866,
          7236,
          5426,
          5913,
          5826,
          5680,
          5239,
          5066,
          5562,
          5798,
          5512,
          4854,
          4892,
          4650,
          4635,
          5133,
          5220,
          6350,
          4357,
          6151,
          5735,
          4677,
          6107,
          4572,
          5009,
          5930,
          4549,
          4566,
          4690,
          6274,
          4621,
          5214,
          5390,
          4844,
          5698,
          4165,
          3817,
          5729,
          4702,
          4191,
          5795,
          4458,
          5513,
          4115,
          5225,
          4476,
          4045,
          4964,
          4664,
          5201,
          5232,
          4073,
          6255,
          5281,
          3927,
          3474,
          5078,
          5404,
          3415,
          3881,
          4310,
          5992,
          4095,
          4472,
          5097,
          4126,
          3910,
          4494,
          5268,
          4148,
          5460,
          4712,
          3652,
          4687,
          5784,
          4275,
          4243,
          5001,
          4309,
          4774,
          5597,
          4734,
          5259,
          4322,
          3415,
          3438,
          3896,
          4791,
          3990,
          4263,
          4516,
          4851,
          4300,
          4685,
          4111,
          3665,
          4098,
          4390,
          3875,
          3879,
          2930,
          3909,
          3955,
          3392,
          3661,
          3223,
          4596,
          5472,
          3738,
          3590,
          3518,
          4993,
          3712,
          3044,
          3274,
          3955,
          3841,
          3588,
          3382,
          4543,
          4674,
          4780,
          3431,
          3368,
          4149,
          3599,
          2728,
          4284,
          4143,
          3528,
          4263,
          3510,
          2530,
          4618,
          3463,
          2200,
          3247,
          4070,
          2600,
          4099,
          4388,
          3366,
          3353,
          2978,
          3789,
          3242,
          3196,
          4765,
          3409,
          3367,
          1703,
          3180,
          3079,
          2051,
          2193,
          2375,
          2125,
          2611,
          2788,
          2683,
          3083,
          1823,
          3567,
          2724,
          2225,
          2244
         ],
         "y0": " ",
         "yaxis": "y"
        }
       ],
       "layout": {
        "boxmode": "group",
        "legend": {
         "title": {
          "text": "gender"
         },
         "tracegroupgap": 0
        },
        "template": {
         "data": {
          "bar": [
           {
            "error_x": {
             "color": "#2a3f5f"
            },
            "error_y": {
             "color": "#2a3f5f"
            },
            "marker": {
             "line": {
              "color": "#E5ECF6",
              "width": 0.5
             },
             "pattern": {
              "fillmode": "overlay",
              "size": 10,
              "solidity": 0.2
             }
            },
            "type": "bar"
           }
          ],
          "barpolar": [
           {
            "marker": {
             "line": {
              "color": "#E5ECF6",
              "width": 0.5
             },
             "pattern": {
              "fillmode": "overlay",
              "size": 10,
              "solidity": 0.2
             }
            },
            "type": "barpolar"
           }
          ],
          "carpet": [
           {
            "aaxis": {
             "endlinecolor": "#2a3f5f",
             "gridcolor": "white",
             "linecolor": "white",
             "minorgridcolor": "white",
             "startlinecolor": "#2a3f5f"
            },
            "baxis": {
             "endlinecolor": "#2a3f5f",
             "gridcolor": "white",
             "linecolor": "white",
             "minorgridcolor": "white",
             "startlinecolor": "#2a3f5f"
            },
            "type": "carpet"
           }
          ],
          "choropleth": [
           {
            "colorbar": {
             "outlinewidth": 0,
             "ticks": ""
            },
            "type": "choropleth"
           }
          ],
          "contour": [
           {
            "colorbar": {
             "outlinewidth": 0,
             "ticks": ""
            },
            "colorscale": [
             [
              0,
              "#0d0887"
             ],
             [
              0.1111111111111111,
              "#46039f"
             ],
             [
              0.2222222222222222,
              "#7201a8"
             ],
             [
              0.3333333333333333,
              "#9c179e"
             ],
             [
              0.4444444444444444,
              "#bd3786"
             ],
             [
              0.5555555555555556,
              "#d8576b"
             ],
             [
              0.6666666666666666,
              "#ed7953"
             ],
             [
              0.7777777777777778,
              "#fb9f3a"
             ],
             [
              0.8888888888888888,
              "#fdca26"
             ],
             [
              1,
              "#f0f921"
             ]
            ],
            "type": "contour"
           }
          ],
          "contourcarpet": [
           {
            "colorbar": {
             "outlinewidth": 0,
             "ticks": ""
            },
            "type": "contourcarpet"
           }
          ],
          "heatmap": [
           {
            "colorbar": {
             "outlinewidth": 0,
             "ticks": ""
            },
            "colorscale": [
             [
              0,
              "#0d0887"
             ],
             [
              0.1111111111111111,
              "#46039f"
             ],
             [
              0.2222222222222222,
              "#7201a8"
             ],
             [
              0.3333333333333333,
              "#9c179e"
             ],
             [
              0.4444444444444444,
              "#bd3786"
             ],
             [
              0.5555555555555556,
              "#d8576b"
             ],
             [
              0.6666666666666666,
              "#ed7953"
             ],
             [
              0.7777777777777778,
              "#fb9f3a"
             ],
             [
              0.8888888888888888,
              "#fdca26"
             ],
             [
              1,
              "#f0f921"
             ]
            ],
            "type": "heatmap"
           }
          ],
          "heatmapgl": [
           {
            "colorbar": {
             "outlinewidth": 0,
             "ticks": ""
            },
            "colorscale": [
             [
              0,
              "#0d0887"
             ],
             [
              0.1111111111111111,
              "#46039f"
             ],
             [
              0.2222222222222222,
              "#7201a8"
             ],
             [
              0.3333333333333333,
              "#9c179e"
             ],
             [
              0.4444444444444444,
              "#bd3786"
             ],
             [
              0.5555555555555556,
              "#d8576b"
             ],
             [
              0.6666666666666666,
              "#ed7953"
             ],
             [
              0.7777777777777778,
              "#fb9f3a"
             ],
             [
              0.8888888888888888,
              "#fdca26"
             ],
             [
              1,
              "#f0f921"
             ]
            ],
            "type": "heatmapgl"
           }
          ],
          "histogram": [
           {
            "marker": {
             "pattern": {
              "fillmode": "overlay",
              "size": 10,
              "solidity": 0.2
             }
            },
            "type": "histogram"
           }
          ],
          "histogram2d": [
           {
            "colorbar": {
             "outlinewidth": 0,
             "ticks": ""
            },
            "colorscale": [
             [
              0,
              "#0d0887"
             ],
             [
              0.1111111111111111,
              "#46039f"
             ],
             [
              0.2222222222222222,
              "#7201a8"
             ],
             [
              0.3333333333333333,
              "#9c179e"
             ],
             [
              0.4444444444444444,
              "#bd3786"
             ],
             [
              0.5555555555555556,
              "#d8576b"
             ],
             [
              0.6666666666666666,
              "#ed7953"
             ],
             [
              0.7777777777777778,
              "#fb9f3a"
             ],
             [
              0.8888888888888888,
              "#fdca26"
             ],
             [
              1,
              "#f0f921"
             ]
            ],
            "type": "histogram2d"
           }
          ],
          "histogram2dcontour": [
           {
            "colorbar": {
             "outlinewidth": 0,
             "ticks": ""
            },
            "colorscale": [
             [
              0,
              "#0d0887"
             ],
             [
              0.1111111111111111,
              "#46039f"
             ],
             [
              0.2222222222222222,
              "#7201a8"
             ],
             [
              0.3333333333333333,
              "#9c179e"
             ],
             [
              0.4444444444444444,
              "#bd3786"
             ],
             [
              0.5555555555555556,
              "#d8576b"
             ],
             [
              0.6666666666666666,
              "#ed7953"
             ],
             [
              0.7777777777777778,
              "#fb9f3a"
             ],
             [
              0.8888888888888888,
              "#fdca26"
             ],
             [
              1,
              "#f0f921"
             ]
            ],
            "type": "histogram2dcontour"
           }
          ],
          "mesh3d": [
           {
            "colorbar": {
             "outlinewidth": 0,
             "ticks": ""
            },
            "type": "mesh3d"
           }
          ],
          "parcoords": [
           {
            "line": {
             "colorbar": {
              "outlinewidth": 0,
              "ticks": ""
             }
            },
            "type": "parcoords"
           }
          ],
          "pie": [
           {
            "automargin": true,
            "type": "pie"
           }
          ],
          "scatter": [
           {
            "fillpattern": {
             "fillmode": "overlay",
             "size": 10,
             "solidity": 0.2
            },
            "type": "scatter"
           }
          ],
          "scatter3d": [
           {
            "line": {
             "colorbar": {
              "outlinewidth": 0,
              "ticks": ""
             }
            },
            "marker": {
             "colorbar": {
              "outlinewidth": 0,
              "ticks": ""
             }
            },
            "type": "scatter3d"
           }
          ],
          "scattercarpet": [
           {
            "marker": {
             "colorbar": {
              "outlinewidth": 0,
              "ticks": ""
             }
            },
            "type": "scattercarpet"
           }
          ],
          "scattergeo": [
           {
            "marker": {
             "colorbar": {
              "outlinewidth": 0,
              "ticks": ""
             }
            },
            "type": "scattergeo"
           }
          ],
          "scattergl": [
           {
            "marker": {
             "colorbar": {
              "outlinewidth": 0,
              "ticks": ""
             }
            },
            "type": "scattergl"
           }
          ],
          "scattermapbox": [
           {
            "marker": {
             "colorbar": {
              "outlinewidth": 0,
              "ticks": ""
             }
            },
            "type": "scattermapbox"
           }
          ],
          "scatterpolar": [
           {
            "marker": {
             "colorbar": {
              "outlinewidth": 0,
              "ticks": ""
             }
            },
            "type": "scatterpolar"
           }
          ],
          "scatterpolargl": [
           {
            "marker": {
             "colorbar": {
              "outlinewidth": 0,
              "ticks": ""
             }
            },
            "type": "scatterpolargl"
           }
          ],
          "scatterternary": [
           {
            "marker": {
             "colorbar": {
              "outlinewidth": 0,
              "ticks": ""
             }
            },
            "type": "scatterternary"
           }
          ],
          "surface": [
           {
            "colorbar": {
             "outlinewidth": 0,
             "ticks": ""
            },
            "colorscale": [
             [
              0,
              "#0d0887"
             ],
             [
              0.1111111111111111,
              "#46039f"
             ],
             [
              0.2222222222222222,
              "#7201a8"
             ],
             [
              0.3333333333333333,
              "#9c179e"
             ],
             [
              0.4444444444444444,
              "#bd3786"
             ],
             [
              0.5555555555555556,
              "#d8576b"
             ],
             [
              0.6666666666666666,
              "#ed7953"
             ],
             [
              0.7777777777777778,
              "#fb9f3a"
             ],
             [
              0.8888888888888888,
              "#fdca26"
             ],
             [
              1,
              "#f0f921"
             ]
            ],
            "type": "surface"
           }
          ],
          "table": [
           {
            "cells": {
             "fill": {
              "color": "#EBF0F8"
             },
             "line": {
              "color": "white"
             }
            },
            "header": {
             "fill": {
              "color": "#C8D4E3"
             },
             "line": {
              "color": "white"
             }
            },
            "type": "table"
           }
          ]
         },
         "layout": {
          "annotationdefaults": {
           "arrowcolor": "#2a3f5f",
           "arrowhead": 0,
           "arrowwidth": 1
          },
          "autotypenumbers": "strict",
          "coloraxis": {
           "colorbar": {
            "outlinewidth": 0,
            "ticks": ""
           }
          },
          "colorscale": {
           "diverging": [
            [
             0,
             "#8e0152"
            ],
            [
             0.1,
             "#c51b7d"
            ],
            [
             0.2,
             "#de77ae"
            ],
            [
             0.3,
             "#f1b6da"
            ],
            [
             0.4,
             "#fde0ef"
            ],
            [
             0.5,
             "#f7f7f7"
            ],
            [
             0.6,
             "#e6f5d0"
            ],
            [
             0.7,
             "#b8e186"
            ],
            [
             0.8,
             "#7fbc41"
            ],
            [
             0.9,
             "#4d9221"
            ],
            [
             1,
             "#276419"
            ]
           ],
           "sequential": [
            [
             0,
             "#0d0887"
            ],
            [
             0.1111111111111111,
             "#46039f"
            ],
            [
             0.2222222222222222,
             "#7201a8"
            ],
            [
             0.3333333333333333,
             "#9c179e"
            ],
            [
             0.4444444444444444,
             "#bd3786"
            ],
            [
             0.5555555555555556,
             "#d8576b"
            ],
            [
             0.6666666666666666,
             "#ed7953"
            ],
            [
             0.7777777777777778,
             "#fb9f3a"
            ],
            [
             0.8888888888888888,
             "#fdca26"
            ],
            [
             1,
             "#f0f921"
            ]
           ],
           "sequentialminus": [
            [
             0,
             "#0d0887"
            ],
            [
             0.1111111111111111,
             "#46039f"
            ],
            [
             0.2222222222222222,
             "#7201a8"
            ],
            [
             0.3333333333333333,
             "#9c179e"
            ],
            [
             0.4444444444444444,
             "#bd3786"
            ],
            [
             0.5555555555555556,
             "#d8576b"
            ],
            [
             0.6666666666666666,
             "#ed7953"
            ],
            [
             0.7777777777777778,
             "#fb9f3a"
            ],
            [
             0.8888888888888888,
             "#fdca26"
            ],
            [
             1,
             "#f0f921"
            ]
           ]
          },
          "colorway": [
           "#636efa",
           "#EF553B",
           "#00cc96",
           "#ab63fa",
           "#FFA15A",
           "#19d3f3",
           "#FF6692",
           "#B6E880",
           "#FF97FF",
           "#FECB52"
          ],
          "font": {
           "color": "#2a3f5f"
          },
          "geo": {
           "bgcolor": "white",
           "lakecolor": "white",
           "landcolor": "#E5ECF6",
           "showlakes": true,
           "showland": true,
           "subunitcolor": "white"
          },
          "hoverlabel": {
           "align": "left"
          },
          "hovermode": "closest",
          "mapbox": {
           "style": "light"
          },
          "paper_bgcolor": "white",
          "plot_bgcolor": "#E5ECF6",
          "polar": {
           "angularaxis": {
            "gridcolor": "white",
            "linecolor": "white",
            "ticks": ""
           },
           "bgcolor": "#E5ECF6",
           "radialaxis": {
            "gridcolor": "white",
            "linecolor": "white",
            "ticks": ""
           }
          },
          "scene": {
           "xaxis": {
            "backgroundcolor": "#E5ECF6",
            "gridcolor": "white",
            "gridwidth": 2,
            "linecolor": "white",
            "showbackground": true,
            "ticks": "",
            "zerolinecolor": "white"
           },
           "yaxis": {
            "backgroundcolor": "#E5ECF6",
            "gridcolor": "white",
            "gridwidth": 2,
            "linecolor": "white",
            "showbackground": true,
            "ticks": "",
            "zerolinecolor": "white"
           },
           "zaxis": {
            "backgroundcolor": "#E5ECF6",
            "gridcolor": "white",
            "gridwidth": 2,
            "linecolor": "white",
            "showbackground": true,
            "ticks": "",
            "zerolinecolor": "white"
           }
          },
          "shapedefaults": {
           "line": {
            "color": "#2a3f5f"
           }
          },
          "ternary": {
           "aaxis": {
            "gridcolor": "white",
            "linecolor": "white",
            "ticks": ""
           },
           "baxis": {
            "gridcolor": "white",
            "linecolor": "white",
            "ticks": ""
           },
           "bgcolor": "#E5ECF6",
           "caxis": {
            "gridcolor": "white",
            "linecolor": "white",
            "ticks": ""
           }
          },
          "title": {
           "x": 0.05
          },
          "xaxis": {
           "automargin": true,
           "gridcolor": "white",
           "linecolor": "white",
           "ticks": "",
           "title": {
            "standoff": 15
           },
           "zerolinecolor": "white",
           "zerolinewidth": 2
          },
          "yaxis": {
           "automargin": true,
           "gridcolor": "white",
           "linecolor": "white",
           "ticks": "",
           "title": {
            "standoff": 15
           },
           "zerolinecolor": "white",
           "zerolinewidth": 2
          }
         }
        },
        "title": {
         "text": "Distribucion de bonos por gender"
        },
        "xaxis": {
         "anchor": "y",
         "domain": [
          0,
          1
         ]
        },
        "yaxis": {
         "anchor": "x",
         "domain": [
          0,
          1
         ],
         "title": {
          "text": "bonus"
         }
        }
       }
      }
     },
     "metadata": {},
     "output_type": "display_data"
    },
    {
     "data": {
      "application/vnd.plotly.v1+json": {
       "config": {
        "plotlyServerURL": "https://plot.ly"
       },
       "data": [
        {
         "alignmentgroup": "True",
         "hovertemplate": "age=18<br>bonus=%{y}<extra></extra>",
         "legendgroup": "18",
         "marker": {
          "color": "#636efa"
         },
         "name": "18",
         "notched": false,
         "offsetgroup": "18",
         "orientation": "v",
         "showlegend": true,
         "type": "box",
         "x0": " ",
         "xaxis": "x",
         "y": [
          9938,
          10240,
          10124,
          9353,
          9104,
          9874,
          10209,
          9405,
          9945,
          9130,
          8743,
          8515,
          8347,
          7385,
          9007,
          9289,
          8407,
          6397,
          7735,
          7559,
          6620,
          4775,
          6496,
          4890,
          6508,
          6092,
          5729,
          4967,
          4390
         ],
         "y0": " ",
         "yaxis": "y"
        },
        {
         "alignmentgroup": "True",
         "hovertemplate": "age=21<br>bonus=%{y}<extra></extra>",
         "legendgroup": "21",
         "marker": {
          "color": "#EF553B"
         },
         "name": "21",
         "notched": false,
         "offsetgroup": "21",
         "orientation": "v",
         "showlegend": true,
         "type": "box",
         "x0": " ",
         "xaxis": "x",
         "y": [
          11128,
          9461,
          9625,
          9780,
          10033,
          9424,
          9931,
          8725,
          8647,
          9036,
          8391,
          6966,
          7189,
          6573,
          7113,
          6722,
          6817,
          5513,
          3927,
          4685
         ],
         "y0": " ",
         "yaxis": "y"
        },
        {
         "alignmentgroup": "True",
         "hovertemplate": "age=19<br>bonus=%{y}<extra></extra>",
         "legendgroup": "19",
         "marker": {
          "color": "#00cc96"
         },
         "name": "19",
         "notched": false,
         "offsetgroup": "19",
         "orientation": "v",
         "showlegend": true,
         "type": "box",
         "x0": " ",
         "xaxis": "x",
         "y": [
          9268,
          8990,
          9618,
          9023,
          10153,
          9395,
          9042,
          8872,
          9585,
          9335,
          8636,
          8209,
          8462,
          5000,
          6454,
          6970,
          5020,
          5308,
          4998,
          5613
         ],
         "y0": " ",
         "yaxis": "y"
        },
        {
         "alignmentgroup": "True",
         "hovertemplate": "age=20<br>bonus=%{y}<extra></extra>",
         "legendgroup": "20",
         "marker": {
          "color": "#ab63fa"
         },
         "name": "20",
         "notched": false,
         "offsetgroup": "20",
         "orientation": "v",
         "showlegend": true,
         "type": "box",
         "x0": " ",
         "xaxis": "x",
         "y": [
          10154,
          10126,
          10541,
          10137,
          9479,
          8273,
          8509,
          8199,
          8609,
          7827,
          6111,
          7875,
          6448,
          7632,
          6999,
          6564,
          6643,
          5943,
          5627,
          6363,
          5236,
          5452,
          4756,
          5698,
          6079,
          3990
         ],
         "y0": " ",
         "yaxis": "y"
        },
        {
         "alignmentgroup": "True",
         "hovertemplate": "age=26<br>bonus=%{y}<extra></extra>",
         "legendgroup": "26",
         "marker": {
          "color": "#FFA15A"
         },
         "name": "26",
         "notched": false,
         "offsetgroup": "26",
         "orientation": "v",
         "showlegend": true,
         "type": "box",
         "x0": " ",
         "xaxis": "x",
         "y": [
          9319,
          10015,
          9233,
          10346,
          8384,
          9421,
          8897,
          9454,
          8700,
          7802,
          7957,
          8449,
          6345,
          6737,
          7279,
          6604,
          5345,
          6476,
          5647,
          4191,
          4073,
          5114,
          4373
         ],
         "y0": " ",
         "yaxis": "y"
        },
        {
         "alignmentgroup": "True",
         "hovertemplate": "age=33<br>bonus=%{y}<extra></extra>",
         "legendgroup": "33",
         "marker": {
          "color": "#19d3f3"
         },
         "name": "33",
         "notched": false,
         "offsetgroup": "33",
         "orientation": "v",
         "showlegend": true,
         "type": "box",
         "x0": " ",
         "xaxis": "x",
         "y": [
          9836,
          9409,
          9654,
          8841,
          8498,
          8130,
          8543,
          8435,
          8389,
          6332,
          7094,
          6386,
          5153,
          6581,
          6430,
          7433,
          5520,
          6224,
          5927,
          4980,
          5426,
          4845,
          5009,
          5386,
          3955,
          3521
         ],
         "y0": " ",
         "yaxis": "y"
        },
        {
         "alignmentgroup": "True",
         "hovertemplate": "age=35<br>bonus=%{y}<extra></extra>",
         "legendgroup": "35",
         "marker": {
          "color": "#FF6692"
         },
         "name": "35",
         "notched": false,
         "offsetgroup": "35",
         "orientation": "v",
         "showlegend": true,
         "type": "box",
         "x0": " ",
         "xaxis": "x",
         "y": [
          9941,
          9745,
          9031,
          9469,
          10512,
          9564,
          7205,
          7960,
          7316,
          7449,
          7663,
          6228,
          6572,
          6356,
          4826,
          3879,
          7233,
          4263
         ],
         "y0": " ",
         "yaxis": "y"
        },
        {
         "alignmentgroup": "True",
         "hovertemplate": "age=24<br>bonus=%{y}<extra></extra>",
         "legendgroup": "24",
         "marker": {
          "color": "#B6E880"
         },
         "name": "24",
         "notched": false,
         "offsetgroup": "24",
         "orientation": "v",
         "showlegend": true,
         "type": "box",
         "x0": " ",
         "xaxis": "x",
         "y": [
          10212,
          9949,
          9329,
          9792,
          8623,
          9242,
          10375,
          8602,
          7414,
          8517,
          7873,
          8456,
          6692,
          7144,
          8253,
          6615,
          6900,
          5713,
          6274,
          5845,
          5220,
          5014,
          4472,
          5481
         ],
         "y0": " ",
         "yaxis": "y"
        },
        {
         "alignmentgroup": "True",
         "hovertemplate": "age=30<br>bonus=%{y}<extra></extra>",
         "legendgroup": "30",
         "marker": {
          "color": "#FF97FF"
         },
         "name": "30",
         "notched": false,
         "offsetgroup": "30",
         "orientation": "v",
         "showlegend": true,
         "type": "box",
         "x0": " ",
         "xaxis": "x",
         "y": [
          9583,
          9838,
          10052,
          8841,
          8201,
          7320,
          9248,
          7864,
          6060,
          6696,
          6996,
          6251,
          8439,
          6497,
          5888,
          5562,
          6452,
          3415,
          4388
         ],
         "y0": " ",
         "yaxis": "y"
        },
        {
         "alignmentgroup": "True",
         "hovertemplate": "age=27<br>bonus=%{y}<extra></extra>",
         "legendgroup": "27",
         "marker": {
          "color": "#FECB52"
         },
         "name": "27",
         "notched": false,
         "offsetgroup": "27",
         "orientation": "v",
         "showlegend": true,
         "type": "box",
         "x0": " ",
         "xaxis": "x",
         "y": [
          10334,
          10050,
          7511,
          8867,
          9311,
          7789,
          7769,
          8472,
          9230,
          8465,
          7778,
          6519,
          6884,
          4584,
          7554,
          5803,
          5293,
          4449,
          6255,
          3665
         ],
         "y0": " ",
         "yaxis": "y"
        },
        {
         "alignmentgroup": "True",
         "hovertemplate": "age=23<br>bonus=%{y}<extra></extra>",
         "legendgroup": "23",
         "marker": {
          "color": "#636efa"
         },
         "name": "23",
         "notched": false,
         "offsetgroup": "23",
         "orientation": "v",
         "showlegend": true,
         "type": "box",
         "x0": " ",
         "xaxis": "x",
         "y": [
          10768,
          9432,
          10240,
          8596,
          8816,
          7850,
          7351,
          7229,
          7242,
          6955,
          6922,
          8113,
          7160,
          6753,
          6861,
          5136,
          6596,
          4673,
          5598,
          5866,
          4829,
          3795
         ],
         "y0": " ",
         "yaxis": "y"
        },
        {
         "alignmentgroup": "True",
         "hovertemplate": "age=36<br>bonus=%{y}<extra></extra>",
         "legendgroup": "36",
         "marker": {
          "color": "#EF553B"
         },
         "name": "36",
         "notched": false,
         "offsetgroup": "36",
         "orientation": "v",
         "showlegend": true,
         "type": "box",
         "x0": " ",
         "xaxis": "x",
         "y": [
          9210,
          8234,
          8509,
          7627,
          7475,
          9694,
          8581,
          8400,
          8587,
          7325,
          5272,
          6177,
          6711,
          6462,
          7122,
          5166,
          5103,
          4572,
          5004,
          5930,
          5214,
          3661,
          5784,
          3661,
          3368,
          3528,
          4099
         ],
         "y0": " ",
         "yaxis": "y"
        },
        {
         "alignmentgroup": "True",
         "hovertemplate": "age=34<br>bonus=%{y}<extra></extra>",
         "legendgroup": "34",
         "marker": {
          "color": "#00cc96"
         },
         "name": "34",
         "notched": false,
         "offsetgroup": "34",
         "orientation": "v",
         "showlegend": true,
         "type": "box",
         "x0": " ",
         "xaxis": "x",
         "y": [
          10177,
          9841,
          9130,
          9093,
          8245,
          7022,
          7491,
          7257,
          7739,
          6700,
          7196,
          6257,
          7169,
          7211,
          5662,
          6303,
          5352,
          5861,
          4503,
          4765
         ],
         "y0": " ",
         "yaxis": "y"
        },
        {
         "alignmentgroup": "True",
         "hovertemplate": "age=38<br>bonus=%{y}<extra></extra>",
         "legendgroup": "38",
         "marker": {
          "color": "#ab63fa"
         },
         "name": "38",
         "notched": false,
         "offsetgroup": "38",
         "orientation": "v",
         "showlegend": true,
         "type": "box",
         "x0": " ",
         "xaxis": "x",
         "y": [
          10504,
          9979,
          9255,
          7444,
          8978,
          8335,
          8265,
          6554,
          5764,
          7003,
          7127,
          6020,
          5680,
          5066,
          3727,
          3270,
          4204
         ],
         "y0": " ",
         "yaxis": "y"
        },
        {
         "alignmentgroup": "True",
         "hovertemplate": "age=22<br>bonus=%{y}<extra></extra>",
         "legendgroup": "22",
         "marker": {
          "color": "#FFA15A"
         },
         "name": "22",
         "notched": false,
         "offsetgroup": "22",
         "orientation": "v",
         "showlegend": true,
         "type": "box",
         "x0": " ",
         "xaxis": "x",
         "y": [
          9972,
          9868,
          9729,
          10215,
          8949,
          8590,
          9129,
          8549,
          9306,
          7827,
          8443,
          7139,
          8145,
          7550,
          8090,
          6577,
          6290,
          6765,
          5953,
          6219,
          5383,
          5697,
          6277,
          5234,
          4045,
          4605
         ],
         "y0": " ",
         "yaxis": "y"
        },
        {
         "alignmentgroup": "True",
         "hovertemplate": "age=45<br>bonus=%{y}<extra></extra>",
         "legendgroup": "45",
         "marker": {
          "color": "#19d3f3"
         },
         "name": "45",
         "notched": false,
         "offsetgroup": "45",
         "orientation": "v",
         "showlegend": true,
         "type": "box",
         "x0": " ",
         "xaxis": "x",
         "y": [
          10139,
          8894,
          6914,
          6912,
          6682,
          7404,
          8147,
          7242,
          6340,
          6490,
          6471,
          8001,
          5876,
          7126,
          5084,
          3817,
          5435,
          5404,
          3474,
          5120,
          5001,
          5576,
          3909,
          4780,
          3255
         ],
         "y0": " ",
         "yaxis": "y"
        },
        {
         "alignmentgroup": "True",
         "hovertemplate": "age=31<br>bonus=%{y}<extra></extra>",
         "legendgroup": "31",
         "marker": {
          "color": "#FF6692"
         },
         "name": "31",
         "notched": false,
         "offsetgroup": "31",
         "orientation": "v",
         "showlegend": true,
         "type": "box",
         "x0": " ",
         "xaxis": "x",
         "y": [
          9094,
          8949,
          8886,
          9958,
          9516,
          10324,
          8872,
          8375,
          7999,
          7089,
          6615,
          7522,
          6027,
          7291,
          5445,
          5826,
          5735,
          5225,
          5538,
          4791,
          3223,
          4149
         ],
         "y0": " ",
         "yaxis": "y"
        },
        {
         "alignmentgroup": "True",
         "hovertemplate": "age=29<br>bonus=%{y}<extra></extra>",
         "legendgroup": "29",
         "marker": {
          "color": "#B6E880"
         },
         "name": "29",
         "notched": false,
         "offsetgroup": "29",
         "orientation": "v",
         "showlegend": true,
         "type": "box",
         "x0": " ",
         "xaxis": "x",
         "y": [
          9784,
          10042,
          10173,
          8914,
          8818,
          8459,
          9075,
          8109,
          8338,
          6346,
          7668,
          8761,
          9111,
          6495,
          7939,
          7765,
          7246,
          6235,
          7377,
          4712,
          3518,
          3274
         ],
         "y0": " ",
         "yaxis": "y"
        },
        {
         "alignmentgroup": "True",
         "hovertemplate": "age=32<br>bonus=%{y}<extra></extra>",
         "legendgroup": "32",
         "marker": {
          "color": "#FF97FF"
         },
         "name": "32",
         "notched": false,
         "offsetgroup": "32",
         "orientation": "v",
         "showlegend": true,
         "type": "box",
         "x0": " ",
         "xaxis": "x",
         "y": [
          8703,
          8457,
          8215,
          8943,
          9012,
          6378,
          6291,
          7721,
          8109,
          8035,
          5878,
          6476,
          4701,
          5038,
          4677,
          4683,
          5236
         ],
         "y0": " ",
         "yaxis": "y"
        },
        {
         "alignmentgroup": "True",
         "hovertemplate": "age=25<br>bonus=%{y}<extra></extra>",
         "legendgroup": "25",
         "marker": {
          "color": "#FECB52"
         },
         "name": "25",
         "notched": false,
         "offsetgroup": "25",
         "orientation": "v",
         "showlegend": true,
         "type": "box",
         "x0": " ",
         "xaxis": "x",
         "y": [
          11293,
          11067,
          8747,
          9611,
          7634,
          6530,
          7443,
          5829,
          6327,
          6381,
          4566,
          4310,
          4981,
          5259
         ],
         "y0": " ",
         "yaxis": "y"
        },
        {
         "alignmentgroup": "True",
         "hovertemplate": "age=40<br>bonus=%{y}<extra></extra>",
         "legendgroup": "40",
         "marker": {
          "color": "#636efa"
         },
         "name": "40",
         "notched": false,
         "offsetgroup": "40",
         "orientation": "v",
         "showlegend": true,
         "type": "box",
         "x0": " ",
         "xaxis": "x",
         "y": [
          9493,
          8056,
          8833,
          7902,
          9090,
          7791,
          9551,
          7817,
          5646,
          5516,
          6243,
          5569,
          6616,
          4152,
          5436,
          5512,
          4635,
          4690,
          4626,
          3871
         ],
         "y0": " ",
         "yaxis": "y"
        },
        {
         "alignmentgroup": "True",
         "hovertemplate": "age=49<br>bonus=%{y}<extra></extra>",
         "legendgroup": "49",
         "marker": {
          "color": "#EF553B"
         },
         "name": "49",
         "notched": false,
         "offsetgroup": "49",
         "orientation": "v",
         "showlegend": true,
         "type": "box",
         "x0": " ",
         "xaxis": "x",
         "y": [
          8331,
          8375,
          8014,
          8668,
          8290,
          9653,
          8347,
          6839,
          7415,
          7144,
          7640,
          6740,
          7555,
          5520,
          8092,
          6274,
          6662,
          6336,
          7205,
          7301,
          5405,
          7236,
          5460,
          3697,
          4516,
          4851,
          3578,
          3078
         ],
         "y0": " ",
         "yaxis": "y"
        },
        {
         "alignmentgroup": "True",
         "hovertemplate": "age=41<br>bonus=%{y}<extra></extra>",
         "legendgroup": "41",
         "marker": {
          "color": "#00cc96"
         },
         "name": "41",
         "notched": false,
         "offsetgroup": "41",
         "orientation": "v",
         "showlegend": true,
         "type": "box",
         "x0": " ",
         "xaxis": "x",
         "y": [
          9564,
          6855,
          8873,
          8317,
          8621,
          7947,
          8780,
          6897,
          6611,
          7412,
          6812,
          6398,
          7058,
          4898,
          4458,
          5022,
          4322,
          4111,
          4825,
          3712,
          4275
         ],
         "y0": " ",
         "yaxis": "y"
        },
        {
         "alignmentgroup": "True",
         "hovertemplate": "age=53<br>bonus=%{y}<extra></extra>",
         "legendgroup": "53",
         "marker": {
          "color": "#ab63fa"
         },
         "name": "53",
         "notched": false,
         "offsetgroup": "53",
         "orientation": "v",
         "showlegend": true,
         "type": "box",
         "x0": " ",
         "xaxis": "x",
         "y": [
          9687,
          9310,
          8552,
          8188,
          7392,
          7404,
          8335,
          6935,
          6946,
          7314,
          6866,
          6618,
          6122,
          5838,
          5751,
          4700,
          5029,
          4760,
          5992,
          3652,
          4409,
          4734,
          4237,
          3463,
          3745,
          2763
         ],
         "y0": " ",
         "yaxis": "y"
        },
        {
         "alignmentgroup": "True",
         "hovertemplate": "age=42<br>bonus=%{y}<extra></extra>",
         "legendgroup": "42",
         "marker": {
          "color": "#FFA15A"
         },
         "name": "42",
         "notched": false,
         "offsetgroup": "42",
         "orientation": "v",
         "showlegend": true,
         "type": "box",
         "x0": " ",
         "xaxis": "x",
         "y": [
          8762,
          8950,
          8974,
          6631,
          6499,
          5989,
          6016,
          6842,
          6019,
          5146,
          4668,
          5688,
          5239,
          5070,
          4774,
          3721
         ],
         "y0": " ",
         "yaxis": "y"
        },
        {
         "alignmentgroup": "True",
         "hovertemplate": "age=39<br>bonus=%{y}<extra></extra>",
         "legendgroup": "39",
         "marker": {
          "color": "#19d3f3"
         },
         "name": "39",
         "notched": false,
         "offsetgroup": "39",
         "orientation": "v",
         "showlegend": true,
         "type": "box",
         "x0": " ",
         "xaxis": "x",
         "y": [
          9168,
          9798,
          8832,
          7918,
          8090,
          7278,
          8306,
          7402,
          7168,
          8093,
          7642,
          5479,
          5243,
          5831,
          6775,
          3738,
          3789
         ],
         "y0": " ",
         "yaxis": "y"
        },
        {
         "alignmentgroup": "True",
         "hovertemplate": "age=28<br>bonus=%{y}<extra></extra>",
         "legendgroup": "28",
         "marker": {
          "color": "#FF6692"
         },
         "name": "28",
         "notched": false,
         "offsetgroup": "28",
         "orientation": "v",
         "showlegend": true,
         "type": "box",
         "x0": " ",
         "xaxis": "x",
         "y": [
          9368,
          9330,
          8383,
          7985,
          7185,
          7740,
          7910,
          9147,
          8727,
          7411,
          7036,
          5794,
          8160,
          6660,
          6179,
          5380,
          4962,
          4439,
          4296
         ],
         "y0": " ",
         "yaxis": "y"
        },
        {
         "alignmentgroup": "True",
         "hovertemplate": "age=48<br>bonus=%{y}<extra></extra>",
         "legendgroup": "48",
         "marker": {
          "color": "#B6E880"
         },
         "name": "48",
         "notched": false,
         "offsetgroup": "48",
         "orientation": "v",
         "showlegend": true,
         "type": "box",
         "x0": " ",
         "xaxis": "x",
         "y": [
          8857,
          10122,
          9553,
          7679,
          7280,
          7793,
          7075,
          7730,
          7622,
          6839,
          6929,
          4161,
          3846,
          5329,
          5798,
          6337,
          4212,
          4415,
          4037,
          4510,
          2724
         ],
         "y0": " ",
         "yaxis": "y"
        },
        {
         "alignmentgroup": "True",
         "hovertemplate": "age=47<br>bonus=%{y}<extra></extra>",
         "legendgroup": "47",
         "marker": {
          "color": "#FF97FF"
         },
         "name": "47",
         "notched": false,
         "offsetgroup": "47",
         "orientation": "v",
         "showlegend": true,
         "type": "box",
         "x0": " ",
         "xaxis": "x",
         "y": [
          8961,
          8049,
          8023,
          7885,
          6971,
          6363,
          7614,
          6122,
          7958,
          5175,
          5396,
          4422,
          5536,
          4621,
          4964,
          4793,
          4243,
          4674,
          3943,
          3959,
          3655
         ],
         "y0": " ",
         "yaxis": "y"
        },
        {
         "alignmentgroup": "True",
         "hovertemplate": "age=55<br>bonus=%{y}<extra></extra>",
         "legendgroup": "55",
         "marker": {
          "color": "#FECB52"
         },
         "name": "55",
         "notched": false,
         "offsetgroup": "55",
         "orientation": "v",
         "showlegend": true,
         "type": "box",
         "x0": " ",
         "xaxis": "x",
         "y": [
          8802,
          7813,
          6685,
          8328,
          6545,
          5797,
          6942,
          5569,
          6689,
          5090,
          5359,
          5108,
          5135,
          6107,
          4413,
          4476,
          4095,
          4066,
          4494,
          4495,
          4309,
          4811,
          4543,
          2824,
          3196,
          2683
         ],
         "y0": " ",
         "yaxis": "y"
        },
        {
         "alignmentgroup": "True",
         "hovertemplate": "age=43<br>bonus=%{y}<extra></extra>",
         "legendgroup": "43",
         "marker": {
          "color": "#636efa"
         },
         "name": "43",
         "notched": false,
         "offsetgroup": "43",
         "orientation": "v",
         "showlegend": true,
         "type": "box",
         "x0": " ",
         "xaxis": "x",
         "y": [
          8369,
          9089,
          9619,
          7794,
          9090,
          6739,
          6432,
          7052,
          4680,
          4322,
          5346,
          4702,
          5268,
          3896,
          4143
         ],
         "y0": " ",
         "yaxis": "y"
        },
        {
         "alignmentgroup": "True",
         "hovertemplate": "age=46<br>bonus=%{y}<extra></extra>",
         "legendgroup": "46",
         "marker": {
          "color": "#EF553B"
         },
         "name": "46",
         "notched": false,
         "offsetgroup": "46",
         "orientation": "v",
         "showlegend": true,
         "type": "box",
         "x0": " ",
         "xaxis": "x",
         "y": [
          8502,
          9736,
          8307,
          7464,
          6184,
          7744,
          7106,
          6182,
          7177,
          6989,
          5814,
          5284,
          4549,
          2991
         ],
         "y0": " ",
         "yaxis": "y"
        },
        {
         "alignmentgroup": "True",
         "hovertemplate": "age=51<br>bonus=%{y}<extra></extra>",
         "legendgroup": "51",
         "marker": {
          "color": "#00cc96"
         },
         "name": "51",
         "notched": false,
         "offsetgroup": "51",
         "orientation": "v",
         "showlegend": true,
         "type": "box",
         "x0": " ",
         "xaxis": "x",
         "y": [
          8645,
          8643,
          8602,
          8744,
          7285,
          7832,
          9084,
          6578,
          5947,
          4872,
          6274,
          4453,
          4969,
          4148,
          4300,
          3599,
          2600,
          3536
         ],
         "y0": " ",
         "yaxis": "y"
        },
        {
         "alignmentgroup": "True",
         "hovertemplate": "age=52<br>bonus=%{y}<extra></extra>",
         "legendgroup": "52",
         "marker": {
          "color": "#ab63fa"
         },
         "name": "52",
         "notched": false,
         "offsetgroup": "52",
         "orientation": "v",
         "showlegend": true,
         "type": "box",
         "x0": " ",
         "xaxis": "x",
         "y": [
          7204,
          7067,
          7169,
          7350,
          7253,
          7641,
          6666,
          6258,
          5668,
          5404,
          3438,
          3964,
          1703,
          3888
         ],
         "y0": " ",
         "yaxis": "y"
        },
        {
         "alignmentgroup": "True",
         "hovertemplate": "age=37<br>bonus=%{y}<extra></extra>",
         "legendgroup": "37",
         "marker": {
          "color": "#FFA15A"
         },
         "name": "37",
         "notched": false,
         "offsetgroup": "37",
         "orientation": "v",
         "showlegend": true,
         "type": "box",
         "x0": " ",
         "xaxis": "x",
         "y": [
          8357,
          7567,
          9522,
          8210,
          8010,
          8105,
          8244,
          5477,
          7198,
          5914,
          5934,
          5390,
          5232,
          4098,
          3588,
          3510
         ],
         "y0": " ",
         "yaxis": "y"
        },
        {
         "alignmentgroup": "True",
         "hovertemplate": "age=54<br>bonus=%{y}<extra></extra>",
         "legendgroup": "54",
         "marker": {
          "color": "#19d3f3"
         },
         "name": "54",
         "notched": false,
         "offsetgroup": "54",
         "orientation": "v",
         "showlegend": true,
         "type": "box",
         "x0": " ",
         "xaxis": "x",
         "y": [
          8245,
          8928,
          7028,
          7460,
          5224,
          5562,
          4115,
          3768,
          4750,
          3988,
          3242,
          2963,
          3083
         ],
         "y0": " ",
         "yaxis": "y"
        },
        {
         "alignmentgroup": "True",
         "hovertemplate": "age=58<br>bonus=%{y}<extra></extra>",
         "legendgroup": "58",
         "marker": {
          "color": "#FF6692"
         },
         "name": "58",
         "notched": false,
         "offsetgroup": "58",
         "orientation": "v",
         "showlegend": true,
         "type": "box",
         "x0": " ",
         "xaxis": "x",
         "y": [
          8972,
          7524,
          7200,
          7776,
          8278,
          6751,
          7246,
          6997,
          7304,
          7438,
          7250,
          6490,
          5878,
          6425,
          4548,
          4708,
          4184,
          3100,
          4275,
          3875,
          3384,
          3044,
          4723,
          4284,
          3927,
          3453
         ],
         "y0": " ",
         "yaxis": "y"
        },
        {
         "alignmentgroup": "True",
         "hovertemplate": "age=44<br>bonus=%{y}<extra></extra>",
         "legendgroup": "44",
         "marker": {
          "color": "#B6E880"
         },
         "name": "44",
         "notched": false,
         "offsetgroup": "44",
         "orientation": "v",
         "showlegend": true,
         "type": "box",
         "x0": " ",
         "xaxis": "x",
         "y": [
          7539,
          9345,
          9185,
          7513,
          8339,
          6832,
          5924,
          5679,
          5183,
          7113,
          6505,
          4854,
          4076,
          5281,
          3634,
          3084,
          3530,
          3680
         ],
         "y0": " ",
         "yaxis": "y"
        },
        {
         "alignmentgroup": "True",
         "hovertemplate": "age=61<br>bonus=%{y}<extra></extra>",
         "legendgroup": "61",
         "marker": {
          "color": "#FF97FF"
         },
         "name": "61",
         "notched": false,
         "offsetgroup": "61",
         "orientation": "v",
         "showlegend": true,
         "type": "box",
         "x0": " ",
         "xaxis": "x",
         "y": [
          8472,
          7757,
          8468,
          6537,
          6394,
          6630,
          5792,
          4489,
          4249,
          4202,
          3653,
          4617,
          4157,
          3590,
          2982,
          4070,
          3318,
          3270
         ],
         "y0": " ",
         "yaxis": "y"
        },
        {
         "alignmentgroup": "True",
         "hovertemplate": "age=57<br>bonus=%{y}<extra></extra>",
         "legendgroup": "57",
         "marker": {
          "color": "#FECB52"
         },
         "name": "57",
         "notched": false,
         "offsetgroup": "57",
         "orientation": "v",
         "showlegend": true,
         "type": "box",
         "x0": " ",
         "xaxis": "x",
         "y": [
          8578,
          8058,
          7266,
          8980,
          6893,
          6814,
          6993,
          6042,
          6321,
          6898,
          6552,
          5982,
          6186,
          4925,
          5068,
          2324,
          3889,
          5472,
          3887,
          3791,
          3641,
          3746,
          3409,
          3180,
          3567
         ],
         "y0": " ",
         "yaxis": "y"
        },
        {
         "alignmentgroup": "True",
         "hovertemplate": "age=59<br>bonus=%{y}<extra></extra>",
         "legendgroup": "59",
         "marker": {
          "color": "#636efa"
         },
         "name": "59",
         "notched": false,
         "offsetgroup": "59",
         "orientation": "v",
         "showlegend": true,
         "type": "box",
         "x0": " ",
         "xaxis": "x",
         "y": [
          6897,
          7101,
          8013,
          6773,
          6760,
          7268,
          8123,
          6124,
          4265,
          5499,
          6350,
          5795,
          3603,
          4827,
          2930,
          3955,
          4596,
          2730,
          4618,
          3908,
          2041,
          2656,
          3042
         ],
         "y0": " ",
         "yaxis": "y"
        },
        {
         "alignmentgroup": "True",
         "hovertemplate": "age=50<br>bonus=%{y}<extra></extra>",
         "legendgroup": "50",
         "marker": {
          "color": "#EF553B"
         },
         "name": "50",
         "notched": false,
         "offsetgroup": "50",
         "orientation": "v",
         "showlegend": true,
         "type": "box",
         "x0": " ",
         "xaxis": "x",
         "y": [
          8477,
          7840,
          7466,
          6295,
          5327,
          5863,
          5406,
          6044,
          5454,
          5913,
          5173,
          4650,
          3881,
          3879,
          2728,
          3892
         ],
         "y0": " ",
         "yaxis": "y"
        },
        {
         "alignmentgroup": "True",
         "hovertemplate": "age=64<br>bonus=%{y}<extra></extra>",
         "legendgroup": "64",
         "marker": {
          "color": "#00cc96"
         },
         "name": "64",
         "notched": false,
         "offsetgroup": "64",
         "orientation": "v",
         "showlegend": true,
         "type": "box",
         "x0": " ",
         "xaxis": "x",
         "y": [
          7573,
          7279,
          7346,
          6824,
          7460,
          7736,
          6160,
          7440,
          6010,
          5133,
          4844,
          4126,
          4687,
          3415,
          3392,
          3382,
          3107,
          3688,
          2193,
          2125,
          2777
         ],
         "y0": " ",
         "yaxis": "y"
        },
        {
         "alignmentgroup": "True",
         "hovertemplate": "age=56<br>bonus=%{y}<extra></extra>",
         "legendgroup": "56",
         "marker": {
          "color": "#ab63fa"
         },
         "name": "56",
         "notched": false,
         "offsetgroup": "56",
         "orientation": "v",
         "showlegend": true,
         "type": "box",
         "x0": " ",
         "xaxis": "x",
         "y": [
          9229,
          8388,
          7774,
          7329,
          5495,
          6453,
          5470,
          4618,
          6083,
          4621,
          5097,
          4442,
          4916,
          4965,
          3961,
          4044,
          4289,
          4045,
          2530,
          2375,
          2611
         ],
         "y0": " ",
         "yaxis": "y"
        },
        {
         "alignmentgroup": "True",
         "hovertemplate": "age=63<br>bonus=%{y}<extra></extra>",
         "legendgroup": "63",
         "marker": {
          "color": "#FFA15A"
         },
         "name": "63",
         "notched": false,
         "offsetgroup": "63",
         "orientation": "v",
         "showlegend": true,
         "type": "box",
         "x0": " ",
         "xaxis": "x",
         "y": [
          7654,
          7905,
          8688,
          8360,
          7822,
          7327,
          7646,
          7552,
          6416,
          5239,
          6558,
          5944,
          5881,
          5754,
          6151,
          4466,
          4534,
          5723,
          3910,
          4339,
          2661,
          3418
         ],
         "y0": " ",
         "yaxis": "y"
        },
        {
         "alignmentgroup": "True",
         "hovertemplate": "age=62<br>bonus=%{y}<extra></extra>",
         "legendgroup": "62",
         "marker": {
          "color": "#19d3f3"
         },
         "name": "62",
         "notched": false,
         "offsetgroup": "62",
         "orientation": "v",
         "showlegend": true,
         "type": "box",
         "x0": " ",
         "xaxis": "x",
         "y": [
          7840,
          7657,
          7808,
          6413,
          8100,
          6556,
          4765,
          6746,
          5453,
          6536,
          5608,
          6580,
          5195,
          4892,
          4357,
          6235,
          4524,
          6032,
          5430,
          4664,
          4993,
          2200,
          2251,
          3353,
          2978,
          3367,
          2788,
          1823
         ],
         "y0": " ",
         "yaxis": "y"
        },
        {
         "alignmentgroup": "True",
         "hovertemplate": "age=65<br>bonus=%{y}<extra></extra>",
         "legendgroup": "65",
         "marker": {
          "color": "#FF6692"
         },
         "name": "65",
         "notched": false,
         "offsetgroup": "65",
         "orientation": "v",
         "showlegend": true,
         "type": "box",
         "x0": " ",
         "xaxis": "x",
         "y": [
          7949,
          7750,
          8505,
          6669,
          7500,
          5937,
          6931,
          6506,
          5618,
          4165,
          5410,
          5078,
          3431,
          4214,
          3247,
          3078,
          3647,
          2051,
          2645,
          2041,
          1884,
          2225
         ],
         "y0": " ",
         "yaxis": "y"
        },
        {
         "alignmentgroup": "True",
         "hovertemplate": "age=60<br>bonus=%{y}<extra></extra>",
         "legendgroup": "60",
         "marker": {
          "color": "#B6E880"
         },
         "name": "60",
         "notched": false,
         "offsetgroup": "60",
         "orientation": "v",
         "showlegend": true,
         "type": "box",
         "x0": " ",
         "xaxis": "x",
         "y": [
          8354,
          7932,
          6586,
          6439,
          6777,
          7213,
          5412,
          4079,
          4536,
          5201,
          5597,
          4694,
          3841,
          4766,
          4263,
          3366,
          3079,
          2244
         ],
         "y0": " ",
         "yaxis": "y"
        }
       ],
       "layout": {
        "boxmode": "group",
        "legend": {
         "title": {
          "text": "age"
         },
         "tracegroupgap": 0
        },
        "template": {
         "data": {
          "bar": [
           {
            "error_x": {
             "color": "#2a3f5f"
            },
            "error_y": {
             "color": "#2a3f5f"
            },
            "marker": {
             "line": {
              "color": "#E5ECF6",
              "width": 0.5
             },
             "pattern": {
              "fillmode": "overlay",
              "size": 10,
              "solidity": 0.2
             }
            },
            "type": "bar"
           }
          ],
          "barpolar": [
           {
            "marker": {
             "line": {
              "color": "#E5ECF6",
              "width": 0.5
             },
             "pattern": {
              "fillmode": "overlay",
              "size": 10,
              "solidity": 0.2
             }
            },
            "type": "barpolar"
           }
          ],
          "carpet": [
           {
            "aaxis": {
             "endlinecolor": "#2a3f5f",
             "gridcolor": "white",
             "linecolor": "white",
             "minorgridcolor": "white",
             "startlinecolor": "#2a3f5f"
            },
            "baxis": {
             "endlinecolor": "#2a3f5f",
             "gridcolor": "white",
             "linecolor": "white",
             "minorgridcolor": "white",
             "startlinecolor": "#2a3f5f"
            },
            "type": "carpet"
           }
          ],
          "choropleth": [
           {
            "colorbar": {
             "outlinewidth": 0,
             "ticks": ""
            },
            "type": "choropleth"
           }
          ],
          "contour": [
           {
            "colorbar": {
             "outlinewidth": 0,
             "ticks": ""
            },
            "colorscale": [
             [
              0,
              "#0d0887"
             ],
             [
              0.1111111111111111,
              "#46039f"
             ],
             [
              0.2222222222222222,
              "#7201a8"
             ],
             [
              0.3333333333333333,
              "#9c179e"
             ],
             [
              0.4444444444444444,
              "#bd3786"
             ],
             [
              0.5555555555555556,
              "#d8576b"
             ],
             [
              0.6666666666666666,
              "#ed7953"
             ],
             [
              0.7777777777777778,
              "#fb9f3a"
             ],
             [
              0.8888888888888888,
              "#fdca26"
             ],
             [
              1,
              "#f0f921"
             ]
            ],
            "type": "contour"
           }
          ],
          "contourcarpet": [
           {
            "colorbar": {
             "outlinewidth": 0,
             "ticks": ""
            },
            "type": "contourcarpet"
           }
          ],
          "heatmap": [
           {
            "colorbar": {
             "outlinewidth": 0,
             "ticks": ""
            },
            "colorscale": [
             [
              0,
              "#0d0887"
             ],
             [
              0.1111111111111111,
              "#46039f"
             ],
             [
              0.2222222222222222,
              "#7201a8"
             ],
             [
              0.3333333333333333,
              "#9c179e"
             ],
             [
              0.4444444444444444,
              "#bd3786"
             ],
             [
              0.5555555555555556,
              "#d8576b"
             ],
             [
              0.6666666666666666,
              "#ed7953"
             ],
             [
              0.7777777777777778,
              "#fb9f3a"
             ],
             [
              0.8888888888888888,
              "#fdca26"
             ],
             [
              1,
              "#f0f921"
             ]
            ],
            "type": "heatmap"
           }
          ],
          "heatmapgl": [
           {
            "colorbar": {
             "outlinewidth": 0,
             "ticks": ""
            },
            "colorscale": [
             [
              0,
              "#0d0887"
             ],
             [
              0.1111111111111111,
              "#46039f"
             ],
             [
              0.2222222222222222,
              "#7201a8"
             ],
             [
              0.3333333333333333,
              "#9c179e"
             ],
             [
              0.4444444444444444,
              "#bd3786"
             ],
             [
              0.5555555555555556,
              "#d8576b"
             ],
             [
              0.6666666666666666,
              "#ed7953"
             ],
             [
              0.7777777777777778,
              "#fb9f3a"
             ],
             [
              0.8888888888888888,
              "#fdca26"
             ],
             [
              1,
              "#f0f921"
             ]
            ],
            "type": "heatmapgl"
           }
          ],
          "histogram": [
           {
            "marker": {
             "pattern": {
              "fillmode": "overlay",
              "size": 10,
              "solidity": 0.2
             }
            },
            "type": "histogram"
           }
          ],
          "histogram2d": [
           {
            "colorbar": {
             "outlinewidth": 0,
             "ticks": ""
            },
            "colorscale": [
             [
              0,
              "#0d0887"
             ],
             [
              0.1111111111111111,
              "#46039f"
             ],
             [
              0.2222222222222222,
              "#7201a8"
             ],
             [
              0.3333333333333333,
              "#9c179e"
             ],
             [
              0.4444444444444444,
              "#bd3786"
             ],
             [
              0.5555555555555556,
              "#d8576b"
             ],
             [
              0.6666666666666666,
              "#ed7953"
             ],
             [
              0.7777777777777778,
              "#fb9f3a"
             ],
             [
              0.8888888888888888,
              "#fdca26"
             ],
             [
              1,
              "#f0f921"
             ]
            ],
            "type": "histogram2d"
           }
          ],
          "histogram2dcontour": [
           {
            "colorbar": {
             "outlinewidth": 0,
             "ticks": ""
            },
            "colorscale": [
             [
              0,
              "#0d0887"
             ],
             [
              0.1111111111111111,
              "#46039f"
             ],
             [
              0.2222222222222222,
              "#7201a8"
             ],
             [
              0.3333333333333333,
              "#9c179e"
             ],
             [
              0.4444444444444444,
              "#bd3786"
             ],
             [
              0.5555555555555556,
              "#d8576b"
             ],
             [
              0.6666666666666666,
              "#ed7953"
             ],
             [
              0.7777777777777778,
              "#fb9f3a"
             ],
             [
              0.8888888888888888,
              "#fdca26"
             ],
             [
              1,
              "#f0f921"
             ]
            ],
            "type": "histogram2dcontour"
           }
          ],
          "mesh3d": [
           {
            "colorbar": {
             "outlinewidth": 0,
             "ticks": ""
            },
            "type": "mesh3d"
           }
          ],
          "parcoords": [
           {
            "line": {
             "colorbar": {
              "outlinewidth": 0,
              "ticks": ""
             }
            },
            "type": "parcoords"
           }
          ],
          "pie": [
           {
            "automargin": true,
            "type": "pie"
           }
          ],
          "scatter": [
           {
            "fillpattern": {
             "fillmode": "overlay",
             "size": 10,
             "solidity": 0.2
            },
            "type": "scatter"
           }
          ],
          "scatter3d": [
           {
            "line": {
             "colorbar": {
              "outlinewidth": 0,
              "ticks": ""
             }
            },
            "marker": {
             "colorbar": {
              "outlinewidth": 0,
              "ticks": ""
             }
            },
            "type": "scatter3d"
           }
          ],
          "scattercarpet": [
           {
            "marker": {
             "colorbar": {
              "outlinewidth": 0,
              "ticks": ""
             }
            },
            "type": "scattercarpet"
           }
          ],
          "scattergeo": [
           {
            "marker": {
             "colorbar": {
              "outlinewidth": 0,
              "ticks": ""
             }
            },
            "type": "scattergeo"
           }
          ],
          "scattergl": [
           {
            "marker": {
             "colorbar": {
              "outlinewidth": 0,
              "ticks": ""
             }
            },
            "type": "scattergl"
           }
          ],
          "scattermapbox": [
           {
            "marker": {
             "colorbar": {
              "outlinewidth": 0,
              "ticks": ""
             }
            },
            "type": "scattermapbox"
           }
          ],
          "scatterpolar": [
           {
            "marker": {
             "colorbar": {
              "outlinewidth": 0,
              "ticks": ""
             }
            },
            "type": "scatterpolar"
           }
          ],
          "scatterpolargl": [
           {
            "marker": {
             "colorbar": {
              "outlinewidth": 0,
              "ticks": ""
             }
            },
            "type": "scatterpolargl"
           }
          ],
          "scatterternary": [
           {
            "marker": {
             "colorbar": {
              "outlinewidth": 0,
              "ticks": ""
             }
            },
            "type": "scatterternary"
           }
          ],
          "surface": [
           {
            "colorbar": {
             "outlinewidth": 0,
             "ticks": ""
            },
            "colorscale": [
             [
              0,
              "#0d0887"
             ],
             [
              0.1111111111111111,
              "#46039f"
             ],
             [
              0.2222222222222222,
              "#7201a8"
             ],
             [
              0.3333333333333333,
              "#9c179e"
             ],
             [
              0.4444444444444444,
              "#bd3786"
             ],
             [
              0.5555555555555556,
              "#d8576b"
             ],
             [
              0.6666666666666666,
              "#ed7953"
             ],
             [
              0.7777777777777778,
              "#fb9f3a"
             ],
             [
              0.8888888888888888,
              "#fdca26"
             ],
             [
              1,
              "#f0f921"
             ]
            ],
            "type": "surface"
           }
          ],
          "table": [
           {
            "cells": {
             "fill": {
              "color": "#EBF0F8"
             },
             "line": {
              "color": "white"
             }
            },
            "header": {
             "fill": {
              "color": "#C8D4E3"
             },
             "line": {
              "color": "white"
             }
            },
            "type": "table"
           }
          ]
         },
         "layout": {
          "annotationdefaults": {
           "arrowcolor": "#2a3f5f",
           "arrowhead": 0,
           "arrowwidth": 1
          },
          "autotypenumbers": "strict",
          "coloraxis": {
           "colorbar": {
            "outlinewidth": 0,
            "ticks": ""
           }
          },
          "colorscale": {
           "diverging": [
            [
             0,
             "#8e0152"
            ],
            [
             0.1,
             "#c51b7d"
            ],
            [
             0.2,
             "#de77ae"
            ],
            [
             0.3,
             "#f1b6da"
            ],
            [
             0.4,
             "#fde0ef"
            ],
            [
             0.5,
             "#f7f7f7"
            ],
            [
             0.6,
             "#e6f5d0"
            ],
            [
             0.7,
             "#b8e186"
            ],
            [
             0.8,
             "#7fbc41"
            ],
            [
             0.9,
             "#4d9221"
            ],
            [
             1,
             "#276419"
            ]
           ],
           "sequential": [
            [
             0,
             "#0d0887"
            ],
            [
             0.1111111111111111,
             "#46039f"
            ],
            [
             0.2222222222222222,
             "#7201a8"
            ],
            [
             0.3333333333333333,
             "#9c179e"
            ],
            [
             0.4444444444444444,
             "#bd3786"
            ],
            [
             0.5555555555555556,
             "#d8576b"
            ],
            [
             0.6666666666666666,
             "#ed7953"
            ],
            [
             0.7777777777777778,
             "#fb9f3a"
            ],
            [
             0.8888888888888888,
             "#fdca26"
            ],
            [
             1,
             "#f0f921"
            ]
           ],
           "sequentialminus": [
            [
             0,
             "#0d0887"
            ],
            [
             0.1111111111111111,
             "#46039f"
            ],
            [
             0.2222222222222222,
             "#7201a8"
            ],
            [
             0.3333333333333333,
             "#9c179e"
            ],
            [
             0.4444444444444444,
             "#bd3786"
            ],
            [
             0.5555555555555556,
             "#d8576b"
            ],
            [
             0.6666666666666666,
             "#ed7953"
            ],
            [
             0.7777777777777778,
             "#fb9f3a"
            ],
            [
             0.8888888888888888,
             "#fdca26"
            ],
            [
             1,
             "#f0f921"
            ]
           ]
          },
          "colorway": [
           "#636efa",
           "#EF553B",
           "#00cc96",
           "#ab63fa",
           "#FFA15A",
           "#19d3f3",
           "#FF6692",
           "#B6E880",
           "#FF97FF",
           "#FECB52"
          ],
          "font": {
           "color": "#2a3f5f"
          },
          "geo": {
           "bgcolor": "white",
           "lakecolor": "white",
           "landcolor": "#E5ECF6",
           "showlakes": true,
           "showland": true,
           "subunitcolor": "white"
          },
          "hoverlabel": {
           "align": "left"
          },
          "hovermode": "closest",
          "mapbox": {
           "style": "light"
          },
          "paper_bgcolor": "white",
          "plot_bgcolor": "#E5ECF6",
          "polar": {
           "angularaxis": {
            "gridcolor": "white",
            "linecolor": "white",
            "ticks": ""
           },
           "bgcolor": "#E5ECF6",
           "radialaxis": {
            "gridcolor": "white",
            "linecolor": "white",
            "ticks": ""
           }
          },
          "scene": {
           "xaxis": {
            "backgroundcolor": "#E5ECF6",
            "gridcolor": "white",
            "gridwidth": 2,
            "linecolor": "white",
            "showbackground": true,
            "ticks": "",
            "zerolinecolor": "white"
           },
           "yaxis": {
            "backgroundcolor": "#E5ECF6",
            "gridcolor": "white",
            "gridwidth": 2,
            "linecolor": "white",
            "showbackground": true,
            "ticks": "",
            "zerolinecolor": "white"
           },
           "zaxis": {
            "backgroundcolor": "#E5ECF6",
            "gridcolor": "white",
            "gridwidth": 2,
            "linecolor": "white",
            "showbackground": true,
            "ticks": "",
            "zerolinecolor": "white"
           }
          },
          "shapedefaults": {
           "line": {
            "color": "#2a3f5f"
           }
          },
          "ternary": {
           "aaxis": {
            "gridcolor": "white",
            "linecolor": "white",
            "ticks": ""
           },
           "baxis": {
            "gridcolor": "white",
            "linecolor": "white",
            "ticks": ""
           },
           "bgcolor": "#E5ECF6",
           "caxis": {
            "gridcolor": "white",
            "linecolor": "white",
            "ticks": ""
           }
          },
          "title": {
           "x": 0.05
          },
          "xaxis": {
           "automargin": true,
           "gridcolor": "white",
           "linecolor": "white",
           "ticks": "",
           "title": {
            "standoff": 15
           },
           "zerolinecolor": "white",
           "zerolinewidth": 2
          },
          "yaxis": {
           "automargin": true,
           "gridcolor": "white",
           "linecolor": "white",
           "ticks": "",
           "title": {
            "standoff": 15
           },
           "zerolinecolor": "white",
           "zerolinewidth": 2
          }
         }
        },
        "title": {
         "text": "Distribucion de bonos por age"
        },
        "xaxis": {
         "anchor": "y",
         "domain": [
          0,
          1
         ]
        },
        "yaxis": {
         "anchor": "x",
         "domain": [
          0,
          1
         ],
         "title": {
          "text": "bonus"
         }
        }
       }
      }
     },
     "metadata": {},
     "output_type": "display_data"
    },
    {
     "data": {
      "application/vnd.plotly.v1+json": {
       "config": {
        "plotlyServerURL": "https://plot.ly"
       },
       "data": [
        {
         "alignmentgroup": "True",
         "hovertemplate": "performance=5<br>bonus=%{y}<extra></extra>",
         "legendgroup": "5",
         "marker": {
          "color": "#636efa"
         },
         "name": "5",
         "notched": false,
         "offsetgroup": "5",
         "orientation": "v",
         "showlegend": true,
         "type": "box",
         "x0": " ",
         "xaxis": "x",
         "y": [
          9938,
          11128,
          10154,
          9319,
          10126,
          10541,
          9836,
          9941,
          10212,
          10124,
          8990,
          9583,
          9745,
          10334,
          10768,
          9949,
          9461,
          9838,
          9210,
          9329,
          9792,
          9031,
          10015,
          9618,
          9469,
          10177,
          10504,
          10137,
          10512,
          9233,
          9972,
          10139,
          10050,
          9780,
          9094,
          9409,
          9023,
          9784,
          8703,
          8949,
          9868,
          11293,
          9729,
          10033,
          10346,
          9424,
          10215,
          9564,
          9654,
          8886,
          9493,
          8331,
          9479,
          9874,
          9841,
          9564,
          10153,
          9958,
          8841,
          9687,
          9242,
          10209,
          9405,
          11067,
          9516,
          8762,
          9432,
          9168,
          9798,
          10240,
          10042,
          9931,
          9368,
          8457,
          8857,
          9979,
          8872,
          8384,
          8509,
          9130,
          8375,
          9945,
          8961,
          8914,
          8802,
          9093,
          10122,
          8369,
          10052,
          9330,
          9130,
          8502,
          9421,
          8645,
          8056,
          7204,
          8357,
          8833,
          8643,
          8245,
          8014,
          9454,
          8972,
          8668,
          9255,
          9310,
          8290,
          7539,
          8498,
          8549,
          6855,
          9075,
          8943,
          9345,
          9089,
          9553,
          7902,
          8472,
          8578,
          7067,
          7679,
          8058,
          8552,
          8049,
          8602,
          8744,
          9653,
          9306,
          8130,
          7475,
          8867,
          8832,
          6897,
          8928,
          8950,
          9619,
          7573,
          8543,
          7524,
          8188,
          8435,
          9229,
          7169,
          9090,
          9585,
          9185,
          7285,
          8023,
          8347,
          7654,
          7279,
          7278,
          7200,
          8978,
          7346,
          7404,
          9736,
          7350,
          8245,
          8317,
          7840,
          8335,
          7657,
          9090,
          7757,
          7253,
          8307,
          9084,
          8894,
          7075,
          8335,
          8621,
          8388,
          6971,
          8389,
          7949,
          8278,
          7750,
          7774,
          8505,
          6824,
          7813,
          7864,
          7840,
          8980,
          7460,
          7817,
          8688,
          8360,
          6893,
          8468,
          8328,
          8100,
          7500,
          6935,
          7736,
          7466,
          7614,
          7932,
          6760,
          8123,
          8092,
          7822,
          7327,
          7646,
          6416,
          6556,
          7440,
          7250
         ],
         "y0": " ",
         "yaxis": "y"
        },
        {
         "alignmentgroup": "True",
         "hovertemplate": "performance=4<br>bonus=%{y}<extra></extra>",
         "legendgroup": "4",
         "marker": {
          "color": "#EF553B"
         },
         "name": "4",
         "notched": false,
         "offsetgroup": "4",
         "orientation": "v",
         "showlegend": true,
         "type": "box",
         "x0": " ",
         "xaxis": "x",
         "y": [
          9268,
          10240,
          9625,
          9353,
          9104,
          8949,
          8623,
          10324,
          8590,
          8234,
          10173,
          9395,
          8725,
          9129,
          9611,
          8647,
          8818,
          8215,
          8459,
          8596,
          8743,
          8515,
          8897,
          7511,
          8700,
          7802,
          10375,
          7627,
          8873,
          9036,
          9042,
          7985,
          8841,
          8347,
          7205,
          7444,
          8602,
          8872,
          8109,
          8201,
          8974,
          8477,
          8816,
          7918,
          7567,
          7794,
          7392,
          7850,
          8509,
          7957,
          7513,
          9012,
          9007,
          9522,
          7827,
          8090,
          8199,
          8210,
          8306,
          8338,
          7832,
          7185,
          7280,
          9311,
          9289,
          8375,
          7789,
          7351,
          7668,
          7022,
          7791,
          7769,
          7960,
          9335,
          9694,
          7793,
          8609,
          8472,
          8517,
          8449,
          7320,
          8761,
          6839,
          7740,
          9111,
          8636,
          7910,
          7999,
          7776,
          8581,
          9248,
          8105,
          9147,
          7885,
          8339,
          7873,
          8443,
          7266,
          7827,
          7415,
          7402,
          9551,
          7464,
          7168,
          7094,
          9230,
          7739,
          7316,
          7144,
          8093,
          6914,
          7641,
          6666,
          8462,
          7939,
          7101,
          8465,
          7730,
          7808,
          6751,
          8013,
          8400,
          6685,
          7028,
          7905,
          7622,
          7246,
          7947,
          8090,
          6413,
          6669,
          6578,
          6773,
          8354,
          8780,
          7449,
          7663,
          6814,
          7640,
          8244,
          6993,
          6740,
          8587,
          7555,
          5520,
          6519,
          7404,
          7268,
          6946,
          7003,
          7559,
          7744,
          7169,
          6997,
          6586,
          6042,
          7522,
          7329,
          6321,
          7106,
          6490,
          5937,
          7552,
          7412,
          6471,
          7304,
          6160,
          7642,
          7177,
          6989,
          7314,
          5239,
          7438,
          6942,
          6931,
          6662,
          6394,
          4765,
          8035,
          6898,
          6258,
          8113,
          6777,
          8001,
          6552,
          7213,
          6453,
          5569,
          6689,
          8439,
          6490,
          6124,
          6746,
          6122,
          6010,
          6536,
          6506,
          5751,
          5881,
          5412,
          7113,
          6425,
          6580,
          6350,
          6235,
          4524,
          5078
         ],
         "y0": " ",
         "yaxis": "y"
        },
        {
         "alignmentgroup": "True",
         "hovertemplate": "performance=3<br>bonus=%{y}<extra></extra>",
         "legendgroup": "3",
         "marker": {
          "color": "#00cc96"
         },
         "name": "3",
         "notched": false,
         "offsetgroup": "3",
         "orientation": "v",
         "showlegend": true,
         "type": "box",
         "x0": " ",
         "xaxis": "x",
         "y": [
          8747,
          8383,
          8273,
          7414,
          7385,
          6346,
          7229,
          7634,
          8391,
          8010,
          8407,
          7491,
          8209,
          6332,
          7257,
          8456,
          6378,
          8265,
          6495,
          7778,
          7765,
          8145,
          7089,
          7550,
          7242,
          8727,
          6912,
          6692,
          7411,
          6554,
          6615,
          7144,
          6291,
          7036,
          6184,
          6682,
          6530,
          6386,
          6955,
          6345,
          8253,
          6363,
          6631,
          6839,
          7875,
          6448,
          7632,
          7196,
          6999,
          5794,
          6739,
          7325,
          8147,
          6257,
          7721,
          7246,
          6929,
          7242,
          6122,
          6922,
          7279,
          6439,
          5272,
          5153,
          6897,
          6545,
          6027,
          6611,
          6884,
          5797,
          6581,
          6182,
          7958,
          6620,
          6499,
          7291,
          7211,
          8109,
          6615,
          6274,
          6996,
          6537,
          6177,
          7127,
          6765,
          5947,
          8160,
          6711,
          6832,
          5479,
          6558,
          6432,
          6295,
          5327,
          7443,
          4161,
          7052,
          6866,
          6243,
          5495,
          7433,
          6336,
          6753,
          6812,
          6020,
          7205,
          6235,
          7301,
          6630,
          5829,
          5989,
          5569,
          6462,
          5792,
          5914,
          6016,
          6618,
          5924,
          5982,
          6224,
          5668,
          6616,
          6604,
          5470,
          6186,
          5934,
          5814,
          4680,
          6660,
          5243,
          5090,
          5453,
          7058,
          7377,
          5838,
          7554,
          7460,
          5944,
          6019,
          7122,
          5863,
          6179,
          7126,
          5562,
          5445,
          5618,
          5406,
          4618,
          5608,
          5405,
          5103,
          4265,
          6775,
          6044,
          5878,
          6505,
          4548,
          7236,
          5913,
          5173,
          5680,
          5108,
          5562,
          5754,
          5029,
          5512,
          4854,
          4892,
          4650,
          5133,
          4357,
          6151,
          6083,
          6274,
          4536,
          6337,
          4165,
          6032,
          5795,
          4466,
          4115,
          4476,
          5430,
          5723,
          5201,
          5410,
          5992,
          4066,
          5460,
          5597,
          3392,
          4596,
          5472,
          4993
         ],
         "y0": " ",
         "yaxis": "y"
        },
        {
         "alignmentgroup": "True",
         "hovertemplate": "performance=2<br>bonus=%{y}<extra></extra>",
         "legendgroup": "2",
         "marker": {
          "color": "#ab63fa"
         },
         "name": "2",
         "notched": false,
         "offsetgroup": "2",
         "orientation": "v",
         "showlegend": true,
         "type": "box",
         "x0": " ",
         "xaxis": "x",
         "y": [
          6966,
          6111,
          6397,
          7139,
          7735,
          5000,
          5764,
          6700,
          6454,
          7189,
          6577,
          6970,
          6573,
          6737,
          6564,
          6340,
          6643,
          7113,
          5646,
          6060,
          6696,
          5516,
          6496,
          7160,
          5953,
          6430,
          6228,
          5477,
          5943,
          5662,
          5878,
          6251,
          7198,
          6900,
          6572,
          6356,
          6398,
          6219,
          6497,
          5383,
          6861,
          6363,
          6596,
          4584,
          4152,
          6842,
          6476,
          4890,
          5679,
          6327,
          5436,
          6508,
          5359,
          5146,
          5224,
          5831,
          5876,
          5803,
          5713,
          6452,
          6092,
          5175,
          5452,
          5166,
          6274,
          5183,
          5845,
          4998,
          5697,
          4668,
          4898,
          5927,
          4826,
          5454,
          4872,
          4701,
          4980,
          5396,
          4700,
          5426,
          6476,
          7233,
          5826,
          5499,
          5239,
          5066,
          5135,
          5329,
          5798,
          5284,
          5647,
          5195,
          5038,
          4925,
          4635,
          4076,
          5735,
          6107,
          4760,
          5009,
          5930,
          5346,
          4549,
          4690,
          4422,
          4079,
          4621,
          5214,
          5390,
          4844,
          4453,
          5698,
          4489,
          4708,
          3817,
          5435,
          5536,
          5068,
          3100,
          5386,
          4413,
          5404,
          4212,
          3768,
          4534,
          4664,
          5232,
          4073,
          6255,
          6079,
          5114,
          5404,
          3881,
          5097,
          3603,
          4126,
          3910,
          4494,
          5268,
          4148,
          4249,
          4442,
          5022,
          3652,
          4202,
          4916,
          4687,
          4495,
          3653,
          4827,
          5784,
          4750,
          4275,
          4243,
          4409,
          4965,
          5001,
          4309,
          4774,
          4694,
          3438,
          4791,
          4516,
          4851,
          4300,
          3879,
          4339,
          3909,
          4825,
          3578,
          4157,
          3738,
          4289,
          3044,
          3887,
          3841,
          3382,
          4811,
          3791,
          4543,
          4674,
          4780,
          4045,
          4214,
          4618,
          5236,
          3247,
          4070,
          3688,
          3196,
          3927,
          2225
         ],
         "y0": " ",
         "yaxis": "y"
        },
        {
         "alignmentgroup": "True",
         "hovertemplate": "performance=1<br>bonus=%{y}<extra></extra>",
         "legendgroup": "1",
         "marker": {
          "color": "#FFA15A"
         },
         "name": "1",
         "notched": false,
         "offsetgroup": "1",
         "orientation": "v",
         "showlegend": true,
         "type": "box",
         "x0": " ",
         "xaxis": "x",
         "y": [
          4775,
          6290,
          6722,
          5627,
          5520,
          5136,
          5020,
          5308,
          5888,
          3846,
          5236,
          6381,
          4673,
          5380,
          5598,
          6277,
          5688,
          5234,
          3879,
          5866,
          5084,
          5345,
          4756,
          4322,
          4962,
          5220,
          6303,
          5293,
          4677,
          4572,
          4845,
          5004,
          6817,
          4439,
          4449,
          4566,
          4626,
          5352,
          5729,
          4702,
          5613,
          4191,
          4969,
          4184,
          5014,
          4458,
          5513,
          5861,
          5225,
          4621,
          4045,
          4964,
          3727,
          2324,
          5281,
          4793,
          3927,
          4829,
          3474,
          3415,
          4967,
          3661,
          4310,
          4095,
          4472,
          5538,
          3795,
          4712,
          4981,
          5070,
          4373,
          5481,
          4683,
          4617,
          5120,
          4734,
          4503,
          5259,
          4322,
          3697,
          3415,
          3896,
          4415,
          3990,
          4263,
          3634,
          4685,
          4111,
          3665,
          4098,
          4390,
          3875,
          3961,
          5576,
          3871,
          3889,
          2930,
          4037,
          4044,
          3955,
          3384,
          3661,
          3223,
          3084,
          3590,
          4237,
          3518,
          3712,
          3270,
          3274,
          4296,
          4510,
          3955,
          3721,
          3964,
          4766,
          2661,
          3588,
          2730,
          3521,
          3530,
          4605,
          4275,
          2982,
          3431,
          3641,
          3368,
          4149,
          3599,
          3943,
          2824,
          2728,
          4723,
          3746,
          4284,
          3107,
          4143,
          3528,
          4263,
          3892,
          3510,
          2530,
          3959,
          3463,
          3908,
          2200,
          4204,
          3988,
          2600,
          2251,
          4099,
          4388,
          3366,
          3078,
          3536,
          3353,
          2978,
          2991,
          3078,
          3647,
          3255,
          3789,
          3242,
          3655,
          4765,
          3745,
          3409,
          3367,
          1703,
          3180,
          3079,
          2051,
          2193,
          3680,
          2375,
          2963,
          3453,
          2041,
          3888,
          2125,
          2611,
          2788,
          2656,
          2763,
          2683,
          3083,
          3042,
          1823,
          2645,
          3318,
          2041,
          3418,
          1884,
          2777,
          3270,
          3567,
          2724,
          2244
         ],
         "y0": " ",
         "yaxis": "y"
        }
       ],
       "layout": {
        "boxmode": "group",
        "legend": {
         "title": {
          "text": "performance"
         },
         "tracegroupgap": 0
        },
        "template": {
         "data": {
          "bar": [
           {
            "error_x": {
             "color": "#2a3f5f"
            },
            "error_y": {
             "color": "#2a3f5f"
            },
            "marker": {
             "line": {
              "color": "#E5ECF6",
              "width": 0.5
             },
             "pattern": {
              "fillmode": "overlay",
              "size": 10,
              "solidity": 0.2
             }
            },
            "type": "bar"
           }
          ],
          "barpolar": [
           {
            "marker": {
             "line": {
              "color": "#E5ECF6",
              "width": 0.5
             },
             "pattern": {
              "fillmode": "overlay",
              "size": 10,
              "solidity": 0.2
             }
            },
            "type": "barpolar"
           }
          ],
          "carpet": [
           {
            "aaxis": {
             "endlinecolor": "#2a3f5f",
             "gridcolor": "white",
             "linecolor": "white",
             "minorgridcolor": "white",
             "startlinecolor": "#2a3f5f"
            },
            "baxis": {
             "endlinecolor": "#2a3f5f",
             "gridcolor": "white",
             "linecolor": "white",
             "minorgridcolor": "white",
             "startlinecolor": "#2a3f5f"
            },
            "type": "carpet"
           }
          ],
          "choropleth": [
           {
            "colorbar": {
             "outlinewidth": 0,
             "ticks": ""
            },
            "type": "choropleth"
           }
          ],
          "contour": [
           {
            "colorbar": {
             "outlinewidth": 0,
             "ticks": ""
            },
            "colorscale": [
             [
              0,
              "#0d0887"
             ],
             [
              0.1111111111111111,
              "#46039f"
             ],
             [
              0.2222222222222222,
              "#7201a8"
             ],
             [
              0.3333333333333333,
              "#9c179e"
             ],
             [
              0.4444444444444444,
              "#bd3786"
             ],
             [
              0.5555555555555556,
              "#d8576b"
             ],
             [
              0.6666666666666666,
              "#ed7953"
             ],
             [
              0.7777777777777778,
              "#fb9f3a"
             ],
             [
              0.8888888888888888,
              "#fdca26"
             ],
             [
              1,
              "#f0f921"
             ]
            ],
            "type": "contour"
           }
          ],
          "contourcarpet": [
           {
            "colorbar": {
             "outlinewidth": 0,
             "ticks": ""
            },
            "type": "contourcarpet"
           }
          ],
          "heatmap": [
           {
            "colorbar": {
             "outlinewidth": 0,
             "ticks": ""
            },
            "colorscale": [
             [
              0,
              "#0d0887"
             ],
             [
              0.1111111111111111,
              "#46039f"
             ],
             [
              0.2222222222222222,
              "#7201a8"
             ],
             [
              0.3333333333333333,
              "#9c179e"
             ],
             [
              0.4444444444444444,
              "#bd3786"
             ],
             [
              0.5555555555555556,
              "#d8576b"
             ],
             [
              0.6666666666666666,
              "#ed7953"
             ],
             [
              0.7777777777777778,
              "#fb9f3a"
             ],
             [
              0.8888888888888888,
              "#fdca26"
             ],
             [
              1,
              "#f0f921"
             ]
            ],
            "type": "heatmap"
           }
          ],
          "heatmapgl": [
           {
            "colorbar": {
             "outlinewidth": 0,
             "ticks": ""
            },
            "colorscale": [
             [
              0,
              "#0d0887"
             ],
             [
              0.1111111111111111,
              "#46039f"
             ],
             [
              0.2222222222222222,
              "#7201a8"
             ],
             [
              0.3333333333333333,
              "#9c179e"
             ],
             [
              0.4444444444444444,
              "#bd3786"
             ],
             [
              0.5555555555555556,
              "#d8576b"
             ],
             [
              0.6666666666666666,
              "#ed7953"
             ],
             [
              0.7777777777777778,
              "#fb9f3a"
             ],
             [
              0.8888888888888888,
              "#fdca26"
             ],
             [
              1,
              "#f0f921"
             ]
            ],
            "type": "heatmapgl"
           }
          ],
          "histogram": [
           {
            "marker": {
             "pattern": {
              "fillmode": "overlay",
              "size": 10,
              "solidity": 0.2
             }
            },
            "type": "histogram"
           }
          ],
          "histogram2d": [
           {
            "colorbar": {
             "outlinewidth": 0,
             "ticks": ""
            },
            "colorscale": [
             [
              0,
              "#0d0887"
             ],
             [
              0.1111111111111111,
              "#46039f"
             ],
             [
              0.2222222222222222,
              "#7201a8"
             ],
             [
              0.3333333333333333,
              "#9c179e"
             ],
             [
              0.4444444444444444,
              "#bd3786"
             ],
             [
              0.5555555555555556,
              "#d8576b"
             ],
             [
              0.6666666666666666,
              "#ed7953"
             ],
             [
              0.7777777777777778,
              "#fb9f3a"
             ],
             [
              0.8888888888888888,
              "#fdca26"
             ],
             [
              1,
              "#f0f921"
             ]
            ],
            "type": "histogram2d"
           }
          ],
          "histogram2dcontour": [
           {
            "colorbar": {
             "outlinewidth": 0,
             "ticks": ""
            },
            "colorscale": [
             [
              0,
              "#0d0887"
             ],
             [
              0.1111111111111111,
              "#46039f"
             ],
             [
              0.2222222222222222,
              "#7201a8"
             ],
             [
              0.3333333333333333,
              "#9c179e"
             ],
             [
              0.4444444444444444,
              "#bd3786"
             ],
             [
              0.5555555555555556,
              "#d8576b"
             ],
             [
              0.6666666666666666,
              "#ed7953"
             ],
             [
              0.7777777777777778,
              "#fb9f3a"
             ],
             [
              0.8888888888888888,
              "#fdca26"
             ],
             [
              1,
              "#f0f921"
             ]
            ],
            "type": "histogram2dcontour"
           }
          ],
          "mesh3d": [
           {
            "colorbar": {
             "outlinewidth": 0,
             "ticks": ""
            },
            "type": "mesh3d"
           }
          ],
          "parcoords": [
           {
            "line": {
             "colorbar": {
              "outlinewidth": 0,
              "ticks": ""
             }
            },
            "type": "parcoords"
           }
          ],
          "pie": [
           {
            "automargin": true,
            "type": "pie"
           }
          ],
          "scatter": [
           {
            "fillpattern": {
             "fillmode": "overlay",
             "size": 10,
             "solidity": 0.2
            },
            "type": "scatter"
           }
          ],
          "scatter3d": [
           {
            "line": {
             "colorbar": {
              "outlinewidth": 0,
              "ticks": ""
             }
            },
            "marker": {
             "colorbar": {
              "outlinewidth": 0,
              "ticks": ""
             }
            },
            "type": "scatter3d"
           }
          ],
          "scattercarpet": [
           {
            "marker": {
             "colorbar": {
              "outlinewidth": 0,
              "ticks": ""
             }
            },
            "type": "scattercarpet"
           }
          ],
          "scattergeo": [
           {
            "marker": {
             "colorbar": {
              "outlinewidth": 0,
              "ticks": ""
             }
            },
            "type": "scattergeo"
           }
          ],
          "scattergl": [
           {
            "marker": {
             "colorbar": {
              "outlinewidth": 0,
              "ticks": ""
             }
            },
            "type": "scattergl"
           }
          ],
          "scattermapbox": [
           {
            "marker": {
             "colorbar": {
              "outlinewidth": 0,
              "ticks": ""
             }
            },
            "type": "scattermapbox"
           }
          ],
          "scatterpolar": [
           {
            "marker": {
             "colorbar": {
              "outlinewidth": 0,
              "ticks": ""
             }
            },
            "type": "scatterpolar"
           }
          ],
          "scatterpolargl": [
           {
            "marker": {
             "colorbar": {
              "outlinewidth": 0,
              "ticks": ""
             }
            },
            "type": "scatterpolargl"
           }
          ],
          "scatterternary": [
           {
            "marker": {
             "colorbar": {
              "outlinewidth": 0,
              "ticks": ""
             }
            },
            "type": "scatterternary"
           }
          ],
          "surface": [
           {
            "colorbar": {
             "outlinewidth": 0,
             "ticks": ""
            },
            "colorscale": [
             [
              0,
              "#0d0887"
             ],
             [
              0.1111111111111111,
              "#46039f"
             ],
             [
              0.2222222222222222,
              "#7201a8"
             ],
             [
              0.3333333333333333,
              "#9c179e"
             ],
             [
              0.4444444444444444,
              "#bd3786"
             ],
             [
              0.5555555555555556,
              "#d8576b"
             ],
             [
              0.6666666666666666,
              "#ed7953"
             ],
             [
              0.7777777777777778,
              "#fb9f3a"
             ],
             [
              0.8888888888888888,
              "#fdca26"
             ],
             [
              1,
              "#f0f921"
             ]
            ],
            "type": "surface"
           }
          ],
          "table": [
           {
            "cells": {
             "fill": {
              "color": "#EBF0F8"
             },
             "line": {
              "color": "white"
             }
            },
            "header": {
             "fill": {
              "color": "#C8D4E3"
             },
             "line": {
              "color": "white"
             }
            },
            "type": "table"
           }
          ]
         },
         "layout": {
          "annotationdefaults": {
           "arrowcolor": "#2a3f5f",
           "arrowhead": 0,
           "arrowwidth": 1
          },
          "autotypenumbers": "strict",
          "coloraxis": {
           "colorbar": {
            "outlinewidth": 0,
            "ticks": ""
           }
          },
          "colorscale": {
           "diverging": [
            [
             0,
             "#8e0152"
            ],
            [
             0.1,
             "#c51b7d"
            ],
            [
             0.2,
             "#de77ae"
            ],
            [
             0.3,
             "#f1b6da"
            ],
            [
             0.4,
             "#fde0ef"
            ],
            [
             0.5,
             "#f7f7f7"
            ],
            [
             0.6,
             "#e6f5d0"
            ],
            [
             0.7,
             "#b8e186"
            ],
            [
             0.8,
             "#7fbc41"
            ],
            [
             0.9,
             "#4d9221"
            ],
            [
             1,
             "#276419"
            ]
           ],
           "sequential": [
            [
             0,
             "#0d0887"
            ],
            [
             0.1111111111111111,
             "#46039f"
            ],
            [
             0.2222222222222222,
             "#7201a8"
            ],
            [
             0.3333333333333333,
             "#9c179e"
            ],
            [
             0.4444444444444444,
             "#bd3786"
            ],
            [
             0.5555555555555556,
             "#d8576b"
            ],
            [
             0.6666666666666666,
             "#ed7953"
            ],
            [
             0.7777777777777778,
             "#fb9f3a"
            ],
            [
             0.8888888888888888,
             "#fdca26"
            ],
            [
             1,
             "#f0f921"
            ]
           ],
           "sequentialminus": [
            [
             0,
             "#0d0887"
            ],
            [
             0.1111111111111111,
             "#46039f"
            ],
            [
             0.2222222222222222,
             "#7201a8"
            ],
            [
             0.3333333333333333,
             "#9c179e"
            ],
            [
             0.4444444444444444,
             "#bd3786"
            ],
            [
             0.5555555555555556,
             "#d8576b"
            ],
            [
             0.6666666666666666,
             "#ed7953"
            ],
            [
             0.7777777777777778,
             "#fb9f3a"
            ],
            [
             0.8888888888888888,
             "#fdca26"
            ],
            [
             1,
             "#f0f921"
            ]
           ]
          },
          "colorway": [
           "#636efa",
           "#EF553B",
           "#00cc96",
           "#ab63fa",
           "#FFA15A",
           "#19d3f3",
           "#FF6692",
           "#B6E880",
           "#FF97FF",
           "#FECB52"
          ],
          "font": {
           "color": "#2a3f5f"
          },
          "geo": {
           "bgcolor": "white",
           "lakecolor": "white",
           "landcolor": "#E5ECF6",
           "showlakes": true,
           "showland": true,
           "subunitcolor": "white"
          },
          "hoverlabel": {
           "align": "left"
          },
          "hovermode": "closest",
          "mapbox": {
           "style": "light"
          },
          "paper_bgcolor": "white",
          "plot_bgcolor": "#E5ECF6",
          "polar": {
           "angularaxis": {
            "gridcolor": "white",
            "linecolor": "white",
            "ticks": ""
           },
           "bgcolor": "#E5ECF6",
           "radialaxis": {
            "gridcolor": "white",
            "linecolor": "white",
            "ticks": ""
           }
          },
          "scene": {
           "xaxis": {
            "backgroundcolor": "#E5ECF6",
            "gridcolor": "white",
            "gridwidth": 2,
            "linecolor": "white",
            "showbackground": true,
            "ticks": "",
            "zerolinecolor": "white"
           },
           "yaxis": {
            "backgroundcolor": "#E5ECF6",
            "gridcolor": "white",
            "gridwidth": 2,
            "linecolor": "white",
            "showbackground": true,
            "ticks": "",
            "zerolinecolor": "white"
           },
           "zaxis": {
            "backgroundcolor": "#E5ECF6",
            "gridcolor": "white",
            "gridwidth": 2,
            "linecolor": "white",
            "showbackground": true,
            "ticks": "",
            "zerolinecolor": "white"
           }
          },
          "shapedefaults": {
           "line": {
            "color": "#2a3f5f"
           }
          },
          "ternary": {
           "aaxis": {
            "gridcolor": "white",
            "linecolor": "white",
            "ticks": ""
           },
           "baxis": {
            "gridcolor": "white",
            "linecolor": "white",
            "ticks": ""
           },
           "bgcolor": "#E5ECF6",
           "caxis": {
            "gridcolor": "white",
            "linecolor": "white",
            "ticks": ""
           }
          },
          "title": {
           "x": 0.05
          },
          "xaxis": {
           "automargin": true,
           "gridcolor": "white",
           "linecolor": "white",
           "ticks": "",
           "title": {
            "standoff": 15
           },
           "zerolinecolor": "white",
           "zerolinewidth": 2
          },
          "yaxis": {
           "automargin": true,
           "gridcolor": "white",
           "linecolor": "white",
           "ticks": "",
           "title": {
            "standoff": 15
           },
           "zerolinecolor": "white",
           "zerolinewidth": 2
          }
         }
        },
        "title": {
         "text": "Distribucion de bonos por performance"
        },
        "xaxis": {
         "anchor": "y",
         "domain": [
          0,
          1
         ]
        },
        "yaxis": {
         "anchor": "x",
         "domain": [
          0,
          1
         ],
         "title": {
          "text": "bonus"
         }
        }
       }
      }
     },
     "metadata": {},
     "output_type": "display_data"
    },
    {
     "data": {
      "application/vnd.plotly.v1+json": {
       "config": {
        "plotlyServerURL": "https://plot.ly"
       },
       "data": [
        {
         "alignmentgroup": "True",
         "hovertemplate": "education=College<br>bonus=%{y}<extra></extra>",
         "legendgroup": "College",
         "marker": {
          "color": "#636efa"
         },
         "name": "College",
         "notched": false,
         "offsetgroup": "College",
         "orientation": "v",
         "showlegend": true,
         "type": "box",
         "x0": " ",
         "xaxis": "x",
         "y": [
          9938,
          11128,
          10541,
          9941,
          10124,
          8990,
          9949,
          9838,
          9031,
          10015,
          10504,
          9409,
          9023,
          9424,
          8623,
          8331,
          9564,
          9958,
          9687,
          11067,
          9516,
          8762,
          8234,
          9168,
          9798,
          9945,
          8802,
          10122,
          9421,
          8833,
          8897,
          9454,
          8668,
          9255,
          7802,
          7902,
          9042,
          7067,
          8602,
          7444,
          8950,
          7573,
          7285,
          8023,
          8347,
          7957,
          9012,
          9522,
          8199,
          7278,
          8245,
          8375,
          7840,
          7022,
          7657,
          7791,
          9335,
          9090,
          7793,
          8609,
          8472,
          6839,
          7075,
          7885,
          6966,
          8278,
          7774,
          6666,
          8265,
          7939,
          7813,
          7778,
          7730,
          7817,
          6751,
          8145,
          7028,
          7735,
          7550,
          8727,
          6893,
          6692,
          8780,
          7663,
          5000,
          7640,
          8244,
          6935,
          6993,
          6682,
          6530,
          6363,
          7189,
          5520,
          7614,
          6519,
          6448,
          7404,
          6946,
          6257,
          7744,
          6929,
          7169,
          6997,
          6042,
          6122,
          7327,
          6897,
          6545,
          7113,
          6027,
          6581,
          6182,
          7958,
          6696,
          6942,
          6177,
          6931,
          7127,
          8160,
          6558,
          6432,
          7160,
          6777,
          6430,
          7443,
          7433,
          6753,
          7213,
          5627,
          7301,
          5520,
          6251,
          5829,
          7198,
          6689,
          6572,
          6356,
          5569,
          6490,
          6124,
          6224,
          6861,
          5020,
          6746,
          6616,
          6604,
          4584,
          6122,
          5814,
          6842,
          4680,
          5436,
          6010,
          6019,
          6536,
          5863,
          6179,
          5146,
          5803,
          5713,
          6452,
          6092,
          5608,
          6274,
          4265,
          4668,
          6277,
          6580,
          4701,
          3879,
          7236,
          5499,
          5329,
          4756,
          5647,
          5038,
          5220,
          4677,
          6107,
          4524,
          4549,
          4422,
          4489,
          5352,
          6032,
          5795,
          4458,
          5225,
          4413,
          4476,
          4045,
          3768,
          4534,
          5723,
          2324,
          6079,
          5114,
          3927,
          5404,
          4310,
          4249,
          5022,
          3795,
          4827,
          4275,
          4503,
          4791,
          4415,
          4111,
          3961,
          2930,
          4037,
          4044,
          3578,
          4157,
          3738,
          4510,
          3841,
          4766,
          4811,
          4543,
          3530,
          4149,
          3599,
          2728,
          3107,
          3463,
          4070,
          4388,
          3366,
          2991,
          3255,
          3789,
          3242,
          3655,
          3453,
          2041,
          2656,
          3083,
          3418
         ],
         "y0": " ",
         "yaxis": "y"
        },
        {
         "alignmentgroup": "True",
         "hovertemplate": "education=PhD<br>bonus=%{y}<extra></extra>",
         "legendgroup": "PhD",
         "marker": {
          "color": "#EF553B"
         },
         "name": "PhD",
         "notched": false,
         "offsetgroup": "PhD",
         "orientation": "v",
         "showlegend": true,
         "type": "box",
         "x0": " ",
         "xaxis": "x",
         "y": [
          9268,
          10126,
          10240,
          10212,
          9745,
          10334,
          10768,
          9210,
          9329,
          9792,
          9625,
          9469,
          10177,
          9233,
          10139,
          10050,
          9784,
          8703,
          8949,
          10033,
          10346,
          9564,
          9493,
          9874,
          10153,
          10209,
          10324,
          9432,
          9931,
          10173,
          8457,
          8857,
          8872,
          9395,
          8384,
          8369,
          9330,
          8502,
          8215,
          8743,
          8643,
          8245,
          9310,
          8549,
          8943,
          9553,
          8383,
          8472,
          8058,
          7205,
          8273,
          8928,
          9619,
          8816,
          7524,
          7567,
          8435,
          9229,
          7794,
          8509,
          7279,
          8090,
          8306,
          8978,
          7346,
          7960,
          7634,
          8307,
          8407,
          7776,
          8581,
          6971,
          7415,
          8209,
          7402,
          7168,
          8456,
          8093,
          6495,
          7840,
          8465,
          7460,
          8013,
          7622,
          7947,
          8360,
          8090,
          6413,
          6578,
          6773,
          8468,
          8354,
          7411,
          8100,
          7144,
          6700,
          6955,
          6454,
          8587,
          7555,
          7875,
          6760,
          6739,
          7325,
          8147,
          7559,
          8123,
          7242,
          6573,
          6564,
          7329,
          7822,
          7106,
          6643,
          7552,
          6439,
          5153,
          7412,
          7642,
          7291,
          7211,
          8109,
          6274,
          6537,
          7438,
          6290,
          6765,
          5947,
          4765,
          6722,
          6711,
          8113,
          5516,
          5327,
          4161,
          6866,
          6243,
          6552,
          6812,
          5943,
          5878,
          7205,
          6235,
          6630,
          5989,
          6398,
          5924,
          5982,
          5136,
          5090,
          5453,
          6476,
          5679,
          5838,
          7554,
          7460,
          5944,
          5308,
          5888,
          5445,
          4673,
          5380,
          5452,
          5845,
          5103,
          4548,
          5688,
          5345,
          5826,
          5108,
          5135,
          5798,
          5754,
          5195,
          4322,
          4650,
          5133,
          4357,
          6151,
          4076,
          4760,
          6817,
          5346,
          4079,
          4621,
          5390,
          4844,
          4708,
          4702,
          5536,
          4969,
          5386,
          5861,
          4115,
          4621,
          5404,
          4664,
          6255,
          3661,
          5992,
          4472,
          4126,
          4494,
          5268,
          4202,
          4243,
          4774,
          4694,
          3415,
          3896,
          4300,
          4098,
          3875,
          4825,
          3955,
          3270,
          3588,
          4275,
          3943,
          4723,
          3746,
          4284,
          4214,
          4143,
          4263,
          4618,
          3908,
          4204,
          3078,
          3536,
          3353,
          2978,
          3078,
          3647,
          3409,
          3888,
          2777,
          2244
         ],
         "y0": " ",
         "yaxis": "y"
        },
        {
         "alignmentgroup": "True",
         "hovertemplate": "education=Masters<br>bonus=%{y}<extra></extra>",
         "legendgroup": "Masters",
         "marker": {
          "color": "#00cc96"
         },
         "name": "Masters",
         "notched": false,
         "offsetgroup": "Masters",
         "orientation": "v",
         "showlegend": true,
         "type": "box",
         "x0": " ",
         "xaxis": "x",
         "y": [
          10154,
          9319,
          9583,
          9618,
          10137,
          10512,
          9868,
          11293,
          9729,
          9353,
          9104,
          9654,
          8949,
          9479,
          9841,
          10240,
          10042,
          8747,
          9979,
          8509,
          9130,
          8725,
          9129,
          9611,
          8647,
          8818,
          8056,
          7204,
          8459,
          8357,
          8596,
          8515,
          8014,
          8498,
          6855,
          8873,
          9345,
          7985,
          7679,
          8841,
          8552,
          8049,
          8347,
          8602,
          9653,
          7475,
          8872,
          6897,
          8109,
          8201,
          8974,
          8477,
          7414,
          9090,
          7392,
          9185,
          7850,
          7385,
          7827,
          8210,
          7404,
          7350,
          7280,
          6346,
          8317,
          7769,
          9694,
          8391,
          8517,
          7757,
          9084,
          7740,
          8388,
          9248,
          7873,
          8389,
          8443,
          7266,
          7949,
          6332,
          9551,
          7094,
          7257,
          7316,
          7144,
          6378,
          8505,
          7641,
          8462,
          6111,
          6397,
          7101,
          7864,
          8980,
          7808,
          6685,
          8688,
          7242,
          6912,
          7449,
          6554,
          8328,
          6615,
          7036,
          7500,
          6740,
          6631,
          6839,
          6577,
          5794,
          6970,
          7721,
          7246,
          6737,
          6586,
          6321,
          5272,
          6416,
          6611,
          5797,
          6471,
          7304,
          6499,
          6060,
          6989,
          6556,
          5239,
          4775,
          6662,
          6394,
          8035,
          6898,
          6832,
          5479,
          6496,
          5953,
          6228,
          5477,
          7052,
          5495,
          8001,
          6336,
          6900,
          6462,
          8439,
          6219,
          6497,
          6363,
          5470,
          6186,
          6596,
          5934,
          4152,
          4890,
          6327,
          5359,
          6506,
          5224,
          5831,
          7126,
          5562,
          5236,
          5412,
          6381,
          5618,
          5406,
          5175,
          4618,
          6775,
          6044,
          5878,
          6425,
          4898,
          5454,
          4872,
          5396,
          4700,
          5426,
          5913,
          5173,
          5680,
          5239,
          5066,
          5284,
          4892,
          4925,
          6350,
          6235,
          6083,
          5004,
          5009,
          4439,
          4449,
          5930,
          4690,
          4626,
          4536,
          5214,
          3817,
          5729,
          5435,
          4191,
          4184,
          5430,
          4964,
          5232,
          5281,
          3474,
          5078,
          3881,
          4967,
          5097,
          3910,
          4442,
          5460,
          4712,
          5070,
          4750,
          4409,
          4617,
          4309,
          4734,
          3634,
          4851,
          3879,
          3871,
          3889,
          3223,
          4596,
          3590,
          4237,
          3712,
          3044,
          3274,
          2661,
          3382,
          2730,
          2982,
          3641,
          3368,
          3892,
          2530,
          3247,
          4099,
          3196,
          4765,
          3745,
          3180,
          2193,
          2963,
          2125,
          1823,
          3318,
          2041,
          1884,
          3567
         ],
         "y0": " ",
         "yaxis": "y"
        },
        {
         "alignmentgroup": "True",
         "hovertemplate": "education=High School<br>bonus=%{y}<extra></extra>",
         "legendgroup": "High School",
         "marker": {
          "color": "#ab63fa"
         },
         "name": "High School",
         "notched": false,
         "offsetgroup": "High School",
         "orientation": "v",
         "showlegend": true,
         "type": "box",
         "x0": " ",
         "xaxis": "x",
         "y": [
          9836,
          9461,
          9972,
          9780,
          9094,
          10215,
          8886,
          8841,
          9242,
          9405,
          8590,
          9368,
          8375,
          8961,
          8914,
          9093,
          10052,
          9130,
          8645,
          8972,
          7511,
          8290,
          8700,
          7539,
          9075,
          10375,
          7627,
          9089,
          9036,
          8578,
          8744,
          9306,
          8130,
          8867,
          8832,
          8543,
          7918,
          8188,
          7169,
          9585,
          7513,
          9007,
          7654,
          8338,
          7200,
          7832,
          9736,
          7185,
          9311,
          9289,
          7789,
          7351,
          7668,
          8335,
          7229,
          7253,
          8449,
          7320,
          8761,
          8010,
          8894,
          8335,
          9111,
          8636,
          7910,
          7999,
          8621,
          7491,
          8105,
          9147,
          8339,
          7827,
          7464,
          9230,
          7750,
          7739,
          6914,
          6824,
          7139,
          7765,
          8400,
          7905,
          7089,
          7246,
          6669,
          6814,
          6291,
          5764,
          6184,
          6386,
          7736,
          6345,
          8253,
          7466,
          7932,
          7632,
          7196,
          7268,
          6999,
          7003,
          8092,
          7522,
          6922,
          6340,
          7646,
          6490,
          5937,
          7279,
          6884,
          6160,
          5646,
          6620,
          6615,
          7177,
          7314,
          6996,
          6258,
          7440,
          7250,
          6295,
          6453,
          6020,
          5569,
          5662,
          5792,
          5914,
          6016,
          6618,
          5383,
          5668,
          6660,
          5243,
          7058,
          7377,
          7122,
          6508,
          5876,
          5751,
          5881,
          3846,
          5598,
          5166,
          5183,
          4998,
          7113,
          5405,
          5697,
          6505,
          5927,
          4826,
          5234,
          4980,
          5866,
          5084,
          6476,
          7233,
          5562,
          5029,
          5512,
          4854,
          4635,
          4962,
          6303,
          5735,
          5293,
          4572,
          4845,
          4566,
          6274,
          6337,
          4453,
          5698,
          4165,
          5613,
          4466,
          5068,
          5014,
          5513,
          3100,
          4212,
          3727,
          5201,
          5410,
          4073,
          4793,
          4829,
          3415,
          4095,
          3603,
          4066,
          4148,
          5538,
          3652,
          4916,
          4981,
          4687,
          4495,
          3653,
          4373,
          5784,
          5481,
          4683,
          4965,
          5120,
          5001,
          5597,
          5259,
          4322,
          3697,
          3438,
          3990,
          4263,
          4516,
          4685,
          3665,
          4390,
          5576,
          4339,
          3909,
          3392,
          3384,
          3661,
          3084,
          5472,
          4289,
          3518,
          4993,
          3887,
          4296,
          3955,
          3721,
          3964,
          3791,
          4674,
          3521,
          4780,
          4605,
          3431,
          4045,
          2824,
          3528,
          3510,
          3959,
          2200,
          5236,
          3988,
          2600,
          2251,
          3688,
          3927,
          3367,
          1703,
          3079,
          2051,
          3680,
          2375,
          2611,
          2788,
          2763,
          2683,
          3042,
          2645,
          3270,
          2724,
          2225
         ],
         "y0": " ",
         "yaxis": "y"
        }
       ],
       "layout": {
        "boxmode": "group",
        "legend": {
         "title": {
          "text": "education"
         },
         "tracegroupgap": 0
        },
        "template": {
         "data": {
          "bar": [
           {
            "error_x": {
             "color": "#2a3f5f"
            },
            "error_y": {
             "color": "#2a3f5f"
            },
            "marker": {
             "line": {
              "color": "#E5ECF6",
              "width": 0.5
             },
             "pattern": {
              "fillmode": "overlay",
              "size": 10,
              "solidity": 0.2
             }
            },
            "type": "bar"
           }
          ],
          "barpolar": [
           {
            "marker": {
             "line": {
              "color": "#E5ECF6",
              "width": 0.5
             },
             "pattern": {
              "fillmode": "overlay",
              "size": 10,
              "solidity": 0.2
             }
            },
            "type": "barpolar"
           }
          ],
          "carpet": [
           {
            "aaxis": {
             "endlinecolor": "#2a3f5f",
             "gridcolor": "white",
             "linecolor": "white",
             "minorgridcolor": "white",
             "startlinecolor": "#2a3f5f"
            },
            "baxis": {
             "endlinecolor": "#2a3f5f",
             "gridcolor": "white",
             "linecolor": "white",
             "minorgridcolor": "white",
             "startlinecolor": "#2a3f5f"
            },
            "type": "carpet"
           }
          ],
          "choropleth": [
           {
            "colorbar": {
             "outlinewidth": 0,
             "ticks": ""
            },
            "type": "choropleth"
           }
          ],
          "contour": [
           {
            "colorbar": {
             "outlinewidth": 0,
             "ticks": ""
            },
            "colorscale": [
             [
              0,
              "#0d0887"
             ],
             [
              0.1111111111111111,
              "#46039f"
             ],
             [
              0.2222222222222222,
              "#7201a8"
             ],
             [
              0.3333333333333333,
              "#9c179e"
             ],
             [
              0.4444444444444444,
              "#bd3786"
             ],
             [
              0.5555555555555556,
              "#d8576b"
             ],
             [
              0.6666666666666666,
              "#ed7953"
             ],
             [
              0.7777777777777778,
              "#fb9f3a"
             ],
             [
              0.8888888888888888,
              "#fdca26"
             ],
             [
              1,
              "#f0f921"
             ]
            ],
            "type": "contour"
           }
          ],
          "contourcarpet": [
           {
            "colorbar": {
             "outlinewidth": 0,
             "ticks": ""
            },
            "type": "contourcarpet"
           }
          ],
          "heatmap": [
           {
            "colorbar": {
             "outlinewidth": 0,
             "ticks": ""
            },
            "colorscale": [
             [
              0,
              "#0d0887"
             ],
             [
              0.1111111111111111,
              "#46039f"
             ],
             [
              0.2222222222222222,
              "#7201a8"
             ],
             [
              0.3333333333333333,
              "#9c179e"
             ],
             [
              0.4444444444444444,
              "#bd3786"
             ],
             [
              0.5555555555555556,
              "#d8576b"
             ],
             [
              0.6666666666666666,
              "#ed7953"
             ],
             [
              0.7777777777777778,
              "#fb9f3a"
             ],
             [
              0.8888888888888888,
              "#fdca26"
             ],
             [
              1,
              "#f0f921"
             ]
            ],
            "type": "heatmap"
           }
          ],
          "heatmapgl": [
           {
            "colorbar": {
             "outlinewidth": 0,
             "ticks": ""
            },
            "colorscale": [
             [
              0,
              "#0d0887"
             ],
             [
              0.1111111111111111,
              "#46039f"
             ],
             [
              0.2222222222222222,
              "#7201a8"
             ],
             [
              0.3333333333333333,
              "#9c179e"
             ],
             [
              0.4444444444444444,
              "#bd3786"
             ],
             [
              0.5555555555555556,
              "#d8576b"
             ],
             [
              0.6666666666666666,
              "#ed7953"
             ],
             [
              0.7777777777777778,
              "#fb9f3a"
             ],
             [
              0.8888888888888888,
              "#fdca26"
             ],
             [
              1,
              "#f0f921"
             ]
            ],
            "type": "heatmapgl"
           }
          ],
          "histogram": [
           {
            "marker": {
             "pattern": {
              "fillmode": "overlay",
              "size": 10,
              "solidity": 0.2
             }
            },
            "type": "histogram"
           }
          ],
          "histogram2d": [
           {
            "colorbar": {
             "outlinewidth": 0,
             "ticks": ""
            },
            "colorscale": [
             [
              0,
              "#0d0887"
             ],
             [
              0.1111111111111111,
              "#46039f"
             ],
             [
              0.2222222222222222,
              "#7201a8"
             ],
             [
              0.3333333333333333,
              "#9c179e"
             ],
             [
              0.4444444444444444,
              "#bd3786"
             ],
             [
              0.5555555555555556,
              "#d8576b"
             ],
             [
              0.6666666666666666,
              "#ed7953"
             ],
             [
              0.7777777777777778,
              "#fb9f3a"
             ],
             [
              0.8888888888888888,
              "#fdca26"
             ],
             [
              1,
              "#f0f921"
             ]
            ],
            "type": "histogram2d"
           }
          ],
          "histogram2dcontour": [
           {
            "colorbar": {
             "outlinewidth": 0,
             "ticks": ""
            },
            "colorscale": [
             [
              0,
              "#0d0887"
             ],
             [
              0.1111111111111111,
              "#46039f"
             ],
             [
              0.2222222222222222,
              "#7201a8"
             ],
             [
              0.3333333333333333,
              "#9c179e"
             ],
             [
              0.4444444444444444,
              "#bd3786"
             ],
             [
              0.5555555555555556,
              "#d8576b"
             ],
             [
              0.6666666666666666,
              "#ed7953"
             ],
             [
              0.7777777777777778,
              "#fb9f3a"
             ],
             [
              0.8888888888888888,
              "#fdca26"
             ],
             [
              1,
              "#f0f921"
             ]
            ],
            "type": "histogram2dcontour"
           }
          ],
          "mesh3d": [
           {
            "colorbar": {
             "outlinewidth": 0,
             "ticks": ""
            },
            "type": "mesh3d"
           }
          ],
          "parcoords": [
           {
            "line": {
             "colorbar": {
              "outlinewidth": 0,
              "ticks": ""
             }
            },
            "type": "parcoords"
           }
          ],
          "pie": [
           {
            "automargin": true,
            "type": "pie"
           }
          ],
          "scatter": [
           {
            "fillpattern": {
             "fillmode": "overlay",
             "size": 10,
             "solidity": 0.2
            },
            "type": "scatter"
           }
          ],
          "scatter3d": [
           {
            "line": {
             "colorbar": {
              "outlinewidth": 0,
              "ticks": ""
             }
            },
            "marker": {
             "colorbar": {
              "outlinewidth": 0,
              "ticks": ""
             }
            },
            "type": "scatter3d"
           }
          ],
          "scattercarpet": [
           {
            "marker": {
             "colorbar": {
              "outlinewidth": 0,
              "ticks": ""
             }
            },
            "type": "scattercarpet"
           }
          ],
          "scattergeo": [
           {
            "marker": {
             "colorbar": {
              "outlinewidth": 0,
              "ticks": ""
             }
            },
            "type": "scattergeo"
           }
          ],
          "scattergl": [
           {
            "marker": {
             "colorbar": {
              "outlinewidth": 0,
              "ticks": ""
             }
            },
            "type": "scattergl"
           }
          ],
          "scattermapbox": [
           {
            "marker": {
             "colorbar": {
              "outlinewidth": 0,
              "ticks": ""
             }
            },
            "type": "scattermapbox"
           }
          ],
          "scatterpolar": [
           {
            "marker": {
             "colorbar": {
              "outlinewidth": 0,
              "ticks": ""
             }
            },
            "type": "scatterpolar"
           }
          ],
          "scatterpolargl": [
           {
            "marker": {
             "colorbar": {
              "outlinewidth": 0,
              "ticks": ""
             }
            },
            "type": "scatterpolargl"
           }
          ],
          "scatterternary": [
           {
            "marker": {
             "colorbar": {
              "outlinewidth": 0,
              "ticks": ""
             }
            },
            "type": "scatterternary"
           }
          ],
          "surface": [
           {
            "colorbar": {
             "outlinewidth": 0,
             "ticks": ""
            },
            "colorscale": [
             [
              0,
              "#0d0887"
             ],
             [
              0.1111111111111111,
              "#46039f"
             ],
             [
              0.2222222222222222,
              "#7201a8"
             ],
             [
              0.3333333333333333,
              "#9c179e"
             ],
             [
              0.4444444444444444,
              "#bd3786"
             ],
             [
              0.5555555555555556,
              "#d8576b"
             ],
             [
              0.6666666666666666,
              "#ed7953"
             ],
             [
              0.7777777777777778,
              "#fb9f3a"
             ],
             [
              0.8888888888888888,
              "#fdca26"
             ],
             [
              1,
              "#f0f921"
             ]
            ],
            "type": "surface"
           }
          ],
          "table": [
           {
            "cells": {
             "fill": {
              "color": "#EBF0F8"
             },
             "line": {
              "color": "white"
             }
            },
            "header": {
             "fill": {
              "color": "#C8D4E3"
             },
             "line": {
              "color": "white"
             }
            },
            "type": "table"
           }
          ]
         },
         "layout": {
          "annotationdefaults": {
           "arrowcolor": "#2a3f5f",
           "arrowhead": 0,
           "arrowwidth": 1
          },
          "autotypenumbers": "strict",
          "coloraxis": {
           "colorbar": {
            "outlinewidth": 0,
            "ticks": ""
           }
          },
          "colorscale": {
           "diverging": [
            [
             0,
             "#8e0152"
            ],
            [
             0.1,
             "#c51b7d"
            ],
            [
             0.2,
             "#de77ae"
            ],
            [
             0.3,
             "#f1b6da"
            ],
            [
             0.4,
             "#fde0ef"
            ],
            [
             0.5,
             "#f7f7f7"
            ],
            [
             0.6,
             "#e6f5d0"
            ],
            [
             0.7,
             "#b8e186"
            ],
            [
             0.8,
             "#7fbc41"
            ],
            [
             0.9,
             "#4d9221"
            ],
            [
             1,
             "#276419"
            ]
           ],
           "sequential": [
            [
             0,
             "#0d0887"
            ],
            [
             0.1111111111111111,
             "#46039f"
            ],
            [
             0.2222222222222222,
             "#7201a8"
            ],
            [
             0.3333333333333333,
             "#9c179e"
            ],
            [
             0.4444444444444444,
             "#bd3786"
            ],
            [
             0.5555555555555556,
             "#d8576b"
            ],
            [
             0.6666666666666666,
             "#ed7953"
            ],
            [
             0.7777777777777778,
             "#fb9f3a"
            ],
            [
             0.8888888888888888,
             "#fdca26"
            ],
            [
             1,
             "#f0f921"
            ]
           ],
           "sequentialminus": [
            [
             0,
             "#0d0887"
            ],
            [
             0.1111111111111111,
             "#46039f"
            ],
            [
             0.2222222222222222,
             "#7201a8"
            ],
            [
             0.3333333333333333,
             "#9c179e"
            ],
            [
             0.4444444444444444,
             "#bd3786"
            ],
            [
             0.5555555555555556,
             "#d8576b"
            ],
            [
             0.6666666666666666,
             "#ed7953"
            ],
            [
             0.7777777777777778,
             "#fb9f3a"
            ],
            [
             0.8888888888888888,
             "#fdca26"
            ],
            [
             1,
             "#f0f921"
            ]
           ]
          },
          "colorway": [
           "#636efa",
           "#EF553B",
           "#00cc96",
           "#ab63fa",
           "#FFA15A",
           "#19d3f3",
           "#FF6692",
           "#B6E880",
           "#FF97FF",
           "#FECB52"
          ],
          "font": {
           "color": "#2a3f5f"
          },
          "geo": {
           "bgcolor": "white",
           "lakecolor": "white",
           "landcolor": "#E5ECF6",
           "showlakes": true,
           "showland": true,
           "subunitcolor": "white"
          },
          "hoverlabel": {
           "align": "left"
          },
          "hovermode": "closest",
          "mapbox": {
           "style": "light"
          },
          "paper_bgcolor": "white",
          "plot_bgcolor": "#E5ECF6",
          "polar": {
           "angularaxis": {
            "gridcolor": "white",
            "linecolor": "white",
            "ticks": ""
           },
           "bgcolor": "#E5ECF6",
           "radialaxis": {
            "gridcolor": "white",
            "linecolor": "white",
            "ticks": ""
           }
          },
          "scene": {
           "xaxis": {
            "backgroundcolor": "#E5ECF6",
            "gridcolor": "white",
            "gridwidth": 2,
            "linecolor": "white",
            "showbackground": true,
            "ticks": "",
            "zerolinecolor": "white"
           },
           "yaxis": {
            "backgroundcolor": "#E5ECF6",
            "gridcolor": "white",
            "gridwidth": 2,
            "linecolor": "white",
            "showbackground": true,
            "ticks": "",
            "zerolinecolor": "white"
           },
           "zaxis": {
            "backgroundcolor": "#E5ECF6",
            "gridcolor": "white",
            "gridwidth": 2,
            "linecolor": "white",
            "showbackground": true,
            "ticks": "",
            "zerolinecolor": "white"
           }
          },
          "shapedefaults": {
           "line": {
            "color": "#2a3f5f"
           }
          },
          "ternary": {
           "aaxis": {
            "gridcolor": "white",
            "linecolor": "white",
            "ticks": ""
           },
           "baxis": {
            "gridcolor": "white",
            "linecolor": "white",
            "ticks": ""
           },
           "bgcolor": "#E5ECF6",
           "caxis": {
            "gridcolor": "white",
            "linecolor": "white",
            "ticks": ""
           }
          },
          "title": {
           "x": 0.05
          },
          "xaxis": {
           "automargin": true,
           "gridcolor": "white",
           "linecolor": "white",
           "ticks": "",
           "title": {
            "standoff": 15
           },
           "zerolinecolor": "white",
           "zerolinewidth": 2
          },
          "yaxis": {
           "automargin": true,
           "gridcolor": "white",
           "linecolor": "white",
           "ticks": "",
           "title": {
            "standoff": 15
           },
           "zerolinecolor": "white",
           "zerolinewidth": 2
          }
         }
        },
        "title": {
         "text": "Distribucion de bonos por education"
        },
        "xaxis": {
         "anchor": "y",
         "domain": [
          0,
          1
         ]
        },
        "yaxis": {
         "anchor": "x",
         "domain": [
          0,
          1
         ],
         "title": {
          "text": "bonus"
         }
        }
       }
      }
     },
     "metadata": {},
     "output_type": "display_data"
    },
    {
     "data": {
      "application/vnd.plotly.v1+json": {
       "config": {
        "plotlyServerURL": "https://plot.ly"
       },
       "data": [
        {
         "alignmentgroup": "True",
         "hovertemplate": "department=Operations<br>bonus=%{y}<extra></extra>",
         "legendgroup": "Operations",
         "marker": {
          "color": "#636efa"
         },
         "name": "Operations",
         "notched": false,
         "offsetgroup": "Operations",
         "orientation": "v",
         "showlegend": true,
         "type": "box",
         "x0": " ",
         "xaxis": "x",
         "y": [
          9938,
          10126,
          9745,
          9233,
          9094,
          10033,
          9353,
          9104,
          8949,
          8331,
          9564,
          9405,
          10324,
          8857,
          8384,
          9945,
          9611,
          8647,
          8743,
          8643,
          8014,
          7802,
          8943,
          7627,
          8049,
          8602,
          8130,
          7475,
          8950,
          7414,
          8188,
          9585,
          7392,
          7285,
          8090,
          7278,
          8245,
          7789,
          7351,
          7657,
          7960,
          9090,
          7253,
          7320,
          7740,
          8636,
          8407,
          7910,
          7999,
          8621,
          8581,
          6971,
          8389,
          7827,
          7402,
          6332,
          9551,
          7750,
          7774,
          8093,
          6914,
          8505,
          8462,
          6495,
          7939,
          6824,
          8980,
          6685,
          7089,
          7550,
          8688,
          8360,
          8090,
          6578,
          7144,
          6291,
          6184,
          6993,
          6530,
          7736,
          7466,
          7555,
          6577,
          7875,
          7614,
          6448,
          6760,
          7404,
          7268,
          6999,
          7246,
          6573,
          6564,
          7327,
          6490,
          6416,
          7113,
          6027,
          6884,
          6471,
          6160,
          7177,
          6274,
          7314,
          5239,
          6290,
          5947,
          6898,
          6258,
          7250,
          5327,
          4161,
          6336,
          6235,
          5989,
          6572,
          8439,
          6490,
          6219,
          5982,
          6363,
          6746,
          6616,
          6186,
          5090,
          5453,
          5679,
          7554,
          7122,
          5863,
          6508,
          5831,
          5751,
          3846,
          5803,
          5236,
          6452,
          5175,
          5103,
          4265,
          6775,
          5878,
          6425,
          5927,
          5688,
          6580,
          4701,
          5396,
          6476,
          4572,
          4760,
          5390,
          5613,
          4191,
          4458,
          5861,
          5225,
          4476,
          4534,
          5114,
          4793,
          3474,
          3881,
          4310,
          4472,
          4712,
          3652,
          4916,
          4309,
          4774,
          3415,
          3438,
          4791,
          4415,
          3990,
          4516,
          4851,
          3889,
          4825,
          3578,
          3661,
          4993,
          3044,
          3274,
          3382,
          3431,
          3641,
          3368,
          4149,
          3943,
          2728,
          3746,
          3463,
          2251,
          4099,
          4388,
          3366,
          3078,
          3647,
          3655,
          3196,
          3927,
          4765,
          3745,
          2051,
          2963,
          3453,
          2611,
          3042,
          2724
         ],
         "y0": " ",
         "yaxis": "y"
        },
        {
         "alignmentgroup": "True",
         "hovertemplate": "department=Management<br>bonus=%{y}<extra></extra>",
         "legendgroup": "Management",
         "marker": {
          "color": "#EF553B"
         },
         "name": "Management",
         "notched": false,
         "offsetgroup": "Management",
         "orientation": "v",
         "showlegend": true,
         "type": "box",
         "x0": " ",
         "xaxis": "x",
         "y": [
          11128,
          10124,
          10334,
          9031,
          9469,
          10137,
          10512,
          10139,
          10050,
          9780,
          9409,
          8703,
          9729,
          9424,
          9493,
          9841,
          9958,
          9516,
          8590,
          8234,
          10240,
          9931,
          8914,
          8802,
          10122,
          8369,
          8645,
          8833,
          8897,
          8668,
          9310,
          8498,
          9553,
          7902,
          7679,
          7444,
          8602,
          8867,
          8109,
          8974,
          7794,
          8347,
          9012,
          9007,
          8306,
          8338,
          7200,
          7832,
          7185,
          7280,
          6346,
          7757,
          8449,
          9084,
          8335,
          8105,
          7266,
          8209,
          7168,
          7257,
          7730,
          7460,
          7765,
          6751,
          8013,
          7028,
          6669,
          6893,
          8468,
          8354,
          7449,
          6554,
          6814,
          5764,
          6700,
          8253,
          6454,
          8587,
          6519,
          6946,
          6739,
          8123,
          7721,
          6929,
          7242,
          6997,
          6340,
          6439,
          5646,
          7642,
          4775,
          6537,
          6931,
          7127,
          6722,
          8160,
          6711,
          6832,
          6496,
          6558,
          7160,
          6228,
          5477,
          7052,
          8001,
          7433,
          7213,
          6812,
          5627,
          5662,
          5878,
          6900,
          6356,
          5792,
          6618,
          6497,
          5136,
          5020,
          5934,
          5814,
          4152,
          4680,
          6660,
          7377,
          6536,
          5308,
          5146,
          5876,
          6381,
          4673,
          5598,
          5406,
          5452,
          5608,
          6274,
          6277,
          3879,
          4700,
          5499,
          5239,
          5066,
          5562,
          4756,
          5029,
          5284,
          6151,
          6303,
          4076,
          6107,
          4845,
          6083,
          4549,
          6274,
          4626,
          4536,
          6337,
          4453,
          4489,
          5352,
          3817,
          4702,
          5068,
          4184,
          3927,
          3661,
          4095,
          5097,
          3603,
          4494,
          5268,
          4687,
          4373,
          5784,
          5481,
          4617,
          5001,
          5597,
          4322,
          3665,
          3879,
          5576,
          4237,
          4296,
          3955,
          3721,
          4766,
          2661,
          4674,
          4275,
          3599,
          4723,
          4284,
          3959,
          3536,
          2978,
          1703,
          2375,
          2788
         ],
         "y0": " ",
         "yaxis": "y"
        },
        {
         "alignmentgroup": "True",
         "hovertemplate": "department=Administration<br>bonus=%{y}<extra></extra>",
         "legendgroup": "Administration",
         "marker": {
          "color": "#00cc96"
         },
         "name": "Administration",
         "notched": false,
         "offsetgroup": "Administration",
         "orientation": "v",
         "showlegend": true,
         "type": "box",
         "x0": " ",
         "xaxis": "x",
         "y": [
          9268,
          9583,
          10768,
          9949,
          9618,
          10504,
          9023,
          9784,
          8623,
          9479,
          10153,
          9242,
          10209,
          9432,
          9979,
          8509,
          9129,
          9330,
          8818,
          8056,
          8459,
          8357,
          8515,
          8245,
          9454,
          7511,
          9255,
          8549,
          9075,
          10375,
          9345,
          7985,
          7067,
          8058,
          8347,
          9653,
          9306,
          8928,
          9619,
          8816,
          7567,
          8435,
          9229,
          9185,
          8023,
          7957,
          7513,
          7404,
          9311,
          8317,
          7840,
          7022,
          7791,
          7793,
          8517,
          9248,
          9147,
          7885,
          7949,
          7464,
          7641,
          6666,
          8265,
          7840,
          8400,
          7905,
          7735,
          7242,
          7663,
          7036,
          6935,
          6386,
          6955,
          6740,
          6363,
          7189,
          8147,
          6970,
          7744,
          7169,
          6737,
          6321,
          5153,
          6611,
          5797,
          7412,
          6581,
          6182,
          7958,
          7211,
          6696,
          6996,
          7438,
          6765,
          8113,
          7443,
          6020,
          5569,
          6251,
          6689,
          5569,
          6861,
          6604,
          6842,
          6476,
          7058,
          5838,
          5436,
          5562,
          5618,
          6092,
          4618,
          5166,
          7113,
          5405,
          4668,
          6505,
          4898,
          4826,
          5866,
          7236,
          5084,
          5913,
          5826,
          5173,
          5680,
          5108,
          5135,
          5329,
          4635,
          6235,
          5735,
          5293,
          5004,
          4449,
          5930,
          4422,
          4621,
          5729,
          5435,
          5536,
          5014,
          5386,
          4413,
          4212,
          3727,
          5201,
          5232,
          6255,
          6079,
          5404,
          4066,
          4249,
          5460,
          4750,
          4683,
          5259,
          3697,
          3896,
          4263,
          3634,
          4111,
          4098,
          4339,
          3909,
          4044,
          3392,
          3590,
          3887,
          4510,
          3588,
          4543,
          4605,
          2824,
          3107,
          4263,
          2530,
          4618,
          3353,
          2991,
          3242,
          3409,
          3079,
          2763,
          2683,
          1823,
          2645,
          2041,
          3418,
          1884,
          2777,
          3270,
          2225
         ],
         "y0": " ",
         "yaxis": "y"
        },
        {
         "alignmentgroup": "True",
         "hovertemplate": "department=Sales<br>bonus=%{y}<extra></extra>",
         "legendgroup": "Sales",
         "marker": {
          "color": "#ab63fa"
         },
         "name": "Sales",
         "notched": false,
         "offsetgroup": "Sales",
         "orientation": "v",
         "showlegend": true,
         "type": "box",
         "x0": " ",
         "xaxis": "x",
         "y": [
          10154,
          10541,
          8990,
          9329,
          9792,
          8949,
          11293,
          10346,
          10215,
          9654,
          9168,
          9395,
          8375,
          8725,
          8961,
          9093,
          8502,
          7539,
          9089,
          9042,
          8472,
          8841,
          7205,
          8744,
          8872,
          8273,
          7573,
          7918,
          7524,
          9090,
          7850,
          7654,
          7827,
          7279,
          8199,
          7346,
          9289,
          8335,
          8609,
          8472,
          8307,
          6839,
          7075,
          7776,
          7491,
          8388,
          8339,
          7873,
          8443,
          8278,
          7094,
          9230,
          7739,
          7316,
          7144,
          8456,
          6397,
          7813,
          7139,
          7864,
          8465,
          7808,
          8145,
          7622,
          7246,
          7947,
          6773,
          6912,
          7411,
          8780,
          5000,
          7640,
          7500,
          6345,
          7196,
          5794,
          7003,
          7325,
          7559,
          6257,
          8092,
          6586,
          6042,
          7329,
          6922,
          7106,
          7646,
          7279,
          5272,
          6545,
          8109,
          6989,
          6556,
          6942,
          6662,
          8035,
          7440,
          5516,
          6432,
          5953,
          6777,
          6243,
          6552,
          6753,
          7198,
          5914,
          5924,
          6224,
          5383,
          5668,
          6122,
          4890,
          6010,
          6019,
          6179,
          5359,
          6506,
          5881,
          7126,
          5380,
          4998,
          5697,
          6044,
          5234,
          5345,
          5512,
          5647,
          5038,
          4854,
          4925,
          4650,
          5133,
          6350,
          4357,
          4524,
          5009,
          5346,
          4690,
          4079,
          5214,
          4844,
          5698,
          4165,
          6032,
          4466,
          4969,
          5513,
          3100,
          4115,
          5404,
          4045,
          3768,
          5723,
          4073,
          4829,
          5078,
          3415,
          5992,
          5538,
          4442,
          5022,
          3795,
          4981,
          5070,
          3653,
          4275,
          4243,
          4965,
          4300,
          4390,
          2930,
          3955,
          3384,
          3223,
          3084,
          4157,
          4596,
          5472,
          3738,
          3518,
          3712,
          3841,
          3964,
          2730,
          4811,
          3521,
          3530,
          4045,
          4214,
          4143,
          3528,
          3892,
          3510,
          2200,
          3247,
          4070,
          3688,
          3255,
          3367,
          3180,
          2193,
          2041,
          3888,
          2125,
          3083,
          3567,
          2244
         ],
         "y0": " ",
         "yaxis": "y"
        },
        {
         "alignmentgroup": "True",
         "hovertemplate": "department=Engineering<br>bonus=%{y}<extra></extra>",
         "legendgroup": "Engineering",
         "marker": {
          "color": "#FFA15A"
         },
         "name": "Engineering",
         "notched": false,
         "offsetgroup": "Engineering",
         "orientation": "v",
         "showlegend": true,
         "type": "box",
         "x0": " ",
         "xaxis": "x",
         "y": [
          9319,
          10240,
          9836,
          9941,
          10212,
          9461,
          9838,
          9210,
          9625,
          10015,
          10177,
          9972,
          9868,
          9564,
          8886,
          9874,
          8841,
          9687,
          11067,
          8762,
          9798,
          10042,
          8747,
          9368,
          10173,
          8457,
          8872,
          9130,
          10052,
          9130,
          8215,
          9421,
          7204,
          8596,
          8972,
          8290,
          8700,
          6855,
          8873,
          8383,
          9036,
          8578,
          8552,
          8832,
          6897,
          8201,
          8477,
          8543,
          7169,
          8509,
          7385,
          9522,
          8210,
          8978,
          9736,
          7350,
          8375,
          7668,
          7769,
          9335,
          9694,
          7229,
          7634,
          8391,
          8761,
          8010,
          8894,
          9111,
          7415,
          6966,
          6378,
          6111,
          7101,
          7778,
          7817,
          8727,
          6413,
          6692,
          8328,
          8100,
          6615,
          8244,
          6682,
          6631,
          5520,
          6839,
          7932,
          7632,
          6122,
          7522,
          7822,
          6643,
          5937,
          7552,
          6897,
          7304,
          6620,
          6499,
          6060,
          7291,
          6615,
          6177,
          6394,
          4765,
          5479,
          6295,
          6430,
          6866,
          5495,
          5943,
          6453,
          7205,
          7301,
          5520,
          6630,
          5829,
          6462,
          6016,
          6398,
          6124,
          5470,
          6596,
          4584,
          5243,
          6327,
          7460,
          5944,
          5224,
          5888,
          5445,
          5412,
          5713,
          5183,
          5845,
          4548,
          5454,
          4872,
          4980,
          5426,
          7233,
          5798,
          5754,
          5195,
          4322,
          4892,
          4962,
          5220,
          4677,
          6817,
          4439,
          4566,
          4708,
          5795,
          4621,
          5430,
          4964,
          4664,
          5410,
          2324,
          5281,
          4967,
          4126,
          3910,
          4148,
          4202,
          4495,
          4827,
          4409,
          5120,
          4734,
          4694,
          4503,
          4685,
          3875,
          3961,
          3871,
          4037,
          4289,
          3270,
          3791,
          4780,
          2982,
          3908,
          5236,
          4204,
          3988,
          2600,
          3078,
          3789,
          3680,
          2656,
          3318
         ],
         "y0": " ",
         "yaxis": "y"
        }
       ],
       "layout": {
        "boxmode": "group",
        "legend": {
         "title": {
          "text": "department"
         },
         "tracegroupgap": 0
        },
        "template": {
         "data": {
          "bar": [
           {
            "error_x": {
             "color": "#2a3f5f"
            },
            "error_y": {
             "color": "#2a3f5f"
            },
            "marker": {
             "line": {
              "color": "#E5ECF6",
              "width": 0.5
             },
             "pattern": {
              "fillmode": "overlay",
              "size": 10,
              "solidity": 0.2
             }
            },
            "type": "bar"
           }
          ],
          "barpolar": [
           {
            "marker": {
             "line": {
              "color": "#E5ECF6",
              "width": 0.5
             },
             "pattern": {
              "fillmode": "overlay",
              "size": 10,
              "solidity": 0.2
             }
            },
            "type": "barpolar"
           }
          ],
          "carpet": [
           {
            "aaxis": {
             "endlinecolor": "#2a3f5f",
             "gridcolor": "white",
             "linecolor": "white",
             "minorgridcolor": "white",
             "startlinecolor": "#2a3f5f"
            },
            "baxis": {
             "endlinecolor": "#2a3f5f",
             "gridcolor": "white",
             "linecolor": "white",
             "minorgridcolor": "white",
             "startlinecolor": "#2a3f5f"
            },
            "type": "carpet"
           }
          ],
          "choropleth": [
           {
            "colorbar": {
             "outlinewidth": 0,
             "ticks": ""
            },
            "type": "choropleth"
           }
          ],
          "contour": [
           {
            "colorbar": {
             "outlinewidth": 0,
             "ticks": ""
            },
            "colorscale": [
             [
              0,
              "#0d0887"
             ],
             [
              0.1111111111111111,
              "#46039f"
             ],
             [
              0.2222222222222222,
              "#7201a8"
             ],
             [
              0.3333333333333333,
              "#9c179e"
             ],
             [
              0.4444444444444444,
              "#bd3786"
             ],
             [
              0.5555555555555556,
              "#d8576b"
             ],
             [
              0.6666666666666666,
              "#ed7953"
             ],
             [
              0.7777777777777778,
              "#fb9f3a"
             ],
             [
              0.8888888888888888,
              "#fdca26"
             ],
             [
              1,
              "#f0f921"
             ]
            ],
            "type": "contour"
           }
          ],
          "contourcarpet": [
           {
            "colorbar": {
             "outlinewidth": 0,
             "ticks": ""
            },
            "type": "contourcarpet"
           }
          ],
          "heatmap": [
           {
            "colorbar": {
             "outlinewidth": 0,
             "ticks": ""
            },
            "colorscale": [
             [
              0,
              "#0d0887"
             ],
             [
              0.1111111111111111,
              "#46039f"
             ],
             [
              0.2222222222222222,
              "#7201a8"
             ],
             [
              0.3333333333333333,
              "#9c179e"
             ],
             [
              0.4444444444444444,
              "#bd3786"
             ],
             [
              0.5555555555555556,
              "#d8576b"
             ],
             [
              0.6666666666666666,
              "#ed7953"
             ],
             [
              0.7777777777777778,
              "#fb9f3a"
             ],
             [
              0.8888888888888888,
              "#fdca26"
             ],
             [
              1,
              "#f0f921"
             ]
            ],
            "type": "heatmap"
           }
          ],
          "heatmapgl": [
           {
            "colorbar": {
             "outlinewidth": 0,
             "ticks": ""
            },
            "colorscale": [
             [
              0,
              "#0d0887"
             ],
             [
              0.1111111111111111,
              "#46039f"
             ],
             [
              0.2222222222222222,
              "#7201a8"
             ],
             [
              0.3333333333333333,
              "#9c179e"
             ],
             [
              0.4444444444444444,
              "#bd3786"
             ],
             [
              0.5555555555555556,
              "#d8576b"
             ],
             [
              0.6666666666666666,
              "#ed7953"
             ],
             [
              0.7777777777777778,
              "#fb9f3a"
             ],
             [
              0.8888888888888888,
              "#fdca26"
             ],
             [
              1,
              "#f0f921"
             ]
            ],
            "type": "heatmapgl"
           }
          ],
          "histogram": [
           {
            "marker": {
             "pattern": {
              "fillmode": "overlay",
              "size": 10,
              "solidity": 0.2
             }
            },
            "type": "histogram"
           }
          ],
          "histogram2d": [
           {
            "colorbar": {
             "outlinewidth": 0,
             "ticks": ""
            },
            "colorscale": [
             [
              0,
              "#0d0887"
             ],
             [
              0.1111111111111111,
              "#46039f"
             ],
             [
              0.2222222222222222,
              "#7201a8"
             ],
             [
              0.3333333333333333,
              "#9c179e"
             ],
             [
              0.4444444444444444,
              "#bd3786"
             ],
             [
              0.5555555555555556,
              "#d8576b"
             ],
             [
              0.6666666666666666,
              "#ed7953"
             ],
             [
              0.7777777777777778,
              "#fb9f3a"
             ],
             [
              0.8888888888888888,
              "#fdca26"
             ],
             [
              1,
              "#f0f921"
             ]
            ],
            "type": "histogram2d"
           }
          ],
          "histogram2dcontour": [
           {
            "colorbar": {
             "outlinewidth": 0,
             "ticks": ""
            },
            "colorscale": [
             [
              0,
              "#0d0887"
             ],
             [
              0.1111111111111111,
              "#46039f"
             ],
             [
              0.2222222222222222,
              "#7201a8"
             ],
             [
              0.3333333333333333,
              "#9c179e"
             ],
             [
              0.4444444444444444,
              "#bd3786"
             ],
             [
              0.5555555555555556,
              "#d8576b"
             ],
             [
              0.6666666666666666,
              "#ed7953"
             ],
             [
              0.7777777777777778,
              "#fb9f3a"
             ],
             [
              0.8888888888888888,
              "#fdca26"
             ],
             [
              1,
              "#f0f921"
             ]
            ],
            "type": "histogram2dcontour"
           }
          ],
          "mesh3d": [
           {
            "colorbar": {
             "outlinewidth": 0,
             "ticks": ""
            },
            "type": "mesh3d"
           }
          ],
          "parcoords": [
           {
            "line": {
             "colorbar": {
              "outlinewidth": 0,
              "ticks": ""
             }
            },
            "type": "parcoords"
           }
          ],
          "pie": [
           {
            "automargin": true,
            "type": "pie"
           }
          ],
          "scatter": [
           {
            "fillpattern": {
             "fillmode": "overlay",
             "size": 10,
             "solidity": 0.2
            },
            "type": "scatter"
           }
          ],
          "scatter3d": [
           {
            "line": {
             "colorbar": {
              "outlinewidth": 0,
              "ticks": ""
             }
            },
            "marker": {
             "colorbar": {
              "outlinewidth": 0,
              "ticks": ""
             }
            },
            "type": "scatter3d"
           }
          ],
          "scattercarpet": [
           {
            "marker": {
             "colorbar": {
              "outlinewidth": 0,
              "ticks": ""
             }
            },
            "type": "scattercarpet"
           }
          ],
          "scattergeo": [
           {
            "marker": {
             "colorbar": {
              "outlinewidth": 0,
              "ticks": ""
             }
            },
            "type": "scattergeo"
           }
          ],
          "scattergl": [
           {
            "marker": {
             "colorbar": {
              "outlinewidth": 0,
              "ticks": ""
             }
            },
            "type": "scattergl"
           }
          ],
          "scattermapbox": [
           {
            "marker": {
             "colorbar": {
              "outlinewidth": 0,
              "ticks": ""
             }
            },
            "type": "scattermapbox"
           }
          ],
          "scatterpolar": [
           {
            "marker": {
             "colorbar": {
              "outlinewidth": 0,
              "ticks": ""
             }
            },
            "type": "scatterpolar"
           }
          ],
          "scatterpolargl": [
           {
            "marker": {
             "colorbar": {
              "outlinewidth": 0,
              "ticks": ""
             }
            },
            "type": "scatterpolargl"
           }
          ],
          "scatterternary": [
           {
            "marker": {
             "colorbar": {
              "outlinewidth": 0,
              "ticks": ""
             }
            },
            "type": "scatterternary"
           }
          ],
          "surface": [
           {
            "colorbar": {
             "outlinewidth": 0,
             "ticks": ""
            },
            "colorscale": [
             [
              0,
              "#0d0887"
             ],
             [
              0.1111111111111111,
              "#46039f"
             ],
             [
              0.2222222222222222,
              "#7201a8"
             ],
             [
              0.3333333333333333,
              "#9c179e"
             ],
             [
              0.4444444444444444,
              "#bd3786"
             ],
             [
              0.5555555555555556,
              "#d8576b"
             ],
             [
              0.6666666666666666,
              "#ed7953"
             ],
             [
              0.7777777777777778,
              "#fb9f3a"
             ],
             [
              0.8888888888888888,
              "#fdca26"
             ],
             [
              1,
              "#f0f921"
             ]
            ],
            "type": "surface"
           }
          ],
          "table": [
           {
            "cells": {
             "fill": {
              "color": "#EBF0F8"
             },
             "line": {
              "color": "white"
             }
            },
            "header": {
             "fill": {
              "color": "#C8D4E3"
             },
             "line": {
              "color": "white"
             }
            },
            "type": "table"
           }
          ]
         },
         "layout": {
          "annotationdefaults": {
           "arrowcolor": "#2a3f5f",
           "arrowhead": 0,
           "arrowwidth": 1
          },
          "autotypenumbers": "strict",
          "coloraxis": {
           "colorbar": {
            "outlinewidth": 0,
            "ticks": ""
           }
          },
          "colorscale": {
           "diverging": [
            [
             0,
             "#8e0152"
            ],
            [
             0.1,
             "#c51b7d"
            ],
            [
             0.2,
             "#de77ae"
            ],
            [
             0.3,
             "#f1b6da"
            ],
            [
             0.4,
             "#fde0ef"
            ],
            [
             0.5,
             "#f7f7f7"
            ],
            [
             0.6,
             "#e6f5d0"
            ],
            [
             0.7,
             "#b8e186"
            ],
            [
             0.8,
             "#7fbc41"
            ],
            [
             0.9,
             "#4d9221"
            ],
            [
             1,
             "#276419"
            ]
           ],
           "sequential": [
            [
             0,
             "#0d0887"
            ],
            [
             0.1111111111111111,
             "#46039f"
            ],
            [
             0.2222222222222222,
             "#7201a8"
            ],
            [
             0.3333333333333333,
             "#9c179e"
            ],
            [
             0.4444444444444444,
             "#bd3786"
            ],
            [
             0.5555555555555556,
             "#d8576b"
            ],
            [
             0.6666666666666666,
             "#ed7953"
            ],
            [
             0.7777777777777778,
             "#fb9f3a"
            ],
            [
             0.8888888888888888,
             "#fdca26"
            ],
            [
             1,
             "#f0f921"
            ]
           ],
           "sequentialminus": [
            [
             0,
             "#0d0887"
            ],
            [
             0.1111111111111111,
             "#46039f"
            ],
            [
             0.2222222222222222,
             "#7201a8"
            ],
            [
             0.3333333333333333,
             "#9c179e"
            ],
            [
             0.4444444444444444,
             "#bd3786"
            ],
            [
             0.5555555555555556,
             "#d8576b"
            ],
            [
             0.6666666666666666,
             "#ed7953"
            ],
            [
             0.7777777777777778,
             "#fb9f3a"
            ],
            [
             0.8888888888888888,
             "#fdca26"
            ],
            [
             1,
             "#f0f921"
            ]
           ]
          },
          "colorway": [
           "#636efa",
           "#EF553B",
           "#00cc96",
           "#ab63fa",
           "#FFA15A",
           "#19d3f3",
           "#FF6692",
           "#B6E880",
           "#FF97FF",
           "#FECB52"
          ],
          "font": {
           "color": "#2a3f5f"
          },
          "geo": {
           "bgcolor": "white",
           "lakecolor": "white",
           "landcolor": "#E5ECF6",
           "showlakes": true,
           "showland": true,
           "subunitcolor": "white"
          },
          "hoverlabel": {
           "align": "left"
          },
          "hovermode": "closest",
          "mapbox": {
           "style": "light"
          },
          "paper_bgcolor": "white",
          "plot_bgcolor": "#E5ECF6",
          "polar": {
           "angularaxis": {
            "gridcolor": "white",
            "linecolor": "white",
            "ticks": ""
           },
           "bgcolor": "#E5ECF6",
           "radialaxis": {
            "gridcolor": "white",
            "linecolor": "white",
            "ticks": ""
           }
          },
          "scene": {
           "xaxis": {
            "backgroundcolor": "#E5ECF6",
            "gridcolor": "white",
            "gridwidth": 2,
            "linecolor": "white",
            "showbackground": true,
            "ticks": "",
            "zerolinecolor": "white"
           },
           "yaxis": {
            "backgroundcolor": "#E5ECF6",
            "gridcolor": "white",
            "gridwidth": 2,
            "linecolor": "white",
            "showbackground": true,
            "ticks": "",
            "zerolinecolor": "white"
           },
           "zaxis": {
            "backgroundcolor": "#E5ECF6",
            "gridcolor": "white",
            "gridwidth": 2,
            "linecolor": "white",
            "showbackground": true,
            "ticks": "",
            "zerolinecolor": "white"
           }
          },
          "shapedefaults": {
           "line": {
            "color": "#2a3f5f"
           }
          },
          "ternary": {
           "aaxis": {
            "gridcolor": "white",
            "linecolor": "white",
            "ticks": ""
           },
           "baxis": {
            "gridcolor": "white",
            "linecolor": "white",
            "ticks": ""
           },
           "bgcolor": "#E5ECF6",
           "caxis": {
            "gridcolor": "white",
            "linecolor": "white",
            "ticks": ""
           }
          },
          "title": {
           "x": 0.05
          },
          "xaxis": {
           "automargin": true,
           "gridcolor": "white",
           "linecolor": "white",
           "ticks": "",
           "title": {
            "standoff": 15
           },
           "zerolinecolor": "white",
           "zerolinewidth": 2
          },
          "yaxis": {
           "automargin": true,
           "gridcolor": "white",
           "linecolor": "white",
           "ticks": "",
           "title": {
            "standoff": 15
           },
           "zerolinecolor": "white",
           "zerolinewidth": 2
          }
         }
        },
        "title": {
         "text": "Distribucion de bonos por department"
        },
        "xaxis": {
         "anchor": "y",
         "domain": [
          0,
          1
         ]
        },
        "yaxis": {
         "anchor": "x",
         "domain": [
          0,
          1
         ],
         "title": {
          "text": "bonus"
         }
        }
       }
      }
     },
     "metadata": {},
     "output_type": "display_data"
    },
    {
     "data": {
      "application/vnd.plotly.v1+json": {
       "config": {
        "plotlyServerURL": "https://plot.ly"
       },
       "data": [
        {
         "alignmentgroup": "True",
         "hovertemplate": "seniority=2<br>bonus=%{y}<extra></extra>",
         "legendgroup": "2",
         "marker": {
          "color": "#636efa"
         },
         "name": "2",
         "notched": false,
         "offsetgroup": "2",
         "orientation": "v",
         "showlegend": true,
         "type": "box",
         "x0": " ",
         "xaxis": "x",
         "y": [
          9938,
          10015,
          10137,
          8949,
          9868,
          9654,
          8886,
          9564,
          9405,
          8590,
          9798,
          9368,
          8384,
          7204,
          8357,
          8833,
          8515,
          8014,
          9454,
          9553,
          9042,
          8058,
          8130,
          8201,
          8950,
          7524,
          8188,
          8435,
          7169,
          9585,
          9185,
          8509,
          8023,
          7957,
          7385,
          7654,
          7827,
          7279,
          8199,
          8210,
          8375,
          6346,
          8335,
          7657,
          7757,
          7253,
          7320,
          8335,
          7999,
          7885,
          7873,
          7827,
          7415,
          7402,
          7257,
          7316,
          6914,
          6378,
          6666,
          8462,
          6495,
          6824,
          7460,
          7817,
          7028,
          7550,
          6692,
          7449,
          6554,
          5000,
          6615,
          6345,
          7404,
          7003,
          6739,
          6970,
          7246,
          8092,
          6122,
          7522,
          7327,
          7106,
          6490,
          5153,
          6471,
          5646,
          6620,
          7291,
          6942,
          6177,
          6765,
          6394,
          7440,
          6295,
          5953,
          6777,
          5327,
          8001,
          6020,
          5569,
          5878,
          6235,
          6462,
          5914,
          6016,
          6398,
          6124,
          6746,
          6604,
          6122,
          4152,
          6660,
          5090,
          6476,
          7058,
          5436,
          5944,
          5863,
          6179,
          6508,
          5876,
          5881,
          5803,
          4673,
          5175,
          4618,
          4998,
          6277,
          4980,
          5499,
          4756,
          5512,
          5284,
          5195,
          5133,
          4076,
          4760,
          6083,
          6817,
          4449,
          5930,
          4549,
          4422,
          6274,
          4536,
          4453,
          5698,
          4165,
          4708,
          3817,
          5014,
          5513,
          4115,
          5430,
          3768,
          5723,
          4073,
          6079,
          3927,
          4829,
          5992,
          4472,
          3603,
          5268,
          3795,
          4202,
          3653,
          4409,
          5597,
          4503,
          3438,
          3990,
          4263,
          3634,
          4851,
          4685,
          3909,
          3661,
          3223,
          4596,
          4993,
          3712,
          3274,
          3721,
          3588,
          3382,
          4811,
          4543,
          3599,
          3746,
          2530,
          4204,
          3247,
          4388,
          3536,
          2978,
          3078,
          3255,
          3655,
          2051,
          2963,
          2763,
          3083,
          1823,
          2645,
          3418,
          2777,
          3567,
          2244
         ],
         "y0": " ",
         "yaxis": "y"
        },
        {
         "alignmentgroup": "True",
         "hovertemplate": "seniority=5<br>bonus=%{y}<extra></extra>",
         "legendgroup": "5",
         "marker": {
          "color": "#EF553B"
         },
         "name": "5",
         "notched": false,
         "offsetgroup": "5",
         "orientation": "v",
         "showlegend": true,
         "type": "box",
         "x0": " ",
         "xaxis": "x",
         "y": [
          11128,
          9268,
          9319,
          10240,
          9836,
          9941,
          10212,
          9583,
          10768,
          9949,
          9461,
          9838,
          9210,
          9625,
          10504,
          10512,
          10139,
          9784,
          11293,
          9424,
          9353,
          9564,
          9687,
          11067,
          10324,
          8762,
          9168,
          10042,
          10173,
          9979,
          9395,
          8961,
          8802,
          9093,
          10122,
          10052,
          8818,
          8972,
          9255,
          9310,
          8700,
          10375,
          7627,
          9089,
          7985,
          8841,
          8552,
          7444,
          9653,
          8273,
          8477,
          9619,
          7414,
          9229,
          7794,
          7392,
          8090,
          7346,
          7832,
          7280,
          9311,
          7840,
          7022,
          7791,
          7960,
          9694,
          8472,
          7634,
          6839,
          8010,
          8388,
          9248,
          9147,
          6332,
          9551,
          6966,
          8505,
          7641,
          8265,
          6111,
          7139,
          7778,
          8400,
          7905,
          7735,
          7246,
          8688,
          8727,
          6669,
          6773,
          6912,
          7036,
          5764,
          6700,
          6740,
          6454,
          7189,
          7555,
          6839,
          7196,
          8147,
          7721,
          6929,
          6997,
          6737,
          6586,
          6340,
          6439,
          6545,
          7113,
          7958,
          7304,
          6499,
          6060,
          6696,
          4775,
          6290,
          5516,
          6496,
          6558,
          6432,
          6866,
          6336,
          5520,
          7198,
          6572,
          5982,
          6861,
          5136,
          5453,
          5679,
          7460,
          6010,
          5359,
          6506,
          5831,
          3846,
          6381,
          5618,
          5380,
          6044,
          5878,
          4668,
          4826,
          5688,
          5454,
          4700,
          5084,
          5345,
          5426,
          7233,
          5239,
          4925,
          6303,
          5293,
          4677,
          6107,
          4572,
          4845,
          4439,
          4626,
          4844,
          5435,
          4969,
          4458,
          5281,
          4793,
          5404,
          3415,
          4095,
          4916,
          5070,
          5120,
          4734,
          4694,
          4322,
          3415,
          4415,
          4111,
          3875,
          3961,
          4339,
          2930,
          4037,
          3384,
          3084,
          3590,
          4275,
          3431,
          3107,
          4214,
          3988,
          3409
         ],
         "y0": " ",
         "yaxis": "y"
        },
        {
         "alignmentgroup": "True",
         "hovertemplate": "seniority=4<br>bonus=%{y}<extra></extra>",
         "legendgroup": "4",
         "marker": {
          "color": "#00cc96"
         },
         "name": "4",
         "notched": false,
         "offsetgroup": "4",
         "orientation": "v",
         "showlegend": true,
         "type": "box",
         "x0": " ",
         "xaxis": "x",
         "y": [
          10154,
          10126,
          10541,
          9745,
          9618,
          10177,
          9233,
          10050,
          9780,
          9409,
          9023,
          10215,
          9104,
          8623,
          9493,
          9479,
          9874,
          9958,
          10209,
          8747,
          8375,
          8725,
          9129,
          9611,
          8647,
          8215,
          9421,
          8459,
          8596,
          8643,
          8245,
          7511,
          8290,
          7802,
          9345,
          8383,
          8472,
          8347,
          8832,
          8928,
          8974,
          7573,
          7918,
          9090,
          8347,
          7513,
          9012,
          9007,
          9522,
          8338,
          8978,
          9736,
          9289,
          9090,
          7793,
          8609,
          8391,
          7491,
          8339,
          7266,
          7949,
          8209,
          7464,
          8278,
          9230,
          7750,
          7144,
          6397,
          7101,
          7808,
          7765,
          6751,
          8145,
          8013,
          7622,
          8360,
          6578,
          7663,
          7640,
          7144,
          6291,
          6184,
          6682,
          6530,
          6363,
          6577,
          7932,
          7268,
          6257,
          7744,
          6564,
          6042,
          6321,
          6643,
          6611,
          5797,
          8109,
          6274,
          6996,
          6537,
          6931,
          5947,
          6722,
          5479,
          7160,
          6430,
          7052,
          5495,
          5943,
          7205,
          7301,
          6251,
          6630,
          5989,
          6356,
          6490,
          6219,
          6497,
          5020,
          5243,
          6019,
          5224,
          5888,
          5236,
          5598,
          5166,
          7113,
          5405,
          4898,
          5927,
          5234,
          3879,
          5396,
          5866,
          5798,
          4892,
          4962,
          6151,
          5735,
          4566,
          4621,
          4489,
          5352,
          4702,
          6032,
          5613,
          5068,
          4184,
          3100,
          5225,
          4621,
          5404,
          4212,
          4964,
          4534,
          3727,
          6255,
          5097,
          4126,
          4249,
          4442,
          3652,
          4827,
          5481,
          4275,
          4683,
          5259,
          3697,
          3896,
          3871,
          4044,
          3955,
          4237,
          4510,
          4766,
          2661,
          2982,
          4723,
          4284,
          4143,
          3528,
          4263,
          3463,
          3789
         ],
         "y0": " ",
         "yaxis": "y"
        },
        {
         "alignmentgroup": "True",
         "hovertemplate": "seniority=3<br>bonus=%{y}<extra></extra>",
         "legendgroup": "3",
         "marker": {
          "color": "#ab63fa"
         },
         "name": "3",
         "notched": false,
         "offsetgroup": "3",
         "orientation": "v",
         "showlegend": true,
         "type": "box",
         "x0": " ",
         "xaxis": "x",
         "y": [
          10124,
          8990,
          10334,
          9329,
          9792,
          9469,
          9972,
          9094,
          8703,
          9729,
          10033,
          10346,
          8949,
          8331,
          9841,
          10153,
          8841,
          9432,
          8234,
          10240,
          8857,
          8509,
          9945,
          8369,
          8645,
          8056,
          8743,
          8897,
          8668,
          8498,
          6855,
          8873,
          9036,
          8578,
          8049,
          8602,
          8744,
          8109,
          7567,
          7850,
          8306,
          7200,
          7404,
          7668,
          9335,
          7229,
          8449,
          8307,
          8894,
          9111,
          8407,
          7910,
          7776,
          8621,
          8581,
          8105,
          7168,
          7774,
          8456,
          8093,
          7813,
          8980,
          7089,
          8354,
          7411,
          8780,
          8100,
          8244,
          6993,
          6386,
          7736,
          6955,
          8587,
          7875,
          7614,
          6999,
          5794,
          7325,
          7242,
          6573,
          7329,
          6922,
          7552,
          7279,
          5272,
          6897,
          6182,
          6160,
          6615,
          7177,
          7314,
          7438,
          6662,
          7127,
          8160,
          8035,
          6898,
          6711,
          6832,
          6228,
          5477,
          6243,
          7433,
          6753,
          7213,
          6453,
          5627,
          5662,
          6900,
          6689,
          5569,
          5792,
          6618,
          5383,
          5668,
          6363,
          5470,
          6186,
          6596,
          5814,
          6842,
          7377,
          5838,
          7554,
          6536,
          7122,
          5308,
          7126,
          5713,
          6452,
          5608,
          6274,
          5183,
          5845,
          5697,
          4265,
          6775,
          6425,
          6580,
          4872,
          7236,
          6476,
          5826,
          5066,
          5135,
          5562,
          5329,
          5754,
          5647,
          5038,
          4635,
          5220,
          4357,
          6235,
          5004,
          5346,
          4079,
          5214,
          5729,
          4191,
          5536,
          5795,
          5861,
          4413,
          4664,
          5201,
          5410,
          2324,
          3474,
          3881,
          3910,
          4494,
          5538,
          4712,
          4687,
          4495,
          4750,
          4243,
          4617,
          4965,
          4309,
          4774,
          4516,
          3665,
          4098,
          3879,
          5576,
          3889,
          4825,
          3392,
          5472,
          4289,
          3964,
          2730,
          3530,
          3641,
          4045,
          3943,
          2824,
          2728,
          3892,
          3959,
          3908,
          2200,
          2600,
          2251,
          3366,
          3353,
          3647,
          3242,
          3367,
          3180,
          3079,
          3680,
          3453,
          2041,
          3888,
          2788,
          3042
         ],
         "y0": " ",
         "yaxis": "y"
        },
        {
         "alignmentgroup": "True",
         "hovertemplate": "seniority=1<br>bonus=%{y}<extra></extra>",
         "legendgroup": "1",
         "marker": {
          "color": "#FFA15A"
         },
         "name": "1",
         "notched": false,
         "offsetgroup": "1",
         "orientation": "v",
         "showlegend": true,
         "type": "box",
         "x0": " ",
         "xaxis": "x",
         "y": [
          9031,
          9242,
          9516,
          9931,
          8457,
          8872,
          9130,
          8914,
          9330,
          9130,
          8502,
          7539,
          8549,
          9075,
          8943,
          7902,
          7067,
          7679,
          7205,
          8602,
          9306,
          7475,
          8867,
          8872,
          6897,
          8816,
          8543,
          7285,
          7278,
          7185,
          7350,
          8245,
          7789,
          8317,
          7351,
          7769,
          8517,
          8761,
          9084,
          7740,
          7075,
          8636,
          6971,
          8389,
          8443,
          7094,
          7739,
          7939,
          7864,
          7840,
          8465,
          7730,
          6685,
          7947,
          7242,
          8090,
          6413,
          6893,
          8468,
          6814,
          8328,
          7500,
          6935,
          8253,
          6631,
          7466,
          5520,
          6519,
          6448,
          6760,
          7632,
          6946,
          7559,
          8123,
          7169,
          7822,
          7646,
          5937,
          6416,
          6027,
          6884,
          7412,
          6581,
          7642,
          7211,
          6989,
          6556,
          5239,
          4765,
          6258,
          7250,
          8113,
          7443,
          4161,
          6552,
          6812,
          5829,
          8439,
          5924,
          6224,
          6616,
          4584,
          5934,
          4680,
          4890,
          6327,
          5146,
          5751,
          5562,
          5445,
          5412,
          5406,
          6092,
          5452,
          5103,
          6505,
          4548,
          4701,
          5913,
          5173,
          5680,
          5108,
          5029,
          4322,
          4854,
          4650,
          6350,
          4524,
          5009,
          4690,
          6337,
          5390,
          4466,
          5386,
          4476,
          4045,
          5232,
          5114,
          5078,
          4967,
          3661,
          4310,
          4066,
          4148,
          5022,
          5460,
          4981,
          4373,
          5784,
          5001,
          4791,
          4300,
          4390,
          3578,
          4157,
          3738,
          3518,
          3044,
          3270,
          3887,
          4296,
          3955,
          3841,
          3791,
          4674,
          3521,
          4780,
          4605,
          3368,
          4149,
          3510,
          4618,
          5236,
          4070,
          4099,
          3078,
          2991,
          3688,
          3196,
          3927,
          4765,
          3745,
          1703,
          2193,
          2375,
          2125,
          2611,
          2656,
          2683,
          3318,
          2041,
          1884,
          3270,
          2724,
          2225
         ],
         "y0": " ",
         "yaxis": "y"
        }
       ],
       "layout": {
        "boxmode": "group",
        "legend": {
         "title": {
          "text": "seniority"
         },
         "tracegroupgap": 0
        },
        "template": {
         "data": {
          "bar": [
           {
            "error_x": {
             "color": "#2a3f5f"
            },
            "error_y": {
             "color": "#2a3f5f"
            },
            "marker": {
             "line": {
              "color": "#E5ECF6",
              "width": 0.5
             },
             "pattern": {
              "fillmode": "overlay",
              "size": 10,
              "solidity": 0.2
             }
            },
            "type": "bar"
           }
          ],
          "barpolar": [
           {
            "marker": {
             "line": {
              "color": "#E5ECF6",
              "width": 0.5
             },
             "pattern": {
              "fillmode": "overlay",
              "size": 10,
              "solidity": 0.2
             }
            },
            "type": "barpolar"
           }
          ],
          "carpet": [
           {
            "aaxis": {
             "endlinecolor": "#2a3f5f",
             "gridcolor": "white",
             "linecolor": "white",
             "minorgridcolor": "white",
             "startlinecolor": "#2a3f5f"
            },
            "baxis": {
             "endlinecolor": "#2a3f5f",
             "gridcolor": "white",
             "linecolor": "white",
             "minorgridcolor": "white",
             "startlinecolor": "#2a3f5f"
            },
            "type": "carpet"
           }
          ],
          "choropleth": [
           {
            "colorbar": {
             "outlinewidth": 0,
             "ticks": ""
            },
            "type": "choropleth"
           }
          ],
          "contour": [
           {
            "colorbar": {
             "outlinewidth": 0,
             "ticks": ""
            },
            "colorscale": [
             [
              0,
              "#0d0887"
             ],
             [
              0.1111111111111111,
              "#46039f"
             ],
             [
              0.2222222222222222,
              "#7201a8"
             ],
             [
              0.3333333333333333,
              "#9c179e"
             ],
             [
              0.4444444444444444,
              "#bd3786"
             ],
             [
              0.5555555555555556,
              "#d8576b"
             ],
             [
              0.6666666666666666,
              "#ed7953"
             ],
             [
              0.7777777777777778,
              "#fb9f3a"
             ],
             [
              0.8888888888888888,
              "#fdca26"
             ],
             [
              1,
              "#f0f921"
             ]
            ],
            "type": "contour"
           }
          ],
          "contourcarpet": [
           {
            "colorbar": {
             "outlinewidth": 0,
             "ticks": ""
            },
            "type": "contourcarpet"
           }
          ],
          "heatmap": [
           {
            "colorbar": {
             "outlinewidth": 0,
             "ticks": ""
            },
            "colorscale": [
             [
              0,
              "#0d0887"
             ],
             [
              0.1111111111111111,
              "#46039f"
             ],
             [
              0.2222222222222222,
              "#7201a8"
             ],
             [
              0.3333333333333333,
              "#9c179e"
             ],
             [
              0.4444444444444444,
              "#bd3786"
             ],
             [
              0.5555555555555556,
              "#d8576b"
             ],
             [
              0.6666666666666666,
              "#ed7953"
             ],
             [
              0.7777777777777778,
              "#fb9f3a"
             ],
             [
              0.8888888888888888,
              "#fdca26"
             ],
             [
              1,
              "#f0f921"
             ]
            ],
            "type": "heatmap"
           }
          ],
          "heatmapgl": [
           {
            "colorbar": {
             "outlinewidth": 0,
             "ticks": ""
            },
            "colorscale": [
             [
              0,
              "#0d0887"
             ],
             [
              0.1111111111111111,
              "#46039f"
             ],
             [
              0.2222222222222222,
              "#7201a8"
             ],
             [
              0.3333333333333333,
              "#9c179e"
             ],
             [
              0.4444444444444444,
              "#bd3786"
             ],
             [
              0.5555555555555556,
              "#d8576b"
             ],
             [
              0.6666666666666666,
              "#ed7953"
             ],
             [
              0.7777777777777778,
              "#fb9f3a"
             ],
             [
              0.8888888888888888,
              "#fdca26"
             ],
             [
              1,
              "#f0f921"
             ]
            ],
            "type": "heatmapgl"
           }
          ],
          "histogram": [
           {
            "marker": {
             "pattern": {
              "fillmode": "overlay",
              "size": 10,
              "solidity": 0.2
             }
            },
            "type": "histogram"
           }
          ],
          "histogram2d": [
           {
            "colorbar": {
             "outlinewidth": 0,
             "ticks": ""
            },
            "colorscale": [
             [
              0,
              "#0d0887"
             ],
             [
              0.1111111111111111,
              "#46039f"
             ],
             [
              0.2222222222222222,
              "#7201a8"
             ],
             [
              0.3333333333333333,
              "#9c179e"
             ],
             [
              0.4444444444444444,
              "#bd3786"
             ],
             [
              0.5555555555555556,
              "#d8576b"
             ],
             [
              0.6666666666666666,
              "#ed7953"
             ],
             [
              0.7777777777777778,
              "#fb9f3a"
             ],
             [
              0.8888888888888888,
              "#fdca26"
             ],
             [
              1,
              "#f0f921"
             ]
            ],
            "type": "histogram2d"
           }
          ],
          "histogram2dcontour": [
           {
            "colorbar": {
             "outlinewidth": 0,
             "ticks": ""
            },
            "colorscale": [
             [
              0,
              "#0d0887"
             ],
             [
              0.1111111111111111,
              "#46039f"
             ],
             [
              0.2222222222222222,
              "#7201a8"
             ],
             [
              0.3333333333333333,
              "#9c179e"
             ],
             [
              0.4444444444444444,
              "#bd3786"
             ],
             [
              0.5555555555555556,
              "#d8576b"
             ],
             [
              0.6666666666666666,
              "#ed7953"
             ],
             [
              0.7777777777777778,
              "#fb9f3a"
             ],
             [
              0.8888888888888888,
              "#fdca26"
             ],
             [
              1,
              "#f0f921"
             ]
            ],
            "type": "histogram2dcontour"
           }
          ],
          "mesh3d": [
           {
            "colorbar": {
             "outlinewidth": 0,
             "ticks": ""
            },
            "type": "mesh3d"
           }
          ],
          "parcoords": [
           {
            "line": {
             "colorbar": {
              "outlinewidth": 0,
              "ticks": ""
             }
            },
            "type": "parcoords"
           }
          ],
          "pie": [
           {
            "automargin": true,
            "type": "pie"
           }
          ],
          "scatter": [
           {
            "fillpattern": {
             "fillmode": "overlay",
             "size": 10,
             "solidity": 0.2
            },
            "type": "scatter"
           }
          ],
          "scatter3d": [
           {
            "line": {
             "colorbar": {
              "outlinewidth": 0,
              "ticks": ""
             }
            },
            "marker": {
             "colorbar": {
              "outlinewidth": 0,
              "ticks": ""
             }
            },
            "type": "scatter3d"
           }
          ],
          "scattercarpet": [
           {
            "marker": {
             "colorbar": {
              "outlinewidth": 0,
              "ticks": ""
             }
            },
            "type": "scattercarpet"
           }
          ],
          "scattergeo": [
           {
            "marker": {
             "colorbar": {
              "outlinewidth": 0,
              "ticks": ""
             }
            },
            "type": "scattergeo"
           }
          ],
          "scattergl": [
           {
            "marker": {
             "colorbar": {
              "outlinewidth": 0,
              "ticks": ""
             }
            },
            "type": "scattergl"
           }
          ],
          "scattermapbox": [
           {
            "marker": {
             "colorbar": {
              "outlinewidth": 0,
              "ticks": ""
             }
            },
            "type": "scattermapbox"
           }
          ],
          "scatterpolar": [
           {
            "marker": {
             "colorbar": {
              "outlinewidth": 0,
              "ticks": ""
             }
            },
            "type": "scatterpolar"
           }
          ],
          "scatterpolargl": [
           {
            "marker": {
             "colorbar": {
              "outlinewidth": 0,
              "ticks": ""
             }
            },
            "type": "scatterpolargl"
           }
          ],
          "scatterternary": [
           {
            "marker": {
             "colorbar": {
              "outlinewidth": 0,
              "ticks": ""
             }
            },
            "type": "scatterternary"
           }
          ],
          "surface": [
           {
            "colorbar": {
             "outlinewidth": 0,
             "ticks": ""
            },
            "colorscale": [
             [
              0,
              "#0d0887"
             ],
             [
              0.1111111111111111,
              "#46039f"
             ],
             [
              0.2222222222222222,
              "#7201a8"
             ],
             [
              0.3333333333333333,
              "#9c179e"
             ],
             [
              0.4444444444444444,
              "#bd3786"
             ],
             [
              0.5555555555555556,
              "#d8576b"
             ],
             [
              0.6666666666666666,
              "#ed7953"
             ],
             [
              0.7777777777777778,
              "#fb9f3a"
             ],
             [
              0.8888888888888888,
              "#fdca26"
             ],
             [
              1,
              "#f0f921"
             ]
            ],
            "type": "surface"
           }
          ],
          "table": [
           {
            "cells": {
             "fill": {
              "color": "#EBF0F8"
             },
             "line": {
              "color": "white"
             }
            },
            "header": {
             "fill": {
              "color": "#C8D4E3"
             },
             "line": {
              "color": "white"
             }
            },
            "type": "table"
           }
          ]
         },
         "layout": {
          "annotationdefaults": {
           "arrowcolor": "#2a3f5f",
           "arrowhead": 0,
           "arrowwidth": 1
          },
          "autotypenumbers": "strict",
          "coloraxis": {
           "colorbar": {
            "outlinewidth": 0,
            "ticks": ""
           }
          },
          "colorscale": {
           "diverging": [
            [
             0,
             "#8e0152"
            ],
            [
             0.1,
             "#c51b7d"
            ],
            [
             0.2,
             "#de77ae"
            ],
            [
             0.3,
             "#f1b6da"
            ],
            [
             0.4,
             "#fde0ef"
            ],
            [
             0.5,
             "#f7f7f7"
            ],
            [
             0.6,
             "#e6f5d0"
            ],
            [
             0.7,
             "#b8e186"
            ],
            [
             0.8,
             "#7fbc41"
            ],
            [
             0.9,
             "#4d9221"
            ],
            [
             1,
             "#276419"
            ]
           ],
           "sequential": [
            [
             0,
             "#0d0887"
            ],
            [
             0.1111111111111111,
             "#46039f"
            ],
            [
             0.2222222222222222,
             "#7201a8"
            ],
            [
             0.3333333333333333,
             "#9c179e"
            ],
            [
             0.4444444444444444,
             "#bd3786"
            ],
            [
             0.5555555555555556,
             "#d8576b"
            ],
            [
             0.6666666666666666,
             "#ed7953"
            ],
            [
             0.7777777777777778,
             "#fb9f3a"
            ],
            [
             0.8888888888888888,
             "#fdca26"
            ],
            [
             1,
             "#f0f921"
            ]
           ],
           "sequentialminus": [
            [
             0,
             "#0d0887"
            ],
            [
             0.1111111111111111,
             "#46039f"
            ],
            [
             0.2222222222222222,
             "#7201a8"
            ],
            [
             0.3333333333333333,
             "#9c179e"
            ],
            [
             0.4444444444444444,
             "#bd3786"
            ],
            [
             0.5555555555555556,
             "#d8576b"
            ],
            [
             0.6666666666666666,
             "#ed7953"
            ],
            [
             0.7777777777777778,
             "#fb9f3a"
            ],
            [
             0.8888888888888888,
             "#fdca26"
            ],
            [
             1,
             "#f0f921"
            ]
           ]
          },
          "colorway": [
           "#636efa",
           "#EF553B",
           "#00cc96",
           "#ab63fa",
           "#FFA15A",
           "#19d3f3",
           "#FF6692",
           "#B6E880",
           "#FF97FF",
           "#FECB52"
          ],
          "font": {
           "color": "#2a3f5f"
          },
          "geo": {
           "bgcolor": "white",
           "lakecolor": "white",
           "landcolor": "#E5ECF6",
           "showlakes": true,
           "showland": true,
           "subunitcolor": "white"
          },
          "hoverlabel": {
           "align": "left"
          },
          "hovermode": "closest",
          "mapbox": {
           "style": "light"
          },
          "paper_bgcolor": "white",
          "plot_bgcolor": "#E5ECF6",
          "polar": {
           "angularaxis": {
            "gridcolor": "white",
            "linecolor": "white",
            "ticks": ""
           },
           "bgcolor": "#E5ECF6",
           "radialaxis": {
            "gridcolor": "white",
            "linecolor": "white",
            "ticks": ""
           }
          },
          "scene": {
           "xaxis": {
            "backgroundcolor": "#E5ECF6",
            "gridcolor": "white",
            "gridwidth": 2,
            "linecolor": "white",
            "showbackground": true,
            "ticks": "",
            "zerolinecolor": "white"
           },
           "yaxis": {
            "backgroundcolor": "#E5ECF6",
            "gridcolor": "white",
            "gridwidth": 2,
            "linecolor": "white",
            "showbackground": true,
            "ticks": "",
            "zerolinecolor": "white"
           },
           "zaxis": {
            "backgroundcolor": "#E5ECF6",
            "gridcolor": "white",
            "gridwidth": 2,
            "linecolor": "white",
            "showbackground": true,
            "ticks": "",
            "zerolinecolor": "white"
           }
          },
          "shapedefaults": {
           "line": {
            "color": "#2a3f5f"
           }
          },
          "ternary": {
           "aaxis": {
            "gridcolor": "white",
            "linecolor": "white",
            "ticks": ""
           },
           "baxis": {
            "gridcolor": "white",
            "linecolor": "white",
            "ticks": ""
           },
           "bgcolor": "#E5ECF6",
           "caxis": {
            "gridcolor": "white",
            "linecolor": "white",
            "ticks": ""
           }
          },
          "title": {
           "x": 0.05
          },
          "xaxis": {
           "automargin": true,
           "gridcolor": "white",
           "linecolor": "white",
           "ticks": "",
           "title": {
            "standoff": 15
           },
           "zerolinecolor": "white",
           "zerolinewidth": 2
          },
          "yaxis": {
           "automargin": true,
           "gridcolor": "white",
           "linecolor": "white",
           "ticks": "",
           "title": {
            "standoff": 15
           },
           "zerolinecolor": "white",
           "zerolinewidth": 2
          }
         }
        },
        "title": {
         "text": "Distribucion de bonos por seniority"
        },
        "xaxis": {
         "anchor": "y",
         "domain": [
          0,
          1
         ]
        },
        "yaxis": {
         "anchor": "x",
         "domain": [
          0,
          1
         ],
         "title": {
          "text": "bonus"
         }
        }
       }
      }
     },
     "metadata": {},
     "output_type": "display_data"
    }
   ],
   "source": [
    "for col_name in categorical_columns:\n",
    "    fig=px.box(df, y=\"bonus\", title= f\"Distribucion de bonos por {col_name}\", color=col_name)\n",
    "    fig.show()"
   ]
  },
  {
   "cell_type": "markdown",
   "metadata": {},
   "source": [
    "- top 10 jobtitles según el ingreso total"
   ]
  },
  {
   "cell_type": "code",
   "execution_count": 13,
   "metadata": {},
   "outputs": [
    {
     "data": {
      "text/html": [
       "<div>\n",
       "<style scoped>\n",
       "    .dataframe tbody tr th:only-of-type {\n",
       "        vertical-align: middle;\n",
       "    }\n",
       "\n",
       "    .dataframe tbody tr th {\n",
       "        vertical-align: top;\n",
       "    }\n",
       "\n",
       "    .dataframe thead tr th {\n",
       "        text-align: left;\n",
       "    }\n",
       "</style>\n",
       "<table border=\"1\" class=\"dataframe\">\n",
       "  <thead>\n",
       "    <tr>\n",
       "      <th></th>\n",
       "      <th>jobtitle</th>\n",
       "      <th colspan=\"2\" halign=\"left\">total_income</th>\n",
       "      <th>avg_income</th>\n",
       "    </tr>\n",
       "    <tr>\n",
       "      <th></th>\n",
       "      <th></th>\n",
       "      <th>sum</th>\n",
       "      <th>count</th>\n",
       "      <th></th>\n",
       "    </tr>\n",
       "  </thead>\n",
       "  <tbody>\n",
       "    <tr>\n",
       "      <th>5</th>\n",
       "      <td>Manager</td>\n",
       "      <td>11825296</td>\n",
       "      <td>90</td>\n",
       "      <td>131392.177778</td>\n",
       "    </tr>\n",
       "    <tr>\n",
       "      <th>8</th>\n",
       "      <td>Software Engineer</td>\n",
       "      <td>12225594</td>\n",
       "      <td>109</td>\n",
       "      <td>112161.412844</td>\n",
       "    </tr>\n",
       "    <tr>\n",
       "      <th>2</th>\n",
       "      <td>Financial Analyst</td>\n",
       "      <td>10850188</td>\n",
       "      <td>107</td>\n",
       "      <td>101403.626168</td>\n",
       "    </tr>\n",
       "    <tr>\n",
       "      <th>7</th>\n",
       "      <td>Sales Associate</td>\n",
       "      <td>9369054</td>\n",
       "      <td>94</td>\n",
       "      <td>99670.787234</td>\n",
       "    </tr>\n",
       "    <tr>\n",
       "      <th>0</th>\n",
       "      <td>Data Scientist</td>\n",
       "      <td>10584270</td>\n",
       "      <td>107</td>\n",
       "      <td>98918.411215</td>\n",
       "    </tr>\n",
       "    <tr>\n",
       "      <th>3</th>\n",
       "      <td>Graphic Designer</td>\n",
       "      <td>9572104</td>\n",
       "      <td>98</td>\n",
       "      <td>97674.530612</td>\n",
       "    </tr>\n",
       "    <tr>\n",
       "      <th>4</th>\n",
       "      <td>IT</td>\n",
       "      <td>9314918</td>\n",
       "      <td>96</td>\n",
       "      <td>97030.395833</td>\n",
       "    </tr>\n",
       "    <tr>\n",
       "      <th>9</th>\n",
       "      <td>Warehouse Associate</td>\n",
       "      <td>8711860</td>\n",
       "      <td>90</td>\n",
       "      <td>96798.444444</td>\n",
       "    </tr>\n",
       "    <tr>\n",
       "      <th>1</th>\n",
       "      <td>Driver</td>\n",
       "      <td>8715879</td>\n",
       "      <td>91</td>\n",
       "      <td>95778.890110</td>\n",
       "    </tr>\n",
       "    <tr>\n",
       "      <th>6</th>\n",
       "      <td>Marketing Associate</td>\n",
       "      <td>9770651</td>\n",
       "      <td>118</td>\n",
       "      <td>82802.127119</td>\n",
       "    </tr>\n",
       "  </tbody>\n",
       "</table>\n",
       "</div>"
      ],
      "text/plain": [
       "              jobtitle total_income           avg_income\n",
       "                                sum count               \n",
       "5              Manager     11825296    90  131392.177778\n",
       "8    Software Engineer     12225594   109  112161.412844\n",
       "2    Financial Analyst     10850188   107  101403.626168\n",
       "7      Sales Associate      9369054    94   99670.787234\n",
       "0       Data Scientist     10584270   107   98918.411215\n",
       "3     Graphic Designer      9572104    98   97674.530612\n",
       "4                   IT      9314918    96   97030.395833\n",
       "9  Warehouse Associate      8711860    90   96798.444444\n",
       "1               Driver      8715879    91   95778.890110\n",
       "6  Marketing Associate      9770651   118   82802.127119"
      ]
     },
     "execution_count": 13,
     "metadata": {},
     "output_type": "execute_result"
    }
   ],
   "source": [
    "df[\"total_income\"] = df[\"income\"]+ df[\"bonus\"]\n",
    "df_agg = df.groupby(\"jobtitle\").agg({\"total_income\": [\"sum\", \"count\"]}).reset_index()\n",
    "df_agg[\"avg_income\"] = df_agg[(\"total_income\", \"sum\")] / df_agg[(\"total_income\", \"count\")]\n",
    "df_agg = df_agg.sort_values(\"avg_income\", ascending = False)\n",
    "df_agg.head(10)"
   ]
  },
  {
   "cell_type": "markdown",
   "metadata": {},
   "source": [
    "- Nivel educativo con mejor ingresos"
   ]
  },
  {
   "cell_type": "code",
   "execution_count": 14,
   "metadata": {},
   "outputs": [
    {
     "data": {
      "text/html": [
       "<div>\n",
       "<style scoped>\n",
       "    .dataframe tbody tr th:only-of-type {\n",
       "        vertical-align: middle;\n",
       "    }\n",
       "\n",
       "    .dataframe tbody tr th {\n",
       "        vertical-align: top;\n",
       "    }\n",
       "\n",
       "    .dataframe thead tr th {\n",
       "        text-align: left;\n",
       "    }\n",
       "</style>\n",
       "<table border=\"1\" class=\"dataframe\">\n",
       "  <thead>\n",
       "    <tr>\n",
       "      <th></th>\n",
       "      <th>education</th>\n",
       "      <th colspan=\"2\" halign=\"left\">total_income</th>\n",
       "      <th>avg_income</th>\n",
       "    </tr>\n",
       "    <tr>\n",
       "      <th></th>\n",
       "      <th></th>\n",
       "      <th>sum</th>\n",
       "      <th>count</th>\n",
       "      <th></th>\n",
       "    </tr>\n",
       "  </thead>\n",
       "  <tbody>\n",
       "    <tr>\n",
       "      <th>3</th>\n",
       "      <td>PhD</td>\n",
       "      <td>25379835</td>\n",
       "      <td>238</td>\n",
       "      <td>106637.962185</td>\n",
       "    </tr>\n",
       "    <tr>\n",
       "      <th>2</th>\n",
       "      <td>Masters</td>\n",
       "      <td>26638910</td>\n",
       "      <td>256</td>\n",
       "      <td>104058.242188</td>\n",
       "    </tr>\n",
       "    <tr>\n",
       "      <th>0</th>\n",
       "      <td>College</td>\n",
       "      <td>23780141</td>\n",
       "      <td>241</td>\n",
       "      <td>98672.784232</td>\n",
       "    </tr>\n",
       "    <tr>\n",
       "      <th>1</th>\n",
       "      <td>High School</td>\n",
       "      <td>25140928</td>\n",
       "      <td>265</td>\n",
       "      <td>94871.426415</td>\n",
       "    </tr>\n",
       "  </tbody>\n",
       "</table>\n",
       "</div>"
      ],
      "text/plain": [
       "     education total_income           avg_income\n",
       "                        sum count               \n",
       "3          PhD     25379835   238  106637.962185\n",
       "2      Masters     26638910   256  104058.242188\n",
       "0      College     23780141   241   98672.784232\n",
       "1  High School     25140928   265   94871.426415"
      ]
     },
     "execution_count": 14,
     "metadata": {},
     "output_type": "execute_result"
    }
   ],
   "source": [
    "df_agg = df.groupby(\"education\").agg({\"total_income\": [\"sum\", \"count\"]}).reset_index()\n",
    "df_agg[\"avg_income\"] = df_agg[(\"total_income\", \"sum\")] / df_agg[(\"total_income\", \"count\")]\n",
    "df_agg = df_agg.sort_values(\"avg_income\", ascending = False)\n",
    "df_agg.head(10)"
   ]
  },
  {
   "cell_type": "markdown",
   "metadata": {},
   "source": [
    "- Media y desviación del rendimiento por cargo"
   ]
  },
  {
   "cell_type": "code",
   "execution_count": 22,
   "metadata": {},
   "outputs": [
    {
     "data": {
      "text/html": [
       "<div>\n",
       "<style scoped>\n",
       "    .dataframe tbody tr th:only-of-type {\n",
       "        vertical-align: middle;\n",
       "    }\n",
       "\n",
       "    .dataframe tbody tr th {\n",
       "        vertical-align: top;\n",
       "    }\n",
       "\n",
       "    .dataframe thead th {\n",
       "        text-align: right;\n",
       "    }\n",
       "</style>\n",
       "<table border=\"1\" class=\"dataframe\">\n",
       "  <thead>\n",
       "    <tr style=\"text-align: right;\">\n",
       "      <th></th>\n",
       "      <th>count</th>\n",
       "      <th>mean</th>\n",
       "      <th>std</th>\n",
       "      <th>min</th>\n",
       "      <th>25%</th>\n",
       "      <th>50%</th>\n",
       "      <th>75%</th>\n",
       "      <th>max</th>\n",
       "    </tr>\n",
       "    <tr>\n",
       "      <th>jobtitle</th>\n",
       "      <th></th>\n",
       "      <th></th>\n",
       "      <th></th>\n",
       "      <th></th>\n",
       "      <th></th>\n",
       "      <th></th>\n",
       "      <th></th>\n",
       "      <th></th>\n",
       "    </tr>\n",
       "  </thead>\n",
       "  <tbody>\n",
       "    <tr>\n",
       "      <th>Data Scientist</th>\n",
       "      <td>107.0</td>\n",
       "      <td>2.971963</td>\n",
       "      <td>1.423906</td>\n",
       "      <td>1.0</td>\n",
       "      <td>2.0</td>\n",
       "      <td>3.0</td>\n",
       "      <td>4.00</td>\n",
       "      <td>5.0</td>\n",
       "    </tr>\n",
       "    <tr>\n",
       "      <th>Driver</th>\n",
       "      <td>91.0</td>\n",
       "      <td>3.065934</td>\n",
       "      <td>1.340002</td>\n",
       "      <td>1.0</td>\n",
       "      <td>2.0</td>\n",
       "      <td>3.0</td>\n",
       "      <td>4.00</td>\n",
       "      <td>5.0</td>\n",
       "    </tr>\n",
       "    <tr>\n",
       "      <th>Financial Analyst</th>\n",
       "      <td>107.0</td>\n",
       "      <td>3.271028</td>\n",
       "      <td>1.418011</td>\n",
       "      <td>1.0</td>\n",
       "      <td>2.0</td>\n",
       "      <td>4.0</td>\n",
       "      <td>4.00</td>\n",
       "      <td>5.0</td>\n",
       "    </tr>\n",
       "    <tr>\n",
       "      <th>Graphic Designer</th>\n",
       "      <td>98.0</td>\n",
       "      <td>3.122449</td>\n",
       "      <td>1.466220</td>\n",
       "      <td>1.0</td>\n",
       "      <td>2.0</td>\n",
       "      <td>3.0</td>\n",
       "      <td>4.00</td>\n",
       "      <td>5.0</td>\n",
       "    </tr>\n",
       "    <tr>\n",
       "      <th>IT</th>\n",
       "      <td>96.0</td>\n",
       "      <td>3.125000</td>\n",
       "      <td>1.481464</td>\n",
       "      <td>1.0</td>\n",
       "      <td>2.0</td>\n",
       "      <td>3.0</td>\n",
       "      <td>4.25</td>\n",
       "      <td>5.0</td>\n",
       "    </tr>\n",
       "    <tr>\n",
       "      <th>Manager</th>\n",
       "      <td>90.0</td>\n",
       "      <td>2.700000</td>\n",
       "      <td>1.302116</td>\n",
       "      <td>1.0</td>\n",
       "      <td>2.0</td>\n",
       "      <td>3.0</td>\n",
       "      <td>4.00</td>\n",
       "      <td>5.0</td>\n",
       "    </tr>\n",
       "    <tr>\n",
       "      <th>Marketing Associate</th>\n",
       "      <td>118.0</td>\n",
       "      <td>2.923729</td>\n",
       "      <td>1.409108</td>\n",
       "      <td>1.0</td>\n",
       "      <td>2.0</td>\n",
       "      <td>3.0</td>\n",
       "      <td>4.00</td>\n",
       "      <td>5.0</td>\n",
       "    </tr>\n",
       "    <tr>\n",
       "      <th>Sales Associate</th>\n",
       "      <td>94.0</td>\n",
       "      <td>2.797872</td>\n",
       "      <td>1.387965</td>\n",
       "      <td>1.0</td>\n",
       "      <td>2.0</td>\n",
       "      <td>3.0</td>\n",
       "      <td>4.00</td>\n",
       "      <td>5.0</td>\n",
       "    </tr>\n",
       "    <tr>\n",
       "      <th>Software Engineer</th>\n",
       "      <td>109.0</td>\n",
       "      <td>3.128440</td>\n",
       "      <td>1.515970</td>\n",
       "      <td>1.0</td>\n",
       "      <td>2.0</td>\n",
       "      <td>3.0</td>\n",
       "      <td>5.00</td>\n",
       "      <td>5.0</td>\n",
       "    </tr>\n",
       "    <tr>\n",
       "      <th>Warehouse Associate</th>\n",
       "      <td>90.0</td>\n",
       "      <td>3.244444</td>\n",
       "      <td>1.416683</td>\n",
       "      <td>1.0</td>\n",
       "      <td>2.0</td>\n",
       "      <td>3.0</td>\n",
       "      <td>5.00</td>\n",
       "      <td>5.0</td>\n",
       "    </tr>\n",
       "  </tbody>\n",
       "</table>\n",
       "</div>"
      ],
      "text/plain": [
       "                     count      mean       std  min  25%  50%   75%  max\n",
       "jobtitle                                                                \n",
       "Data Scientist       107.0  2.971963  1.423906  1.0  2.0  3.0  4.00  5.0\n",
       "Driver                91.0  3.065934  1.340002  1.0  2.0  3.0  4.00  5.0\n",
       "Financial Analyst    107.0  3.271028  1.418011  1.0  2.0  4.0  4.00  5.0\n",
       "Graphic Designer      98.0  3.122449  1.466220  1.0  2.0  3.0  4.00  5.0\n",
       "IT                    96.0  3.125000  1.481464  1.0  2.0  3.0  4.25  5.0\n",
       "Manager               90.0  2.700000  1.302116  1.0  2.0  3.0  4.00  5.0\n",
       "Marketing Associate  118.0  2.923729  1.409108  1.0  2.0  3.0  4.00  5.0\n",
       "Sales Associate       94.0  2.797872  1.387965  1.0  2.0  3.0  4.00  5.0\n",
       "Software Engineer    109.0  3.128440  1.515970  1.0  2.0  3.0  5.00  5.0\n",
       "Warehouse Associate   90.0  3.244444  1.416683  1.0  2.0  3.0  5.00  5.0"
      ]
     },
     "execution_count": 22,
     "metadata": {},
     "output_type": "execute_result"
    }
   ],
   "source": [
    "df_describe = df.groupby(\"jobtitle\").describe()\n",
    "df_describe[\"performance\"]"
   ]
  },
  {
   "cell_type": "markdown",
   "metadata": {},
   "source": [
    "- Departamento con personal de mayor antiguedad"
   ]
  },
  {
   "cell_type": "code",
   "execution_count": 26,
   "metadata": {},
   "outputs": [
    {
     "data": {
      "text/html": [
       "<div>\n",
       "<style scoped>\n",
       "    .dataframe tbody tr th:only-of-type {\n",
       "        vertical-align: middle;\n",
       "    }\n",
       "\n",
       "    .dataframe tbody tr th {\n",
       "        vertical-align: top;\n",
       "    }\n",
       "\n",
       "    .dataframe thead th {\n",
       "        text-align: right;\n",
       "    }\n",
       "</style>\n",
       "<table border=\"1\" class=\"dataframe\">\n",
       "  <thead>\n",
       "    <tr style=\"text-align: right;\">\n",
       "      <th></th>\n",
       "      <th>department</th>\n",
       "      <th>seniority</th>\n",
       "    </tr>\n",
       "  </thead>\n",
       "  <tbody>\n",
       "    <tr>\n",
       "      <th>1</th>\n",
       "      <td>Engineering</td>\n",
       "      <td>3.140625</td>\n",
       "    </tr>\n",
       "    <tr>\n",
       "      <th>0</th>\n",
       "      <td>Administration</td>\n",
       "      <td>3.103627</td>\n",
       "    </tr>\n",
       "    <tr>\n",
       "      <th>2</th>\n",
       "      <td>Management</td>\n",
       "      <td>2.974747</td>\n",
       "    </tr>\n",
       "    <tr>\n",
       "      <th>4</th>\n",
       "      <td>Sales</td>\n",
       "      <td>2.879227</td>\n",
       "    </tr>\n",
       "    <tr>\n",
       "      <th>3</th>\n",
       "      <td>Operations</td>\n",
       "      <td>2.780952</td>\n",
       "    </tr>\n",
       "  </tbody>\n",
       "</table>\n",
       "</div>"
      ],
      "text/plain": [
       "       department  seniority\n",
       "1     Engineering   3.140625\n",
       "0  Administration   3.103627\n",
       "2      Management   2.974747\n",
       "4           Sales   2.879227\n",
       "3      Operations   2.780952"
      ]
     },
     "execution_count": 26,
     "metadata": {},
     "output_type": "execute_result"
    }
   ],
   "source": [
    "df_agg = df.groupby(\"department\").agg({\"seniority\": \"mean\"}).reset_index()\n",
    "df_agg.sort_values(\"seniority\", ascending = False)"
   ]
  },
  {
   "cell_type": "markdown",
   "metadata": {},
   "source": [
    "conclusiones\n",
    "- La posición de manager presenta una distribución con mayores valores en el ingreso, seguido de ingenieros de software.\n",
    "- El role con menores ingresos es el de marketing associate, seguido por el role de conductor.\n",
    "- La media de ingresos por hombres es ligeramente superior en comparación con la de mujeres.\n",
    "- La distribución del income dado un performance se mantiene constante.\n",
    "- Los niveles educativos de phD y Masters tienen un mayor ingerso en comparación con college y high school.\n",
    "- Los departamentos de ventas, ingenieria y gerencia tienen las distribuciones de ingresos más elevadas.\n",
    "- El ingreso es proporcional al nivel de seniority.\n",
    "- El área de warehouse associate tiene la mayor distribución en bonos, seguido de software engineer, diseñadores gráficos e IT\n",
    "- La distribución del bono dado el genero se mantiene constante.\n",
    "- El bono es proporcional al nivel de rendimiento\n",
    "- La distribución del bono es ligeramente inferior cuando el nivel de educación es high school\n",
    "- El departamento de ingenieria tiene una distribución de bonos más elevada\n",
    "- La distribución del bono es proporcional a la seniority\n"
   ]
  },
  {
   "cell_type": "markdown",
   "metadata": {},
   "source": [
    "# Análisis descriptivo: Correlaciones"
   ]
  },
  {
   "cell_type": "code",
   "execution_count": 37,
   "metadata": {},
   "outputs": [
    {
     "data": {
      "text/html": [
       "<div>\n",
       "<style scoped>\n",
       "    .dataframe tbody tr th:only-of-type {\n",
       "        vertical-align: middle;\n",
       "    }\n",
       "\n",
       "    .dataframe tbody tr th {\n",
       "        vertical-align: top;\n",
       "    }\n",
       "\n",
       "    .dataframe thead th {\n",
       "        text-align: right;\n",
       "    }\n",
       "</style>\n",
       "<table border=\"1\" class=\"dataframe\">\n",
       "  <thead>\n",
       "    <tr style=\"text-align: right;\">\n",
       "      <th></th>\n",
       "      <th>age</th>\n",
       "      <th>performance</th>\n",
       "      <th>seniority</th>\n",
       "      <th>income</th>\n",
       "      <th>bonus</th>\n",
       "      <th>total_income</th>\n",
       "    </tr>\n",
       "  </thead>\n",
       "  <tbody>\n",
       "    <tr>\n",
       "      <th>age</th>\n",
       "      <td>1.000000</td>\n",
       "      <td>-0.056875</td>\n",
       "      <td>-0.021414</td>\n",
       "      <td>0.562681</td>\n",
       "      <td>-0.414337</td>\n",
       "      <td>0.533715</td>\n",
       "    </tr>\n",
       "    <tr>\n",
       "      <th>performance</th>\n",
       "      <td>-0.056875</td>\n",
       "      <td>1.000000</td>\n",
       "      <td>-0.021127</td>\n",
       "      <td>-0.053622</td>\n",
       "      <td>0.855500</td>\n",
       "      <td>0.014155</td>\n",
       "    </tr>\n",
       "    <tr>\n",
       "      <th>seniority</th>\n",
       "      <td>-0.021414</td>\n",
       "      <td>-0.021127</td>\n",
       "      <td>1.000000</td>\n",
       "      <td>0.511096</td>\n",
       "      <td>0.194982</td>\n",
       "      <td>0.530307</td>\n",
       "    </tr>\n",
       "    <tr>\n",
       "      <th>income</th>\n",
       "      <td>0.562681</td>\n",
       "      <td>-0.053622</td>\n",
       "      <td>0.511096</td>\n",
       "      <td>1.000000</td>\n",
       "      <td>-0.129481</td>\n",
       "      <td>0.996874</td>\n",
       "    </tr>\n",
       "    <tr>\n",
       "      <th>bonus</th>\n",
       "      <td>-0.414337</td>\n",
       "      <td>0.855500</td>\n",
       "      <td>0.194982</td>\n",
       "      <td>-0.129481</td>\n",
       "      <td>1.000000</td>\n",
       "      <td>-0.050736</td>\n",
       "    </tr>\n",
       "    <tr>\n",
       "      <th>total_income</th>\n",
       "      <td>0.533715</td>\n",
       "      <td>0.014155</td>\n",
       "      <td>0.530307</td>\n",
       "      <td>0.996874</td>\n",
       "      <td>-0.050736</td>\n",
       "      <td>1.000000</td>\n",
       "    </tr>\n",
       "  </tbody>\n",
       "</table>\n",
       "</div>"
      ],
      "text/plain": [
       "                   age  performance  seniority    income     bonus  \\\n",
       "age           1.000000    -0.056875  -0.021414  0.562681 -0.414337   \n",
       "performance  -0.056875     1.000000  -0.021127 -0.053622  0.855500   \n",
       "seniority    -0.021414    -0.021127   1.000000  0.511096  0.194982   \n",
       "income        0.562681    -0.053622   0.511096  1.000000 -0.129481   \n",
       "bonus        -0.414337     0.855500   0.194982 -0.129481  1.000000   \n",
       "total_income  0.533715     0.014155   0.530307  0.996874 -0.050736   \n",
       "\n",
       "              total_income  \n",
       "age               0.533715  \n",
       "performance       0.014155  \n",
       "seniority         0.530307  \n",
       "income            0.996874  \n",
       "bonus            -0.050736  \n",
       "total_income      1.000000  "
      ]
     },
     "execution_count": 37,
     "metadata": {},
     "output_type": "execute_result"
    }
   ],
   "source": [
    "df.corr()"
   ]
  },
  {
   "cell_type": "markdown",
   "metadata": {},
   "source": [
    "El ingreso total tiene una alta correlación con el nivel de seniority y la edad"
   ]
  },
  {
   "cell_type": "markdown",
   "metadata": {},
   "source": [
    "# Análisis predictivo: Predicción de ingresos e importancia de features"
   ]
  },
  {
   "cell_type": "markdown",
   "metadata": {},
   "source": [
    "En progreso"
   ]
  }
 ],
 "metadata": {
  "kernelspec": {
   "display_name": "Python 3.8.0 ('.venv': venv)",
   "language": "python",
   "name": "python3"
  },
  "language_info": {
   "codemirror_mode": {
    "name": "ipython",
    "version": 3
   },
   "file_extension": ".py",
   "mimetype": "text/x-python",
   "name": "python",
   "nbconvert_exporter": "python",
   "pygments_lexer": "ipython3",
   "version": "3.8.0"
  },
  "orig_nbformat": 4,
  "vscode": {
   "interpreter": {
    "hash": "6c520aff2e8799de003c44ef54672e9864f7fd06ab57cc8bf8402b3e8719e7eb"
   }
  }
 },
 "nbformat": 4,
 "nbformat_minor": 2
}
